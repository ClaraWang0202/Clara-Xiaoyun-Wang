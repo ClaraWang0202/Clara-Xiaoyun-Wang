{
 "cells": [
  {
   "cell_type": "markdown",
   "metadata": {},
   "source": [
    "# Business background\n",
    "## Analysis purpose\n",
    "-Analyze the reasons for bad reviews and give improvement plans;\n",
    "\n",
    "-Repeated delivery man defaults to the same rider;\n",
    "\n",
    "-The same delivery man may have bad reviews on different sites"
   ]
  },
  {
   "cell_type": "code",
   "execution_count": 1,
   "metadata": {},
   "outputs": [
    {
     "data": {
      "text/html": [
       "        <script type=\"text/javascript\">\n",
       "        window.PlotlyConfig = {MathJaxConfig: 'local'};\n",
       "        if (window.MathJax) {MathJax.Hub.Config({SVG: {font: \"STIX-Web\"}});}\n",
       "        if (typeof require !== 'undefined') {\n",
       "        require.undef(\"plotly\");\n",
       "        requirejs.config({\n",
       "            paths: {\n",
       "                'plotly': ['https://cdn.plot.ly/plotly-latest.min']\n",
       "            }\n",
       "        });\n",
       "        require(['plotly'], function(Plotly) {\n",
       "            window._Plotly = Plotly;\n",
       "        });\n",
       "        }\n",
       "        </script>\n",
       "        "
      ]
     },
     "metadata": {},
     "output_type": "display_data"
    },
    {
     "data": {
      "text/html": [
       "        <script type=\"text/javascript\">\n",
       "        window.PlotlyConfig = {MathJaxConfig: 'local'};\n",
       "        if (window.MathJax) {MathJax.Hub.Config({SVG: {font: \"STIX-Web\"}});}\n",
       "        if (typeof require !== 'undefined') {\n",
       "        require.undef(\"plotly\");\n",
       "        requirejs.config({\n",
       "            paths: {\n",
       "                'plotly': ['https://cdn.plot.ly/plotly-latest.min']\n",
       "            }\n",
       "        });\n",
       "        require(['plotly'], function(Plotly) {\n",
       "            window._Plotly = Plotly;\n",
       "        });\n",
       "        }\n",
       "        </script>\n",
       "        "
      ]
     },
     "metadata": {},
     "output_type": "display_data"
    }
   ],
   "source": [
    "# -*- coding: utf-8 -*-\n",
    "import numpy as np\n",
    "import pandas as pd\n",
    "import re\n",
    "\n",
    "# data visualization\n",
    "import cufflinks as cf\n",
    "cf.set_config_file(offline=True)\n",
    "\n",
    "import pandas_profiling as pp # Plot \n",
    "import plotly.express as px\n",
    "from plotly import graph_objs as go\n",
    "\n",
    "import matplotlib.pyplot as plt\n",
    "plt.rcParams['font.sans-serif']=['SimHei'] \n",
    "plt.rcParams['axes.unicode_minus']=False \n",
    "#px.scatter(gapminder2007, x='gdpPercap', y='lifeExp')"
   ]
  },
  {
   "cell_type": "markdown",
   "metadata": {},
   "source": [
    "# Data understanding"
   ]
  },
  {
   "cell_type": "code",
   "execution_count": 2,
   "metadata": {},
   "outputs": [
    {
     "name": "stdout",
     "output_type": "stream",
     "text": [
      "(542, 9)\n"
     ]
    }
   ],
   "source": [
    "path = '/Users/clarawang/Dropbox/Python case/MeiTuan-Project/'\n",
    "df= pd.read_excel(path+'negative survey dataset_Meituan202012.xlsx') #,encoding='gbk'\n",
    "print(df.shape)"
   ]
  },
  {
   "cell_type": "markdown",
   "metadata": {},
   "source": [
    "## Data Quality Analysis\n",
    "in conclusion:\n",
    "-1. Number of data records: 542\n",
    "-2. Number of variables: 9 (NUM:5,CAT:3 Bool:1)\n",
    "-3.※ Missing value column: \n",
    "-4.※ Outlier column: \n",
    "-5.※ Consistency check: "
   ]
  },
  {
   "cell_type": "code",
   "execution_count": 3,
   "metadata": {},
   "outputs": [
    {
     "data": {
      "application/vnd.jupyter.widget-view+json": {
       "model_id": "7d94a072d2b943e7819e812dc1dc6303",
       "version_major": 2,
       "version_minor": 0
      },
      "text/plain": [
       "Summarize dataset:   0%|          | 0/23 [00:00<?, ?it/s]"
      ]
     },
     "metadata": {},
     "output_type": "display_data"
    },
    {
     "data": {
      "application/vnd.jupyter.widget-view+json": {
       "model_id": "413b31ce92b84c7bbceeed812618e001",
       "version_major": 2,
       "version_minor": 0
      },
      "text/plain": [
       "Generate report structure:   0%|          | 0/1 [00:00<?, ?it/s]"
      ]
     },
     "metadata": {},
     "output_type": "display_data"
    },
    {
     "data": {
      "application/vnd.jupyter.widget-view+json": {
       "model_id": "5e0f8e46e2b1459fb3634fdaa4fd8ae2",
       "version_major": 2,
       "version_minor": 0
      },
      "text/plain": [
       "Render HTML:   0%|          | 0/1 [00:00<?, ?it/s]"
      ]
     },
     "metadata": {},
     "output_type": "display_data"
    },
    {
     "data": {
      "application/vnd.jupyter.widget-view+json": {
       "model_id": "83092ddae0a344d0a86b32ddce4446db",
       "version_major": 2,
       "version_minor": 0
      },
      "text/plain": [
       "Export report to file:   0%|          | 0/1 [00:00<?, ?it/s]"
      ]
     },
     "metadata": {},
     "output_type": "display_data"
    }
   ],
   "source": [
    "report=pp.ProfileReport(df)\n",
    "report.to_file(path+'report.html')\n",
    "#report"
   ]
  },
  {
   "cell_type": "markdown",
   "metadata": {},
   "source": [
    "####"
   ]
  },
  {
   "cell_type": "markdown",
   "metadata": {},
   "source": [
    "\n",
    "![](image1.png)\n"
   ]
  },
  {
   "cell_type": "markdown",
   "metadata": {},
   "source": [
    "print(\"Summary:\")\n",
    "print(df.shape[0],df.shape[1])"
   ]
  },
  {
   "cell_type": "code",
   "execution_count": 4,
   "metadata": {},
   "outputs": [
    {
     "name": "stdout",
     "output_type": "stream",
     "text": [
      "No                    0\n",
      "Sites                 0\n",
      "Deliver Name          0\n",
      "Rating                0\n",
      "Feedback Tag          0\n",
      "Pick Up Order Time    0\n",
      "Arrival Time          0\n",
      "Waiting Time          0\n",
      "Deliver Time          0\n",
      "dtype: int64\n"
     ]
    }
   ],
   "source": [
    "print(df.isnull().sum())"
   ]
  },
  {
   "cell_type": "markdown",
   "metadata": {},
   "source": [
    "### Categorical variable-distribution"
   ]
  },
  {
   "cell_type": "code",
   "execution_count": 5,
   "metadata": {},
   "outputs": [
    {
     "name": "stderr",
     "output_type": "stream",
     "text": [
      "findfont: Font family ['sans-serif'] not found. Falling back to DejaVu Sans.\n"
     ]
    },
    {
     "data": {
      "image/png": "[encoded data removed]",
      "text/plain": [
       "<Figure size 432x288 with 1 Axes>"
      ]
     },
     "metadata": {},
     "output_type": "display_data"
    }
   ],
   "source": [
    "import seaborn as sns\n",
    "ax = sns.countplot(x=\"Sites\", data=df)"
   ]
  },
  {
   "cell_type": "markdown",
   "metadata": {},
   "source": [
    "#### Statistics"
   ]
  },
  {
   "cell_type": "code",
   "execution_count": 6,
   "metadata": {},
   "outputs": [
    {
     "data": {
      "text/html": [
       "<style  type=\"text/css\" >\n",
       "#T_2ef48a00_5452_11eb_bf5b_1c36bb2decd8row0_col4,#T_2ef48a00_5452_11eb_bf5b_1c36bb2decd8row1_col4,#T_2ef48a00_5452_11eb_bf5b_1c36bb2decd8row2_col4{\n",
       "            background-color:  #f7fcf5;\n",
       "            color:  #000000;\n",
       "        }</style><table id=\"T_2ef48a00_5452_11eb_bf5b_1c36bb2decd8\" ><thead>    <tr>        <th class=\"blank level0\" ></th>        <th class=\"col_heading level0 col0\" >count</th>        <th class=\"col_heading level0 col1\" >unique</th>        <th class=\"col_heading level0 col2\" >top</th>        <th class=\"col_heading level0 col3\" >freq</th>        <th class=\"col_heading level0 col4\" >missing_pct</th>    </tr></thead><tbody>\n",
       "                <tr>\n",
       "                        <th id=\"T_2ef48a00_5452_11eb_bf5b_1c36bb2decd8level0_row0\" class=\"row_heading level0 row0\" >Sites</th>\n",
       "                        <td id=\"T_2ef48a00_5452_11eb_bf5b_1c36bb2decd8row0_col0\" class=\"data row0 col0\" >542</td>\n",
       "                        <td id=\"T_2ef48a00_5452_11eb_bf5b_1c36bb2decd8row0_col1\" class=\"data row0 col1\" >6</td>\n",
       "                        <td id=\"T_2ef48a00_5452_11eb_bf5b_1c36bb2decd8row0_col2\" class=\"data row0 col2\" >Site C</td>\n",
       "                        <td id=\"T_2ef48a00_5452_11eb_bf5b_1c36bb2decd8row0_col3\" class=\"data row0 col3\" >185</td>\n",
       "                        <td id=\"T_2ef48a00_5452_11eb_bf5b_1c36bb2decd8row0_col4\" class=\"data row0 col4\" >0.000000</td>\n",
       "            </tr>\n",
       "            <tr>\n",
       "                        <th id=\"T_2ef48a00_5452_11eb_bf5b_1c36bb2decd8level0_row1\" class=\"row_heading level0 row1\" >Deliver Name</th>\n",
       "                        <td id=\"T_2ef48a00_5452_11eb_bf5b_1c36bb2decd8row1_col0\" class=\"data row1 col0\" >542</td>\n",
       "                        <td id=\"T_2ef48a00_5452_11eb_bf5b_1c36bb2decd8row1_col1\" class=\"data row1 col1\" >404</td>\n",
       "                        <td id=\"T_2ef48a00_5452_11eb_bf5b_1c36bb2decd8row1_col2\" class=\"data row1 col2\" >李*</td>\n",
       "                        <td id=\"T_2ef48a00_5452_11eb_bf5b_1c36bb2decd8row1_col3\" class=\"data row1 col3\" >10</td>\n",
       "                        <td id=\"T_2ef48a00_5452_11eb_bf5b_1c36bb2decd8row1_col4\" class=\"data row1 col4\" >0.000000</td>\n",
       "            </tr>\n",
       "            <tr>\n",
       "                        <th id=\"T_2ef48a00_5452_11eb_bf5b_1c36bb2decd8level0_row2\" class=\"row_heading level0 row2\" >Feedback Tag</th>\n",
       "                        <td id=\"T_2ef48a00_5452_11eb_bf5b_1c36bb2decd8row2_col0\" class=\"data row2 col0\" >542</td>\n",
       "                        <td id=\"T_2ef48a00_5452_11eb_bf5b_1c36bb2decd8row2_col1\" class=\"data row2 col1\" >83</td>\n",
       "                        <td id=\"T_2ef48a00_5452_11eb_bf5b_1c36bb2decd8row2_col2\" class=\"data row2 col2\" >Delivery timeout</td>\n",
       "                        <td id=\"T_2ef48a00_5452_11eb_bf5b_1c36bb2decd8row2_col3\" class=\"data row2 col3\" >145</td>\n",
       "                        <td id=\"T_2ef48a00_5452_11eb_bf5b_1c36bb2decd8row2_col4\" class=\"data row2 col4\" >0.000000</td>\n",
       "            </tr>\n",
       "    </tbody></table>"
      ],
      "text/plain": [
       "<pandas.io.formats.style.Styler at 0x13aad5e48>"
      ]
     },
     "execution_count": 6,
     "metadata": {},
     "output_type": "execute_result"
    }
   ],
   "source": [
    "cat_summary=df.select_dtypes(include=['O']).describe().T\\\n",
    "    .assign(missing_pct=df.apply(lambda x : (len(x)-x.count())/len(x)))\n",
    "\n",
    "cat_summary.style.background_gradient(cmap='Greens')"
   ]
  },
  {
   "cell_type": "markdown",
   "metadata": {},
   "source": [
    "### Numerical Variables-Distribution: Central Trend & Deviation Trend"
   ]
  },
  {
   "cell_type": "code",
   "execution_count": 7,
   "metadata": {},
   "outputs": [
    {
     "data": {
      "application/vnd.plotly.v1+json": {
       "config": {
        "linkText": "Export to plot.ly",
        "plotlyServerURL": "https://plot.ly",
        "showLink": true
       },
       "data": [
        {
         "histfunc": "count",
         "histnorm": "",
         "marker": {
          "color": "rgba(255, 153, 51, 1.0)",
          "line": {
           "color": "#4D5663",
           "width": 1.3
          }
         },
         "name": "Pick Up Order Time",
         "nbinsx": 100,
         "opacity": 0.8,
         "orientation": "v",
         "type": "histogram",
         "x": [
          2.75,
          0.07,
          1.45,
          68.32,
          15.8,
          41.88,
          0,
          0.73,
          1.35,
          0.12,
          1.02,
          9.9,
          0,
          0.68,
          4.07,
          6.52,
          0.42,
          1.8,
          1.03,
          15.32,
          7.35,
          1.12,
          7.53,
          1.92,
          5.4,
          0.87,
          1.65,
          7.73,
          7.48,
          8.15,
          0.48,
          1.32,
          0.95,
          0.53,
          0.22,
          1.03,
          5.95,
          0.45,
          3.02,
          1.18,
          0.75,
          0.28,
          0,
          8.02,
          6.12,
          8.9,
          5.8,
          2.27,
          1.02,
          0.5,
          0,
          47.35,
          1.1,
          0.27,
          0,
          0,
          0.32,
          1.07,
          40.98,
          1.05,
          5.75,
          1.45,
          0,
          1.23,
          0.65,
          0.67,
          0.92,
          0,
          11.37,
          22.25,
          6.12,
          2.82,
          2.12,
          26.7,
          1.42,
          0.88,
          5.73,
          0.22,
          0.98,
          1.15,
          7.12,
          4.32,
          40.98,
          0.62,
          1.7,
          12.85,
          7.58,
          1.62,
          1.15,
          0.42,
          0.2,
          0.52,
          2.27,
          0.37,
          0.37,
          1.53,
          10.67,
          0,
          17.87,
          3.67,
          5.13,
          1.17,
          1.2,
          1.18,
          8.23,
          1.13,
          12.02,
          1.53,
          259.42,
          1.03,
          0.82,
          6.53,
          3.1,
          1.68,
          2.05,
          0.58,
          0.9,
          1.5,
          59.1,
          0.02,
          3.13,
          1.3,
          7.27,
          0.32,
          1.27,
          0.92,
          0.97,
          1.27,
          5.77,
          1.3,
          1.2,
          0.77,
          1.07,
          6.2,
          1.23,
          1.72,
          0.78,
          1.75,
          7.75,
          0.82,
          0,
          0.43,
          0,
          1.33,
          3.2,
          136.37,
          0.13,
          7.95,
          7.6,
          4.02,
          3.02,
          1.3,
          0.27,
          0,
          2.83,
          5.27,
          0.57,
          2.32,
          0,
          0.98,
          8.2,
          0.45,
          5.62,
          1.58,
          1.22,
          0.47,
          1.15,
          51.33,
          2.35,
          0.92,
          0.12,
          0.82,
          0.5,
          0.4,
          1.45,
          0.6,
          5.47,
          5.3,
          4.25,
          0.48,
          1.4,
          4.45,
          0.53,
          3,
          1.55,
          0,
          0.78,
          1.08,
          0,
          3.57,
          12.55,
          0.08,
          0.58,
          3.73,
          4.72,
          0.68,
          1.08,
          0.67,
          7.08,
          1.18,
          23.5,
          2.17,
          2.53,
          3.35,
          0.35,
          0,
          0,
          0.6,
          3.4,
          1.1,
          3.78,
          4.38,
          1.25,
          1.32,
          0,
          0.77,
          1.15,
          0.95,
          3.82,
          0.75,
          1.97,
          12.6,
          1.12,
          0.8,
          1.32,
          0.57,
          82.68,
          1.92,
          5.6,
          1.5,
          2.73,
          0,
          0.52,
          0,
          1.45,
          0.55,
          0,
          3.3,
          7.85,
          1.68,
          6.85,
          1.4,
          0.58,
          0.77,
          0.65,
          4.05,
          0.18,
          0.88,
          0.9,
          0,
          1.72,
          0,
          1.07,
          0.97,
          0.52,
          0.62,
          0.63,
          1.15,
          1.02,
          1.3,
          0.48,
          0.47,
          8.08,
          1.22,
          8.15,
          0.35,
          0.87,
          0.67,
          0.85,
          5.48,
          3.02,
          1.95,
          0.5,
          1,
          0.5,
          0.33,
          2.87,
          1.95,
          2,
          3.7,
          2.58,
          1.1,
          3.78,
          4.73,
          0.38,
          0,
          2.63,
          5.62,
          20.13,
          1.42,
          1.08,
          0.57,
          4.3,
          0.92,
          1.27,
          1.93,
          0.37,
          1.2,
          1.22,
          1.45,
          0.3,
          1.63,
          0.68,
          0.75,
          0,
          0.6,
          0.33,
          45.57,
          1.12,
          1.68,
          0,
          2.37,
          5.07,
          1.17,
          1.03,
          0.25,
          0.72,
          1.02,
          8.17,
          0.3,
          1.05,
          1.17,
          8.18,
          1.1,
          8.5,
          1.95,
          6.87,
          3.35,
          1.35,
          0.35,
          1.62,
          1.37,
          1.25,
          0,
          0.3,
          2.38,
          0.82,
          0.82,
          0,
          7.68,
          0.95,
          0.67,
          0.42,
          1.43,
          0.92,
          12.35,
          2.08,
          16.8,
          0.82,
          1.78,
          0.53,
          0.77,
          0.5,
          0.52,
          0.92,
          3.32,
          0,
          0.92,
          8,
          2.52,
          5.82,
          3.67,
          3.7,
          0.8,
          0.98,
          3.07,
          0,
          1.38,
          1.93,
          7.78,
          1.77,
          0.07,
          1.32,
          1.53,
          1.02,
          23.3,
          3.6,
          0.62,
          1.87,
          1.15,
          1.73,
          0.98,
          0.9,
          4.65,
          0,
          1.17,
          1.17,
          0.33,
          1.6,
          1.18,
          0.67,
          6.98,
          1.4,
          8.07,
          1.17,
          0,
          2.9,
          0.25,
          0.87,
          1.1,
          5.67,
          1.05,
          0.87,
          1.13,
          3.95,
          10.1,
          1.97,
          0.7,
          0.82,
          1.47,
          31.92,
          3.55,
          0.67,
          0.12,
          23.33,
          0.88,
          0.15,
          0.72,
          24.37,
          8.28,
          8.28,
          0.82,
          5.15,
          0.38,
          1.23,
          0.38,
          4.3,
          0.75,
          0.47,
          5.32,
          0.67,
          7.33,
          7.33,
          1.57,
          2.07,
          4.57,
          2.18,
          1.03,
          0.45,
          1.77,
          4.27,
          1.38,
          1.33,
          0.62,
          0.6,
          4.1,
          0.38,
          0.7,
          1.45,
          0.83,
          7.57,
          8.35,
          0.38,
          0.5,
          0.57,
          0,
          0,
          0,
          0.32,
          1.63,
          0,
          5.48,
          7.9,
          0.72,
          0.3,
          0.8,
          0.42,
          0.62,
          10.1,
          0.32,
          0.52,
          0,
          0.07,
          2.38,
          3.48,
          0.02,
          0,
          0.97,
          0.92,
          0.78,
          0.55,
          1.88,
          0.25,
          0.57,
          3.98,
          3.15,
          0.1,
          0.52,
          2.65,
          0.67,
          0.27,
          0.92,
          1.9,
          2,
          0.8,
          0.67,
          0.37,
          4.18,
          0.63,
          12.05,
          0.53,
          0,
          0.92,
          1.93,
          4.82,
          1.27,
          0,
          0.25,
          1.4,
          1.87,
          3.33,
          0.13,
          1.43,
          1.15,
          1.87,
          2.15,
          0.32,
          1.63,
          1.1,
          0.85,
          0,
          8.02,
          1.05,
          0.1,
          1.78,
          0.7,
          0.83,
          1.03,
          1.25,
          1.12,
          1.6,
          1.28,
          2.75,
          4.02,
          0.48,
          0.68,
          0.35,
          0,
          0.53,
          4.9,
          1,
          0.53
         ],
         "xaxis": "x",
         "yaxis": "y"
        },
        {
         "histfunc": "count",
         "histnorm": "",
         "marker": {
          "color": "rgba(55, 128, 191, 1.0)",
          "line": {
           "color": "#4D5663",
           "width": 1.3
          }
         },
         "name": "Arrival Time",
         "nbinsx": 100,
         "opacity": 0.8,
         "orientation": "v",
         "type": "histogram",
         "x": [
          19.88,
          6.87,
          11.35,
          6.33,
          12.9,
          14.03,
          0.02,
          0.03,
          8.92,
          0.25,
          7.33,
          12.15,
          4.58,
          0.05,
          18.53,
          4.13,
          13.78,
          14.65,
          9.58,
          8.48,
          13.7,
          5.25,
          6.98,
          5.67,
          5.58,
          12.93,
          4.72,
          7.95,
          9.7,
          6.12,
          4.82,
          0.05,
          1.1,
          18.6,
          5.02,
          20.73,
          9.57,
          4.95,
          4.78,
          7.4,
          9.73,
          4.55,
          17.47,
          0.52,
          2.47,
          6.85,
          3.07,
          7.32,
          19.08,
          7.48,
          0.05,
          5.12,
          9.78,
          7.83,
          14.93,
          0.2,
          1.27,
          18.58,
          11.77,
          1.1,
          3.87,
          5.6,
          11.57,
          7.8,
          0.05,
          8.07,
          9.22,
          13.27,
          0,
          11.67,
          12.23,
          8.28,
          2.13,
          46.05,
          0,
          0.65,
          0,
          5.1,
          12.82,
          3,
          1.45,
          33.67,
          4.72,
          26.18,
          2.7,
          21.45,
          9.63,
          0.3,
          6.38,
          31.53,
          15.2,
          8.85,
          4.65,
          14.12,
          8.32,
          23.57,
          30.6,
          20.67,
          8,
          7.98,
          9.18,
          16.18,
          0.6,
          9.52,
          9.17,
          11.97,
          4.18,
          8.8,
          11.33,
          19.05,
          16.05,
          1.63,
          0,
          52.28,
          3.95,
          5.58,
          4.58,
          4.7,
          6.9,
          7.03,
          11.58,
          17.83,
          1.08,
          6.75,
          6.75,
          22.88,
          18.63,
          7.68,
          2.05,
          2.77,
          0,
          63.2,
          17.3,
          3.78,
          11.7,
          13.27,
          2.87,
          0.1,
          7.62,
          26.12,
          9.55,
          8.2,
          22.98,
          4.38,
          0.07,
          25.53,
          6,
          1.5,
          10.48,
          30.97,
          17.68,
          4.13,
          13.6,
          0.08,
          13.37,
          4.43,
          2.6,
          6.57,
          8.55,
          0.95,
          1.65,
          24.53,
          6.78,
          1.52,
          2.28,
          5.53,
          0.1,
          1.07,
          2.82,
          2.92,
          13.05,
          7.28,
          10.5,
          31.95,
          10.38,
          3.85,
          1.48,
          5.08,
          18.83,
          24.98,
          13.25,
          8.43,
          3.05,
          12.57,
          23.27,
          2.53,
          2.83,
          14.32,
          7.32,
          6.68,
          6.58,
          11.95,
          17.6,
          9.42,
          19.47,
          1.72,
          3.85,
          6.62,
          14.97,
          14.75,
          0.07,
          20.18,
          17.92,
          5.63,
          6.95,
          2.95,
          5.08,
          4.42,
          29.12,
          9.15,
          4.17,
          22.87,
          17.93,
          1.18,
          8.62,
          29.6,
          14.92,
          4.07,
          25.95,
          10.48,
          3.2,
          2.82,
          13.08,
          18.65,
          6.15,
          10.48,
          13.1,
          0.58,
          15.5,
          22.88,
          13.68,
          6.45,
          15.28,
          1.47,
          9.4,
          13.7,
          8.05,
          8.77,
          0.65,
          15.55,
          1.85,
          22.43,
          4.77,
          30.9,
          3.08,
          1.8,
          0.13,
          20.08,
          11.58,
          2.3,
          0.07,
          4.23,
          19.8,
          8.85,
          9.77,
          37.15,
          9.05,
          12.17,
          6.1,
          26.12,
          4.4,
          1.2,
          4.83,
          5.33,
          4.82,
          11.02,
          1.98,
          3.92,
          16.35,
          2.32,
          0.87,
          12.92,
          5.5,
          5.65,
          6.35,
          2.15,
          10.92,
          5.78,
          2.07,
          9.07,
          7,
          19.05,
          18.4,
          10.27,
          9.32,
          0,
          0.63,
          0.05,
          2.75,
          6.22,
          19.22,
          19.22,
          13.78,
          11.45,
          0.17,
          3.17,
          22.7,
          0.98,
          4,
          0.03,
          4.95,
          9.95,
          2.07,
          18.4,
          5.28,
          3.23,
          0.38,
          4.12,
          15.55,
          16.97,
          11.88,
          7.55,
          0.4,
          1.57,
          7.13,
          6.95,
          8.33,
          5.92,
          6.93,
          2.02,
          2.65,
          0.08,
          38.78,
          6.13,
          8.05,
          7.82,
          3.48,
          27.98,
          12.9,
          0.08,
          18.75,
          9.75,
          2.3,
          0.08,
          2.05,
          5.93,
          3.23,
          5.28,
          3.82,
          16.35,
          6.4,
          4.53,
          0.03,
          7.4,
          4.18,
          20.33,
          0.03,
          12.95,
          9.33,
          17.73,
          8.6,
          0.08,
          14.97,
          0.42,
          0.07,
          18.8,
          6.87,
          18.4,
          5.02,
          0.37,
          8.18,
          10.47,
          10.73,
          4.62,
          10.35,
          2,
          1.37,
          18.12,
          14.13,
          1.38,
          0.28,
          5.4,
          1.75,
          4.95,
          0.6,
          10.87,
          2.98,
          12.15,
          3.7,
          0.1,
          0.05,
          11.78,
          0.18,
          0.08,
          2.43,
          11.55,
          5.67,
          18.67,
          6.35,
          11.02,
          6.37,
          8.32,
          7.03,
          28.45,
          7.17,
          17.02,
          5.18,
          31,
          3.55,
          0,
          29.73,
          7.22,
          5.05,
          3.02,
          8.05,
          3.6,
          3.45,
          1.8,
          2.27,
          2.77,
          5.73,
          5.6,
          4.53,
          2.77,
          3.35,
          2.95,
          18.62,
          13.58,
          11.28,
          2.57,
          10.45,
          15.75,
          1.67,
          16.93,
          0.8,
          12.97,
          2.5,
          3.05,
          13.2,
          8.25,
          0.1,
          2.37,
          0.03,
          12.38,
          8.17,
          22.27,
          1,
          36.13,
          10.42,
          19.38,
          0.93,
          6.63,
          1.02,
          18.68,
          19.47,
          3.62,
          12.22,
          12.52,
          13.83,
          4.33,
          3,
          17.58,
          7.87,
          25.92,
          9.52,
          5.17,
          10.07,
          6.72,
          23.1,
          16.42,
          4.17,
          2.65,
          7.17,
          3.68,
          1.77,
          1.25,
          6.63,
          7.38,
          15.42,
          6.65,
          3.48,
          1.07,
          1.08,
          0.22,
          2.82,
          3.2,
          20.95,
          0.52,
          2.43,
          3.3,
          3.08,
          4.25,
          0.57,
          0.53,
          2.73,
          1.22,
          1.67,
          11.67,
          15.3,
          4.63,
          6.57,
          12.88,
          4.27,
          2.25,
          8.22,
          10.7,
          7.25,
          11.82,
          4.77,
          13.55,
          5.88,
          3.28,
          1.75,
          6.37,
          20.18,
          0.03,
          11.65,
          0.22,
          2.92,
          10.93,
          25.87,
          1.72,
          6.42,
          12.7,
          1.62,
          0.07,
          6.32,
          7.57,
          11.15,
          14.82,
          5.85,
          5.43,
          1.37,
          1.52,
          14.72,
          13.82,
          15.95,
          16.65,
          0.43,
          23.78,
          2.65,
          12.07,
          1.78,
          8.73,
          11.42,
          9.02,
          0.1,
          2.53,
          45.1,
          61.57,
          6.7,
          1.38
         ],
         "xaxis": "x2",
         "yaxis": "y2"
        },
        {
         "histfunc": "count",
         "histnorm": "",
         "marker": {
          "color": "rgba(50, 171, 96, 1.0)",
          "line": {
           "color": "#4D5663",
           "width": 1.3
          }
         },
         "name": "Waiting Time",
         "nbinsx": 100,
         "opacity": 0.8,
         "orientation": "v",
         "type": "histogram",
         "x": [
          0.8,
          1.93,
          0.05,
          0.17,
          7.23,
          0.08,
          23.62,
          8.08,
          3.65,
          3.1,
          0.13,
          1.62,
          0.75,
          16.33,
          0.12,
          0.47,
          0.92,
          0.77,
          0.58,
          0.23,
          0.13,
          4.2,
          0.05,
          11.88,
          11.88,
          0.45,
          0.32,
          1.05,
          0.08,
          1.63,
          0.88,
          14.65,
          5.97,
          0.35,
          7.3,
          0.03,
          0.05,
          1.42,
          5.15,
          0.28,
          0.03,
          19.33,
          6.57,
          8.78,
          10.32,
          0.25,
          11.67,
          7.28,
          0.38,
          0.15,
          11.93,
          8.77,
          2.12,
          1.4,
          1.92,
          2.7,
          22.77,
          1.62,
          13.07,
          5.97,
          0.38,
          1.4,
          0.43,
          2.72,
          10.85,
          0.07,
          0.13,
          0.03,
          0,
          3.08,
          0.53,
          0.2,
          26.97,
          0.32,
          0,
          5.95,
          0,
          28.57,
          0.07,
          4.73,
          13.73,
          0.02,
          5.52,
          0.05,
          0.2,
          1.88,
          7.33,
          12.12,
          2.97,
          0.35,
          2.03,
          13.32,
          2.82,
          0.43,
          4.9,
          0.2,
          0.85,
          4.08,
          2.65,
          0.05,
          0.08,
          1.78,
          18.23,
          1.45,
          5.63,
          4.63,
          5.77,
          0.47,
          0.05,
          0.05,
          17.78,
          16.68,
          0,
          0.9,
          0.85,
          0.15,
          0.65,
          0.52,
          0.05,
          0.22,
          2.78,
          7.95,
          6.33,
          33.97,
          1.1,
          0.1,
          0.35,
          3.8,
          9.4,
          3.3,
          0,
          8.03,
          0.55,
          12.1,
          0.15,
          0.92,
          10.52,
          6.15,
          0.05,
          0.08,
          6.83,
          0.03,
          0.02,
          0.7,
          23.42,
          0.07,
          0.8,
          13.95,
          2.33,
          2.57,
          0.15,
          5.4,
          1.35,
          7.95,
          56.18,
          0.63,
          8.57,
          16.93,
          0.03,
          13.82,
          3.87,
          4.43,
          1.07,
          5.45,
          5.2,
          5.02,
          0.8,
          1.67,
          0.05,
          7.97,
          6.63,
          1.63,
          0.03,
          0.08,
          0.63,
          6,
          5.23,
          0.55,
          1.67,
          0.07,
          1.13,
          10.37,
          1.27,
          5.3,
          8.95,
          1.12,
          6.35,
          0.05,
          0.85,
          2.75,
          10.33,
          2.55,
          2.65,
          0.27,
          0.05,
          4.85,
          3.82,
          0.07,
          0.03,
          3.2,
          4.9,
          0.05,
          0.05,
          0.08,
          1.78,
          22.93,
          0.33,
          6.23,
          0.63,
          2.12,
          1.52,
          0.07,
          4.95,
          0.03,
          0.9,
          0.5,
          2.35,
          0.58,
          1.02,
          2.6,
          9.2,
          0.82,
          0.07,
          0.18,
          1.2,
          0.17,
          4.95,
          7.57,
          2.15,
          9.6,
          5.9,
          0.03,
          0.25,
          1.2,
          0.33,
          8.9,
          2.23,
          1.42,
          19.15,
          0.3,
          11.87,
          1.07,
          0.05,
          0.02,
          5.7,
          2.13,
          17.08,
          0.07,
          3.52,
          8.08,
          10.23,
          7.58,
          0.43,
          2.52,
          1.47,
          0.03,
          12.05,
          0.95,
          2.22,
          0.88,
          0.42,
          0.63,
          8.03,
          0.22,
          2.07,
          2.97,
          0.72,
          0.7,
          0.92,
          20.63,
          13.22,
          1.6,
          2.35,
          0.05,
          3.72,
          4.5,
          10.05,
          0.52,
          5.78,
          0.68,
          0.07,
          0.05,
          0.02,
          6.47,
          1.4,
          0,
          5.47,
          8.12,
          6.65,
          7.35,
          0.28,
          0.28,
          0.03,
          0.15,
          6.12,
          27.5,
          0.97,
          0.68,
          0.5,
          5.78,
          1.93,
          0.07,
          2.38,
          0.5,
          0.23,
          2.73,
          8.98,
          5.47,
          13.18,
          3.92,
          1.33,
          0.48,
          4.68,
          3.32,
          4.73,
          1.53,
          0.37,
          0.52,
          2.2,
          18.07,
          8.13,
          26.57,
          0.17,
          6.53,
          1.28,
          4.92,
          0.57,
          0.08,
          0.65,
          13.52,
          2.67,
          0.08,
          3.33,
          21.93,
          11.97,
          1.55,
          1.72,
          3.2,
          3.75,
          14.63,
          0.18,
          1.9,
          17.3,
          0.13,
          4.07,
          15.08,
          9.77,
          2.08,
          0.27,
          0.3,
          0.1,
          10.98,
          0.05,
          7.33,
          5.83,
          0.97,
          1.67,
          0.58,
          3.93,
          12.78,
          0.3,
          0.25,
          0.03,
          0.38,
          0.03,
          23.5,
          4.15,
          0.08,
          0.82,
          19.82,
          7.4,
          1.5,
          3.15,
          3.47,
          7.42,
          0.15,
          8.45,
          0.15,
          0.02,
          12.88,
          23.3,
          0.05,
          13.02,
          7.93,
          2.47,
          0.43,
          5.08,
          0.05,
          1.1,
          6.33,
          9.53,
          7.22,
          2.18,
          0.68,
          4.83,
          0.15,
          1.78,
          0.03,
          0.75,
          0,
          0.72,
          5.63,
          14.12,
          6.42,
          0.03,
          1.3,
          0.73,
          5.58,
          1.12,
          2.55,
          0.25,
          11.63,
          5.65,
          3.85,
          0.93,
          11.87,
          0.28,
          0.2,
          0.42,
          3.7,
          0.52,
          10.95,
          7.95,
          0.13,
          3.52,
          0.1,
          10.52,
          1.88,
          0.38,
          0.08,
          3.25,
          1.72,
          5.22,
          0.1,
          0.07,
          0.4,
          13.6,
          0.68,
          1.72,
          1.05,
          13.37,
          2.28,
          16.83,
          0.13,
          0.37,
          0.7,
          0.02,
          0.05,
          0.42,
          3.3,
          2.08,
          0.38,
          5.2,
          2.6,
          0.8,
          0.47,
          22.37,
          0.67,
          0.03,
          0.03,
          3.1,
          20.52,
          2.63,
          0.62,
          0.05,
          3.75,
          0.87,
          0.13,
          0.27,
          19.05,
          1.02,
          12.27,
          4.12,
          13.15,
          3.98,
          9.75,
          0.38,
          15.87,
          3.75,
          8.78,
          0.85,
          1.15,
          27.98,
          6.13,
          0.03,
          16.72,
          2.65,
          0.05,
          0.23,
          7.05,
          6.55,
          0.8,
          1.53,
          5.13,
          4.75,
          0.13,
          3,
          0.62,
          3.7,
          0.43,
          3.62,
          0.03,
          0.47,
          0.13,
          0.17,
          11.8,
          0.4,
          14.32,
          5.38,
          0.03,
          0.03,
          0.38,
          1.57,
          0.4,
          4.83,
          3.37,
          2.88,
          6.2,
          3.95,
          0.87,
          3.95,
          5.28,
          2.1,
          7.22,
          0.1,
          0.03,
          1.83,
          1.07,
          23.9,
          0.1,
          0.78,
          0.47,
          0.28,
          4.73,
          0.2,
          0.32,
          14.23,
          0.5,
          3.17,
          0.28,
          11.32,
          0.87
         ],
         "xaxis": "x3",
         "yaxis": "y3"
        },
        {
         "histfunc": "count",
         "histnorm": "",
         "marker": {
          "color": "rgba(128, 0, 128, 1.0)",
          "line": {
           "color": "#4D5663",
           "width": 1.3
          }
         },
         "name": "Deliver Time",
         "nbinsx": 100,
         "opacity": 0.8,
         "orientation": "v",
         "type": "histogram",
         "x": [
          68.67,
          6.3,
          51.88,
          18.93,
          10.18,
          5.75,
          32.5,
          8.45,
          37.27,
          23.3,
          46.55,
          21.67,
          16.62,
          27.08,
          12.27,
          5.9,
          16.5,
          23.28,
          21.18,
          32.02,
          1.12,
          24.73,
          17.7,
          30.63,
          42.55,
          11.82,
          19.17,
          24.83,
          5.78,
          46.13,
          20.08,
          24.5,
          39.73,
          43.9,
          22.85,
          39.1,
          26.52,
          15.57,
          57.02,
          19.68,
          31.5,
          22.53,
          58.43,
          40.73,
          13.43,
          25.27,
          9.78,
          19.05,
          15.03,
          24.32,
          49.9,
          40.3,
          8.92,
          28.9,
          32.08,
          27.58,
          2.58,
          11.8,
          32.78,
          30.92,
          21.82,
          6.93,
          20.75,
          15.57,
          25.4,
          52.53,
          24.3,
          34.93,
          6.52,
          6.08,
          57.85,
          28.35,
          37.33,
          10.23,
          12.02,
          22.23,
          32.23,
          2.28,
          11.47,
          65.47,
          37.03,
          11.9,
          30.37,
          49.3,
          75.03,
          17.02,
          29.97,
          30.08,
          17.73,
          18.07,
          51.02,
          14.87,
          26.42,
          40.78,
          23.65,
          38.25,
          13.32,
          28.3,
          51.5,
          31.22,
          9.9,
          17.53,
          10.82,
          47,
          23.37,
          35.35,
          25.17,
          82.38,
          60.4,
          66.18,
          40.28,
          12.28,
          21.33,
          37.27,
          66.05,
          27.15,
          35.98,
          49.28,
          7.15,
          30.93,
          21.02,
          36,
          25.9,
          57.7,
          32.32,
          25.98,
          11.4,
          9.68,
          44.6,
          26.75,
          15.83,
          1.02,
          48,
          5.03,
          1.97,
          66.77,
          8.75,
          26.05,
          43.8,
          14.6,
          24.53,
          60.38,
          59.17,
          31.58,
          57.48,
          19.4,
          32.83,
          34.35,
          18.2,
          2.07,
          17.03,
          56.8,
          13.88,
          59.87,
          31.13,
          49.52,
          24.27,
          7.17,
          59.08,
          10.08,
          19.23,
          36.58,
          15.5,
          31.45,
          10.58,
          35.7,
          37.2,
          16.28,
          35.35,
          8.73,
          21.98,
          26.62,
          45.47,
          5.85,
          18.72,
          8.8,
          50.25,
          72.37,
          12.1,
          19.92,
          8.03,
          17.27,
          40.37,
          21.3,
          4.58,
          29.95,
          11.27,
          27.18,
          37.52,
          37.98,
          20.08,
          14.37,
          30.9,
          18.75,
          22.18,
          27.97,
          44.07,
          29.78,
          10.17,
          12.17,
          58.77,
          6.32,
          17.88,
          10.63,
          15.48,
          41.25,
          26.77,
          23.25,
          4.42,
          26.9,
          57.65,
          39.52,
          27.2,
          40.6,
          36.97,
          37.88,
          4.15,
          43.83,
          3.87,
          25.58,
          9.93,
          5.35,
          1.68,
          8.78,
          18.17,
          28.73,
          12.92,
          28.6,
          27.4,
          18.4,
          11.3,
          14.93,
          47.82,
          46.18,
          33.83,
          20.28,
          63.85,
          11.23,
          28.58,
          59.4,
          35.7,
          44.77,
          8.55,
          21.17,
          5.88,
          59.53,
          39.68,
          15.8,
          24,
          37.37,
          50.2,
          37.22,
          86.17,
          16.08,
          62.2,
          12.37,
          18.3,
          48.13,
          22.88,
          20.03,
          43.15,
          31.23,
          23.13,
          41.25,
          32.73,
          29.5,
          16.03,
          15.93,
          10.38,
          20.12,
          24.75,
          25.08,
          27.63,
          46.4,
          23.13,
          12.98,
          11.45,
          38.48,
          24.08,
          47.32,
          17.18,
          18.55,
          18.9,
          39.93,
          41.43,
          29.33,
          10.23,
          25.85,
          12.65,
          17.12,
          18.83,
          18.83,
          42.7,
          47.27,
          21.85,
          21.33,
          4.3,
          29.93,
          29.67,
          20.32,
          2.8,
          20.5,
          5.12,
          12.35,
          11.37,
          3.2,
          27.15,
          28.6,
          8.42,
          13.58,
          20.42,
          11.73,
          23.87,
          21.73,
          15.88,
          10.35,
          32.58,
          26.25,
          17.25,
          28.77,
          3.62,
          4.3,
          25.25,
          12.9,
          7.13,
          13.17,
          23.92,
          6.78,
          29.13,
          21.98,
          12.82,
          21.97,
          32.48,
          8.25,
          17.05,
          33.77,
          9.38,
          18.98,
          22.73,
          5.12,
          25.12,
          29.3,
          39.87,
          54.07,
          31.93,
          14.63,
          6.63,
          34.87,
          26.93,
          14.83,
          26.57,
          29.72,
          50.02,
          19.13,
          16.62,
          34.55,
          43.07,
          15.78,
          32.4,
          2.47,
          13.85,
          6.98,
          3.53,
          32.85,
          27.1,
          5.17,
          24.15,
          12.9,
          15.72,
          21.4,
          15.92,
          11.27,
          29.08,
          15.65,
          18.65,
          30.45,
          9.42,
          25.03,
          43.7,
          7.5,
          27.55,
          27.78,
          9.27,
          8.6,
          6.97,
          20.47,
          37.87,
          9.87,
          18.03,
          6.75,
          26.75,
          24.82,
          18.27,
          39.92,
          11.13,
          16.38,
          30.77,
          19.77,
          26.7,
          0,
          15.13,
          19.67,
          28.42,
          20.88,
          11.08,
          60.57,
          11.18,
          42.08,
          18.5,
          49.45,
          11.6,
          11.2,
          11.3,
          19.92,
          26.88,
          13.72,
          13.08,
          41.32,
          36.17,
          41.05,
          19.82,
          1.03,
          7.8,
          18.3,
          10.72,
          17.3,
          25.52,
          49,
          24.85,
          29.82,
          43.07,
          40.02,
          17.82,
          28.9,
          58.02,
          30.7,
          36.3,
          9.42,
          20.65,
          63.38,
          19.98,
          70.15,
          26.9,
          34.18,
          59.68,
          15.45,
          23.32,
          50.92,
          20.33,
          60.83,
          20.87,
          19.12,
          22.75,
          18.98,
          22.6,
          10.7,
          55.78,
          21.25,
          2.9,
          17.47,
          24.05,
          22.47,
          36.43,
          46.12,
          5.93,
          37.42,
          45.77,
          36.43,
          35.97,
          9.88,
          6.05,
          32.32,
          12.18,
          15.38,
          30.73,
          15.33,
          19.05,
          3.5,
          17.95,
          14.65,
          6.83,
          2.48,
          13.77,
          40.48,
          39.27,
          42.87,
          42.33,
          35.1,
          13.08,
          45.32,
          14.58,
          31.42,
          61.15,
          47.13,
          22.02,
          15.05,
          60.03,
          23.3,
          62.93,
          19.18,
          51.45,
          29.33,
          38.63,
          43,
          15.33,
          40.68,
          14.57,
          1.02,
          27.8,
          13.57,
          49.23,
          35.18,
          15.7,
          17.4,
          4.82,
          33.68,
          34.85,
          18.87,
          7.83,
          3.03,
          3,
          32.33,
          19.33,
          49.63,
          51.08,
          38.6,
          28.65,
          17.53,
          23.1,
          24.55,
          42.58,
          50.75,
          31.17,
          9.02,
          6.87,
          14.12,
          6.08,
          31.1,
          29.18,
          21.08,
          11.4,
          50.08
         ],
         "xaxis": "x4",
         "yaxis": "y4"
        }
       ],
       "layout": {
        "annotations": [
         {
          "font": {
           "size": 16
          },
          "showarrow": false,
          "text": "Pick Up Order Time",
          "x": 0.225,
          "xanchor": "center",
          "xref": "paper",
          "y": 1,
          "yanchor": "bottom",
          "yref": "paper"
         },
         {
          "font": {
           "size": 16
          },
          "showarrow": false,
          "text": "Arrival Time",
          "x": 0.775,
          "xanchor": "center",
          "xref": "paper",
          "y": 1,
          "yanchor": "bottom",
          "yref": "paper"
         },
         {
          "font": {
           "size": 16
          },
          "showarrow": false,
          "text": "Waiting Time",
          "x": 0.225,
          "xanchor": "center",
          "xref": "paper",
          "y": 0.375,
          "yanchor": "bottom",
          "yref": "paper"
         },
         {
          "font": {
           "size": 16
          },
          "showarrow": false,
          "text": "Deliver Time",
          "x": 0.775,
          "xanchor": "center",
          "xref": "paper",
          "y": 0.375,
          "yanchor": "bottom",
          "yref": "paper"
         }
        ],
        "barmode": "overlay",
        "legend": {
         "bgcolor": "#F5F6F9",
         "font": {
          "color": "#4D5663"
         }
        },
        "paper_bgcolor": "#F5F6F9",
        "plot_bgcolor": "#F5F6F9",
        "template": {
         "data": {
          "bar": [
           {
            "error_x": {
             "color": "#2a3f5f"
            },
            "error_y": {
             "color": "#2a3f5f"
            },
            "marker": {
             "line": {
              "color": "#E5ECF6",
              "width": 0.5
             }
            },
            "type": "bar"
           }
          ],
          "barpolar": [
           {
            "marker": {
             "line": {
              "color": "#E5ECF6",
              "width": 0.5
             }
            },
            "type": "barpolar"
           }
          ],
          "carpet": [
           {
            "aaxis": {
             "endlinecolor": "#2a3f5f",
             "gridcolor": "white",
             "linecolor": "white",
             "minorgridcolor": "white",
             "startlinecolor": "#2a3f5f"
            },
            "baxis": {
             "endlinecolor": "#2a3f5f",
             "gridcolor": "white",
             "linecolor": "white",
             "minorgridcolor": "white",
             "startlinecolor": "#2a3f5f"
            },
            "type": "carpet"
           }
          ],
          "choropleth": [
           {
            "colorbar": {
             "outlinewidth": 0,
             "ticks": ""
            },
            "type": "choropleth"
           }
          ],
          "contour": [
           {
            "colorbar": {
             "outlinewidth": 0,
             "ticks": ""
            },
            "colorscale": [
             [
              0,
              "#0d0887"
             ],
             [
              0.1111111111111111,
              "#46039f"
             ],
             [
              0.2222222222222222,
              "#7201a8"
             ],
             [
              0.3333333333333333,
              "#9c179e"
             ],
             [
              0.4444444444444444,
              "#bd3786"
             ],
             [
              0.5555555555555556,
              "#d8576b"
             ],
             [
              0.6666666666666666,
              "#ed7953"
             ],
             [
              0.7777777777777778,
              "#fb9f3a"
             ],
             [
              0.8888888888888888,
              "#fdca26"
             ],
             [
              1,
              "#f0f921"
             ]
            ],
            "type": "contour"
           }
          ],
          "contourcarpet": [
           {
            "colorbar": {
             "outlinewidth": 0,
             "ticks": ""
            },
            "type": "contourcarpet"
           }
          ],
          "heatmap": [
           {
            "colorbar": {
             "outlinewidth": 0,
             "ticks": ""
            },
            "colorscale": [
             [
              0,
              "#0d0887"
             ],
             [
              0.1111111111111111,
              "#46039f"
             ],
             [
              0.2222222222222222,
              "#7201a8"
             ],
             [
              0.3333333333333333,
              "#9c179e"
             ],
             [
              0.4444444444444444,
              "#bd3786"
             ],
             [
              0.5555555555555556,
              "#d8576b"
             ],
             [
              0.6666666666666666,
              "#ed7953"
             ],
             [
              0.7777777777777778,
              "#fb9f3a"
             ],
             [
              0.8888888888888888,
              "#fdca26"
             ],
             [
              1,
              "#f0f921"
             ]
            ],
            "type": "heatmap"
           }
          ],
          "heatmapgl": [
           {
            "colorbar": {
             "outlinewidth": 0,
             "ticks": ""
            },
            "colorscale": [
             [
              0,
              "#0d0887"
             ],
             [
              0.1111111111111111,
              "#46039f"
             ],
             [
              0.2222222222222222,
              "#7201a8"
             ],
             [
              0.3333333333333333,
              "#9c179e"
             ],
             [
              0.4444444444444444,
              "#bd3786"
             ],
             [
              0.5555555555555556,
              "#d8576b"
             ],
             [
              0.6666666666666666,
              "#ed7953"
             ],
             [
              0.7777777777777778,
              "#fb9f3a"
             ],
             [
              0.8888888888888888,
              "#fdca26"
             ],
             [
              1,
              "#f0f921"
             ]
            ],
            "type": "heatmapgl"
           }
          ],
          "histogram": [
           {
            "marker": {
             "colorbar": {
              "outlinewidth": 0,
              "ticks": ""
             }
            },
            "type": "histogram"
           }
          ],
          "histogram2d": [
           {
            "colorbar": {
             "outlinewidth": 0,
             "ticks": ""
            },
            "colorscale": [
             [
              0,
              "#0d0887"
             ],
             [
              0.1111111111111111,
              "#46039f"
             ],
             [
              0.2222222222222222,
              "#7201a8"
             ],
             [
              0.3333333333333333,
              "#9c179e"
             ],
             [
              0.4444444444444444,
              "#bd3786"
             ],
             [
              0.5555555555555556,
              "#d8576b"
             ],
             [
              0.6666666666666666,
              "#ed7953"
             ],
             [
              0.7777777777777778,
              "#fb9f3a"
             ],
             [
              0.8888888888888888,
              "#fdca26"
             ],
             [
              1,
              "#f0f921"
             ]
            ],
            "type": "histogram2d"
           }
          ],
          "histogram2dcontour": [
           {
            "colorbar": {
             "outlinewidth": 0,
             "ticks": ""
            },
            "colorscale": [
             [
              0,
              "#0d0887"
             ],
             [
              0.1111111111111111,
              "#46039f"
             ],
             [
              0.2222222222222222,
              "#7201a8"
             ],
             [
              0.3333333333333333,
              "#9c179e"
             ],
             [
              0.4444444444444444,
              "#bd3786"
             ],
             [
              0.5555555555555556,
              "#d8576b"
             ],
             [
              0.6666666666666666,
              "#ed7953"
             ],
             [
              0.7777777777777778,
              "#fb9f3a"
             ],
             [
              0.8888888888888888,
              "#fdca26"
             ],
             [
              1,
              "#f0f921"
             ]
            ],
            "type": "histogram2dcontour"
           }
          ],
          "mesh3d": [
           {
            "colorbar": {
             "outlinewidth": 0,
             "ticks": ""
            },
            "type": "mesh3d"
           }
          ],
          "parcoords": [
           {
            "line": {
             "colorbar": {
              "outlinewidth": 0,
              "ticks": ""
             }
            },
            "type": "parcoords"
           }
          ],
          "pie": [
           {
            "automargin": true,
            "type": "pie"
           }
          ],
          "scatter": [
           {
            "marker": {
             "colorbar": {
              "outlinewidth": 0,
              "ticks": ""
             }
            },
            "type": "scatter"
           }
          ],
          "scatter3d": [
           {
            "line": {
             "colorbar": {
              "outlinewidth": 0,
              "ticks": ""
             }
            },
            "marker": {
             "colorbar": {
              "outlinewidth": 0,
              "ticks": ""
             }
            },
            "type": "scatter3d"
           }
          ],
          "scattercarpet": [
           {
            "marker": {
             "colorbar": {
              "outlinewidth": 0,
              "ticks": ""
             }
            },
            "type": "scattercarpet"
           }
          ],
          "scattergeo": [
           {
            "marker": {
             "colorbar": {
              "outlinewidth": 0,
              "ticks": ""
             }
            },
            "type": "scattergeo"
           }
          ],
          "scattergl": [
           {
            "marker": {
             "colorbar": {
              "outlinewidth": 0,
              "ticks": ""
             }
            },
            "type": "scattergl"
           }
          ],
          "scattermapbox": [
           {
            "marker": {
             "colorbar": {
              "outlinewidth": 0,
              "ticks": ""
             }
            },
            "type": "scattermapbox"
           }
          ],
          "scatterpolar": [
           {
            "marker": {
             "colorbar": {
              "outlinewidth": 0,
              "ticks": ""
             }
            },
            "type": "scatterpolar"
           }
          ],
          "scatterpolargl": [
           {
            "marker": {
             "colorbar": {
              "outlinewidth": 0,
              "ticks": ""
             }
            },
            "type": "scatterpolargl"
           }
          ],
          "scatterternary": [
           {
            "marker": {
             "colorbar": {
              "outlinewidth": 0,
              "ticks": ""
             }
            },
            "type": "scatterternary"
           }
          ],
          "surface": [
           {
            "colorbar": {
             "outlinewidth": 0,
             "ticks": ""
            },
            "colorscale": [
             [
              0,
              "#0d0887"
             ],
             [
              0.1111111111111111,
              "#46039f"
             ],
             [
              0.2222222222222222,
              "#7201a8"
             ],
             [
              0.3333333333333333,
              "#9c179e"
             ],
             [
              0.4444444444444444,
              "#bd3786"
             ],
             [
              0.5555555555555556,
              "#d8576b"
             ],
             [
              0.6666666666666666,
              "#ed7953"
             ],
             [
              0.7777777777777778,
              "#fb9f3a"
             ],
             [
              0.8888888888888888,
              "#fdca26"
             ],
             [
              1,
              "#f0f921"
             ]
            ],
            "type": "surface"
           }
          ],
          "table": [
           {
            "cells": {
             "fill": {
              "color": "#EBF0F8"
             },
             "line": {
              "color": "white"
             }
            },
            "header": {
             "fill": {
              "color": "#C8D4E3"
             },
             "line": {
              "color": "white"
             }
            },
            "type": "table"
           }
          ]
         },
         "layout": {
          "annotationdefaults": {
           "arrowcolor": "#2a3f5f",
           "arrowhead": 0,
           "arrowwidth": 1
          },
          "autotypenumbers": "strict",
          "coloraxis": {
           "colorbar": {
            "outlinewidth": 0,
            "ticks": ""
           }
          },
          "colorscale": {
           "diverging": [
            [
             0,
             "#8e0152"
            ],
            [
             0.1,
             "#c51b7d"
            ],
            [
             0.2,
             "#de77ae"
            ],
            [
             0.3,
             "#f1b6da"
            ],
            [
             0.4,
             "#fde0ef"
            ],
            [
             0.5,
             "#f7f7f7"
            ],
            [
             0.6,
             "#e6f5d0"
            ],
            [
             0.7,
             "#b8e186"
            ],
            [
             0.8,
             "#7fbc41"
            ],
            [
             0.9,
             "#4d9221"
            ],
            [
             1,
             "#276419"
            ]
           ],
           "sequential": [
            [
             0,
             "#0d0887"
            ],
            [
             0.1111111111111111,
             "#46039f"
            ],
            [
             0.2222222222222222,
             "#7201a8"
            ],
            [
             0.3333333333333333,
             "#9c179e"
            ],
            [
             0.4444444444444444,
             "#bd3786"
            ],
            [
             0.5555555555555556,
             "#d8576b"
            ],
            [
             0.6666666666666666,
             "#ed7953"
            ],
            [
             0.7777777777777778,
             "#fb9f3a"
            ],
            [
             0.8888888888888888,
             "#fdca26"
            ],
            [
             1,
             "#f0f921"
            ]
           ],
           "sequentialminus": [
            [
             0,
             "#0d0887"
            ],
            [
             0.1111111111111111,
             "#46039f"
            ],
            [
             0.2222222222222222,
             "#7201a8"
            ],
            [
             0.3333333333333333,
             "#9c179e"
            ],
            [
             0.4444444444444444,
             "#bd3786"
            ],
            [
             0.5555555555555556,
             "#d8576b"
            ],
            [
             0.6666666666666666,
             "#ed7953"
            ],
            [
             0.7777777777777778,
             "#fb9f3a"
            ],
            [
             0.8888888888888888,
             "#fdca26"
            ],
            [
             1,
             "#f0f921"
            ]
           ]
          },
          "colorway": [
           "#636efa",
           "#EF553B",
           "#00cc96",
           "#ab63fa",
           "#FFA15A",
           "#19d3f3",
           "#FF6692",
           "#B6E880",
           "#FF97FF",
           "#FECB52"
          ],
          "font": {
           "color": "#2a3f5f"
          },
          "geo": {
           "bgcolor": "white",
           "lakecolor": "white",
           "landcolor": "#E5ECF6",
           "showlakes": true,
           "showland": true,
           "subunitcolor": "white"
          },
          "hoverlabel": {
           "align": "left"
          },
          "hovermode": "closest",
          "mapbox": {
           "style": "light"
          },
          "paper_bgcolor": "white",
          "plot_bgcolor": "#E5ECF6",
          "polar": {
           "angularaxis": {
            "gridcolor": "white",
            "linecolor": "white",
            "ticks": ""
           },
           "bgcolor": "#E5ECF6",
           "radialaxis": {
            "gridcolor": "white",
            "linecolor": "white",
            "ticks": ""
           }
          },
          "scene": {
           "xaxis": {
            "backgroundcolor": "#E5ECF6",
            "gridcolor": "white",
            "gridwidth": 2,
            "linecolor": "white",
            "showbackground": true,
            "ticks": "",
            "zerolinecolor": "white"
           },
           "yaxis": {
            "backgroundcolor": "#E5ECF6",
            "gridcolor": "white",
            "gridwidth": 2,
            "linecolor": "white",
            "showbackground": true,
            "ticks": "",
            "zerolinecolor": "white"
           },
           "zaxis": {
            "backgroundcolor": "#E5ECF6",
            "gridcolor": "white",
            "gridwidth": 2,
            "linecolor": "white",
            "showbackground": true,
            "ticks": "",
            "zerolinecolor": "white"
           }
          },
          "shapedefaults": {
           "line": {
            "color": "#2a3f5f"
           }
          },
          "ternary": {
           "aaxis": {
            "gridcolor": "white",
            "linecolor": "white",
            "ticks": ""
           },
           "baxis": {
            "gridcolor": "white",
            "linecolor": "white",
            "ticks": ""
           },
           "bgcolor": "#E5ECF6",
           "caxis": {
            "gridcolor": "white",
            "linecolor": "white",
            "ticks": ""
           }
          },
          "title": {
           "x": 0.05
          },
          "xaxis": {
           "automargin": true,
           "gridcolor": "white",
           "linecolor": "white",
           "ticks": "",
           "title": {
            "standoff": 15
           },
           "zerolinecolor": "white",
           "zerolinewidth": 2
          },
          "yaxis": {
           "automargin": true,
           "gridcolor": "white",
           "linecolor": "white",
           "ticks": "",
           "title": {
            "standoff": 15
           },
           "zerolinecolor": "white",
           "zerolinewidth": 2
          }
         }
        },
        "title": {
         "font": {
          "color": "#4D5663"
         }
        },
        "xaxis": {
         "anchor": "y",
         "domain": [
          0,
          0.45
         ],
         "gridcolor": "#E1E5ED",
         "showgrid": true,
         "tickfont": {
          "color": "#4D5663"
         },
         "title": {
          "font": {
           "color": "#4D5663"
          },
          "text": ""
         },
         "zerolinecolor": "#E1E5ED"
        },
        "xaxis2": {
         "anchor": "y2",
         "domain": [
          0.55,
          1
         ],
         "gridcolor": "#E1E5ED",
         "showgrid": true,
         "tickfont": {
          "color": "#4D5663"
         },
         "title": {
          "font": {
           "color": "#4D5663"
          },
          "text": ""
         },
         "zerolinecolor": "#E1E5ED"
        },
        "xaxis3": {
         "anchor": "y3",
         "domain": [
          0,
          0.45
         ],
         "gridcolor": "#E1E5ED",
         "showgrid": true,
         "tickfont": {
          "color": "#4D5663"
         },
         "title": {
          "font": {
           "color": "#4D5663"
          },
          "text": ""
         },
         "zerolinecolor": "#E1E5ED"
        },
        "xaxis4": {
         "anchor": "y4",
         "domain": [
          0.55,
          1
         ],
         "gridcolor": "#E1E5ED",
         "showgrid": true,
         "tickfont": {
          "color": "#4D5663"
         },
         "title": {
          "font": {
           "color": "#4D5663"
          },
          "text": ""
         },
         "zerolinecolor": "#E1E5ED"
        },
        "yaxis": {
         "anchor": "x",
         "domain": [
          0.625,
          1
         ],
         "gridcolor": "#E1E5ED",
         "showgrid": true,
         "tickfont": {
          "color": "#4D5663"
         },
         "title": {
          "font": {
           "color": "#4D5663"
          },
          "text": ""
         },
         "zerolinecolor": "#E1E5ED"
        },
        "yaxis2": {
         "anchor": "x2",
         "domain": [
          0.625,
          1
         ],
         "gridcolor": "#E1E5ED",
         "showgrid": true,
         "tickfont": {
          "color": "#4D5663"
         },
         "title": {
          "font": {
           "color": "#4D5663"
          },
          "text": ""
         },
         "zerolinecolor": "#E1E5ED"
        },
        "yaxis3": {
         "anchor": "x3",
         "domain": [
          0,
          0.375
         ],
         "gridcolor": "#E1E5ED",
         "showgrid": true,
         "tickfont": {
          "color": "#4D5663"
         },
         "title": {
          "font": {
           "color": "#4D5663"
          },
          "text": ""
         },
         "zerolinecolor": "#E1E5ED"
        },
        "yaxis4": {
         "anchor": "x4",
         "domain": [
          0,
          0.375
         ],
         "gridcolor": "#E1E5ED",
         "showgrid": true,
         "tickfont": {
          "color": "#4D5663"
         },
         "title": {
          "font": {
           "color": "#4D5663"
          },
          "text": ""
         },
         "zerolinecolor": "#E1E5ED"
        }
       }
      },
      "text/html": [
       "<div>                            <div id=\"24444606-aded-4ee5-8d44-99e5fe625cd3\" class=\"plotly-graph-div\" style=\"height:525px; width:100%;\"></div>            <script type=\"text/javascript\">                require([\"plotly\"], function(Plotly) {                    window.PLOTLYENV=window.PLOTLYENV || {};\n",
       "                    window.PLOTLYENV.BASE_URL='https://plot.ly';                                    if (document.getElementById(\"24444606-aded-4ee5-8d44-99e5fe625cd3\")) {                    Plotly.newPlot(                        \"24444606-aded-4ee5-8d44-99e5fe625cd3\",                        [{\"histfunc\": \"count\", \"histnorm\": \"\", \"marker\": {\"color\": \"rgba(255, 153, 51, 1.0)\", \"line\": {\"color\": \"#4D5663\", \"width\": 1.3}}, \"name\": \"Pick Up Order Time\", \"nbinsx\": 100, \"opacity\": 0.8, \"orientation\": \"v\", \"type\": \"histogram\", \"x\": [2.75, 0.07, 1.45, 68.32, 15.8, 41.88, 0.0, 0.73, 1.35, 0.12, 1.02, 9.9, 0.0, 0.68, 4.07, 6.52, 0.42, 1.8, 1.03, 15.32, 7.35, 1.12, 7.53, 1.92, 5.4, 0.87, 1.65, 7.73, 7.48, 8.15, 0.48, 1.32, 0.95, 0.53, 0.22, 1.03, 5.95, 0.45, 3.02, 1.18, 0.75, 0.28, 0.0, 8.02, 6.12, 8.9, 5.8, 2.27, 1.02, 0.5, 0.0, 47.35, 1.1, 0.27, 0.0, 0.0, 0.32, 1.07, 40.98, 1.05, 5.75, 1.45, 0.0, 1.23, 0.65, 0.67, 0.92, 0.0, 11.37, 22.25, 6.12, 2.82, 2.12, 26.7, 1.42, 0.88, 5.73, 0.22, 0.98, 1.15, 7.12, 4.32, 40.98, 0.62, 1.7, 12.85, 7.58, 1.62, 1.15, 0.42, 0.2, 0.52, 2.27, 0.37, 0.37, 1.53, 10.67, 0.0, 17.87, 3.67, 5.13, 1.17, 1.2, 1.18, 8.23, 1.13, 12.02, 1.53, 259.42, 1.03, 0.82, 6.53, 3.1, 1.68, 2.05, 0.58, 0.9, 1.5, 59.1, 0.02, 3.13, 1.3, 7.27, 0.32, 1.27, 0.92, 0.97, 1.27, 5.77, 1.3, 1.2, 0.77, 1.07, 6.2, 1.23, 1.72, 0.78, 1.75, 7.75, 0.82, 0.0, 0.43, 0.0, 1.33, 3.2, 136.37, 0.13, 7.95, 7.6, 4.02, 3.02, 1.3, 0.27, 0.0, 2.83, 5.27, 0.57, 2.32, 0.0, 0.98, 8.2, 0.45, 5.62, 1.58, 1.22, 0.47, 1.15, 51.33, 2.35, 0.92, 0.12, 0.82, 0.5, 0.4, 1.45, 0.6, 5.47, 5.3, 4.25, 0.48, 1.4, 4.45, 0.53, 3.0, 1.55, 0.0, 0.78, 1.08, 0.0, 3.57, 12.55, 0.08, 0.58, 3.73, 4.72, 0.68, 1.08, 0.67, 7.08, 1.18, 23.5, 2.17, 2.53, 3.35, 0.35, 0.0, 0.0, 0.6, 3.4, 1.1, 3.78, 4.38, 1.25, 1.32, 0.0, 0.77, 1.15, 0.95, 3.82, 0.75, 1.97, 12.6, 1.12, 0.8, 1.32, 0.57, 82.68, 1.92, 5.6, 1.5, 2.73, 0.0, 0.52, 0.0, 1.45, 0.55, 0.0, 3.3, 7.85, 1.68, 6.85, 1.4, 0.58, 0.77, 0.65, 4.05, 0.18, 0.88, 0.9, 0.0, 1.72, 0.0, 1.07, 0.97, 0.52, 0.62, 0.63, 1.15, 1.02, 1.3, 0.48, 0.47, 8.08, 1.22, 8.15, 0.35, 0.87, 0.67, 0.85, 5.48, 3.02, 1.95, 0.5, 1.0, 0.5, 0.33, 2.87, 1.95, 2.0, 3.7, 2.58, 1.1, 3.78, 4.73, 0.38, 0.0, 2.63, 5.62, 20.13, 1.42, 1.08, 0.57, 4.3, 0.92, 1.27, 1.93, 0.37, 1.2, 1.22, 1.45, 0.3, 1.63, 0.68, 0.75, 0.0, 0.6, 0.33, 45.57, 1.12, 1.68, 0.0, 2.37, 5.07, 1.17, 1.03, 0.25, 0.72, 1.02, 8.17, 0.3, 1.05, 1.17, 8.18, 1.1, 8.5, 1.95, 6.87, 3.35, 1.35, 0.35, 1.62, 1.37, 1.25, 0.0, 0.3, 2.38, 0.82, 0.82, 0.0, 7.68, 0.95, 0.67, 0.42, 1.43, 0.92, 12.35, 2.08, 16.8, 0.82, 1.78, 0.53, 0.77, 0.5, 0.52, 0.92, 3.32, 0.0, 0.92, 8.0, 2.52, 5.82, 3.67, 3.7, 0.8, 0.98, 3.07, 0.0, 1.38, 1.93, 7.78, 1.77, 0.07, 1.32, 1.53, 1.02, 23.3, 3.6, 0.62, 1.87, 1.15, 1.73, 0.98, 0.9, 4.65, 0.0, 1.17, 1.17, 0.33, 1.6, 1.18, 0.67, 6.98, 1.4, 8.07, 1.17, 0.0, 2.9, 0.25, 0.87, 1.1, 5.67, 1.05, 0.87, 1.13, 3.95, 10.1, 1.97, 0.7, 0.82, 1.47, 31.92, 3.55, 0.67, 0.12, 23.33, 0.88, 0.15, 0.72, 24.37, 8.28, 8.28, 0.82, 5.15, 0.38, 1.23, 0.38, 4.3, 0.75, 0.47, 5.32, 0.67, 7.33, 7.33, 1.57, 2.07, 4.57, 2.18, 1.03, 0.45, 1.77, 4.27, 1.38, 1.33, 0.62, 0.6, 4.1, 0.38, 0.7, 1.45, 0.83, 7.57, 8.35, 0.38, 0.5, 0.57, 0.0, 0.0, 0.0, 0.32, 1.63, 0.0, 5.48, 7.9, 0.72, 0.3, 0.8, 0.42, 0.62, 10.1, 0.32, 0.52, 0.0, 0.07, 2.38, 3.48, 0.02, 0.0, 0.97, 0.92, 0.78, 0.55, 1.88, 0.25, 0.57, 3.98, 3.15, 0.1, 0.52, 2.65, 0.67, 0.27, 0.92, 1.9, 2.0, 0.8, 0.67, 0.37, 4.18, 0.63, 12.05, 0.53, 0.0, 0.92, 1.93, 4.82, 1.27, 0.0, 0.25, 1.4, 1.87, 3.33, 0.13, 1.43, 1.15, 1.87, 2.15, 0.32, 1.63, 1.1, 0.85, 0.0, 8.02, 1.05, 0.1, 1.78, 0.7, 0.83, 1.03, 1.25, 1.12, 1.6, 1.28, 2.75, 4.02, 0.48, 0.68, 0.35, 0.0, 0.53, 4.9, 1.0, 0.53], \"xaxis\": \"x\", \"yaxis\": \"y\"}, {\"histfunc\": \"count\", \"histnorm\": \"\", \"marker\": {\"color\": \"rgba(55, 128, 191, 1.0)\", \"line\": {\"color\": \"#4D5663\", \"width\": 1.3}}, \"name\": \"Arrival Time\", \"nbinsx\": 100, \"opacity\": 0.8, \"orientation\": \"v\", \"type\": \"histogram\", \"x\": [19.88, 6.87, 11.35, 6.33, 12.9, 14.03, 0.02, 0.03, 8.92, 0.25, 7.33, 12.15, 4.58, 0.05, 18.53, 4.13, 13.78, 14.65, 9.58, 8.48, 13.7, 5.25, 6.98, 5.67, 5.58, 12.93, 4.72, 7.95, 9.7, 6.12, 4.82, 0.05, 1.1, 18.6, 5.02, 20.73, 9.57, 4.95, 4.78, 7.4, 9.73, 4.55, 17.47, 0.52, 2.47, 6.85, 3.07, 7.32, 19.08, 7.48, 0.05, 5.12, 9.78, 7.83, 14.93, 0.2, 1.27, 18.58, 11.77, 1.1, 3.87, 5.6, 11.57, 7.8, 0.05, 8.07, 9.22, 13.27, 0.0, 11.67, 12.23, 8.28, 2.13, 46.05, 0.0, 0.65, 0.0, 5.1, 12.82, 3.0, 1.45, 33.67, 4.72, 26.18, 2.7, 21.45, 9.63, 0.3, 6.38, 31.53, 15.2, 8.85, 4.65, 14.12, 8.32, 23.57, 30.6, 20.67, 8.0, 7.98, 9.18, 16.18, 0.6, 9.52, 9.17, 11.97, 4.18, 8.8, 11.33, 19.05, 16.05, 1.63, 0.0, 52.28, 3.95, 5.58, 4.58, 4.7, 6.9, 7.03, 11.58, 17.83, 1.08, 6.75, 6.75, 22.88, 18.63, 7.68, 2.05, 2.77, 0.0, 63.2, 17.3, 3.78, 11.7, 13.27, 2.87, 0.1, 7.62, 26.12, 9.55, 8.2, 22.98, 4.38, 0.07, 25.53, 6.0, 1.5, 10.48, 30.97, 17.68, 4.13, 13.6, 0.08, 13.37, 4.43, 2.6, 6.57, 8.55, 0.95, 1.65, 24.53, 6.78, 1.52, 2.28, 5.53, 0.1, 1.07, 2.82, 2.92, 13.05, 7.28, 10.5, 31.95, 10.38, 3.85, 1.48, 5.08, 18.83, 24.98, 13.25, 8.43, 3.05, 12.57, 23.27, 2.53, 2.83, 14.32, 7.32, 6.68, 6.58, 11.95, 17.6, 9.42, 19.47, 1.72, 3.85, 6.62, 14.97, 14.75, 0.07, 20.18, 17.92, 5.63, 6.95, 2.95, 5.08, 4.42, 29.12, 9.15, 4.17, 22.87, 17.93, 1.18, 8.62, 29.6, 14.92, 4.07, 25.95, 10.48, 3.2, 2.82, 13.08, 18.65, 6.15, 10.48, 13.1, 0.58, 15.5, 22.88, 13.68, 6.45, 15.28, 1.47, 9.4, 13.7, 8.05, 8.77, 0.65, 15.55, 1.85, 22.43, 4.77, 30.9, 3.08, 1.8, 0.13, 20.08, 11.58, 2.3, 0.07, 4.23, 19.8, 8.85, 9.77, 37.15, 9.05, 12.17, 6.1, 26.12, 4.4, 1.2, 4.83, 5.33, 4.82, 11.02, 1.98, 3.92, 16.35, 2.32, 0.87, 12.92, 5.5, 5.65, 6.35, 2.15, 10.92, 5.78, 2.07, 9.07, 7.0, 19.05, 18.4, 10.27, 9.32, 0.0, 0.63, 0.05, 2.75, 6.22, 19.22, 19.22, 13.78, 11.45, 0.17, 3.17, 22.7, 0.98, 4.0, 0.03, 4.95, 9.95, 2.07, 18.4, 5.28, 3.23, 0.38, 4.12, 15.55, 16.97, 11.88, 7.55, 0.4, 1.57, 7.13, 6.95, 8.33, 5.92, 6.93, 2.02, 2.65, 0.08, 38.78, 6.13, 8.05, 7.82, 3.48, 27.98, 12.9, 0.08, 18.75, 9.75, 2.3, 0.08, 2.05, 5.93, 3.23, 5.28, 3.82, 16.35, 6.4, 4.53, 0.03, 7.4, 4.18, 20.33, 0.03, 12.95, 9.33, 17.73, 8.6, 0.08, 14.97, 0.42, 0.07, 18.8, 6.87, 18.4, 5.02, 0.37, 8.18, 10.47, 10.73, 4.62, 10.35, 2.0, 1.37, 18.12, 14.13, 1.38, 0.28, 5.4, 1.75, 4.95, 0.6, 10.87, 2.98, 12.15, 3.7, 0.1, 0.05, 11.78, 0.18, 0.08, 2.43, 11.55, 5.67, 18.67, 6.35, 11.02, 6.37, 8.32, 7.03, 28.45, 7.17, 17.02, 5.18, 31.0, 3.55, 0.0, 29.73, 7.22, 5.05, 3.02, 8.05, 3.6, 3.45, 1.8, 2.27, 2.77, 5.73, 5.6, 4.53, 2.77, 3.35, 2.95, 18.62, 13.58, 11.28, 2.57, 10.45, 15.75, 1.67, 16.93, 0.8, 12.97, 2.5, 3.05, 13.2, 8.25, 0.1, 2.37, 0.03, 12.38, 8.17, 22.27, 1.0, 36.13, 10.42, 19.38, 0.93, 6.63, 1.02, 18.68, 19.47, 3.62, 12.22, 12.52, 13.83, 4.33, 3.0, 17.58, 7.87, 25.92, 9.52, 5.17, 10.07, 6.72, 23.1, 16.42, 4.17, 2.65, 7.17, 3.68, 1.77, 1.25, 6.63, 7.38, 15.42, 6.65, 3.48, 1.07, 1.08, 0.22, 2.82, 3.2, 20.95, 0.52, 2.43, 3.3, 3.08, 4.25, 0.57, 0.53, 2.73, 1.22, 1.67, 11.67, 15.3, 4.63, 6.57, 12.88, 4.27, 2.25, 8.22, 10.7, 7.25, 11.82, 4.77, 13.55, 5.88, 3.28, 1.75, 6.37, 20.18, 0.03, 11.65, 0.22, 2.92, 10.93, 25.87, 1.72, 6.42, 12.7, 1.62, 0.07, 6.32, 7.57, 11.15, 14.82, 5.85, 5.43, 1.37, 1.52, 14.72, 13.82, 15.95, 16.65, 0.43, 23.78, 2.65, 12.07, 1.78, 8.73, 11.42, 9.02, 0.1, 2.53, 45.1, 61.57, 6.7, 1.38], \"xaxis\": \"x2\", \"yaxis\": \"y2\"}, {\"histfunc\": \"count\", \"histnorm\": \"\", \"marker\": {\"color\": \"rgba(50, 171, 96, 1.0)\", \"line\": {\"color\": \"#4D5663\", \"width\": 1.3}}, \"name\": \"Waiting Time\", \"nbinsx\": 100, \"opacity\": 0.8, \"orientation\": \"v\", \"type\": \"histogram\", \"x\": [0.8, 1.93, 0.05, 0.17, 7.23, 0.08, 23.62, 8.08, 3.65, 3.1, 0.13, 1.62, 0.75, 16.33, 0.12, 0.47, 0.92, 0.77, 0.58, 0.23, 0.13, 4.2, 0.05, 11.88, 11.88, 0.45, 0.32, 1.05, 0.08, 1.63, 0.88, 14.65, 5.97, 0.35, 7.3, 0.03, 0.05, 1.42, 5.15, 0.28, 0.03, 19.33, 6.57, 8.78, 10.32, 0.25, 11.67, 7.28, 0.38, 0.15, 11.93, 8.77, 2.12, 1.4, 1.92, 2.7, 22.77, 1.62, 13.07, 5.97, 0.38, 1.4, 0.43, 2.72, 10.85, 0.07, 0.13, 0.03, 0.0, 3.08, 0.53, 0.2, 26.97, 0.32, 0.0, 5.95, 0.0, 28.57, 0.07, 4.73, 13.73, 0.02, 5.52, 0.05, 0.2, 1.88, 7.33, 12.12, 2.97, 0.35, 2.03, 13.32, 2.82, 0.43, 4.9, 0.2, 0.85, 4.08, 2.65, 0.05, 0.08, 1.78, 18.23, 1.45, 5.63, 4.63, 5.77, 0.47, 0.05, 0.05, 17.78, 16.68, 0.0, 0.9, 0.85, 0.15, 0.65, 0.52, 0.05, 0.22, 2.78, 7.95, 6.33, 33.97, 1.1, 0.1, 0.35, 3.8, 9.4, 3.3, 0.0, 8.03, 0.55, 12.1, 0.15, 0.92, 10.52, 6.15, 0.05, 0.08, 6.83, 0.03, 0.02, 0.7, 23.42, 0.07, 0.8, 13.95, 2.33, 2.57, 0.15, 5.4, 1.35, 7.95, 56.18, 0.63, 8.57, 16.93, 0.03, 13.82, 3.87, 4.43, 1.07, 5.45, 5.2, 5.02, 0.8, 1.67, 0.05, 7.97, 6.63, 1.63, 0.03, 0.08, 0.63, 6.0, 5.23, 0.55, 1.67, 0.07, 1.13, 10.37, 1.27, 5.3, 8.95, 1.12, 6.35, 0.05, 0.85, 2.75, 10.33, 2.55, 2.65, 0.27, 0.05, 4.85, 3.82, 0.07, 0.03, 3.2, 4.9, 0.05, 0.05, 0.08, 1.78, 22.93, 0.33, 6.23, 0.63, 2.12, 1.52, 0.07, 4.95, 0.03, 0.9, 0.5, 2.35, 0.58, 1.02, 2.6, 9.2, 0.82, 0.07, 0.18, 1.2, 0.17, 4.95, 7.57, 2.15, 9.6, 5.9, 0.03, 0.25, 1.2, 0.33, 8.9, 2.23, 1.42, 19.15, 0.3, 11.87, 1.07, 0.05, 0.02, 5.7, 2.13, 17.08, 0.07, 3.52, 8.08, 10.23, 7.58, 0.43, 2.52, 1.47, 0.03, 12.05, 0.95, 2.22, 0.88, 0.42, 0.63, 8.03, 0.22, 2.07, 2.97, 0.72, 0.7, 0.92, 20.63, 13.22, 1.6, 2.35, 0.05, 3.72, 4.5, 10.05, 0.52, 5.78, 0.68, 0.07, 0.05, 0.02, 6.47, 1.4, 0.0, 5.47, 8.12, 6.65, 7.35, 0.28, 0.28, 0.03, 0.15, 6.12, 27.5, 0.97, 0.68, 0.5, 5.78, 1.93, 0.07, 2.38, 0.5, 0.23, 2.73, 8.98, 5.47, 13.18, 3.92, 1.33, 0.48, 4.68, 3.32, 4.73, 1.53, 0.37, 0.52, 2.2, 18.07, 8.13, 26.57, 0.17, 6.53, 1.28, 4.92, 0.57, 0.08, 0.65, 13.52, 2.67, 0.08, 3.33, 21.93, 11.97, 1.55, 1.72, 3.2, 3.75, 14.63, 0.18, 1.9, 17.3, 0.13, 4.07, 15.08, 9.77, 2.08, 0.27, 0.3, 0.1, 10.98, 0.05, 7.33, 5.83, 0.97, 1.67, 0.58, 3.93, 12.78, 0.3, 0.25, 0.03, 0.38, 0.03, 23.5, 4.15, 0.08, 0.82, 19.82, 7.4, 1.5, 3.15, 3.47, 7.42, 0.15, 8.45, 0.15, 0.02, 12.88, 23.3, 0.05, 13.02, 7.93, 2.47, 0.43, 5.08, 0.05, 1.1, 6.33, 9.53, 7.22, 2.18, 0.68, 4.83, 0.15, 1.78, 0.03, 0.75, 0.0, 0.72, 5.63, 14.12, 6.42, 0.03, 1.3, 0.73, 5.58, 1.12, 2.55, 0.25, 11.63, 5.65, 3.85, 0.93, 11.87, 0.28, 0.2, 0.42, 3.7, 0.52, 10.95, 7.95, 0.13, 3.52, 0.1, 10.52, 1.88, 0.38, 0.08, 3.25, 1.72, 5.22, 0.1, 0.07, 0.4, 13.6, 0.68, 1.72, 1.05, 13.37, 2.28, 16.83, 0.13, 0.37, 0.7, 0.02, 0.05, 0.42, 3.3, 2.08, 0.38, 5.2, 2.6, 0.8, 0.47, 22.37, 0.67, 0.03, 0.03, 3.1, 20.52, 2.63, 0.62, 0.05, 3.75, 0.87, 0.13, 0.27, 19.05, 1.02, 12.27, 4.12, 13.15, 3.98, 9.75, 0.38, 15.87, 3.75, 8.78, 0.85, 1.15, 27.98, 6.13, 0.03, 16.72, 2.65, 0.05, 0.23, 7.05, 6.55, 0.8, 1.53, 5.13, 4.75, 0.13, 3.0, 0.62, 3.7, 0.43, 3.62, 0.03, 0.47, 0.13, 0.17, 11.8, 0.4, 14.32, 5.38, 0.03, 0.03, 0.38, 1.57, 0.4, 4.83, 3.37, 2.88, 6.2, 3.95, 0.87, 3.95, 5.28, 2.1, 7.22, 0.1, 0.03, 1.83, 1.07, 23.9, 0.1, 0.78, 0.47, 0.28, 4.73, 0.2, 0.32, 14.23, 0.5, 3.17, 0.28, 11.32, 0.87], \"xaxis\": \"x3\", \"yaxis\": \"y3\"}, {\"histfunc\": \"count\", \"histnorm\": \"\", \"marker\": {\"color\": \"rgba(128, 0, 128, 1.0)\", \"line\": {\"color\": \"#4D5663\", \"width\": 1.3}}, \"name\": \"Deliver Time\", \"nbinsx\": 100, \"opacity\": 0.8, \"orientation\": \"v\", \"type\": \"histogram\", \"x\": [68.67, 6.3, 51.88, 18.93, 10.18, 5.75, 32.5, 8.45, 37.27, 23.3, 46.55, 21.67, 16.62, 27.08, 12.27, 5.9, 16.5, 23.28, 21.18, 32.02, 1.12, 24.73, 17.7, 30.63, 42.55, 11.82, 19.17, 24.83, 5.78, 46.13, 20.08, 24.5, 39.73, 43.9, 22.85, 39.1, 26.52, 15.57, 57.02, 19.68, 31.5, 22.53, 58.43, 40.73, 13.43, 25.27, 9.78, 19.05, 15.03, 24.32, 49.9, 40.3, 8.92, 28.9, 32.08, 27.58, 2.58, 11.8, 32.78, 30.92, 21.82, 6.93, 20.75, 15.57, 25.4, 52.53, 24.3, 34.93, 6.52, 6.08, 57.85, 28.35, 37.33, 10.23, 12.02, 22.23, 32.23, 2.28, 11.47, 65.47, 37.03, 11.9, 30.37, 49.3, 75.03, 17.02, 29.97, 30.08, 17.73, 18.07, 51.02, 14.87, 26.42, 40.78, 23.65, 38.25, 13.32, 28.3, 51.5, 31.22, 9.9, 17.53, 10.82, 47.0, 23.37, 35.35, 25.17, 82.38, 60.4, 66.18, 40.28, 12.28, 21.33, 37.27, 66.05, 27.15, 35.98, 49.28, 7.15, 30.93, 21.02, 36.0, 25.9, 57.7, 32.32, 25.98, 11.4, 9.68, 44.6, 26.75, 15.83, 1.02, 48.0, 5.03, 1.97, 66.77, 8.75, 26.05, 43.8, 14.6, 24.53, 60.38, 59.17, 31.58, 57.48, 19.4, 32.83, 34.35, 18.2, 2.07, 17.03, 56.8, 13.88, 59.87, 31.13, 49.52, 24.27, 7.17, 59.08, 10.08, 19.23, 36.58, 15.5, 31.45, 10.58, 35.7, 37.2, 16.28, 35.35, 8.73, 21.98, 26.62, 45.47, 5.85, 18.72, 8.8, 50.25, 72.37, 12.1, 19.92, 8.03, 17.27, 40.37, 21.3, 4.58, 29.95, 11.27, 27.18, 37.52, 37.98, 20.08, 14.37, 30.9, 18.75, 22.18, 27.97, 44.07, 29.78, 10.17, 12.17, 58.77, 6.32, 17.88, 10.63, 15.48, 41.25, 26.77, 23.25, 4.42, 26.9, 57.65, 39.52, 27.2, 40.6, 36.97, 37.88, 4.15, 43.83, 3.87, 25.58, 9.93, 5.35, 1.68, 8.78, 18.17, 28.73, 12.92, 28.6, 27.4, 18.4, 11.3, 14.93, 47.82, 46.18, 33.83, 20.28, 63.85, 11.23, 28.58, 59.4, 35.7, 44.77, 8.55, 21.17, 5.88, 59.53, 39.68, 15.8, 24.0, 37.37, 50.2, 37.22, 86.17, 16.08, 62.2, 12.37, 18.3, 48.13, 22.88, 20.03, 43.15, 31.23, 23.13, 41.25, 32.73, 29.5, 16.03, 15.93, 10.38, 20.12, 24.75, 25.08, 27.63, 46.4, 23.13, 12.98, 11.45, 38.48, 24.08, 47.32, 17.18, 18.55, 18.9, 39.93, 41.43, 29.33, 10.23, 25.85, 12.65, 17.12, 18.83, 18.83, 42.7, 47.27, 21.85, 21.33, 4.3, 29.93, 29.67, 20.32, 2.8, 20.5, 5.12, 12.35, 11.37, 3.2, 27.15, 28.6, 8.42, 13.58, 20.42, 11.73, 23.87, 21.73, 15.88, 10.35, 32.58, 26.25, 17.25, 28.77, 3.62, 4.3, 25.25, 12.9, 7.13, 13.17, 23.92, 6.78, 29.13, 21.98, 12.82, 21.97, 32.48, 8.25, 17.05, 33.77, 9.38, 18.98, 22.73, 5.12, 25.12, 29.3, 39.87, 54.07, 31.93, 14.63, 6.63, 34.87, 26.93, 14.83, 26.57, 29.72, 50.02, 19.13, 16.62, 34.55, 43.07, 15.78, 32.4, 2.47, 13.85, 6.98, 3.53, 32.85, 27.1, 5.17, 24.15, 12.9, 15.72, 21.4, 15.92, 11.27, 29.08, 15.65, 18.65, 30.45, 9.42, 25.03, 43.7, 7.5, 27.55, 27.78, 9.27, 8.6, 6.97, 20.47, 37.87, 9.87, 18.03, 6.75, 26.75, 24.82, 18.27, 39.92, 11.13, 16.38, 30.77, 19.77, 26.7, 0.0, 15.13, 19.67, 28.42, 20.88, 11.08, 60.57, 11.18, 42.08, 18.5, 49.45, 11.6, 11.2, 11.3, 19.92, 26.88, 13.72, 13.08, 41.32, 36.17, 41.05, 19.82, 1.03, 7.8, 18.3, 10.72, 17.3, 25.52, 49.0, 24.85, 29.82, 43.07, 40.02, 17.82, 28.9, 58.02, 30.7, 36.3, 9.42, 20.65, 63.38, 19.98, 70.15, 26.9, 34.18, 59.68, 15.45, 23.32, 50.92, 20.33, 60.83, 20.87, 19.12, 22.75, 18.98, 22.6, 10.7, 55.78, 21.25, 2.9, 17.47, 24.05, 22.47, 36.43, 46.12, 5.93, 37.42, 45.77, 36.43, 35.97, 9.88, 6.05, 32.32, 12.18, 15.38, 30.73, 15.33, 19.05, 3.5, 17.95, 14.65, 6.83, 2.48, 13.77, 40.48, 39.27, 42.87, 42.33, 35.1, 13.08, 45.32, 14.58, 31.42, 61.15, 47.13, 22.02, 15.05, 60.03, 23.3, 62.93, 19.18, 51.45, 29.33, 38.63, 43.0, 15.33, 40.68, 14.57, 1.02, 27.8, 13.57, 49.23, 35.18, 15.7, 17.4, 4.82, 33.68, 34.85, 18.87, 7.83, 3.03, 3.0, 32.33, 19.33, 49.63, 51.08, 38.6, 28.65, 17.53, 23.1, 24.55, 42.58, 50.75, 31.17, 9.02, 6.87, 14.12, 6.08, 31.1, 29.18, 21.08, 11.4, 50.08], \"xaxis\": \"x4\", \"yaxis\": \"y4\"}],                        {\"annotations\": [{\"font\": {\"size\": 16}, \"showarrow\": false, \"text\": \"Pick Up Order Time\", \"x\": 0.225, \"xanchor\": \"center\", \"xref\": \"paper\", \"y\": 1.0, \"yanchor\": \"bottom\", \"yref\": \"paper\"}, {\"font\": {\"size\": 16}, \"showarrow\": false, \"text\": \"Arrival Time\", \"x\": 0.775, \"xanchor\": \"center\", \"xref\": \"paper\", \"y\": 1.0, \"yanchor\": \"bottom\", \"yref\": \"paper\"}, {\"font\": {\"size\": 16}, \"showarrow\": false, \"text\": \"Waiting Time\", \"x\": 0.225, \"xanchor\": \"center\", \"xref\": \"paper\", \"y\": 0.375, \"yanchor\": \"bottom\", \"yref\": \"paper\"}, {\"font\": {\"size\": 16}, \"showarrow\": false, \"text\": \"Deliver Time\", \"x\": 0.775, \"xanchor\": \"center\", \"xref\": \"paper\", \"y\": 0.375, \"yanchor\": \"bottom\", \"yref\": \"paper\"}], \"barmode\": \"overlay\", \"legend\": {\"bgcolor\": \"#F5F6F9\", \"font\": {\"color\": \"#4D5663\"}}, \"paper_bgcolor\": \"#F5F6F9\", \"plot_bgcolor\": \"#F5F6F9\", \"template\": {\"data\": {\"bar\": [{\"error_x\": {\"color\": \"#2a3f5f\"}, \"error_y\": {\"color\": \"#2a3f5f\"}, \"marker\": {\"line\": {\"color\": \"#E5ECF6\", \"width\": 0.5}}, \"type\": \"bar\"}], \"barpolar\": [{\"marker\": {\"line\": {\"color\": \"#E5ECF6\", \"width\": 0.5}}, \"type\": \"barpolar\"}], \"carpet\": [{\"aaxis\": {\"endlinecolor\": \"#2a3f5f\", \"gridcolor\": \"white\", \"linecolor\": \"white\", \"minorgridcolor\": \"white\", \"startlinecolor\": \"#2a3f5f\"}, \"baxis\": {\"endlinecolor\": \"#2a3f5f\", \"gridcolor\": \"white\", \"linecolor\": \"white\", \"minorgridcolor\": \"white\", \"startlinecolor\": \"#2a3f5f\"}, \"type\": \"carpet\"}], \"choropleth\": [{\"colorbar\": {\"outlinewidth\": 0, \"ticks\": \"\"}, \"type\": \"choropleth\"}], \"contour\": [{\"colorbar\": {\"outlinewidth\": 0, \"ticks\": \"\"}, \"colorscale\": [[0.0, \"#0d0887\"], [0.1111111111111111, \"#46039f\"], [0.2222222222222222, \"#7201a8\"], [0.3333333333333333, \"#9c179e\"], [0.4444444444444444, \"#bd3786\"], [0.5555555555555556, \"#d8576b\"], [0.6666666666666666, \"#ed7953\"], [0.7777777777777778, \"#fb9f3a\"], [0.8888888888888888, \"#fdca26\"], [1.0, \"#f0f921\"]], \"type\": \"contour\"}], \"contourcarpet\": [{\"colorbar\": {\"outlinewidth\": 0, \"ticks\": \"\"}, \"type\": \"contourcarpet\"}], \"heatmap\": [{\"colorbar\": {\"outlinewidth\": 0, \"ticks\": \"\"}, \"colorscale\": [[0.0, \"#0d0887\"], [0.1111111111111111, \"#46039f\"], [0.2222222222222222, \"#7201a8\"], [0.3333333333333333, \"#9c179e\"], [0.4444444444444444, \"#bd3786\"], [0.5555555555555556, \"#d8576b\"], [0.6666666666666666, \"#ed7953\"], [0.7777777777777778, \"#fb9f3a\"], [0.8888888888888888, \"#fdca26\"], [1.0, \"#f0f921\"]], \"type\": \"heatmap\"}], \"heatmapgl\": [{\"colorbar\": {\"outlinewidth\": 0, \"ticks\": \"\"}, \"colorscale\": [[0.0, \"#0d0887\"], [0.1111111111111111, \"#46039f\"], [0.2222222222222222, \"#7201a8\"], [0.3333333333333333, \"#9c179e\"], [0.4444444444444444, \"#bd3786\"], [0.5555555555555556, \"#d8576b\"], [0.6666666666666666, \"#ed7953\"], [0.7777777777777778, \"#fb9f3a\"], [0.8888888888888888, \"#fdca26\"], [1.0, \"#f0f921\"]], \"type\": \"heatmapgl\"}], \"histogram\": [{\"marker\": {\"colorbar\": {\"outlinewidth\": 0, \"ticks\": \"\"}}, \"type\": \"histogram\"}], \"histogram2d\": [{\"colorbar\": {\"outlinewidth\": 0, \"ticks\": \"\"}, \"colorscale\": [[0.0, \"#0d0887\"], [0.1111111111111111, \"#46039f\"], [0.2222222222222222, \"#7201a8\"], [0.3333333333333333, \"#9c179e\"], [0.4444444444444444, \"#bd3786\"], [0.5555555555555556, \"#d8576b\"], [0.6666666666666666, \"#ed7953\"], [0.7777777777777778, \"#fb9f3a\"], [0.8888888888888888, \"#fdca26\"], [1.0, \"#f0f921\"]], \"type\": \"histogram2d\"}], \"histogram2dcontour\": [{\"colorbar\": {\"outlinewidth\": 0, \"ticks\": \"\"}, \"colorscale\": [[0.0, \"#0d0887\"], [0.1111111111111111, \"#46039f\"], [0.2222222222222222, \"#7201a8\"], [0.3333333333333333, \"#9c179e\"], [0.4444444444444444, \"#bd3786\"], [0.5555555555555556, \"#d8576b\"], [0.6666666666666666, \"#ed7953\"], [0.7777777777777778, \"#fb9f3a\"], [0.8888888888888888, \"#fdca26\"], [1.0, \"#f0f921\"]], \"type\": \"histogram2dcontour\"}], \"mesh3d\": [{\"colorbar\": {\"outlinewidth\": 0, \"ticks\": \"\"}, \"type\": \"mesh3d\"}], \"parcoords\": [{\"line\": {\"colorbar\": {\"outlinewidth\": 0, \"ticks\": \"\"}}, \"type\": \"parcoords\"}], \"pie\": [{\"automargin\": true, \"type\": \"pie\"}], \"scatter\": [{\"marker\": {\"colorbar\": {\"outlinewidth\": 0, \"ticks\": \"\"}}, \"type\": \"scatter\"}], \"scatter3d\": [{\"line\": {\"colorbar\": {\"outlinewidth\": 0, \"ticks\": \"\"}}, \"marker\": {\"colorbar\": {\"outlinewidth\": 0, \"ticks\": \"\"}}, \"type\": \"scatter3d\"}], \"scattercarpet\": [{\"marker\": {\"colorbar\": {\"outlinewidth\": 0, \"ticks\": \"\"}}, \"type\": \"scattercarpet\"}], \"scattergeo\": [{\"marker\": {\"colorbar\": {\"outlinewidth\": 0, \"ticks\": \"\"}}, \"type\": \"scattergeo\"}], \"scattergl\": [{\"marker\": {\"colorbar\": {\"outlinewidth\": 0, \"ticks\": \"\"}}, \"type\": \"scattergl\"}], \"scattermapbox\": [{\"marker\": {\"colorbar\": {\"outlinewidth\": 0, \"ticks\": \"\"}}, \"type\": \"scattermapbox\"}], \"scatterpolar\": [{\"marker\": {\"colorbar\": {\"outlinewidth\": 0, \"ticks\": \"\"}}, \"type\": \"scatterpolar\"}], \"scatterpolargl\": [{\"marker\": {\"colorbar\": {\"outlinewidth\": 0, \"ticks\": \"\"}}, \"type\": \"scatterpolargl\"}], \"scatterternary\": [{\"marker\": {\"colorbar\": {\"outlinewidth\": 0, \"ticks\": \"\"}}, \"type\": \"scatterternary\"}], \"surface\": [{\"colorbar\": {\"outlinewidth\": 0, \"ticks\": \"\"}, \"colorscale\": [[0.0, \"#0d0887\"], [0.1111111111111111, \"#46039f\"], [0.2222222222222222, \"#7201a8\"], [0.3333333333333333, \"#9c179e\"], [0.4444444444444444, \"#bd3786\"], [0.5555555555555556, \"#d8576b\"], [0.6666666666666666, \"#ed7953\"], [0.7777777777777778, \"#fb9f3a\"], [0.8888888888888888, \"#fdca26\"], [1.0, \"#f0f921\"]], \"type\": \"surface\"}], \"table\": [{\"cells\": {\"fill\": {\"color\": \"#EBF0F8\"}, \"line\": {\"color\": \"white\"}}, \"header\": {\"fill\": {\"color\": \"#C8D4E3\"}, \"line\": {\"color\": \"white\"}}, \"type\": \"table\"}]}, \"layout\": {\"annotationdefaults\": {\"arrowcolor\": \"#2a3f5f\", \"arrowhead\": 0, \"arrowwidth\": 1}, \"autotypenumbers\": \"strict\", \"coloraxis\": {\"colorbar\": {\"outlinewidth\": 0, \"ticks\": \"\"}}, \"colorscale\": {\"diverging\": [[0, \"#8e0152\"], [0.1, \"#c51b7d\"], [0.2, \"#de77ae\"], [0.3, \"#f1b6da\"], [0.4, \"#fde0ef\"], [0.5, \"#f7f7f7\"], [0.6, \"#e6f5d0\"], [0.7, \"#b8e186\"], [0.8, \"#7fbc41\"], [0.9, \"#4d9221\"], [1, \"#276419\"]], \"sequential\": [[0.0, \"#0d0887\"], [0.1111111111111111, \"#46039f\"], [0.2222222222222222, \"#7201a8\"], [0.3333333333333333, \"#9c179e\"], [0.4444444444444444, \"#bd3786\"], [0.5555555555555556, \"#d8576b\"], [0.6666666666666666, \"#ed7953\"], [0.7777777777777778, \"#fb9f3a\"], [0.8888888888888888, \"#fdca26\"], [1.0, \"#f0f921\"]], \"sequentialminus\": [[0.0, \"#0d0887\"], [0.1111111111111111, \"#46039f\"], [0.2222222222222222, \"#7201a8\"], [0.3333333333333333, \"#9c179e\"], [0.4444444444444444, \"#bd3786\"], [0.5555555555555556, \"#d8576b\"], [0.6666666666666666, \"#ed7953\"], [0.7777777777777778, \"#fb9f3a\"], [0.8888888888888888, \"#fdca26\"], [1.0, \"#f0f921\"]]}, \"colorway\": [\"#636efa\", \"#EF553B\", \"#00cc96\", \"#ab63fa\", \"#FFA15A\", \"#19d3f3\", \"#FF6692\", \"#B6E880\", \"#FF97FF\", \"#FECB52\"], \"font\": {\"color\": \"#2a3f5f\"}, \"geo\": {\"bgcolor\": \"white\", \"lakecolor\": \"white\", \"landcolor\": \"#E5ECF6\", \"showlakes\": true, \"showland\": true, \"subunitcolor\": \"white\"}, \"hoverlabel\": {\"align\": \"left\"}, \"hovermode\": \"closest\", \"mapbox\": {\"style\": \"light\"}, \"paper_bgcolor\": \"white\", \"plot_bgcolor\": \"#E5ECF6\", \"polar\": {\"angularaxis\": {\"gridcolor\": \"white\", \"linecolor\": \"white\", \"ticks\": \"\"}, \"bgcolor\": \"#E5ECF6\", \"radialaxis\": {\"gridcolor\": \"white\", \"linecolor\": \"white\", \"ticks\": \"\"}}, \"scene\": {\"xaxis\": {\"backgroundcolor\": \"#E5ECF6\", \"gridcolor\": \"white\", \"gridwidth\": 2, \"linecolor\": \"white\", \"showbackground\": true, \"ticks\": \"\", \"zerolinecolor\": \"white\"}, \"yaxis\": {\"backgroundcolor\": \"#E5ECF6\", \"gridcolor\": \"white\", \"gridwidth\": 2, \"linecolor\": \"white\", \"showbackground\": true, \"ticks\": \"\", \"zerolinecolor\": \"white\"}, \"zaxis\": {\"backgroundcolor\": \"#E5ECF6\", \"gridcolor\": \"white\", \"gridwidth\": 2, \"linecolor\": \"white\", \"showbackground\": true, \"ticks\": \"\", \"zerolinecolor\": \"white\"}}, \"shapedefaults\": {\"line\": {\"color\": \"#2a3f5f\"}}, \"ternary\": {\"aaxis\": {\"gridcolor\": \"white\", \"linecolor\": \"white\", \"ticks\": \"\"}, \"baxis\": {\"gridcolor\": \"white\", \"linecolor\": \"white\", \"ticks\": \"\"}, \"bgcolor\": \"#E5ECF6\", \"caxis\": {\"gridcolor\": \"white\", \"linecolor\": \"white\", \"ticks\": \"\"}}, \"title\": {\"x\": 0.05}, \"xaxis\": {\"automargin\": true, \"gridcolor\": \"white\", \"linecolor\": \"white\", \"ticks\": \"\", \"title\": {\"standoff\": 15}, \"zerolinecolor\": \"white\", \"zerolinewidth\": 2}, \"yaxis\": {\"automargin\": true, \"gridcolor\": \"white\", \"linecolor\": \"white\", \"ticks\": \"\", \"title\": {\"standoff\": 15}, \"zerolinecolor\": \"white\", \"zerolinewidth\": 2}}}, \"title\": {\"font\": {\"color\": \"#4D5663\"}}, \"xaxis\": {\"anchor\": \"y\", \"domain\": [0.0, 0.45], \"gridcolor\": \"#E1E5ED\", \"showgrid\": true, \"tickfont\": {\"color\": \"#4D5663\"}, \"title\": {\"font\": {\"color\": \"#4D5663\"}, \"text\": \"\"}, \"zerolinecolor\": \"#E1E5ED\"}, \"xaxis2\": {\"anchor\": \"y2\", \"domain\": [0.55, 1.0], \"gridcolor\": \"#E1E5ED\", \"showgrid\": true, \"tickfont\": {\"color\": \"#4D5663\"}, \"title\": {\"font\": {\"color\": \"#4D5663\"}, \"text\": \"\"}, \"zerolinecolor\": \"#E1E5ED\"}, \"xaxis3\": {\"anchor\": \"y3\", \"domain\": [0.0, 0.45], \"gridcolor\": \"#E1E5ED\", \"showgrid\": true, \"tickfont\": {\"color\": \"#4D5663\"}, \"title\": {\"font\": {\"color\": \"#4D5663\"}, \"text\": \"\"}, \"zerolinecolor\": \"#E1E5ED\"}, \"xaxis4\": {\"anchor\": \"y4\", \"domain\": [0.55, 1.0], \"gridcolor\": \"#E1E5ED\", \"showgrid\": true, \"tickfont\": {\"color\": \"#4D5663\"}, \"title\": {\"font\": {\"color\": \"#4D5663\"}, \"text\": \"\"}, \"zerolinecolor\": \"#E1E5ED\"}, \"yaxis\": {\"anchor\": \"x\", \"domain\": [0.625, 1.0], \"gridcolor\": \"#E1E5ED\", \"showgrid\": true, \"tickfont\": {\"color\": \"#4D5663\"}, \"title\": {\"font\": {\"color\": \"#4D5663\"}, \"text\": \"\"}, \"zerolinecolor\": \"#E1E5ED\"}, \"yaxis2\": {\"anchor\": \"x2\", \"domain\": [0.625, 1.0], \"gridcolor\": \"#E1E5ED\", \"showgrid\": true, \"tickfont\": {\"color\": \"#4D5663\"}, \"title\": {\"font\": {\"color\": \"#4D5663\"}, \"text\": \"\"}, \"zerolinecolor\": \"#E1E5ED\"}, \"yaxis3\": {\"anchor\": \"x3\", \"domain\": [0.0, 0.375], \"gridcolor\": \"#E1E5ED\", \"showgrid\": true, \"tickfont\": {\"color\": \"#4D5663\"}, \"title\": {\"font\": {\"color\": \"#4D5663\"}, \"text\": \"\"}, \"zerolinecolor\": \"#E1E5ED\"}, \"yaxis4\": {\"anchor\": \"x4\", \"domain\": [0.0, 0.375], \"gridcolor\": \"#E1E5ED\", \"showgrid\": true, \"tickfont\": {\"color\": \"#4D5663\"}, \"title\": {\"font\": {\"color\": \"#4D5663\"}, \"text\": \"\"}, \"zerolinecolor\": \"#E1E5ED\"}},                        {\"showLink\": true, \"linkText\": \"Export to plot.ly\", \"plotlyServerURL\": \"https://plot.ly\", \"responsive\": true}                    ).then(function(){\n",
       "                            \n",
       "var gd = document.getElementById('24444606-aded-4ee5-8d44-99e5fe625cd3');\n",
       "var x = new MutationObserver(function (mutations, observer) {{\n",
       "        var display = window.getComputedStyle(gd).display;\n",
       "        if (!display || display === 'none') {{\n",
       "            console.log([gd, 'removed!']);\n",
       "            Plotly.purge(gd);\n",
       "            observer.disconnect();\n",
       "        }}\n",
       "}});\n",
       "\n",
       "// Listen for the removal of the full notebook cells\n",
       "var notebookContainer = gd.closest('#notebook-container');\n",
       "if (notebookContainer) {{\n",
       "    x.observe(notebookContainer, {childList: true});\n",
       "}}\n",
       "\n",
       "// Listen for the clearing of the current output cell\n",
       "var outputEl = gd.closest('.output');\n",
       "if (outputEl) {{\n",
       "    x.observe(outputEl, {childList: true});\n",
       "}}\n",
       "\n",
       "                        })                };                });            </script>        </div>"
      ]
     },
     "metadata": {},
     "output_type": "display_data"
    }
   ],
   "source": [
    "df[['Pick Up Order Time','Arrival Time', 'Waiting Time', \n",
    "    'Deliver Time']].iplot(kind='histogram',subplots=True,bins=100,subplot_titles=True)"
   ]
  },
  {
   "cell_type": "code",
   "execution_count": 8,
   "metadata": {
    "scrolled": true
   },
   "outputs": [
    {
     "data": {
      "text/html": [
       "<style  type=\"text/css\" >\n",
       "#T_32675622_5452_11eb_ba60_1c36bb2decd8row0_col0,#T_32675622_5452_11eb_ba60_1c36bb2decd8row0_col1,#T_32675622_5452_11eb_ba60_1c36bb2decd8row0_col3,#T_32675622_5452_11eb_ba60_1c36bb2decd8row0_col5,#T_32675622_5452_11eb_ba60_1c36bb2decd8row0_col6,#T_32675622_5452_11eb_ba60_1c36bb2decd8row0_col8,#T_32675622_5452_11eb_ba60_1c36bb2decd8row0_col9,#T_32675622_5452_11eb_ba60_1c36bb2decd8row0_col10,#T_32675622_5452_11eb_ba60_1c36bb2decd8row0_col11,#T_32675622_5452_11eb_ba60_1c36bb2decd8row1_col0,#T_32675622_5452_11eb_ba60_1c36bb2decd8row1_col3,#T_32675622_5452_11eb_ba60_1c36bb2decd8row1_col8,#T_32675622_5452_11eb_ba60_1c36bb2decd8row2_col0,#T_32675622_5452_11eb_ba60_1c36bb2decd8row2_col2,#T_32675622_5452_11eb_ba60_1c36bb2decd8row2_col3,#T_32675622_5452_11eb_ba60_1c36bb2decd8row2_col4,#T_32675622_5452_11eb_ba60_1c36bb2decd8row2_col7,#T_32675622_5452_11eb_ba60_1c36bb2decd8row2_col8,#T_32675622_5452_11eb_ba60_1c36bb2decd8row2_col12,#T_32675622_5452_11eb_ba60_1c36bb2decd8row3_col0,#T_32675622_5452_11eb_ba60_1c36bb2decd8row3_col3,#T_32675622_5452_11eb_ba60_1c36bb2decd8row3_col8{\n",
       "            background-color:  #f7fcf5;\n",
       "            color:  #000000;\n",
       "        }#T_32675622_5452_11eb_ba60_1c36bb2decd8row0_col2{\n",
       "            background-color:  #03702e;\n",
       "            color:  #f1f1f1;\n",
       "        }#T_32675622_5452_11eb_ba60_1c36bb2decd8row0_col4{\n",
       "            background-color:  #f5fbf2;\n",
       "            color:  #000000;\n",
       "        }#T_32675622_5452_11eb_ba60_1c36bb2decd8row0_col7,#T_32675622_5452_11eb_ba60_1c36bb2decd8row3_col1,#T_32675622_5452_11eb_ba60_1c36bb2decd8row3_col2,#T_32675622_5452_11eb_ba60_1c36bb2decd8row3_col4,#T_32675622_5452_11eb_ba60_1c36bb2decd8row3_col5,#T_32675622_5452_11eb_ba60_1c36bb2decd8row3_col6,#T_32675622_5452_11eb_ba60_1c36bb2decd8row3_col9,#T_32675622_5452_11eb_ba60_1c36bb2decd8row3_col10,#T_32675622_5452_11eb_ba60_1c36bb2decd8row3_col11,#T_32675622_5452_11eb_ba60_1c36bb2decd8row3_col12{\n",
       "            background-color:  #00441b;\n",
       "            color:  #f1f1f1;\n",
       "        }#T_32675622_5452_11eb_ba60_1c36bb2decd8row0_col12,#T_32675622_5452_11eb_ba60_1c36bb2decd8row1_col7{\n",
       "            background-color:  #f2faf0;\n",
       "            color:  #000000;\n",
       "        }#T_32675622_5452_11eb_ba60_1c36bb2decd8row1_col1{\n",
       "            background-color:  #ceecc8;\n",
       "            color:  #000000;\n",
       "        }#T_32675622_5452_11eb_ba60_1c36bb2decd8row1_col2,#T_32675622_5452_11eb_ba60_1c36bb2decd8row1_col5{\n",
       "            background-color:  #c7e9c0;\n",
       "            color:  #000000;\n",
       "        }#T_32675622_5452_11eb_ba60_1c36bb2decd8row1_col4{\n",
       "            background-color:  #d8f0d2;\n",
       "            color:  #000000;\n",
       "        }#T_32675622_5452_11eb_ba60_1c36bb2decd8row1_col6{\n",
       "            background-color:  #bae3b3;\n",
       "            color:  #000000;\n",
       "        }#T_32675622_5452_11eb_ba60_1c36bb2decd8row1_col9{\n",
       "            background-color:  #339c52;\n",
       "            color:  #000000;\n",
       "        }#T_32675622_5452_11eb_ba60_1c36bb2decd8row1_col10{\n",
       "            background-color:  #c0e6b9;\n",
       "            color:  #000000;\n",
       "        }#T_32675622_5452_11eb_ba60_1c36bb2decd8row1_col11{\n",
       "            background-color:  #bee5b8;\n",
       "            color:  #000000;\n",
       "        }#T_32675622_5452_11eb_ba60_1c36bb2decd8row1_col12{\n",
       "            background-color:  #d1edcb;\n",
       "            color:  #000000;\n",
       "        }#T_32675622_5452_11eb_ba60_1c36bb2decd8row2_col1{\n",
       "            background-color:  #f6fcf4;\n",
       "            color:  #000000;\n",
       "        }#T_32675622_5452_11eb_ba60_1c36bb2decd8row2_col5{\n",
       "            background-color:  #f4fbf2;\n",
       "            color:  #000000;\n",
       "        }#T_32675622_5452_11eb_ba60_1c36bb2decd8row2_col6{\n",
       "            background-color:  #ebf7e7;\n",
       "            color:  #000000;\n",
       "        }#T_32675622_5452_11eb_ba60_1c36bb2decd8row2_col9{\n",
       "            background-color:  #d3eecd;\n",
       "            color:  #000000;\n",
       "        }#T_32675622_5452_11eb_ba60_1c36bb2decd8row2_col10,#T_32675622_5452_11eb_ba60_1c36bb2decd8row2_col11{\n",
       "            background-color:  #e8f6e4;\n",
       "            color:  #000000;\n",
       "        }#T_32675622_5452_11eb_ba60_1c36bb2decd8row3_col7{\n",
       "            background-color:  #e0f3db;\n",
       "            color:  #000000;\n",
       "        }</style><table id=\"T_32675622_5452_11eb_ba60_1c36bb2decd8\" ><thead>    <tr>        <th class=\"blank level0\" ></th>        <th class=\"col_heading level0 col0\" >count</th>        <th class=\"col_heading level0 col1\" >mean</th>        <th class=\"col_heading level0 col2\" >std</th>        <th class=\"col_heading level0 col3\" >min</th>        <th class=\"col_heading level0 col4\" >25%</th>        <th class=\"col_heading level0 col5\" >50%</th>        <th class=\"col_heading level0 col6\" >75%</th>        <th class=\"col_heading level0 col7\" >max</th>        <th class=\"col_heading level0 col8\" >missing_pct</th>        <th class=\"col_heading level0 col9\" >nunique</th>        <th class=\"col_heading level0 col10\" >pct_90</th>        <th class=\"col_heading level0 col11\" >pct_95</th>        <th class=\"col_heading level0 col12\" >pct_975</th>    </tr></thead><tbody>\n",
       "                <tr>\n",
       "                        <th id=\"T_32675622_5452_11eb_ba60_1c36bb2decd8level0_row0\" class=\"row_heading level0 row0\" >Pick Up Order Time</th>\n",
       "                        <td id=\"T_32675622_5452_11eb_ba60_1c36bb2decd8row0_col0\" class=\"data row0 col0\" >542.000000</td>\n",
       "                        <td id=\"T_32675622_5452_11eb_ba60_1c36bb2decd8row0_col1\" class=\"data row0 col1\" >4.141402</td>\n",
       "                        <td id=\"T_32675622_5452_11eb_ba60_1c36bb2decd8row0_col2\" class=\"data row0 col2\" >14.603411</td>\n",
       "                        <td id=\"T_32675622_5452_11eb_ba60_1c36bb2decd8row0_col3\" class=\"data row0 col3\" >0.000000</td>\n",
       "                        <td id=\"T_32675622_5452_11eb_ba60_1c36bb2decd8row0_col4\" class=\"data row0 col4\" >0.580000</td>\n",
       "                        <td id=\"T_32675622_5452_11eb_ba60_1c36bb2decd8row0_col5\" class=\"data row0 col5\" >1.170000</td>\n",
       "                        <td id=\"T_32675622_5452_11eb_ba60_1c36bb2decd8row0_col6\" class=\"data row0 col6\" >3.187500</td>\n",
       "                        <td id=\"T_32675622_5452_11eb_ba60_1c36bb2decd8row0_col7\" class=\"data row0 col7\" >259.420000</td>\n",
       "                        <td id=\"T_32675622_5452_11eb_ba60_1c36bb2decd8row0_col8\" class=\"data row0 col8\" >0.000000</td>\n",
       "                        <td id=\"T_32675622_5452_11eb_ba60_1c36bb2decd8row0_col9\" class=\"data row0 col9\" >259</td>\n",
       "                        <td id=\"T_32675622_5452_11eb_ba60_1c36bb2decd8row0_col10\" class=\"data row0 col10\" >7.748000</td>\n",
       "                        <td id=\"T_32675622_5452_11eb_ba60_1c36bb2decd8row0_col11\" class=\"data row0 col11\" >12.048500</td>\n",
       "                        <td id=\"T_32675622_5452_11eb_ba60_1c36bb2decd8row0_col12\" class=\"data row0 col12\" >23.913250</td>\n",
       "            </tr>\n",
       "            <tr>\n",
       "                        <th id=\"T_32675622_5452_11eb_ba60_1c36bb2decd8level0_row1\" class=\"row_heading level0 row1\" >Arrival Time</th>\n",
       "                        <td id=\"T_32675622_5452_11eb_ba60_1c36bb2decd8row1_col0\" class=\"data row1 col0\" >542.000000</td>\n",
       "                        <td id=\"T_32675622_5452_11eb_ba60_1c36bb2decd8row1_col1\" class=\"data row1 col1\" >8.975203</td>\n",
       "                        <td id=\"T_32675622_5452_11eb_ba60_1c36bb2decd8row1_col2\" class=\"data row1 col2\" >8.654908</td>\n",
       "                        <td id=\"T_32675622_5452_11eb_ba60_1c36bb2decd8row1_col3\" class=\"data row1 col3\" >0.000000</td>\n",
       "                        <td id=\"T_32675622_5452_11eb_ba60_1c36bb2decd8row1_col4\" class=\"data row1 col4\" >2.782500</td>\n",
       "                        <td id=\"T_32675622_5452_11eb_ba60_1c36bb2decd8row1_col5\" class=\"data row1 col5\" >6.735000</td>\n",
       "                        <td id=\"T_32675622_5452_11eb_ba60_1c36bb2decd8row1_col6\" class=\"data row1 col6\" >12.895000</td>\n",
       "                        <td id=\"T_32675622_5452_11eb_ba60_1c36bb2decd8row1_col7\" class=\"data row1 col7\" >63.200000</td>\n",
       "                        <td id=\"T_32675622_5452_11eb_ba60_1c36bb2decd8row1_col8\" class=\"data row1 col8\" >0.000000</td>\n",
       "                        <td id=\"T_32675622_5452_11eb_ba60_1c36bb2decd8row1_col9\" class=\"data row1 col9\" >426</td>\n",
       "                        <td id=\"T_32675622_5452_11eb_ba60_1c36bb2decd8row1_col10\" class=\"data row1 col10\" >19.206000</td>\n",
       "                        <td id=\"T_32675622_5452_11eb_ba60_1c36bb2decd8row1_col11\" class=\"data row1 col11\" >24.957500</td>\n",
       "                        <td id=\"T_32675622_5452_11eb_ba60_1c36bb2decd8row1_col12\" class=\"data row1 col12\" >30.742500</td>\n",
       "            </tr>\n",
       "            <tr>\n",
       "                        <th id=\"T_32675622_5452_11eb_ba60_1c36bb2decd8level0_row2\" class=\"row_heading level0 row2\" >Waiting Time</th>\n",
       "                        <td id=\"T_32675622_5452_11eb_ba60_1c36bb2decd8row2_col0\" class=\"data row2 col0\" >542.000000</td>\n",
       "                        <td id=\"T_32675622_5452_11eb_ba60_1c36bb2decd8row2_col1\" class=\"data row2 col1\" >4.301771</td>\n",
       "                        <td id=\"T_32675622_5452_11eb_ba60_1c36bb2decd8row2_col2\" class=\"data row2 col2\" >6.182401</td>\n",
       "                        <td id=\"T_32675622_5452_11eb_ba60_1c36bb2decd8row2_col3\" class=\"data row2 col3\" >0.000000</td>\n",
       "                        <td id=\"T_32675622_5452_11eb_ba60_1c36bb2decd8row2_col4\" class=\"data row2 col4\" >0.320000</td>\n",
       "                        <td id=\"T_32675622_5452_11eb_ba60_1c36bb2decd8row2_col5\" class=\"data row2 col5\" >1.650000</td>\n",
       "                        <td id=\"T_32675622_5452_11eb_ba60_1c36bb2decd8row2_col6\" class=\"data row2 col6\" >5.882500</td>\n",
       "                        <td id=\"T_32675622_5452_11eb_ba60_1c36bb2decd8row2_col7\" class=\"data row2 col7\" >56.180000</td>\n",
       "                        <td id=\"T_32675622_5452_11eb_ba60_1c36bb2decd8row2_col8\" class=\"data row2 col8\" >0.000000</td>\n",
       "                        <td id=\"T_32675622_5452_11eb_ba60_1c36bb2decd8row2_col9\" class=\"data row2 col9\" >308</td>\n",
       "                        <td id=\"T_32675622_5452_11eb_ba60_1c36bb2decd8row2_col10\" class=\"data row2 col10\" >12.118000</td>\n",
       "                        <td id=\"T_32675622_5452_11eb_ba60_1c36bb2decd8row2_col11\" class=\"data row2 col11\" >16.925000</td>\n",
       "                        <td id=\"T_32675622_5452_11eb_ba60_1c36bb2decd8row2_col12\" class=\"data row2 col12\" >22.560000</td>\n",
       "            </tr>\n",
       "            <tr>\n",
       "                        <th id=\"T_32675622_5452_11eb_ba60_1c36bb2decd8level0_row3\" class=\"row_heading level0 row3\" >Deliver Time</th>\n",
       "                        <td id=\"T_32675622_5452_11eb_ba60_1c36bb2decd8row3_col0\" class=\"data row3 col0\" >542.000000</td>\n",
       "                        <td id=\"T_32675622_5452_11eb_ba60_1c36bb2decd8row3_col1\" class=\"data row3 col1\" >26.076310</td>\n",
       "                        <td id=\"T_32675622_5452_11eb_ba60_1c36bb2decd8row3_col2\" class=\"data row3 col2\" >15.947675</td>\n",
       "                        <td id=\"T_32675622_5452_11eb_ba60_1c36bb2decd8row3_col3\" class=\"data row3 col3\" >0.000000</td>\n",
       "                        <td id=\"T_32675622_5452_11eb_ba60_1c36bb2decd8row3_col4\" class=\"data row3 col4\" >13.940000</td>\n",
       "                        <td id=\"T_32675622_5452_11eb_ba60_1c36bb2decd8row3_col5\" class=\"data row3 col5\" >23.290000</td>\n",
       "                        <td id=\"T_32675622_5452_11eb_ba60_1c36bb2decd8row3_col6\" class=\"data row3 col6\" >35.902500</td>\n",
       "                        <td id=\"T_32675622_5452_11eb_ba60_1c36bb2decd8row3_col7\" class=\"data row3 col7\" >86.170000</td>\n",
       "                        <td id=\"T_32675622_5452_11eb_ba60_1c36bb2decd8row3_col8\" class=\"data row3 col8\" >0.000000</td>\n",
       "                        <td id=\"T_32675622_5452_11eb_ba60_1c36bb2decd8row3_col9\" class=\"data row3 col9\" >504</td>\n",
       "                        <td id=\"T_32675622_5452_11eb_ba60_1c36bb2decd8row3_col10\" class=\"data row3 col10\" >49.275000</td>\n",
       "                        <td id=\"T_32675622_5452_11eb_ba60_1c36bb2decd8row3_col11\" class=\"data row3 col11\" >58.409500</td>\n",
       "                        <td id=\"T_32675622_5452_11eb_ba60_1c36bb2decd8row3_col12\" class=\"data row3 col12\" >61.648750</td>\n",
       "            </tr>\n",
       "    </tbody></table>"
      ],
      "text/plain": [
       "<pandas.io.formats.style.Styler at 0x13af08358>"
      ]
     },
     "execution_count": 8,
     "metadata": {},
     "output_type": "execute_result"
    }
   ],
   "source": [
    "num_summary=(df.select_dtypes(include=['float64']).describe().T)\\\n",
    "    .assign(missing_pct=df.apply(lambda x: (len(x)-x.count())/len(x)),\n",
    "           nunique = df.apply(lambda x: x.nunique()),\n",
    "           pct_90=df.select_dtypes(include=['float64']).apply(lambda x: x.dropna().quantile(.90)),\n",
    "           pct_95=df.select_dtypes(include=['float64']).apply(lambda x: x.dropna().quantile(.95)),\n",
    "           pct_975=df.select_dtypes(include=['float64']).apply(lambda x: x.dropna().quantile(.975)))\n",
    "num_summary\n",
    "num_summary.style.background_gradient(cmap='Greens')"
   ]
  },
  {
   "cell_type": "markdown",
   "metadata": {},
   "source": [
    "## Data preprocessing\n",
    "### Data cleaning"
   ]
  },
  {
   "cell_type": "code",
   "execution_count": 9,
   "metadata": {
    "scrolled": true
   },
   "outputs": [
    {
     "data": {
      "text/html": [
       "<div>\n",
       "<style scoped>\n",
       "    .dataframe tbody tr th:only-of-type {\n",
       "        vertical-align: middle;\n",
       "    }\n",
       "\n",
       "    .dataframe tbody tr th {\n",
       "        vertical-align: top;\n",
       "    }\n",
       "\n",
       "    .dataframe thead th {\n",
       "        text-align: right;\n",
       "    }\n",
       "</style>\n",
       "<table border=\"1\" class=\"dataframe\">\n",
       "  <thead>\n",
       "    <tr style=\"text-align: right;\">\n",
       "      <th></th>\n",
       "      <th>No</th>\n",
       "      <th>Sites</th>\n",
       "      <th>Deliver Name</th>\n",
       "      <th>Rating</th>\n",
       "      <th>Feedback Tag</th>\n",
       "      <th>Pick Up Order Time</th>\n",
       "      <th>Arrival Time</th>\n",
       "      <th>Waiting Time</th>\n",
       "      <th>Deliver Time</th>\n",
       "    </tr>\n",
       "  </thead>\n",
       "  <tbody>\n",
       "    <tr>\n",
       "      <th>0</th>\n",
       "      <td>1</td>\n",
       "      <td>Site E</td>\n",
       "      <td>林*鹏</td>\n",
       "      <td>1</td>\n",
       "      <td>Delivery timeout</td>\n",
       "      <td>2.75</td>\n",
       "      <td>19.88</td>\n",
       "      <td>0.80</td>\n",
       "      <td>68.67</td>\n",
       "    </tr>\n",
       "    <tr>\n",
       "      <th>1</th>\n",
       "      <td>2</td>\n",
       "      <td>Site E</td>\n",
       "      <td>张*安</td>\n",
       "      <td>1</td>\n",
       "      <td>Others</td>\n",
       "      <td>0.07</td>\n",
       "      <td>6.87</td>\n",
       "      <td>1.93</td>\n",
       "      <td>6.30</td>\n",
       "    </tr>\n",
       "    <tr>\n",
       "      <th>2</th>\n",
       "      <td>3</td>\n",
       "      <td>Site E</td>\n",
       "      <td>林*健</td>\n",
       "      <td>1</td>\n",
       "      <td>Delivery timeout|Bad attitude</td>\n",
       "      <td>1.45</td>\n",
       "      <td>11.35</td>\n",
       "      <td>0.05</td>\n",
       "      <td>51.88</td>\n",
       "    </tr>\n",
       "    <tr>\n",
       "      <th>3</th>\n",
       "      <td>4</td>\n",
       "      <td>Site E</td>\n",
       "      <td>曾*平</td>\n",
       "      <td>1</td>\n",
       "      <td>Delivery timeout</td>\n",
       "      <td>68.32</td>\n",
       "      <td>6.33</td>\n",
       "      <td>0.17</td>\n",
       "      <td>18.93</td>\n",
       "    </tr>\n",
       "    <tr>\n",
       "      <th>4</th>\n",
       "      <td>5</td>\n",
       "      <td>Site E</td>\n",
       "      <td>黄*灶</td>\n",
       "      <td>1</td>\n",
       "      <td>Delivery timeout</td>\n",
       "      <td>15.80</td>\n",
       "      <td>12.90</td>\n",
       "      <td>7.23</td>\n",
       "      <td>10.18</td>\n",
       "    </tr>\n",
       "  </tbody>\n",
       "</table>\n",
       "</div>"
      ],
      "text/plain": [
       "   No   Sites Deliver Name  Rating                   Feedback Tag  \\\n",
       "0   1  Site E          林*鹏       1               Delivery timeout   \n",
       "1   2  Site E          张*安       1                         Others   \n",
       "2   3  Site E          林*健       1  Delivery timeout|Bad attitude   \n",
       "3   4  Site E          曾*平       1               Delivery timeout   \n",
       "4   5  Site E          黄*灶       1               Delivery timeout   \n",
       "\n",
       "   Pick Up Order Time  Arrival Time  Waiting Time  Deliver Time  \n",
       "0                2.75         19.88          0.80         68.67  \n",
       "1                0.07          6.87          1.93          6.30  \n",
       "2                1.45         11.35          0.05         51.88  \n",
       "3               68.32          6.33          0.17         18.93  \n",
       "4               15.80         12.90          7.23         10.18  "
      ]
     },
     "execution_count": 9,
     "metadata": {},
     "output_type": "execute_result"
    }
   ],
   "source": [
    "data=df.copy()\n",
    "data.head()"
   ]
  },
  {
   "cell_type": "markdown",
   "metadata": {},
   "source": [
    "#### "
   ]
  },
  {
   "cell_type": "code",
   "execution_count": 10,
   "metadata": {
    "scrolled": true
   },
   "outputs": [
    {
     "data": {
      "text/html": [
       "<div>\n",
       "<style scoped>\n",
       "    .dataframe tbody tr th:only-of-type {\n",
       "        vertical-align: middle;\n",
       "    }\n",
       "\n",
       "    .dataframe tbody tr th {\n",
       "        vertical-align: top;\n",
       "    }\n",
       "\n",
       "    .dataframe thead th {\n",
       "        text-align: right;\n",
       "    }\n",
       "</style>\n",
       "<table border=\"1\" class=\"dataframe\">\n",
       "  <thead>\n",
       "    <tr style=\"text-align: right;\">\n",
       "      <th></th>\n",
       "      <th>count</th>\n",
       "      <th>mean</th>\n",
       "      <th>std</th>\n",
       "      <th>min</th>\n",
       "      <th>25%</th>\n",
       "      <th>50%</th>\n",
       "      <th>75%</th>\n",
       "      <th>max</th>\n",
       "      <th>missing_pct</th>\n",
       "      <th>nunique</th>\n",
       "      <th>pct_90</th>\n",
       "      <th>pct_95</th>\n",
       "      <th>pct_975</th>\n",
       "    </tr>\n",
       "  </thead>\n",
       "  <tbody>\n",
       "    <tr>\n",
       "      <th>Pick Up Order Time</th>\n",
       "      <td>542.0</td>\n",
       "      <td>4.141402</td>\n",
       "      <td>14.603411</td>\n",
       "      <td>0.0</td>\n",
       "      <td>0.5800</td>\n",
       "      <td>1.170</td>\n",
       "      <td>3.1875</td>\n",
       "      <td>259.42</td>\n",
       "      <td>0.0</td>\n",
       "      <td>259</td>\n",
       "      <td>7.748</td>\n",
       "      <td>12.0485</td>\n",
       "      <td>23.91325</td>\n",
       "    </tr>\n",
       "    <tr>\n",
       "      <th>Arrival Time</th>\n",
       "      <td>542.0</td>\n",
       "      <td>8.975203</td>\n",
       "      <td>8.654908</td>\n",
       "      <td>0.0</td>\n",
       "      <td>2.7825</td>\n",
       "      <td>6.735</td>\n",
       "      <td>12.8950</td>\n",
       "      <td>63.20</td>\n",
       "      <td>0.0</td>\n",
       "      <td>426</td>\n",
       "      <td>19.206</td>\n",
       "      <td>24.9575</td>\n",
       "      <td>30.74250</td>\n",
       "    </tr>\n",
       "    <tr>\n",
       "      <th>Waiting Time</th>\n",
       "      <td>542.0</td>\n",
       "      <td>4.301771</td>\n",
       "      <td>6.182401</td>\n",
       "      <td>0.0</td>\n",
       "      <td>0.3200</td>\n",
       "      <td>1.650</td>\n",
       "      <td>5.8825</td>\n",
       "      <td>56.18</td>\n",
       "      <td>0.0</td>\n",
       "      <td>308</td>\n",
       "      <td>12.118</td>\n",
       "      <td>16.9250</td>\n",
       "      <td>22.56000</td>\n",
       "    </tr>\n",
       "    <tr>\n",
       "      <th>Deliver Time</th>\n",
       "      <td>542.0</td>\n",
       "      <td>26.076310</td>\n",
       "      <td>15.947675</td>\n",
       "      <td>0.0</td>\n",
       "      <td>13.9400</td>\n",
       "      <td>23.290</td>\n",
       "      <td>35.9025</td>\n",
       "      <td>86.17</td>\n",
       "      <td>0.0</td>\n",
       "      <td>504</td>\n",
       "      <td>49.275</td>\n",
       "      <td>58.4095</td>\n",
       "      <td>61.64875</td>\n",
       "    </tr>\n",
       "  </tbody>\n",
       "</table>\n",
       "</div>"
      ],
      "text/plain": [
       "                    count       mean        std  min      25%     50%  \\\n",
       "Pick Up Order Time  542.0   4.141402  14.603411  0.0   0.5800   1.170   \n",
       "Arrival Time        542.0   8.975203   8.654908  0.0   2.7825   6.735   \n",
       "Waiting Time        542.0   4.301771   6.182401  0.0   0.3200   1.650   \n",
       "Deliver Time        542.0  26.076310  15.947675  0.0  13.9400  23.290   \n",
       "\n",
       "                        75%     max  missing_pct  nunique  pct_90   pct_95  \\\n",
       "Pick Up Order Time   3.1875  259.42          0.0      259   7.748  12.0485   \n",
       "Arrival Time        12.8950   63.20          0.0      426  19.206  24.9575   \n",
       "Waiting Time         5.8825   56.18          0.0      308  12.118  16.9250   \n",
       "Deliver Time        35.9025   86.17          0.0      504  49.275  58.4095   \n",
       "\n",
       "                     pct_975  \n",
       "Pick Up Order Time  23.91325  \n",
       "Arrival Time        30.74250  \n",
       "Waiting Time        22.56000  \n",
       "Deliver Time        61.64875  "
      ]
     },
     "execution_count": 10,
     "metadata": {},
     "output_type": "execute_result"
    }
   ],
   "source": [
    "num_summary"
   ]
  },
  {
   "cell_type": "code",
   "execution_count": 11,
   "metadata": {},
   "outputs": [
    {
     "data": {
      "text/plain": [
       "23.91325000000002"
      ]
     },
     "execution_count": 11,
     "metadata": {},
     "output_type": "execute_result"
    }
   ],
   "source": [
    "# 选取元素 \n",
    "num_summary.loc[\"Pick Up Order Time\",\"pct_975\"]"
   ]
  },
  {
   "cell_type": "markdown",
   "metadata": {},
   "source": [
    "#### Outlier handling\n",
    "-Duration variable <pct_975"
   ]
  },
  {
   "cell_type": "code",
   "execution_count": 12,
   "metadata": {},
   "outputs": [
    {
     "name": "stdout",
     "output_type": "stream",
     "text": [
      "(487, 9)\n"
     ]
    },
    {
     "data": {
      "text/html": [
       "<div>\n",
       "<style scoped>\n",
       "    .dataframe tbody tr th:only-of-type {\n",
       "        vertical-align: middle;\n",
       "    }\n",
       "\n",
       "    .dataframe tbody tr th {\n",
       "        vertical-align: top;\n",
       "    }\n",
       "\n",
       "    .dataframe thead th {\n",
       "        text-align: right;\n",
       "    }\n",
       "</style>\n",
       "<table border=\"1\" class=\"dataframe\">\n",
       "  <thead>\n",
       "    <tr style=\"text-align: right;\">\n",
       "      <th></th>\n",
       "      <th>No</th>\n",
       "      <th>Sites</th>\n",
       "      <th>Deliver Name</th>\n",
       "      <th>Rating</th>\n",
       "      <th>Feedback Tag</th>\n",
       "      <th>Pick Up Order Time</th>\n",
       "      <th>Arrival Time</th>\n",
       "      <th>Waiting Time</th>\n",
       "      <th>Deliver Time</th>\n",
       "    </tr>\n",
       "  </thead>\n",
       "  <tbody>\n",
       "    <tr>\n",
       "      <th>1</th>\n",
       "      <td>2</td>\n",
       "      <td>Site E</td>\n",
       "      <td>张*安</td>\n",
       "      <td>1</td>\n",
       "      <td>Others</td>\n",
       "      <td>0.07</td>\n",
       "      <td>6.87</td>\n",
       "      <td>1.93</td>\n",
       "      <td>6.30</td>\n",
       "    </tr>\n",
       "    <tr>\n",
       "      <th>2</th>\n",
       "      <td>3</td>\n",
       "      <td>Site E</td>\n",
       "      <td>林*健</td>\n",
       "      <td>1</td>\n",
       "      <td>Delivery timeout|Bad attitude</td>\n",
       "      <td>1.45</td>\n",
       "      <td>11.35</td>\n",
       "      <td>0.05</td>\n",
       "      <td>51.88</td>\n",
       "    </tr>\n",
       "    <tr>\n",
       "      <th>4</th>\n",
       "      <td>5</td>\n",
       "      <td>Site E</td>\n",
       "      <td>黄*灶</td>\n",
       "      <td>1</td>\n",
       "      <td>Delivery timeout</td>\n",
       "      <td>15.80</td>\n",
       "      <td>12.90</td>\n",
       "      <td>7.23</td>\n",
       "      <td>10.18</td>\n",
       "    </tr>\n",
       "    <tr>\n",
       "      <th>7</th>\n",
       "      <td>8</td>\n",
       "      <td>Site E</td>\n",
       "      <td>陈*贤</td>\n",
       "      <td>1</td>\n",
       "      <td>No notice on delivery</td>\n",
       "      <td>0.73</td>\n",
       "      <td>0.03</td>\n",
       "      <td>8.08</td>\n",
       "      <td>8.45</td>\n",
       "    </tr>\n",
       "    <tr>\n",
       "      <th>8</th>\n",
       "      <td>9</td>\n",
       "      <td>Site E</td>\n",
       "      <td>钟*林</td>\n",
       "      <td>1</td>\n",
       "      <td>No notice on delivery|Delivery timeout</td>\n",
       "      <td>1.35</td>\n",
       "      <td>8.92</td>\n",
       "      <td>3.65</td>\n",
       "      <td>37.27</td>\n",
       "    </tr>\n",
       "  </tbody>\n",
       "</table>\n",
       "</div>"
      ],
      "text/plain": [
       "   No   Sites Deliver Name  Rating                            Feedback Tag  \\\n",
       "1   2  Site E          张*安       1                                  Others   \n",
       "2   3  Site E          林*健       1           Delivery timeout|Bad attitude   \n",
       "4   5  Site E          黄*灶       1                        Delivery timeout   \n",
       "7   8  Site E          陈*贤       1                   No notice on delivery   \n",
       "8   9  Site E          钟*林       1  No notice on delivery|Delivery timeout   \n",
       "\n",
       "   Pick Up Order Time  Arrival Time  Waiting Time  Deliver Time  \n",
       "1                0.07          6.87          1.93          6.30  \n",
       "2                1.45         11.35          0.05         51.88  \n",
       "4               15.80         12.90          7.23         10.18  \n",
       "7                0.73          0.03          8.08          8.45  \n",
       "8                1.35          8.92          3.65         37.27  "
      ]
     },
     "execution_count": 12,
     "metadata": {},
     "output_type": "execute_result"
    }
   ],
   "source": [
    "data=data[(data[\"Pick Up Order Time\"]<23.91325)&(data[\"Arrival Time\"]<30.74250)&\n",
    "          (data[\"Waiting Time\"]<22.56000) &(data[\"Deliver Time\"]<61.64875)]\n",
    "print(data.shape)\n",
    "data.head()"
   ]
  },
  {
   "cell_type": "code",
   "execution_count": 13,
   "metadata": {},
   "outputs": [
    {
     "data": {
      "text/plain": [
       "Index(['No', 'Sites', 'Deliver Name', 'Rating', 'Feedback Tag',\n",
       "       'Pick Up Order Time', 'Arrival Time', 'Waiting Time', 'Deliver Time',\n",
       "       'N_Total Time'],\n",
       "      dtype='object')"
      ]
     },
     "execution_count": 13,
     "metadata": {},
     "output_type": "execute_result"
    }
   ],
   "source": [
    "data['N_Total Time']=data['Pick Up Order Time']+data['Arrival Time']+data['Waiting Time']+data['Deliver Time']\n",
    "data.columns"
   ]
  },
  {
   "cell_type": "code",
   "execution_count": 14,
   "metadata": {
    "scrolled": true
   },
   "outputs": [
    {
     "data": {
      "text/html": [
       "<div>\n",
       "<style scoped>\n",
       "    .dataframe tbody tr th:only-of-type {\n",
       "        vertical-align: middle;\n",
       "    }\n",
       "\n",
       "    .dataframe tbody tr th {\n",
       "        vertical-align: top;\n",
       "    }\n",
       "\n",
       "    .dataframe thead th {\n",
       "        text-align: right;\n",
       "    }\n",
       "</style>\n",
       "<table border=\"1\" class=\"dataframe\">\n",
       "  <thead>\n",
       "    <tr style=\"text-align: right;\">\n",
       "      <th></th>\n",
       "      <th>N_Overtime</th>\n",
       "      <th>Number of order</th>\n",
       "    </tr>\n",
       "  </thead>\n",
       "  <tbody>\n",
       "    <tr>\n",
       "      <th>96</th>\n",
       "      <td>-28.90</td>\n",
       "      <td>1</td>\n",
       "    </tr>\n",
       "    <tr>\n",
       "      <th>230</th>\n",
       "      <td>-21.95</td>\n",
       "      <td>1</td>\n",
       "    </tr>\n",
       "    <tr>\n",
       "      <th>281</th>\n",
       "      <td>-20.24</td>\n",
       "      <td>1</td>\n",
       "    </tr>\n",
       "    <tr>\n",
       "      <th>222</th>\n",
       "      <td>-20.24</td>\n",
       "      <td>1</td>\n",
       "    </tr>\n",
       "    <tr>\n",
       "      <th>103</th>\n",
       "      <td>-20.02</td>\n",
       "      <td>1</td>\n",
       "    </tr>\n",
       "    <tr>\n",
       "      <th>...</th>\n",
       "      <td>...</td>\n",
       "      <td>...</td>\n",
       "    </tr>\n",
       "    <tr>\n",
       "      <th>60</th>\n",
       "      <td>50.12</td>\n",
       "      <td>1</td>\n",
       "    </tr>\n",
       "    <tr>\n",
       "      <th>408</th>\n",
       "      <td>52.17</td>\n",
       "      <td>1</td>\n",
       "    </tr>\n",
       "    <tr>\n",
       "      <th>410</th>\n",
       "      <td>52.47</td>\n",
       "      <td>1</td>\n",
       "    </tr>\n",
       "    <tr>\n",
       "      <th>58</th>\n",
       "      <td>57.24</td>\n",
       "      <td>1</td>\n",
       "    </tr>\n",
       "    <tr>\n",
       "      <th>275</th>\n",
       "      <td>58.22</td>\n",
       "      <td>1</td>\n",
       "    </tr>\n",
       "  </tbody>\n",
       "</table>\n",
       "<p>474 rows × 2 columns</p>\n",
       "</div>"
      ],
      "text/plain": [
       "     N_Overtime  Number of order\n",
       "96       -28.90                1\n",
       "230      -21.95                1\n",
       "281      -20.24                1\n",
       "222      -20.24                1\n",
       "103      -20.02                1\n",
       "..          ...              ...\n",
       "60        50.12                1\n",
       "408       52.17                1\n",
       "410       52.47                1\n",
       "58        57.24                1\n",
       "275       58.22                1\n",
       "\n",
       "[474 rows x 2 columns]"
      ]
     },
     "execution_count": 14,
     "metadata": {},
     "output_type": "execute_result"
    }
   ],
   "source": [
    "threshold=30 # Estimated arrival time 预计到达时间 \n",
    "data['N_Overtime']=data['N_Total Time']-30\n",
    "duration=data['N_Overtime'].value_counts().rename_axis('N_Overtime').reset_index(name='Number of order').sort_values(by='N_Overtime')\n",
    "duration"
   ]
  },
  {
   "cell_type": "markdown",
   "metadata": {},
   "source": [
    "##### Distribution of total duration & timeout duration"
   ]
  },
  {
   "cell_type": "code",
   "execution_count": 15,
   "metadata": {},
   "outputs": [
    {
     "data": {
      "application/vnd.plotly.v1+json": {
       "config": {
        "linkText": "Export to plot.ly",
        "plotlyServerURL": "https://plot.ly",
        "showLink": true
       },
       "data": [
        {
         "histfunc": "count",
         "histnorm": "",
         "marker": {
          "color": "rgba(255, 153, 51, 1.0)",
          "line": {
           "color": "#4D5663",
           "width": 1.3
          }
         },
         "name": "N_Total Time",
         "opacity": 0.8,
         "orientation": "v",
         "type": "histogram",
         "x": [
          15.170000000000002,
          64.73,
          46.11000000000001,
          17.29,
          51.190000000000005,
          26.77,
          55.03,
          45.34,
          21.950000000000003,
          44.14,
          34.99,
          17.02,
          31.619999999999997,
          40.5,
          32.37,
          56.050000000000004,
          22.299999999999997,
          35.3,
          32.260000000000005,
          50.099999999999994,
          65.41,
          26.07,
          25.86,
          41.56,
          23.04,
          62.03,
          26.259999999999998,
          40.519999999999996,
          47.75,
          63.38,
          35.39,
          60.89,
          42.09,
          22.39,
          69.97,
          28.54,
          42.01,
          46.69,
          82.47,
          58.05,
          32.34,
          41.269999999999996,
          30.32,
          35.92,
          35.51,
          32.45,
          61.879999999999995,
          21.92,
          38.4,
          48.93,
          30.479999999999997,
          33.07,
          39.040000000000006,
          31.82,
          15.379999999999999,
          32.75,
          27.32,
          36.949999999999996,
          61.34,
          34.57,
          48.23,
          17.89,
          43.08,
          76.73,
          39.65,
          13.44,
          29.71,
          37.959999999999994,
          25.340000000000003,
          59.33,
          76.15,
          53.2,
          54.51,
          44.12,
          28.23,
          68.45,
          37.559999999999995,
          36.160000000000004,
          55.7,
          37.239999999999995,
          63.55,
          55.440000000000005,
          53.05,
          80.02,
          42.92,
          24.29,
          36.660000000000004,
          30.85,
          59.15,
          46.4,
          53.08,
          47.14,
          74.93,
          37.12,
          24.43,
          33.46,
          42.11,
          56,
          38.2,
          38.510000000000005,
          63.08,
          40.58,
          41.44,
          49.88,
          31.35,
          22.43,
          61.82,
          34.12,
          17.03,
          66.92,
          27.11,
          15.05,
          22.92,
          34.05,
          59.22,
          41.62,
          40.910000000000004,
          69.04,
          82.17,
          37.989999999999995,
          39.76,
          57.75,
          38.61,
          37.879999999999995,
          67.63,
          29.1,
          67.89999999999999,
          59.85,
          36.01,
          32.99,
          67.66,
          25.83,
          32.95,
          65.99,
          28.97,
          40,
          19.28,
          46.72,
          39.25,
          40.57,
          20.54,
          41.78,
          36.35,
          56.5,
          31.18,
          19.25,
          62.43,
          36.85,
          45.45,
          23.810000000000002,
          40.519999999999996,
          45.22,
          42.17,
          38.349999999999994,
          33.6,
          21.23,
          42.63,
          45.690000000000005,
          50.98,
          49.54,
          28.949999999999996,
          51.73,
          32.17,
          46.42,
          35.22,
          52.82,
          37.14,
          32.25,
          31.299999999999997,
          87.24000000000001,
          28.720000000000002,
          38.38,
          19.69,
          24.560000000000002,
          32.18,
          34.5,
          37.57000000000001,
          39.269999999999996,
          67.12,
          66.84,
          51.33,
          43.13,
          46.489999999999995,
          68.75,
          22.57,
          49.43,
          34.66,
          39.41,
          24.299999999999997,
          21.589999999999996,
          15.95,
          28.409999999999997,
          26.840000000000003,
          39.95,
          38.67,
          50.65,
          52.379999999999995,
          33.61,
          21.41,
          63.87,
          48.85,
          45.01,
          43.43,
          24.72,
          56.23,
          76.93,
          56.27,
          69.67,
          13.95,
          15.309999999999999,
          67.51,
          57.06999999999999,
          36.83,
          40,
          47.75,
          62.22,
          49.03,
          28.419999999999998,
          40.03,
          62.400000000000006,
          32.22,
          48.33,
          48.45,
          33.53,
          44.06999999999999,
          48.019999999999996,
          47.769999999999996,
          43.84,
          19.6,
          21.22,
          28.500000000000007,
          48.55,
          41.86,
          41.55,
          35.98,
          53.1,
          33.7,
          19.96,
          35.29,
          46.73,
          33.93,
          60.769999999999996,
          26.83,
          38.75,
          41.099999999999994,
          61.4,
          52.53,
          29.33,
          18.96,
          39.64,
          42.18,
          32.11,
          39.41,
          38.9,
          60.81,
          59.790000000000006,
          29.410000000000004,
          28.34,
          32.79,
          35.39,
          27.58,
          9.98,
          32.15,
          10.25,
          32,
          16.88,
          9.760000000000002,
          36.84,
          38.27,
          36.15,
          33.63,
          22.130000000000003,
          34.02,
          27.79,
          28.770000000000003,
          19.08,
          42,
          33.71,
          34.55,
          49.16,
          15.450000000000003,
          26.660000000000004,
          24.96,
          27.86,
          34.84,
          38.19,
          44.03,
          35.93,
          35.86,
          33.17,
          39.36,
          30.259999999999998,
          31.37,
          43.63,
          15.15,
          28.28,
          30.3,
          43.78,
          32.65,
          36.4,
          57.62,
          63.03,
          41.1,
          62.39,
          18.509999999999998,
          66.69999999999999,
          37.35,
          34.64,
          35.8,
          41.55,
          65.54,
          27.4,
          23.44,
          57.64,
          51.61,
          35.68,
          49.349999999999994,
          18.14,
          28.15,
          21.37,
          17.99,
          38.65,
          38.46,
          29.669999999999998,
          32.48,
          32.6,
          50.379999999999995,
          25.369999999999997,
          18.240000000000002,
          35.3,
          25.6,
          27.689999999999998,
          64.77,
          24.45,
          37.95,
          49.290000000000006,
          21.630000000000003,
          40.59,
          23.369999999999997,
          21.259999999999998,
          11.870000000000001,
          33.62,
          49.79,
          28.92,
          27.08,
          25.28,
          43.32,
          47.34,
          28.88,
          77.12,
          24.3,
          33.55,
          40.629999999999995,
          31.869999999999997,
          1.1,
          51.25,
          33.57,
          48.46,
          31.45,
          23.11,
          75.57,
          17.33,
          50.16,
          22.71,
          56.24,
          31.98,
          22.150000000000002,
          26.660000000000004,
          54.489999999999995,
          29.42,
          32.13,
          55.82,
          55.599999999999994,
          39.06999999999999,
          28.55,
          22.57,
          35.739999999999995,
          16.270000000000003,
          30.75,
          42.84,
          54.68,
          38.900000000000006,
          43.47,
          47.09,
          51.440000000000005,
          30.4,
          42.95,
          68.33,
          57.94,
          53.08,
          33.239999999999995,
          38.55,
          46.08,
          53.61,
          80.12,
          23.869999999999997,
          35.94,
          64.19,
          36.03,
          69.28999999999999,
          33.52,
          45.43,
          36.2,
          48,
          33.49,
          16.34,
          88.22,
          28.64,
          26.35,
          35.55,
          31.32,
          51.12,
          54.129999999999995,
          51.14,
          8.049999999999999,
          43.22,
          53.690000000000005,
          44.56,
          61.76,
          35.900000000000006,
          11.07,
          45.66,
          17.45,
          31.130000000000003,
          41.01,
          28.3,
          40.379999999999995,
          20.86,
          25.049999999999997,
          27.509999999999998,
          11.309999999999999,
          9.76,
          47.709999999999994,
          46.010000000000005,
          63.959999999999994,
          46.75,
          47.34,
          31.259999999999998,
          57.67,
          27.97,
          46.02,
          68.85,
          56.510000000000005,
          35.79,
          26.55,
          70.65,
          39.92,
          45.21,
          61.480000000000004,
          32.64,
          41.77,
          51.43,
          40.5,
          53.78,
          26.62,
          15.81,
          37.5,
          26.4,
          78.46000000000001,
          37.41,
          25.119999999999997,
          31.65,
          13.14,
          39.269999999999996,
          44.370000000000005,
          34.269999999999996,
          24.03,
          19.57,
          12.8,
          51.06,
          23.849999999999998,
          58.47,
          67.68,
          53.15,
          47.26,
          36.28,
          49.550000000000004,
          47.61,
          64.57,
          35.980000000000004,
          26.5,
          18.97,
          24.14,
          20.759999999999998,
          34.13,
          30.42,
          52.86
         ]
        },
        {
         "histfunc": "count",
         "histnorm": "",
         "marker": {
          "color": "rgba(55, 128, 191, 1.0)",
          "line": {
           "color": "#4D5663",
           "width": 1.3
          }
         },
         "name": "N_Overtime",
         "opacity": 0.8,
         "orientation": "v",
         "type": "histogram",
         "x": [
          -14.829999999999998,
          34.730000000000004,
          16.110000000000007,
          -12.71,
          21.190000000000005,
          -3.2300000000000004,
          25.03,
          15.340000000000003,
          -8.049999999999997,
          14.14,
          4.990000000000002,
          -12.98,
          1.6199999999999974,
          10.5,
          2.3699999999999974,
          26.050000000000004,
          -7.700000000000003,
          5.299999999999997,
          2.260000000000005,
          20.099999999999994,
          35.41,
          -3.9299999999999997,
          -4.140000000000001,
          11.560000000000002,
          -6.960000000000001,
          32.03,
          -3.740000000000002,
          10.519999999999996,
          17.75,
          33.38,
          5.390000000000001,
          30.89,
          12.090000000000003,
          -7.609999999999999,
          39.97,
          -1.4600000000000009,
          12.009999999999998,
          16.689999999999998,
          52.47,
          28.049999999999997,
          2.3400000000000034,
          11.269999999999996,
          0.3200000000000003,
          5.920000000000002,
          5.509999999999998,
          2.450000000000003,
          31.879999999999995,
          -8.079999999999998,
          8.399999999999999,
          18.93,
          0.4799999999999969,
          3.0700000000000003,
          9.040000000000006,
          1.8200000000000003,
          -14.620000000000001,
          2.75,
          -2.6799999999999997,
          6.949999999999996,
          31.340000000000003,
          4.57,
          18.229999999999997,
          -12.11,
          13.079999999999998,
          46.730000000000004,
          9.649999999999999,
          -16.560000000000002,
          -0.28999999999999915,
          7.959999999999994,
          -4.659999999999997,
          29.33,
          46.150000000000006,
          23.200000000000003,
          24.509999999999998,
          14.119999999999997,
          -1.7699999999999996,
          38.45,
          7.559999999999995,
          6.160000000000004,
          25.700000000000003,
          7.239999999999995,
          33.55,
          25.440000000000005,
          23.049999999999997,
          50.019999999999996,
          12.920000000000002,
          -5.710000000000001,
          6.660000000000004,
          0.8500000000000014,
          29.15,
          16.4,
          23.08,
          17.14,
          44.93000000000001,
          7.119999999999997,
          -5.57,
          3.460000000000001,
          12.11,
          26,
          8.200000000000003,
          8.510000000000005,
          33.08,
          10.579999999999998,
          11.439999999999998,
          19.880000000000003,
          1.3500000000000014,
          -7.57,
          31.82,
          4.119999999999997,
          -12.969999999999999,
          36.92,
          -2.8900000000000006,
          -14.95,
          -7.079999999999998,
          4.049999999999997,
          29.22,
          11.619999999999997,
          10.910000000000004,
          39.040000000000006,
          52.17,
          7.989999999999995,
          9.759999999999998,
          27.75,
          8.61,
          7.8799999999999955,
          37.629999999999995,
          -0.8999999999999986,
          37.89999999999999,
          29.85,
          6.009999999999998,
          2.990000000000002,
          37.66,
          -4.170000000000002,
          2.950000000000003,
          35.989999999999995,
          -1.0300000000000011,
          10,
          -10.719999999999999,
          16.72,
          9.25,
          10.57,
          -9.46,
          11.780000000000001,
          6.350000000000001,
          26.5,
          1.1799999999999997,
          -10.75,
          32.43,
          6.850000000000001,
          15.450000000000003,
          -6.189999999999998,
          10.519999999999996,
          15.219999999999999,
          12.170000000000002,
          8.349999999999994,
          3.6000000000000014,
          -8.77,
          12.630000000000003,
          15.690000000000005,
          20.979999999999997,
          19.54,
          -1.0500000000000043,
          21.729999999999997,
          2.1700000000000017,
          16.42,
          5.219999999999999,
          22.82,
          7.140000000000001,
          2.25,
          1.2999999999999972,
          57.24000000000001,
          -1.2799999999999976,
          8.380000000000003,
          -10.309999999999999,
          -5.439999999999998,
          2.1799999999999997,
          4.5,
          7.570000000000007,
          9.269999999999996,
          37.120000000000005,
          36.84,
          21.33,
          13.130000000000003,
          16.489999999999995,
          38.75,
          -7.43,
          19.43,
          4.659999999999997,
          9.409999999999997,
          -5.700000000000003,
          -8.410000000000004,
          -14.05,
          -1.5900000000000034,
          -3.1599999999999966,
          9.950000000000003,
          8.670000000000002,
          20.65,
          22.379999999999995,
          3.6099999999999994,
          -8.59,
          33.87,
          18.85,
          15.009999999999998,
          13.43,
          -5.280000000000001,
          26.229999999999997,
          46.93000000000001,
          26.270000000000003,
          39.67,
          -16.05,
          -14.690000000000001,
          37.510000000000005,
          27.069999999999993,
          6.829999999999998,
          10,
          17.75,
          32.22,
          19.03,
          -1.5800000000000018,
          10.030000000000001,
          32.400000000000006,
          2.219999999999999,
          18.33,
          18.450000000000003,
          3.530000000000001,
          14.069999999999993,
          18.019999999999996,
          17.769999999999996,
          13.840000000000003,
          -10.399999999999999,
          -8.780000000000001,
          -1.499999999999993,
          18.549999999999997,
          11.86,
          11.549999999999997,
          5.979999999999997,
          23.1,
          3.700000000000003,
          -10.04,
          5.289999999999999,
          16.729999999999997,
          3.9299999999999997,
          30.769999999999996,
          -3.1700000000000017,
          8.75,
          11.099999999999994,
          31.4,
          22.53,
          -0.6700000000000017,
          -11.04,
          9.64,
          12.18,
          2.1099999999999994,
          9.409999999999997,
          8.899999999999999,
          30.810000000000002,
          29.790000000000006,
          -0.5899999999999963,
          -1.6600000000000001,
          2.789999999999999,
          5.390000000000001,
          -2.4200000000000017,
          -20.02,
          2.1499999999999986,
          -19.75,
          2,
          -13.120000000000001,
          -20.24,
          6.840000000000003,
          8.270000000000003,
          6.149999999999999,
          3.6300000000000026,
          -7.869999999999997,
          4.020000000000003,
          -2.210000000000001,
          -1.2299999999999969,
          -10.920000000000002,
          12,
          3.710000000000001,
          4.549999999999997,
          19.159999999999997,
          -14.549999999999997,
          -3.3399999999999963,
          -5.039999999999999,
          -2.1400000000000006,
          4.840000000000003,
          8.189999999999998,
          14.030000000000001,
          5.93,
          5.859999999999999,
          3.1700000000000017,
          9.36,
          0.259999999999998,
          1.370000000000001,
          13.630000000000003,
          -14.85,
          -1.7199999999999989,
          0.3000000000000007,
          13.780000000000001,
          2.6499999999999986,
          6.399999999999999,
          27.619999999999997,
          33.03,
          11.100000000000001,
          32.39,
          -11.490000000000002,
          36.69999999999999,
          7.350000000000001,
          4.640000000000001,
          5.799999999999997,
          11.549999999999997,
          35.540000000000006,
          -2.6000000000000014,
          -6.559999999999999,
          27.64,
          21.61,
          5.68,
          19.349999999999994,
          -11.86,
          -1.8500000000000014,
          -8.629999999999999,
          -12.010000000000002,
          8.649999999999999,
          8.46,
          -0.33000000000000185,
          2.479999999999997,
          2.6000000000000014,
          20.379999999999995,
          -4.630000000000003,
          -11.759999999999998,
          5.299999999999997,
          -4.399999999999999,
          -2.3100000000000023,
          34.769999999999996,
          -5.550000000000001,
          7.950000000000003,
          19.290000000000006,
          -8.369999999999997,
          10.590000000000003,
          -6.630000000000003,
          -8.740000000000002,
          -18.13,
          3.6199999999999974,
          19.79,
          -1.0799999999999983,
          -2.9200000000000017,
          -4.719999999999999,
          13.32,
          17.340000000000003,
          -1.120000000000001,
          47.120000000000005,
          -5.699999999999999,
          3.549999999999997,
          10.629999999999995,
          1.8699999999999974,
          -28.9,
          21.25,
          3.5700000000000003,
          18.46,
          1.4499999999999993,
          -6.890000000000001,
          45.56999999999999,
          -12.670000000000002,
          20.159999999999997,
          -7.289999999999999,
          26.240000000000002,
          1.9800000000000004,
          -7.849999999999998,
          -3.3399999999999963,
          24.489999999999995,
          -0.5799999999999983,
          2.1300000000000026,
          25.82,
          25.599999999999994,
          9.069999999999993,
          -1.4499999999999993,
          -7.43,
          5.739999999999995,
          -13.729999999999997,
          0.75,
          12.840000000000003,
          24.68,
          8.900000000000006,
          13.469999999999999,
          17.090000000000003,
          21.440000000000005,
          0.3999999999999986,
          12.950000000000003,
          38.33,
          27.939999999999998,
          23.08,
          3.239999999999995,
          8.549999999999997,
          16.08,
          23.61,
          50.120000000000005,
          -6.130000000000003,
          5.939999999999998,
          34.19,
          6.030000000000001,
          39.28999999999999,
          3.520000000000003,
          15.43,
          6.200000000000003,
          18,
          3.490000000000002,
          -13.66,
          58.22,
          -1.3599999999999994,
          -3.6499999999999986,
          5.549999999999997,
          1.3200000000000003,
          21.119999999999997,
          24.129999999999995,
          21.14,
          -21.950000000000003,
          13.219999999999999,
          23.690000000000005,
          14.560000000000002,
          31.759999999999998,
          5.900000000000006,
          -18.93,
          15.659999999999997,
          -12.55,
          1.1300000000000026,
          11.009999999999998,
          -1.6999999999999993,
          10.379999999999995,
          -9.14,
          -4.950000000000003,
          -2.490000000000002,
          -18.69,
          -20.240000000000002,
          17.709999999999994,
          16.010000000000005,
          33.959999999999994,
          16.75,
          17.340000000000003,
          1.259999999999998,
          27.67,
          -2.030000000000001,
          16.020000000000003,
          38.849999999999994,
          26.510000000000005,
          5.789999999999999,
          -3.4499999999999993,
          40.650000000000006,
          9.920000000000002,
          15.21,
          31.480000000000004,
          2.6400000000000006,
          11.770000000000003,
          21.43,
          10.5,
          23.78,
          -3.379999999999999,
          -14.19,
          7.5,
          -3.6000000000000014,
          48.46000000000001,
          7.409999999999997,
          -4.880000000000003,
          1.6499999999999986,
          -16.86,
          9.269999999999996,
          14.370000000000005,
          4.269999999999996,
          -5.969999999999999,
          -10.43,
          -17.2,
          21.060000000000002,
          -6.150000000000002,
          28.47,
          37.68000000000001,
          23.15,
          17.259999999999998,
          6.280000000000001,
          19.550000000000004,
          17.61,
          34.56999999999999,
          5.980000000000004,
          -3.5,
          -11.030000000000001,
          -5.859999999999999,
          -9.240000000000002,
          4.130000000000003,
          0.4200000000000017,
          22.86
         ]
        }
       ],
       "layout": {
        "barmode": "overlay",
        "legend": {
         "bgcolor": "#F5F6F9",
         "font": {
          "color": "#4D5663"
         }
        },
        "paper_bgcolor": "#F5F6F9",
        "plot_bgcolor": "#F5F6F9",
        "template": {
         "data": {
          "bar": [
           {
            "error_x": {
             "color": "#2a3f5f"
            },
            "error_y": {
             "color": "#2a3f5f"
            },
            "marker": {
             "line": {
              "color": "#E5ECF6",
              "width": 0.5
             }
            },
            "type": "bar"
           }
          ],
          "barpolar": [
           {
            "marker": {
             "line": {
              "color": "#E5ECF6",
              "width": 0.5
             }
            },
            "type": "barpolar"
           }
          ],
          "carpet": [
           {
            "aaxis": {
             "endlinecolor": "#2a3f5f",
             "gridcolor": "white",
             "linecolor": "white",
             "minorgridcolor": "white",
             "startlinecolor": "#2a3f5f"
            },
            "baxis": {
             "endlinecolor": "#2a3f5f",
             "gridcolor": "white",
             "linecolor": "white",
             "minorgridcolor": "white",
             "startlinecolor": "#2a3f5f"
            },
            "type": "carpet"
           }
          ],
          "choropleth": [
           {
            "colorbar": {
             "outlinewidth": 0,
             "ticks": ""
            },
            "type": "choropleth"
           }
          ],
          "contour": [
           {
            "colorbar": {
             "outlinewidth": 0,
             "ticks": ""
            },
            "colorscale": [
             [
              0,
              "#0d0887"
             ],
             [
              0.1111111111111111,
              "#46039f"
             ],
             [
              0.2222222222222222,
              "#7201a8"
             ],
             [
              0.3333333333333333,
              "#9c179e"
             ],
             [
              0.4444444444444444,
              "#bd3786"
             ],
             [
              0.5555555555555556,
              "#d8576b"
             ],
             [
              0.6666666666666666,
              "#ed7953"
             ],
             [
              0.7777777777777778,
              "#fb9f3a"
             ],
             [
              0.8888888888888888,
              "#fdca26"
             ],
             [
              1,
              "#f0f921"
             ]
            ],
            "type": "contour"
           }
          ],
          "contourcarpet": [
           {
            "colorbar": {
             "outlinewidth": 0,
             "ticks": ""
            },
            "type": "contourcarpet"
           }
          ],
          "heatmap": [
           {
            "colorbar": {
             "outlinewidth": 0,
             "ticks": ""
            },
            "colorscale": [
             [
              0,
              "#0d0887"
             ],
             [
              0.1111111111111111,
              "#46039f"
             ],
             [
              0.2222222222222222,
              "#7201a8"
             ],
             [
              0.3333333333333333,
              "#9c179e"
             ],
             [
              0.4444444444444444,
              "#bd3786"
             ],
             [
              0.5555555555555556,
              "#d8576b"
             ],
             [
              0.6666666666666666,
              "#ed7953"
             ],
             [
              0.7777777777777778,
              "#fb9f3a"
             ],
             [
              0.8888888888888888,
              "#fdca26"
             ],
             [
              1,
              "#f0f921"
             ]
            ],
            "type": "heatmap"
           }
          ],
          "heatmapgl": [
           {
            "colorbar": {
             "outlinewidth": 0,
             "ticks": ""
            },
            "colorscale": [
             [
              0,
              "#0d0887"
             ],
             [
              0.1111111111111111,
              "#46039f"
             ],
             [
              0.2222222222222222,
              "#7201a8"
             ],
             [
              0.3333333333333333,
              "#9c179e"
             ],
             [
              0.4444444444444444,
              "#bd3786"
             ],
             [
              0.5555555555555556,
              "#d8576b"
             ],
             [
              0.6666666666666666,
              "#ed7953"
             ],
             [
              0.7777777777777778,
              "#fb9f3a"
             ],
             [
              0.8888888888888888,
              "#fdca26"
             ],
             [
              1,
              "#f0f921"
             ]
            ],
            "type": "heatmapgl"
           }
          ],
          "histogram": [
           {
            "marker": {
             "colorbar": {
              "outlinewidth": 0,
              "ticks": ""
             }
            },
            "type": "histogram"
           }
          ],
          "histogram2d": [
           {
            "colorbar": {
             "outlinewidth": 0,
             "ticks": ""
            },
            "colorscale": [
             [
              0,
              "#0d0887"
             ],
             [
              0.1111111111111111,
              "#46039f"
             ],
             [
              0.2222222222222222,
              "#7201a8"
             ],
             [
              0.3333333333333333,
              "#9c179e"
             ],
             [
              0.4444444444444444,
              "#bd3786"
             ],
             [
              0.5555555555555556,
              "#d8576b"
             ],
             [
              0.6666666666666666,
              "#ed7953"
             ],
             [
              0.7777777777777778,
              "#fb9f3a"
             ],
             [
              0.8888888888888888,
              "#fdca26"
             ],
             [
              1,
              "#f0f921"
             ]
            ],
            "type": "histogram2d"
           }
          ],
          "histogram2dcontour": [
           {
            "colorbar": {
             "outlinewidth": 0,
             "ticks": ""
            },
            "colorscale": [
             [
              0,
              "#0d0887"
             ],
             [
              0.1111111111111111,
              "#46039f"
             ],
             [
              0.2222222222222222,
              "#7201a8"
             ],
             [
              0.3333333333333333,
              "#9c179e"
             ],
             [
              0.4444444444444444,
              "#bd3786"
             ],
             [
              0.5555555555555556,
              "#d8576b"
             ],
             [
              0.6666666666666666,
              "#ed7953"
             ],
             [
              0.7777777777777778,
              "#fb9f3a"
             ],
             [
              0.8888888888888888,
              "#fdca26"
             ],
             [
              1,
              "#f0f921"
             ]
            ],
            "type": "histogram2dcontour"
           }
          ],
          "mesh3d": [
           {
            "colorbar": {
             "outlinewidth": 0,
             "ticks": ""
            },
            "type": "mesh3d"
           }
          ],
          "parcoords": [
           {
            "line": {
             "colorbar": {
              "outlinewidth": 0,
              "ticks": ""
             }
            },
            "type": "parcoords"
           }
          ],
          "pie": [
           {
            "automargin": true,
            "type": "pie"
           }
          ],
          "scatter": [
           {
            "marker": {
             "colorbar": {
              "outlinewidth": 0,
              "ticks": ""
             }
            },
            "type": "scatter"
           }
          ],
          "scatter3d": [
           {
            "line": {
             "colorbar": {
              "outlinewidth": 0,
              "ticks": ""
             }
            },
            "marker": {
             "colorbar": {
              "outlinewidth": 0,
              "ticks": ""
             }
            },
            "type": "scatter3d"
           }
          ],
          "scattercarpet": [
           {
            "marker": {
             "colorbar": {
              "outlinewidth": 0,
              "ticks": ""
             }
            },
            "type": "scattercarpet"
           }
          ],
          "scattergeo": [
           {
            "marker": {
             "colorbar": {
              "outlinewidth": 0,
              "ticks": ""
             }
            },
            "type": "scattergeo"
           }
          ],
          "scattergl": [
           {
            "marker": {
             "colorbar": {
              "outlinewidth": 0,
              "ticks": ""
             }
            },
            "type": "scattergl"
           }
          ],
          "scattermapbox": [
           {
            "marker": {
             "colorbar": {
              "outlinewidth": 0,
              "ticks": ""
             }
            },
            "type": "scattermapbox"
           }
          ],
          "scatterpolar": [
           {
            "marker": {
             "colorbar": {
              "outlinewidth": 0,
              "ticks": ""
             }
            },
            "type": "scatterpolar"
           }
          ],
          "scatterpolargl": [
           {
            "marker": {
             "colorbar": {
              "outlinewidth": 0,
              "ticks": ""
             }
            },
            "type": "scatterpolargl"
           }
          ],
          "scatterternary": [
           {
            "marker": {
             "colorbar": {
              "outlinewidth": 0,
              "ticks": ""
             }
            },
            "type": "scatterternary"
           }
          ],
          "surface": [
           {
            "colorbar": {
             "outlinewidth": 0,
             "ticks": ""
            },
            "colorscale": [
             [
              0,
              "#0d0887"
             ],
             [
              0.1111111111111111,
              "#46039f"
             ],
             [
              0.2222222222222222,
              "#7201a8"
             ],
             [
              0.3333333333333333,
              "#9c179e"
             ],
             [
              0.4444444444444444,
              "#bd3786"
             ],
             [
              0.5555555555555556,
              "#d8576b"
             ],
             [
              0.6666666666666666,
              "#ed7953"
             ],
             [
              0.7777777777777778,
              "#fb9f3a"
             ],
             [
              0.8888888888888888,
              "#fdca26"
             ],
             [
              1,
              "#f0f921"
             ]
            ],
            "type": "surface"
           }
          ],
          "table": [
           {
            "cells": {
             "fill": {
              "color": "#EBF0F8"
             },
             "line": {
              "color": "white"
             }
            },
            "header": {
             "fill": {
              "color": "#C8D4E3"
             },
             "line": {
              "color": "white"
             }
            },
            "type": "table"
           }
          ]
         },
         "layout": {
          "annotationdefaults": {
           "arrowcolor": "#2a3f5f",
           "arrowhead": 0,
           "arrowwidth": 1
          },
          "autotypenumbers": "strict",
          "coloraxis": {
           "colorbar": {
            "outlinewidth": 0,
            "ticks": ""
           }
          },
          "colorscale": {
           "diverging": [
            [
             0,
             "#8e0152"
            ],
            [
             0.1,
             "#c51b7d"
            ],
            [
             0.2,
             "#de77ae"
            ],
            [
             0.3,
             "#f1b6da"
            ],
            [
             0.4,
             "#fde0ef"
            ],
            [
             0.5,
             "#f7f7f7"
            ],
            [
             0.6,
             "#e6f5d0"
            ],
            [
             0.7,
             "#b8e186"
            ],
            [
             0.8,
             "#7fbc41"
            ],
            [
             0.9,
             "#4d9221"
            ],
            [
             1,
             "#276419"
            ]
           ],
           "sequential": [
            [
             0,
             "#0d0887"
            ],
            [
             0.1111111111111111,
             "#46039f"
            ],
            [
             0.2222222222222222,
             "#7201a8"
            ],
            [
             0.3333333333333333,
             "#9c179e"
            ],
            [
             0.4444444444444444,
             "#bd3786"
            ],
            [
             0.5555555555555556,
             "#d8576b"
            ],
            [
             0.6666666666666666,
             "#ed7953"
            ],
            [
             0.7777777777777778,
             "#fb9f3a"
            ],
            [
             0.8888888888888888,
             "#fdca26"
            ],
            [
             1,
             "#f0f921"
            ]
           ],
           "sequentialminus": [
            [
             0,
             "#0d0887"
            ],
            [
             0.1111111111111111,
             "#46039f"
            ],
            [
             0.2222222222222222,
             "#7201a8"
            ],
            [
             0.3333333333333333,
             "#9c179e"
            ],
            [
             0.4444444444444444,
             "#bd3786"
            ],
            [
             0.5555555555555556,
             "#d8576b"
            ],
            [
             0.6666666666666666,
             "#ed7953"
            ],
            [
             0.7777777777777778,
             "#fb9f3a"
            ],
            [
             0.8888888888888888,
             "#fdca26"
            ],
            [
             1,
             "#f0f921"
            ]
           ]
          },
          "colorway": [
           "#636efa",
           "#EF553B",
           "#00cc96",
           "#ab63fa",
           "#FFA15A",
           "#19d3f3",
           "#FF6692",
           "#B6E880",
           "#FF97FF",
           "#FECB52"
          ],
          "font": {
           "color": "#2a3f5f"
          },
          "geo": {
           "bgcolor": "white",
           "lakecolor": "white",
           "landcolor": "#E5ECF6",
           "showlakes": true,
           "showland": true,
           "subunitcolor": "white"
          },
          "hoverlabel": {
           "align": "left"
          },
          "hovermode": "closest",
          "mapbox": {
           "style": "light"
          },
          "paper_bgcolor": "white",
          "plot_bgcolor": "#E5ECF6",
          "polar": {
           "angularaxis": {
            "gridcolor": "white",
            "linecolor": "white",
            "ticks": ""
           },
           "bgcolor": "#E5ECF6",
           "radialaxis": {
            "gridcolor": "white",
            "linecolor": "white",
            "ticks": ""
           }
          },
          "scene": {
           "xaxis": {
            "backgroundcolor": "#E5ECF6",
            "gridcolor": "white",
            "gridwidth": 2,
            "linecolor": "white",
            "showbackground": true,
            "ticks": "",
            "zerolinecolor": "white"
           },
           "yaxis": {
            "backgroundcolor": "#E5ECF6",
            "gridcolor": "white",
            "gridwidth": 2,
            "linecolor": "white",
            "showbackground": true,
            "ticks": "",
            "zerolinecolor": "white"
           },
           "zaxis": {
            "backgroundcolor": "#E5ECF6",
            "gridcolor": "white",
            "gridwidth": 2,
            "linecolor": "white",
            "showbackground": true,
            "ticks": "",
            "zerolinecolor": "white"
           }
          },
          "shapedefaults": {
           "line": {
            "color": "#2a3f5f"
           }
          },
          "ternary": {
           "aaxis": {
            "gridcolor": "white",
            "linecolor": "white",
            "ticks": ""
           },
           "baxis": {
            "gridcolor": "white",
            "linecolor": "white",
            "ticks": ""
           },
           "bgcolor": "#E5ECF6",
           "caxis": {
            "gridcolor": "white",
            "linecolor": "white",
            "ticks": ""
           }
          },
          "title": {
           "x": 0.05
          },
          "xaxis": {
           "automargin": true,
           "gridcolor": "white",
           "linecolor": "white",
           "ticks": "",
           "title": {
            "standoff": 15
           },
           "zerolinecolor": "white",
           "zerolinewidth": 2
          },
          "yaxis": {
           "automargin": true,
           "gridcolor": "white",
           "linecolor": "white",
           "ticks": "",
           "title": {
            "standoff": 15
           },
           "zerolinecolor": "white",
           "zerolinewidth": 2
          }
         }
        },
        "title": {
         "font": {
          "color": "#4D5663"
         }
        },
        "xaxis": {
         "gridcolor": "#E1E5ED",
         "showgrid": true,
         "tickfont": {
          "color": "#4D5663"
         },
         "title": {
          "font": {
           "color": "#4D5663"
          },
          "text": ""
         },
         "zerolinecolor": "#E1E5ED"
        },
        "yaxis": {
         "gridcolor": "#E1E5ED",
         "showgrid": true,
         "tickfont": {
          "color": "#4D5663"
         },
         "title": {
          "font": {
           "color": "#4D5663"
          },
          "text": ""
         },
         "zerolinecolor": "#E1E5ED"
        }
       }
      },
      "text/html": [
       "<div>                            <div id=\"0ca406ac-8de6-4964-a436-3eedd6e083d9\" class=\"plotly-graph-div\" style=\"height:525px; width:100%;\"></div>            <script type=\"text/javascript\">                require([\"plotly\"], function(Plotly) {                    window.PLOTLYENV=window.PLOTLYENV || {};\n",
       "                    window.PLOTLYENV.BASE_URL='https://plot.ly';                                    if (document.getElementById(\"0ca406ac-8de6-4964-a436-3eedd6e083d9\")) {                    Plotly.newPlot(                        \"0ca406ac-8de6-4964-a436-3eedd6e083d9\",                        [{\"histfunc\": \"count\", \"histnorm\": \"\", \"marker\": {\"color\": \"rgba(255, 153, 51, 1.0)\", \"line\": {\"color\": \"#4D5663\", \"width\": 1.3}}, \"name\": \"N_Total Time\", \"opacity\": 0.8, \"orientation\": \"v\", \"type\": \"histogram\", \"x\": [15.170000000000002, 64.73, 46.11000000000001, 17.29, 51.190000000000005, 26.77, 55.03, 45.34, 21.950000000000003, 44.14, 34.99, 17.02, 31.619999999999997, 40.5, 32.37, 56.050000000000004, 22.299999999999997, 35.3, 32.260000000000005, 50.099999999999994, 65.41, 26.07, 25.86, 41.56, 23.04, 62.03, 26.259999999999998, 40.519999999999996, 47.75, 63.38, 35.39, 60.89, 42.09, 22.39, 69.97, 28.54, 42.01, 46.69, 82.47, 58.05, 32.34, 41.269999999999996, 30.32, 35.92, 35.51, 32.45, 61.879999999999995, 21.92, 38.4, 48.93, 30.479999999999997, 33.07, 39.040000000000006, 31.82, 15.379999999999999, 32.75, 27.32, 36.949999999999996, 61.34, 34.57, 48.23, 17.89, 43.08, 76.73, 39.65, 13.44, 29.71, 37.959999999999994, 25.340000000000003, 59.33, 76.15, 53.2, 54.51, 44.12, 28.23, 68.45, 37.559999999999995, 36.160000000000004, 55.7, 37.239999999999995, 63.55, 55.440000000000005, 53.05, 80.02, 42.92, 24.29, 36.660000000000004, 30.85, 59.15, 46.4, 53.08, 47.14, 74.93, 37.12, 24.43, 33.46, 42.11, 56.0, 38.2, 38.510000000000005, 63.08, 40.58, 41.44, 49.88, 31.35, 22.43, 61.82, 34.12, 17.03, 66.92, 27.11, 15.05, 22.92, 34.05, 59.22, 41.62, 40.910000000000004, 69.04, 82.17, 37.989999999999995, 39.76, 57.75, 38.61, 37.879999999999995, 67.63, 29.1, 67.89999999999999, 59.85, 36.01, 32.99, 67.66, 25.83, 32.95, 65.99, 28.97, 40.0, 19.28, 46.72, 39.25, 40.57, 20.54, 41.78, 36.35, 56.5, 31.18, 19.25, 62.43, 36.85, 45.45, 23.810000000000002, 40.519999999999996, 45.22, 42.17, 38.349999999999994, 33.6, 21.23, 42.63, 45.690000000000005, 50.98, 49.54, 28.949999999999996, 51.73, 32.17, 46.42, 35.22, 52.82, 37.14, 32.25, 31.299999999999997, 87.24000000000001, 28.720000000000002, 38.38, 19.69, 24.560000000000002, 32.18, 34.5, 37.57000000000001, 39.269999999999996, 67.12, 66.84, 51.33, 43.13, 46.489999999999995, 68.75, 22.57, 49.43, 34.66, 39.41, 24.299999999999997, 21.589999999999996, 15.95, 28.409999999999997, 26.840000000000003, 39.95, 38.67, 50.65, 52.379999999999995, 33.61, 21.41, 63.87, 48.85, 45.01, 43.43, 24.72, 56.23, 76.93, 56.27, 69.67, 13.95, 15.309999999999999, 67.51, 57.06999999999999, 36.83, 40.0, 47.75, 62.22, 49.03, 28.419999999999998, 40.03, 62.400000000000006, 32.22, 48.33, 48.45, 33.53, 44.06999999999999, 48.019999999999996, 47.769999999999996, 43.84, 19.6, 21.22, 28.500000000000007, 48.55, 41.86, 41.55, 35.98, 53.1, 33.7, 19.96, 35.29, 46.73, 33.93, 60.769999999999996, 26.83, 38.75, 41.099999999999994, 61.4, 52.53, 29.33, 18.96, 39.64, 42.18, 32.11, 39.41, 38.9, 60.81, 59.790000000000006, 29.410000000000004, 28.34, 32.79, 35.39, 27.58, 9.98, 32.15, 10.25, 32.0, 16.88, 9.760000000000002, 36.84, 38.27, 36.15, 33.63, 22.130000000000003, 34.02, 27.79, 28.770000000000003, 19.08, 42.0, 33.71, 34.55, 49.16, 15.450000000000003, 26.660000000000004, 24.96, 27.86, 34.84, 38.19, 44.03, 35.93, 35.86, 33.17, 39.36, 30.259999999999998, 31.37, 43.63, 15.15, 28.28, 30.3, 43.78, 32.65, 36.4, 57.62, 63.03, 41.1, 62.39, 18.509999999999998, 66.69999999999999, 37.35, 34.64, 35.8, 41.55, 65.54, 27.4, 23.44, 57.64, 51.61, 35.68, 49.349999999999994, 18.14, 28.15, 21.37, 17.99, 38.65, 38.46, 29.669999999999998, 32.48, 32.6, 50.379999999999995, 25.369999999999997, 18.240000000000002, 35.3, 25.6, 27.689999999999998, 64.77, 24.45, 37.95, 49.290000000000006, 21.630000000000003, 40.59, 23.369999999999997, 21.259999999999998, 11.870000000000001, 33.62, 49.79, 28.92, 27.08, 25.28, 43.32, 47.34, 28.88, 77.12, 24.3, 33.55, 40.629999999999995, 31.869999999999997, 1.1, 51.25, 33.57, 48.46, 31.45, 23.11, 75.57, 17.33, 50.16, 22.71, 56.24, 31.98, 22.150000000000002, 26.660000000000004, 54.489999999999995, 29.42, 32.13, 55.82, 55.599999999999994, 39.06999999999999, 28.55, 22.57, 35.739999999999995, 16.270000000000003, 30.75, 42.84, 54.68, 38.900000000000006, 43.47, 47.09, 51.440000000000005, 30.4, 42.95, 68.33, 57.94, 53.08, 33.239999999999995, 38.55, 46.08, 53.61, 80.12, 23.869999999999997, 35.94, 64.19, 36.03, 69.28999999999999, 33.52, 45.43, 36.2, 48.0, 33.49, 16.34, 88.22, 28.64, 26.35, 35.55, 31.32, 51.12, 54.129999999999995, 51.14, 8.049999999999999, 43.22, 53.690000000000005, 44.56, 61.76, 35.900000000000006, 11.07, 45.66, 17.45, 31.130000000000003, 41.01, 28.3, 40.379999999999995, 20.86, 25.049999999999997, 27.509999999999998, 11.309999999999999, 9.76, 47.709999999999994, 46.010000000000005, 63.959999999999994, 46.75, 47.34, 31.259999999999998, 57.67, 27.97, 46.02, 68.85, 56.510000000000005, 35.79, 26.55, 70.65, 39.92, 45.21, 61.480000000000004, 32.64, 41.77, 51.43, 40.5, 53.78, 26.62, 15.81, 37.5, 26.4, 78.46000000000001, 37.41, 25.119999999999997, 31.65, 13.14, 39.269999999999996, 44.370000000000005, 34.269999999999996, 24.03, 19.57, 12.8, 51.06, 23.849999999999998, 58.47, 67.68, 53.15, 47.26, 36.28, 49.550000000000004, 47.61, 64.57, 35.980000000000004, 26.5, 18.97, 24.14, 20.759999999999998, 34.13, 30.42, 52.86]}, {\"histfunc\": \"count\", \"histnorm\": \"\", \"marker\": {\"color\": \"rgba(55, 128, 191, 1.0)\", \"line\": {\"color\": \"#4D5663\", \"width\": 1.3}}, \"name\": \"N_Overtime\", \"opacity\": 0.8, \"orientation\": \"v\", \"type\": \"histogram\", \"x\": [-14.829999999999998, 34.730000000000004, 16.110000000000007, -12.71, 21.190000000000005, -3.2300000000000004, 25.03, 15.340000000000003, -8.049999999999997, 14.14, 4.990000000000002, -12.98, 1.6199999999999974, 10.5, 2.3699999999999974, 26.050000000000004, -7.700000000000003, 5.299999999999997, 2.260000000000005, 20.099999999999994, 35.41, -3.9299999999999997, -4.140000000000001, 11.560000000000002, -6.960000000000001, 32.03, -3.740000000000002, 10.519999999999996, 17.75, 33.38, 5.390000000000001, 30.89, 12.090000000000003, -7.609999999999999, 39.97, -1.4600000000000009, 12.009999999999998, 16.689999999999998, 52.47, 28.049999999999997, 2.3400000000000034, 11.269999999999996, 0.3200000000000003, 5.920000000000002, 5.509999999999998, 2.450000000000003, 31.879999999999995, -8.079999999999998, 8.399999999999999, 18.93, 0.4799999999999969, 3.0700000000000003, 9.040000000000006, 1.8200000000000003, -14.620000000000001, 2.75, -2.6799999999999997, 6.949999999999996, 31.340000000000003, 4.57, 18.229999999999997, -12.11, 13.079999999999998, 46.730000000000004, 9.649999999999999, -16.560000000000002, -0.28999999999999915, 7.959999999999994, -4.659999999999997, 29.33, 46.150000000000006, 23.200000000000003, 24.509999999999998, 14.119999999999997, -1.7699999999999996, 38.45, 7.559999999999995, 6.160000000000004, 25.700000000000003, 7.239999999999995, 33.55, 25.440000000000005, 23.049999999999997, 50.019999999999996, 12.920000000000002, -5.710000000000001, 6.660000000000004, 0.8500000000000014, 29.15, 16.4, 23.08, 17.14, 44.93000000000001, 7.119999999999997, -5.57, 3.460000000000001, 12.11, 26.0, 8.200000000000003, 8.510000000000005, 33.08, 10.579999999999998, 11.439999999999998, 19.880000000000003, 1.3500000000000014, -7.57, 31.82, 4.119999999999997, -12.969999999999999, 36.92, -2.8900000000000006, -14.95, -7.079999999999998, 4.049999999999997, 29.22, 11.619999999999997, 10.910000000000004, 39.040000000000006, 52.17, 7.989999999999995, 9.759999999999998, 27.75, 8.61, 7.8799999999999955, 37.629999999999995, -0.8999999999999986, 37.89999999999999, 29.85, 6.009999999999998, 2.990000000000002, 37.66, -4.170000000000002, 2.950000000000003, 35.989999999999995, -1.0300000000000011, 10.0, -10.719999999999999, 16.72, 9.25, 10.57, -9.46, 11.780000000000001, 6.350000000000001, 26.5, 1.1799999999999997, -10.75, 32.43, 6.850000000000001, 15.450000000000003, -6.189999999999998, 10.519999999999996, 15.219999999999999, 12.170000000000002, 8.349999999999994, 3.6000000000000014, -8.77, 12.630000000000003, 15.690000000000005, 20.979999999999997, 19.54, -1.0500000000000043, 21.729999999999997, 2.1700000000000017, 16.42, 5.219999999999999, 22.82, 7.140000000000001, 2.25, 1.2999999999999972, 57.24000000000001, -1.2799999999999976, 8.380000000000003, -10.309999999999999, -5.439999999999998, 2.1799999999999997, 4.5, 7.570000000000007, 9.269999999999996, 37.120000000000005, 36.84, 21.33, 13.130000000000003, 16.489999999999995, 38.75, -7.43, 19.43, 4.659999999999997, 9.409999999999997, -5.700000000000003, -8.410000000000004, -14.05, -1.5900000000000034, -3.1599999999999966, 9.950000000000003, 8.670000000000002, 20.65, 22.379999999999995, 3.6099999999999994, -8.59, 33.87, 18.85, 15.009999999999998, 13.43, -5.280000000000001, 26.229999999999997, 46.93000000000001, 26.270000000000003, 39.67, -16.05, -14.690000000000001, 37.510000000000005, 27.069999999999993, 6.829999999999998, 10.0, 17.75, 32.22, 19.03, -1.5800000000000018, 10.030000000000001, 32.400000000000006, 2.219999999999999, 18.33, 18.450000000000003, 3.530000000000001, 14.069999999999993, 18.019999999999996, 17.769999999999996, 13.840000000000003, -10.399999999999999, -8.780000000000001, -1.499999999999993, 18.549999999999997, 11.86, 11.549999999999997, 5.979999999999997, 23.1, 3.700000000000003, -10.04, 5.289999999999999, 16.729999999999997, 3.9299999999999997, 30.769999999999996, -3.1700000000000017, 8.75, 11.099999999999994, 31.4, 22.53, -0.6700000000000017, -11.04, 9.64, 12.18, 2.1099999999999994, 9.409999999999997, 8.899999999999999, 30.810000000000002, 29.790000000000006, -0.5899999999999963, -1.6600000000000001, 2.789999999999999, 5.390000000000001, -2.4200000000000017, -20.02, 2.1499999999999986, -19.75, 2.0, -13.120000000000001, -20.24, 6.840000000000003, 8.270000000000003, 6.149999999999999, 3.6300000000000026, -7.869999999999997, 4.020000000000003, -2.210000000000001, -1.2299999999999969, -10.920000000000002, 12.0, 3.710000000000001, 4.549999999999997, 19.159999999999997, -14.549999999999997, -3.3399999999999963, -5.039999999999999, -2.1400000000000006, 4.840000000000003, 8.189999999999998, 14.030000000000001, 5.93, 5.859999999999999, 3.1700000000000017, 9.36, 0.259999999999998, 1.370000000000001, 13.630000000000003, -14.85, -1.7199999999999989, 0.3000000000000007, 13.780000000000001, 2.6499999999999986, 6.399999999999999, 27.619999999999997, 33.03, 11.100000000000001, 32.39, -11.490000000000002, 36.69999999999999, 7.350000000000001, 4.640000000000001, 5.799999999999997, 11.549999999999997, 35.540000000000006, -2.6000000000000014, -6.559999999999999, 27.64, 21.61, 5.68, 19.349999999999994, -11.86, -1.8500000000000014, -8.629999999999999, -12.010000000000002, 8.649999999999999, 8.46, -0.33000000000000185, 2.479999999999997, 2.6000000000000014, 20.379999999999995, -4.630000000000003, -11.759999999999998, 5.299999999999997, -4.399999999999999, -2.3100000000000023, 34.769999999999996, -5.550000000000001, 7.950000000000003, 19.290000000000006, -8.369999999999997, 10.590000000000003, -6.630000000000003, -8.740000000000002, -18.13, 3.6199999999999974, 19.79, -1.0799999999999983, -2.9200000000000017, -4.719999999999999, 13.32, 17.340000000000003, -1.120000000000001, 47.120000000000005, -5.699999999999999, 3.549999999999997, 10.629999999999995, 1.8699999999999974, -28.9, 21.25, 3.5700000000000003, 18.46, 1.4499999999999993, -6.890000000000001, 45.56999999999999, -12.670000000000002, 20.159999999999997, -7.289999999999999, 26.240000000000002, 1.9800000000000004, -7.849999999999998, -3.3399999999999963, 24.489999999999995, -0.5799999999999983, 2.1300000000000026, 25.82, 25.599999999999994, 9.069999999999993, -1.4499999999999993, -7.43, 5.739999999999995, -13.729999999999997, 0.75, 12.840000000000003, 24.68, 8.900000000000006, 13.469999999999999, 17.090000000000003, 21.440000000000005, 0.3999999999999986, 12.950000000000003, 38.33, 27.939999999999998, 23.08, 3.239999999999995, 8.549999999999997, 16.08, 23.61, 50.120000000000005, -6.130000000000003, 5.939999999999998, 34.19, 6.030000000000001, 39.28999999999999, 3.520000000000003, 15.43, 6.200000000000003, 18.0, 3.490000000000002, -13.66, 58.22, -1.3599999999999994, -3.6499999999999986, 5.549999999999997, 1.3200000000000003, 21.119999999999997, 24.129999999999995, 21.14, -21.950000000000003, 13.219999999999999, 23.690000000000005, 14.560000000000002, 31.759999999999998, 5.900000000000006, -18.93, 15.659999999999997, -12.55, 1.1300000000000026, 11.009999999999998, -1.6999999999999993, 10.379999999999995, -9.14, -4.950000000000003, -2.490000000000002, -18.69, -20.240000000000002, 17.709999999999994, 16.010000000000005, 33.959999999999994, 16.75, 17.340000000000003, 1.259999999999998, 27.67, -2.030000000000001, 16.020000000000003, 38.849999999999994, 26.510000000000005, 5.789999999999999, -3.4499999999999993, 40.650000000000006, 9.920000000000002, 15.21, 31.480000000000004, 2.6400000000000006, 11.770000000000003, 21.43, 10.5, 23.78, -3.379999999999999, -14.19, 7.5, -3.6000000000000014, 48.46000000000001, 7.409999999999997, -4.880000000000003, 1.6499999999999986, -16.86, 9.269999999999996, 14.370000000000005, 4.269999999999996, -5.969999999999999, -10.43, -17.2, 21.060000000000002, -6.150000000000002, 28.47, 37.68000000000001, 23.15, 17.259999999999998, 6.280000000000001, 19.550000000000004, 17.61, 34.56999999999999, 5.980000000000004, -3.5, -11.030000000000001, -5.859999999999999, -9.240000000000002, 4.130000000000003, 0.4200000000000017, 22.86]}],                        {\"barmode\": \"overlay\", \"legend\": {\"bgcolor\": \"#F5F6F9\", \"font\": {\"color\": \"#4D5663\"}}, \"paper_bgcolor\": \"#F5F6F9\", \"plot_bgcolor\": \"#F5F6F9\", \"template\": {\"data\": {\"bar\": [{\"error_x\": {\"color\": \"#2a3f5f\"}, \"error_y\": {\"color\": \"#2a3f5f\"}, \"marker\": {\"line\": {\"color\": \"#E5ECF6\", \"width\": 0.5}}, \"type\": \"bar\"}], \"barpolar\": [{\"marker\": {\"line\": {\"color\": \"#E5ECF6\", \"width\": 0.5}}, \"type\": \"barpolar\"}], \"carpet\": [{\"aaxis\": {\"endlinecolor\": \"#2a3f5f\", \"gridcolor\": \"white\", \"linecolor\": \"white\", \"minorgridcolor\": \"white\", \"startlinecolor\": \"#2a3f5f\"}, \"baxis\": {\"endlinecolor\": \"#2a3f5f\", \"gridcolor\": \"white\", \"linecolor\": \"white\", \"minorgridcolor\": \"white\", \"startlinecolor\": \"#2a3f5f\"}, \"type\": \"carpet\"}], \"choropleth\": [{\"colorbar\": {\"outlinewidth\": 0, \"ticks\": \"\"}, \"type\": \"choropleth\"}], \"contour\": [{\"colorbar\": {\"outlinewidth\": 0, \"ticks\": \"\"}, \"colorscale\": [[0.0, \"#0d0887\"], [0.1111111111111111, \"#46039f\"], [0.2222222222222222, \"#7201a8\"], [0.3333333333333333, \"#9c179e\"], [0.4444444444444444, \"#bd3786\"], [0.5555555555555556, \"#d8576b\"], [0.6666666666666666, \"#ed7953\"], [0.7777777777777778, \"#fb9f3a\"], [0.8888888888888888, \"#fdca26\"], [1.0, \"#f0f921\"]], \"type\": \"contour\"}], \"contourcarpet\": [{\"colorbar\": {\"outlinewidth\": 0, \"ticks\": \"\"}, \"type\": \"contourcarpet\"}], \"heatmap\": [{\"colorbar\": {\"outlinewidth\": 0, \"ticks\": \"\"}, \"colorscale\": [[0.0, \"#0d0887\"], [0.1111111111111111, \"#46039f\"], [0.2222222222222222, \"#7201a8\"], [0.3333333333333333, \"#9c179e\"], [0.4444444444444444, \"#bd3786\"], [0.5555555555555556, \"#d8576b\"], [0.6666666666666666, \"#ed7953\"], [0.7777777777777778, \"#fb9f3a\"], [0.8888888888888888, \"#fdca26\"], [1.0, \"#f0f921\"]], \"type\": \"heatmap\"}], \"heatmapgl\": [{\"colorbar\": {\"outlinewidth\": 0, \"ticks\": \"\"}, \"colorscale\": [[0.0, \"#0d0887\"], [0.1111111111111111, \"#46039f\"], [0.2222222222222222, \"#7201a8\"], [0.3333333333333333, \"#9c179e\"], [0.4444444444444444, \"#bd3786\"], [0.5555555555555556, \"#d8576b\"], [0.6666666666666666, \"#ed7953\"], [0.7777777777777778, \"#fb9f3a\"], [0.8888888888888888, \"#fdca26\"], [1.0, \"#f0f921\"]], \"type\": \"heatmapgl\"}], \"histogram\": [{\"marker\": {\"colorbar\": {\"outlinewidth\": 0, \"ticks\": \"\"}}, \"type\": \"histogram\"}], \"histogram2d\": [{\"colorbar\": {\"outlinewidth\": 0, \"ticks\": \"\"}, \"colorscale\": [[0.0, \"#0d0887\"], [0.1111111111111111, \"#46039f\"], [0.2222222222222222, \"#7201a8\"], [0.3333333333333333, \"#9c179e\"], [0.4444444444444444, \"#bd3786\"], [0.5555555555555556, \"#d8576b\"], [0.6666666666666666, \"#ed7953\"], [0.7777777777777778, \"#fb9f3a\"], [0.8888888888888888, \"#fdca26\"], [1.0, \"#f0f921\"]], \"type\": \"histogram2d\"}], \"histogram2dcontour\": [{\"colorbar\": {\"outlinewidth\": 0, \"ticks\": \"\"}, \"colorscale\": [[0.0, \"#0d0887\"], [0.1111111111111111, \"#46039f\"], [0.2222222222222222, \"#7201a8\"], [0.3333333333333333, \"#9c179e\"], [0.4444444444444444, \"#bd3786\"], [0.5555555555555556, \"#d8576b\"], [0.6666666666666666, \"#ed7953\"], [0.7777777777777778, \"#fb9f3a\"], [0.8888888888888888, \"#fdca26\"], [1.0, \"#f0f921\"]], \"type\": \"histogram2dcontour\"}], \"mesh3d\": [{\"colorbar\": {\"outlinewidth\": 0, \"ticks\": \"\"}, \"type\": \"mesh3d\"}], \"parcoords\": [{\"line\": {\"colorbar\": {\"outlinewidth\": 0, \"ticks\": \"\"}}, \"type\": \"parcoords\"}], \"pie\": [{\"automargin\": true, \"type\": \"pie\"}], \"scatter\": [{\"marker\": {\"colorbar\": {\"outlinewidth\": 0, \"ticks\": \"\"}}, \"type\": \"scatter\"}], \"scatter3d\": [{\"line\": {\"colorbar\": {\"outlinewidth\": 0, \"ticks\": \"\"}}, \"marker\": {\"colorbar\": {\"outlinewidth\": 0, \"ticks\": \"\"}}, \"type\": \"scatter3d\"}], \"scattercarpet\": [{\"marker\": {\"colorbar\": {\"outlinewidth\": 0, \"ticks\": \"\"}}, \"type\": \"scattercarpet\"}], \"scattergeo\": [{\"marker\": {\"colorbar\": {\"outlinewidth\": 0, \"ticks\": \"\"}}, \"type\": \"scattergeo\"}], \"scattergl\": [{\"marker\": {\"colorbar\": {\"outlinewidth\": 0, \"ticks\": \"\"}}, \"type\": \"scattergl\"}], \"scattermapbox\": [{\"marker\": {\"colorbar\": {\"outlinewidth\": 0, \"ticks\": \"\"}}, \"type\": \"scattermapbox\"}], \"scatterpolar\": [{\"marker\": {\"colorbar\": {\"outlinewidth\": 0, \"ticks\": \"\"}}, \"type\": \"scatterpolar\"}], \"scatterpolargl\": [{\"marker\": {\"colorbar\": {\"outlinewidth\": 0, \"ticks\": \"\"}}, \"type\": \"scatterpolargl\"}], \"scatterternary\": [{\"marker\": {\"colorbar\": {\"outlinewidth\": 0, \"ticks\": \"\"}}, \"type\": \"scatterternary\"}], \"surface\": [{\"colorbar\": {\"outlinewidth\": 0, \"ticks\": \"\"}, \"colorscale\": [[0.0, \"#0d0887\"], [0.1111111111111111, \"#46039f\"], [0.2222222222222222, \"#7201a8\"], [0.3333333333333333, \"#9c179e\"], [0.4444444444444444, \"#bd3786\"], [0.5555555555555556, \"#d8576b\"], [0.6666666666666666, \"#ed7953\"], [0.7777777777777778, \"#fb9f3a\"], [0.8888888888888888, \"#fdca26\"], [1.0, \"#f0f921\"]], \"type\": \"surface\"}], \"table\": [{\"cells\": {\"fill\": {\"color\": \"#EBF0F8\"}, \"line\": {\"color\": \"white\"}}, \"header\": {\"fill\": {\"color\": \"#C8D4E3\"}, \"line\": {\"color\": \"white\"}}, \"type\": \"table\"}]}, \"layout\": {\"annotationdefaults\": {\"arrowcolor\": \"#2a3f5f\", \"arrowhead\": 0, \"arrowwidth\": 1}, \"autotypenumbers\": \"strict\", \"coloraxis\": {\"colorbar\": {\"outlinewidth\": 0, \"ticks\": \"\"}}, \"colorscale\": {\"diverging\": [[0, \"#8e0152\"], [0.1, \"#c51b7d\"], [0.2, \"#de77ae\"], [0.3, \"#f1b6da\"], [0.4, \"#fde0ef\"], [0.5, \"#f7f7f7\"], [0.6, \"#e6f5d0\"], [0.7, \"#b8e186\"], [0.8, \"#7fbc41\"], [0.9, \"#4d9221\"], [1, \"#276419\"]], \"sequential\": [[0.0, \"#0d0887\"], [0.1111111111111111, \"#46039f\"], [0.2222222222222222, \"#7201a8\"], [0.3333333333333333, \"#9c179e\"], [0.4444444444444444, \"#bd3786\"], [0.5555555555555556, \"#d8576b\"], [0.6666666666666666, \"#ed7953\"], [0.7777777777777778, \"#fb9f3a\"], [0.8888888888888888, \"#fdca26\"], [1.0, \"#f0f921\"]], \"sequentialminus\": [[0.0, \"#0d0887\"], [0.1111111111111111, \"#46039f\"], [0.2222222222222222, \"#7201a8\"], [0.3333333333333333, \"#9c179e\"], [0.4444444444444444, \"#bd3786\"], [0.5555555555555556, \"#d8576b\"], [0.6666666666666666, \"#ed7953\"], [0.7777777777777778, \"#fb9f3a\"], [0.8888888888888888, \"#fdca26\"], [1.0, \"#f0f921\"]]}, \"colorway\": [\"#636efa\", \"#EF553B\", \"#00cc96\", \"#ab63fa\", \"#FFA15A\", \"#19d3f3\", \"#FF6692\", \"#B6E880\", \"#FF97FF\", \"#FECB52\"], \"font\": {\"color\": \"#2a3f5f\"}, \"geo\": {\"bgcolor\": \"white\", \"lakecolor\": \"white\", \"landcolor\": \"#E5ECF6\", \"showlakes\": true, \"showland\": true, \"subunitcolor\": \"white\"}, \"hoverlabel\": {\"align\": \"left\"}, \"hovermode\": \"closest\", \"mapbox\": {\"style\": \"light\"}, \"paper_bgcolor\": \"white\", \"plot_bgcolor\": \"#E5ECF6\", \"polar\": {\"angularaxis\": {\"gridcolor\": \"white\", \"linecolor\": \"white\", \"ticks\": \"\"}, \"bgcolor\": \"#E5ECF6\", \"radialaxis\": {\"gridcolor\": \"white\", \"linecolor\": \"white\", \"ticks\": \"\"}}, \"scene\": {\"xaxis\": {\"backgroundcolor\": \"#E5ECF6\", \"gridcolor\": \"white\", \"gridwidth\": 2, \"linecolor\": \"white\", \"showbackground\": true, \"ticks\": \"\", \"zerolinecolor\": \"white\"}, \"yaxis\": {\"backgroundcolor\": \"#E5ECF6\", \"gridcolor\": \"white\", \"gridwidth\": 2, \"linecolor\": \"white\", \"showbackground\": true, \"ticks\": \"\", \"zerolinecolor\": \"white\"}, \"zaxis\": {\"backgroundcolor\": \"#E5ECF6\", \"gridcolor\": \"white\", \"gridwidth\": 2, \"linecolor\": \"white\", \"showbackground\": true, \"ticks\": \"\", \"zerolinecolor\": \"white\"}}, \"shapedefaults\": {\"line\": {\"color\": \"#2a3f5f\"}}, \"ternary\": {\"aaxis\": {\"gridcolor\": \"white\", \"linecolor\": \"white\", \"ticks\": \"\"}, \"baxis\": {\"gridcolor\": \"white\", \"linecolor\": \"white\", \"ticks\": \"\"}, \"bgcolor\": \"#E5ECF6\", \"caxis\": {\"gridcolor\": \"white\", \"linecolor\": \"white\", \"ticks\": \"\"}}, \"title\": {\"x\": 0.05}, \"xaxis\": {\"automargin\": true, \"gridcolor\": \"white\", \"linecolor\": \"white\", \"ticks\": \"\", \"title\": {\"standoff\": 15}, \"zerolinecolor\": \"white\", \"zerolinewidth\": 2}, \"yaxis\": {\"automargin\": true, \"gridcolor\": \"white\", \"linecolor\": \"white\", \"ticks\": \"\", \"title\": {\"standoff\": 15}, \"zerolinecolor\": \"white\", \"zerolinewidth\": 2}}}, \"title\": {\"font\": {\"color\": \"#4D5663\"}}, \"xaxis\": {\"gridcolor\": \"#E1E5ED\", \"showgrid\": true, \"tickfont\": {\"color\": \"#4D5663\"}, \"title\": {\"font\": {\"color\": \"#4D5663\"}, \"text\": \"\"}, \"zerolinecolor\": \"#E1E5ED\"}, \"yaxis\": {\"gridcolor\": \"#E1E5ED\", \"showgrid\": true, \"tickfont\": {\"color\": \"#4D5663\"}, \"title\": {\"font\": {\"color\": \"#4D5663\"}, \"text\": \"\"}, \"zerolinecolor\": \"#E1E5ED\"}},                        {\"showLink\": true, \"linkText\": \"Export to plot.ly\", \"plotlyServerURL\": \"https://plot.ly\", \"responsive\": true}                    ).then(function(){\n",
       "                            \n",
       "var gd = document.getElementById('0ca406ac-8de6-4964-a436-3eedd6e083d9');\n",
       "var x = new MutationObserver(function (mutations, observer) {{\n",
       "        var display = window.getComputedStyle(gd).display;\n",
       "        if (!display || display === 'none') {{\n",
       "            console.log([gd, 'removed!']);\n",
       "            Plotly.purge(gd);\n",
       "            observer.disconnect();\n",
       "        }}\n",
       "}});\n",
       "\n",
       "// Listen for the removal of the full notebook cells\n",
       "var notebookContainer = gd.closest('#notebook-container');\n",
       "if (notebookContainer) {{\n",
       "    x.observe(notebookContainer, {childList: true});\n",
       "}}\n",
       "\n",
       "// Listen for the clearing of the current output cell\n",
       "var outputEl = gd.closest('.output');\n",
       "if (outputEl) {{\n",
       "    x.observe(outputEl, {childList: true});\n",
       "}}\n",
       "\n",
       "                        })                };                });            </script>        </div>"
      ]
     },
     "metadata": {},
     "output_type": "display_data"
    }
   ],
   "source": [
    "data[['N_Total Time','N_Overtime']].iplot(kind='histogram')"
   ]
  },
  {
   "cell_type": "markdown",
   "metadata": {},
   "source": [
    "#### "
   ]
  },
  {
   "cell_type": "code",
   "execution_count": 16,
   "metadata": {},
   "outputs": [
    {
     "data": {
      "text/plain": [
       "Index(['No', 'Sites', 'Deliver Name', 'Rating', 'Feedback Tag',\n",
       "       'Pick Up Order Time', 'Arrival Time', 'Waiting Time', 'Deliver Time',\n",
       "       'N_Total Time', 'N_Overtime'],\n",
       "      dtype='object')"
      ]
     },
     "execution_count": 16,
     "metadata": {},
     "output_type": "execute_result"
    }
   ],
   "source": [
    "data.columns"
   ]
  },
  {
   "cell_type": "code",
   "execution_count": 17,
   "metadata": {},
   "outputs": [
    {
     "data": {
      "text/html": [
       "<div>\n",
       "<style scoped>\n",
       "    .dataframe tbody tr th:only-of-type {\n",
       "        vertical-align: middle;\n",
       "    }\n",
       "\n",
       "    .dataframe tbody tr th {\n",
       "        vertical-align: top;\n",
       "    }\n",
       "\n",
       "    .dataframe thead th {\n",
       "        text-align: right;\n",
       "    }\n",
       "</style>\n",
       "<table border=\"1\" class=\"dataframe\">\n",
       "  <thead>\n",
       "    <tr style=\"text-align: right;\">\n",
       "      <th></th>\n",
       "      <th>No</th>\n",
       "      <th>Sites</th>\n",
       "      <th>Deliver Name</th>\n",
       "      <th>Rating</th>\n",
       "      <th>Feedback Tag</th>\n",
       "      <th>Pick Up Order Time</th>\n",
       "      <th>Arrival Time</th>\n",
       "      <th>Waiting Time</th>\n",
       "      <th>Deliver Time</th>\n",
       "      <th>N_Total Time</th>\n",
       "      <th>N_Overtime</th>\n",
       "      <th>N_Overtime_group</th>\n",
       "    </tr>\n",
       "  </thead>\n",
       "  <tbody>\n",
       "    <tr>\n",
       "      <th>1</th>\n",
       "      <td>2</td>\n",
       "      <td>Site E</td>\n",
       "      <td>张*安</td>\n",
       "      <td>1</td>\n",
       "      <td>Others</td>\n",
       "      <td>0.07</td>\n",
       "      <td>6.87</td>\n",
       "      <td>1.93</td>\n",
       "      <td>6.30</td>\n",
       "      <td>15.17</td>\n",
       "      <td>-14.83</td>\n",
       "      <td>(-20.0, -10.0]</td>\n",
       "    </tr>\n",
       "    <tr>\n",
       "      <th>2</th>\n",
       "      <td>3</td>\n",
       "      <td>Site E</td>\n",
       "      <td>林*健</td>\n",
       "      <td>1</td>\n",
       "      <td>Delivery timeout|Bad attitude</td>\n",
       "      <td>1.45</td>\n",
       "      <td>11.35</td>\n",
       "      <td>0.05</td>\n",
       "      <td>51.88</td>\n",
       "      <td>64.73</td>\n",
       "      <td>34.73</td>\n",
       "      <td>(30.0, 40.0]</td>\n",
       "    </tr>\n",
       "    <tr>\n",
       "      <th>4</th>\n",
       "      <td>5</td>\n",
       "      <td>Site E</td>\n",
       "      <td>黄*灶</td>\n",
       "      <td>1</td>\n",
       "      <td>Delivery timeout</td>\n",
       "      <td>15.80</td>\n",
       "      <td>12.90</td>\n",
       "      <td>7.23</td>\n",
       "      <td>10.18</td>\n",
       "      <td>46.11</td>\n",
       "      <td>16.11</td>\n",
       "      <td>(10.0, 20.0]</td>\n",
       "    </tr>\n",
       "  </tbody>\n",
       "</table>\n",
       "</div>"
      ],
      "text/plain": [
       "   No   Sites Deliver Name  Rating                   Feedback Tag  \\\n",
       "1   2  Site E          张*安       1                         Others   \n",
       "2   3  Site E          林*健       1  Delivery timeout|Bad attitude   \n",
       "4   5  Site E          黄*灶       1               Delivery timeout   \n",
       "\n",
       "   Pick Up Order Time  Arrival Time  Waiting Time  Deliver Time  N_Total Time  \\\n",
       "1                0.07          6.87          1.93          6.30         15.17   \n",
       "2                1.45         11.35          0.05         51.88         64.73   \n",
       "4               15.80         12.90          7.23         10.18         46.11   \n",
       "\n",
       "   N_Overtime N_Overtime_group  \n",
       "1      -14.83   (-20.0, -10.0]  \n",
       "2       34.73     (30.0, 40.0]  \n",
       "4       16.11     (10.0, 20.0]  "
      ]
     },
     "execution_count": 17,
     "metadata": {},
     "output_type": "execute_result"
    }
   ],
   "source": [
    "bins = [-np.inf,-30,-20,-10,0,10,20,30,40,50,60,np.inf]\n",
    "data['N_Overtime_group'] = pd.cut(data['N_Overtime'],bins)\n",
    "data.head(3)\n",
    "\n"
   ]
  },
  {
   "cell_type": "markdown",
   "metadata": {},
   "source": [
    "#### Create New Variable"
   ]
  },
  {
   "cell_type": "code",
   "execution_count": 18,
   "metadata": {},
   "outputs": [
    {
     "data": {
      "text/html": [
       "<div>\n",
       "<style scoped>\n",
       "    .dataframe tbody tr th:only-of-type {\n",
       "        vertical-align: middle;\n",
       "    }\n",
       "\n",
       "    .dataframe tbody tr th {\n",
       "        vertical-align: top;\n",
       "    }\n",
       "\n",
       "    .dataframe thead th {\n",
       "        text-align: right;\n",
       "    }\n",
       "</style>\n",
       "<table border=\"1\" class=\"dataframe\">\n",
       "  <thead>\n",
       "    <tr style=\"text-align: right;\">\n",
       "      <th></th>\n",
       "      <th>No</th>\n",
       "      <th>Sites</th>\n",
       "      <th>Deliver Name</th>\n",
       "      <th>Rating</th>\n",
       "      <th>Feedback Tag</th>\n",
       "      <th>Pick Up Order Time</th>\n",
       "      <th>Arrival Time</th>\n",
       "      <th>Waiting Time</th>\n",
       "      <th>Deliver Time</th>\n",
       "      <th>N_Total Time</th>\n",
       "      <th>N_Overtime</th>\n",
       "      <th>N_Overtime_group</th>\n",
       "      <th>N_The length of the most time-spending</th>\n",
       "      <th>N_The most spending time part</th>\n",
       "    </tr>\n",
       "  </thead>\n",
       "  <tbody>\n",
       "    <tr>\n",
       "      <th>1</th>\n",
       "      <td>2</td>\n",
       "      <td>Site E</td>\n",
       "      <td>张*安</td>\n",
       "      <td>1</td>\n",
       "      <td>Others</td>\n",
       "      <td>0.07</td>\n",
       "      <td>6.87</td>\n",
       "      <td>1.93</td>\n",
       "      <td>6.30</td>\n",
       "      <td>15.17</td>\n",
       "      <td>-14.83</td>\n",
       "      <td>(-20.0, -10.0]</td>\n",
       "      <td>6.87</td>\n",
       "      <td>Arrival Time</td>\n",
       "    </tr>\n",
       "    <tr>\n",
       "      <th>2</th>\n",
       "      <td>3</td>\n",
       "      <td>Site E</td>\n",
       "      <td>林*健</td>\n",
       "      <td>1</td>\n",
       "      <td>Delivery timeout|Bad attitude</td>\n",
       "      <td>1.45</td>\n",
       "      <td>11.35</td>\n",
       "      <td>0.05</td>\n",
       "      <td>51.88</td>\n",
       "      <td>64.73</td>\n",
       "      <td>34.73</td>\n",
       "      <td>(30.0, 40.0]</td>\n",
       "      <td>51.88</td>\n",
       "      <td>Deliver Time</td>\n",
       "    </tr>\n",
       "    <tr>\n",
       "      <th>4</th>\n",
       "      <td>5</td>\n",
       "      <td>Site E</td>\n",
       "      <td>黄*灶</td>\n",
       "      <td>1</td>\n",
       "      <td>Delivery timeout</td>\n",
       "      <td>15.80</td>\n",
       "      <td>12.90</td>\n",
       "      <td>7.23</td>\n",
       "      <td>10.18</td>\n",
       "      <td>46.11</td>\n",
       "      <td>16.11</td>\n",
       "      <td>(10.0, 20.0]</td>\n",
       "      <td>15.80</td>\n",
       "      <td>Pick Up Order Time</td>\n",
       "    </tr>\n",
       "  </tbody>\n",
       "</table>\n",
       "</div>"
      ],
      "text/plain": [
       "   No   Sites Deliver Name  Rating                   Feedback Tag  \\\n",
       "1   2  Site E          张*安       1                         Others   \n",
       "2   3  Site E          林*健       1  Delivery timeout|Bad attitude   \n",
       "4   5  Site E          黄*灶       1               Delivery timeout   \n",
       "\n",
       "   Pick Up Order Time  Arrival Time  Waiting Time  Deliver Time  N_Total Time  \\\n",
       "1                0.07          6.87          1.93          6.30         15.17   \n",
       "2                1.45         11.35          0.05         51.88         64.73   \n",
       "4               15.80         12.90          7.23         10.18         46.11   \n",
       "\n",
       "   N_Overtime N_Overtime_group  N_The length of the most time-spending  \\\n",
       "1      -14.83   (-20.0, -10.0]                                    6.87   \n",
       "2       34.73     (30.0, 40.0]                                   51.88   \n",
       "4       16.11     (10.0, 20.0]                                   15.80   \n",
       "\n",
       "  N_The most spending time part  \n",
       "1                  Arrival Time  \n",
       "2                  Deliver Time  \n",
       "4            Pick Up Order Time  "
      ]
     },
     "execution_count": 18,
     "metadata": {},
     "output_type": "execute_result"
    }
   ],
   "source": [
    "# 最超时环节 \n",
    "dur_list=['Pick Up Order Time','Arrival Time', 'Waiting Time', 'Deliver Time']\n",
    "data['N_The length of the most time-spending']=data[dur_list].max(axis=1) #列最大值 \n",
    "data['N_The most spending time part']=data[dur_list].idxmax(axis=1) # 获取最大值表头索引\n",
    "data.head(3)"
   ]
  },
  {
   "cell_type": "code",
   "execution_count": 19,
   "metadata": {},
   "outputs": [
    {
     "data": {
      "text/plain": [
       "(487, 14)"
      ]
     },
     "execution_count": 19,
     "metadata": {},
     "output_type": "execute_result"
    }
   ],
   "source": [
    "data.shape"
   ]
  },
  {
   "cell_type": "code",
   "execution_count": 20,
   "metadata": {},
   "outputs": [
    {
     "data": {
      "text/html": [
       "<div>\n",
       "<style scoped>\n",
       "    .dataframe tbody tr th:only-of-type {\n",
       "        vertical-align: middle;\n",
       "    }\n",
       "\n",
       "    .dataframe tbody tr th {\n",
       "        vertical-align: top;\n",
       "    }\n",
       "\n",
       "    .dataframe thead th {\n",
       "        text-align: right;\n",
       "    }\n",
       "</style>\n",
       "<table border=\"1\" class=\"dataframe\">\n",
       "  <thead>\n",
       "    <tr style=\"text-align: right;\">\n",
       "      <th></th>\n",
       "      <th>No</th>\n",
       "      <th>Sites</th>\n",
       "      <th>Deliver Name</th>\n",
       "      <th>Rating</th>\n",
       "      <th>Feedback Tag</th>\n",
       "      <th>Pick Up Order Time</th>\n",
       "      <th>Arrival Time</th>\n",
       "      <th>Waiting Time</th>\n",
       "      <th>Deliver Time</th>\n",
       "      <th>N_Total Time</th>\n",
       "      <th>N_Overtime</th>\n",
       "      <th>N_Overtime_group</th>\n",
       "      <th>N_The length of the most time-spending</th>\n",
       "      <th>N_The most spending time part</th>\n",
       "      <th>Customer Feedback Tag</th>\n",
       "    </tr>\n",
       "  </thead>\n",
       "  <tbody>\n",
       "    <tr>\n",
       "      <th>1</th>\n",
       "      <td>2</td>\n",
       "      <td>Site E</td>\n",
       "      <td>张*安</td>\n",
       "      <td>1</td>\n",
       "      <td>Others</td>\n",
       "      <td>0.07</td>\n",
       "      <td>6.87</td>\n",
       "      <td>1.93</td>\n",
       "      <td>6.30</td>\n",
       "      <td>15.17</td>\n",
       "      <td>-14.83</td>\n",
       "      <td>(-20.0, -10.0]</td>\n",
       "      <td>6.87</td>\n",
       "      <td>Arrival Time</td>\n",
       "      <td>[Others]</td>\n",
       "    </tr>\n",
       "    <tr>\n",
       "      <th>2</th>\n",
       "      <td>3</td>\n",
       "      <td>Site E</td>\n",
       "      <td>林*健</td>\n",
       "      <td>1</td>\n",
       "      <td>Delivery timeout|Bad attitude</td>\n",
       "      <td>1.45</td>\n",
       "      <td>11.35</td>\n",
       "      <td>0.05</td>\n",
       "      <td>51.88</td>\n",
       "      <td>64.73</td>\n",
       "      <td>34.73</td>\n",
       "      <td>(30.0, 40.0]</td>\n",
       "      <td>51.88</td>\n",
       "      <td>Deliver Time</td>\n",
       "      <td>[Delivery timeout, Bad attitude]</td>\n",
       "    </tr>\n",
       "    <tr>\n",
       "      <th>4</th>\n",
       "      <td>5</td>\n",
       "      <td>Site E</td>\n",
       "      <td>黄*灶</td>\n",
       "      <td>1</td>\n",
       "      <td>Delivery timeout</td>\n",
       "      <td>15.80</td>\n",
       "      <td>12.90</td>\n",
       "      <td>7.23</td>\n",
       "      <td>10.18</td>\n",
       "      <td>46.11</td>\n",
       "      <td>16.11</td>\n",
       "      <td>(10.0, 20.0]</td>\n",
       "      <td>15.80</td>\n",
       "      <td>Pick Up Order Time</td>\n",
       "      <td>[Delivery timeout]</td>\n",
       "    </tr>\n",
       "    <tr>\n",
       "      <th>7</th>\n",
       "      <td>8</td>\n",
       "      <td>Site E</td>\n",
       "      <td>陈*贤</td>\n",
       "      <td>1</td>\n",
       "      <td>No notice on delivery</td>\n",
       "      <td>0.73</td>\n",
       "      <td>0.03</td>\n",
       "      <td>8.08</td>\n",
       "      <td>8.45</td>\n",
       "      <td>17.29</td>\n",
       "      <td>-12.71</td>\n",
       "      <td>(-20.0, -10.0]</td>\n",
       "      <td>8.45</td>\n",
       "      <td>Deliver Time</td>\n",
       "      <td>[No notice on delivery]</td>\n",
       "    </tr>\n",
       "    <tr>\n",
       "      <th>8</th>\n",
       "      <td>9</td>\n",
       "      <td>Site E</td>\n",
       "      <td>钟*林</td>\n",
       "      <td>1</td>\n",
       "      <td>No notice on delivery|Delivery timeout</td>\n",
       "      <td>1.35</td>\n",
       "      <td>8.92</td>\n",
       "      <td>3.65</td>\n",
       "      <td>37.27</td>\n",
       "      <td>51.19</td>\n",
       "      <td>21.19</td>\n",
       "      <td>(20.0, 30.0]</td>\n",
       "      <td>37.27</td>\n",
       "      <td>Deliver Time</td>\n",
       "      <td>[No notice on delivery, Delivery timeout]</td>\n",
       "    </tr>\n",
       "  </tbody>\n",
       "</table>\n",
       "</div>"
      ],
      "text/plain": [
       "   No   Sites Deliver Name  Rating                            Feedback Tag  \\\n",
       "1   2  Site E          张*安       1                                  Others   \n",
       "2   3  Site E          林*健       1           Delivery timeout|Bad attitude   \n",
       "4   5  Site E          黄*灶       1                        Delivery timeout   \n",
       "7   8  Site E          陈*贤       1                   No notice on delivery   \n",
       "8   9  Site E          钟*林       1  No notice on delivery|Delivery timeout   \n",
       "\n",
       "   Pick Up Order Time  Arrival Time  Waiting Time  Deliver Time  N_Total Time  \\\n",
       "1                0.07          6.87          1.93          6.30         15.17   \n",
       "2                1.45         11.35          0.05         51.88         64.73   \n",
       "4               15.80         12.90          7.23         10.18         46.11   \n",
       "7                0.73          0.03          8.08          8.45         17.29   \n",
       "8                1.35          8.92          3.65         37.27         51.19   \n",
       "\n",
       "   N_Overtime N_Overtime_group  N_The length of the most time-spending  \\\n",
       "1      -14.83   (-20.0, -10.0]                                    6.87   \n",
       "2       34.73     (30.0, 40.0]                                   51.88   \n",
       "4       16.11     (10.0, 20.0]                                   15.80   \n",
       "7      -12.71   (-20.0, -10.0]                                    8.45   \n",
       "8       21.19     (20.0, 30.0]                                   37.27   \n",
       "\n",
       "  N_The most spending time part                      Customer Feedback Tag  \n",
       "1                  Arrival Time                                   [Others]  \n",
       "2                  Deliver Time           [Delivery timeout, Bad attitude]  \n",
       "4            Pick Up Order Time                         [Delivery timeout]  \n",
       "7                  Deliver Time                    [No notice on delivery]  \n",
       "8                  Deliver Time  [No notice on delivery, Delivery timeout]  "
      ]
     },
     "execution_count": 20,
     "metadata": {},
     "output_type": "execute_result"
    }
   ],
   "source": [
    "data['Customer Feedback Tag']=data['Feedback Tag'].apply(lambda x: x.split('|'))\n",
    "data.head()"
   ]
  },
  {
   "cell_type": "code",
   "execution_count": 21,
   "metadata": {},
   "outputs": [],
   "source": [
    "data['Customer Feedback Tag']=data['Customer Feedback Tag'].apply(lambda x:\"|\".join(x)) # list转换为str"
   ]
  },
  {
   "cell_type": "code",
   "execution_count": 22,
   "metadata": {},
   "outputs": [
    {
     "name": "stdout",
     "output_type": "stream",
     "text": [
      "(688, 15)\n"
     ]
    }
   ],
   "source": [
    "# 行-根据分隔符号转列 Transform each element of a list-like to a row, replicating index values.\n",
    "data['Customer Feedback Tag']=data['Customer Feedback Tag'].map(lambda x:x.split(\"|\"))\n",
    "data_explode=data.explode('Customer Feedback Tag')\n",
    "data_explode.to_excel(path+'data_explode.xlsx')\n",
    "print(data_explode.shape)"
   ]
  },
  {
   "cell_type": "code",
   "execution_count": 23,
   "metadata": {},
   "outputs": [
    {
     "data": {
      "text/html": [
       "<div>\n",
       "<style scoped>\n",
       "    .dataframe tbody tr th:only-of-type {\n",
       "        vertical-align: middle;\n",
       "    }\n",
       "\n",
       "    .dataframe tbody tr th {\n",
       "        vertical-align: top;\n",
       "    }\n",
       "\n",
       "    .dataframe thead th {\n",
       "        text-align: right;\n",
       "    }\n",
       "</style>\n",
       "<table border=\"1\" class=\"dataframe\">\n",
       "  <thead>\n",
       "    <tr style=\"text-align: right;\">\n",
       "      <th></th>\n",
       "      <th>No</th>\n",
       "      <th>Sites</th>\n",
       "      <th>Deliver Name</th>\n",
       "      <th>Rating</th>\n",
       "      <th>Feedback Tag</th>\n",
       "      <th>Pick Up Order Time</th>\n",
       "      <th>Arrival Time</th>\n",
       "      <th>Waiting Time</th>\n",
       "      <th>Deliver Time</th>\n",
       "      <th>N_Total Time</th>\n",
       "      <th>N_Overtime</th>\n",
       "      <th>N_Overtime_group</th>\n",
       "      <th>N_The length of the most time-spending</th>\n",
       "      <th>N_The most spending time part</th>\n",
       "      <th>Customer Feedback Tag</th>\n",
       "    </tr>\n",
       "  </thead>\n",
       "  <tbody>\n",
       "    <tr>\n",
       "      <th>1</th>\n",
       "      <td>2</td>\n",
       "      <td>Site E</td>\n",
       "      <td>张*安</td>\n",
       "      <td>1</td>\n",
       "      <td>Others</td>\n",
       "      <td>0.07</td>\n",
       "      <td>6.87</td>\n",
       "      <td>1.93</td>\n",
       "      <td>6.30</td>\n",
       "      <td>15.17</td>\n",
       "      <td>-14.83</td>\n",
       "      <td>(-20.0, -10.0]</td>\n",
       "      <td>6.87</td>\n",
       "      <td>Arrival Time</td>\n",
       "      <td>Others</td>\n",
       "    </tr>\n",
       "    <tr>\n",
       "      <th>2</th>\n",
       "      <td>3</td>\n",
       "      <td>Site E</td>\n",
       "      <td>林*健</td>\n",
       "      <td>1</td>\n",
       "      <td>Delivery timeout|Bad attitude</td>\n",
       "      <td>1.45</td>\n",
       "      <td>11.35</td>\n",
       "      <td>0.05</td>\n",
       "      <td>51.88</td>\n",
       "      <td>64.73</td>\n",
       "      <td>34.73</td>\n",
       "      <td>(30.0, 40.0]</td>\n",
       "      <td>51.88</td>\n",
       "      <td>Deliver Time</td>\n",
       "      <td>Delivery timeout</td>\n",
       "    </tr>\n",
       "    <tr>\n",
       "      <th>2</th>\n",
       "      <td>3</td>\n",
       "      <td>Site E</td>\n",
       "      <td>林*健</td>\n",
       "      <td>1</td>\n",
       "      <td>Delivery timeout|Bad attitude</td>\n",
       "      <td>1.45</td>\n",
       "      <td>11.35</td>\n",
       "      <td>0.05</td>\n",
       "      <td>51.88</td>\n",
       "      <td>64.73</td>\n",
       "      <td>34.73</td>\n",
       "      <td>(30.0, 40.0]</td>\n",
       "      <td>51.88</td>\n",
       "      <td>Deliver Time</td>\n",
       "      <td>Bad attitude</td>\n",
       "    </tr>\n",
       "  </tbody>\n",
       "</table>\n",
       "</div>"
      ],
      "text/plain": [
       "   No   Sites Deliver Name  Rating                   Feedback Tag  \\\n",
       "1   2  Site E          张*安       1                         Others   \n",
       "2   3  Site E          林*健       1  Delivery timeout|Bad attitude   \n",
       "2   3  Site E          林*健       1  Delivery timeout|Bad attitude   \n",
       "\n",
       "   Pick Up Order Time  Arrival Time  Waiting Time  Deliver Time  N_Total Time  \\\n",
       "1                0.07          6.87          1.93          6.30         15.17   \n",
       "2                1.45         11.35          0.05         51.88         64.73   \n",
       "2                1.45         11.35          0.05         51.88         64.73   \n",
       "\n",
       "   N_Overtime N_Overtime_group  N_The length of the most time-spending  \\\n",
       "1      -14.83   (-20.0, -10.0]                                    6.87   \n",
       "2       34.73     (30.0, 40.0]                                   51.88   \n",
       "2       34.73     (30.0, 40.0]                                   51.88   \n",
       "\n",
       "  N_The most spending time part Customer Feedback Tag  \n",
       "1                  Arrival Time                Others  \n",
       "2                  Deliver Time      Delivery timeout  \n",
       "2                  Deliver Time          Bad attitude  "
      ]
     },
     "execution_count": 23,
     "metadata": {},
     "output_type": "execute_result"
    }
   ],
   "source": [
    "data_explode.head(3)"
   ]
  },
  {
   "cell_type": "code",
   "execution_count": 24,
   "metadata": {},
   "outputs": [
    {
     "name": "stdout",
     "output_type": "stream",
     "text": [
      "1                         Others\n",
      "2               Delivery timeout\n",
      "2                   Bad attitude\n",
      "4               Delivery timeout\n",
      "7          No notice on delivery\n",
      "                 ...            \n",
      "537             Delivery timeout\n",
      "537                       Others\n",
      "537                 Bad attitude\n",
      "540    Not enough meals/Bad meal\n",
      "541        No notice on delivery\n",
      "Name: Customer Feedback Tag, Length: 688, dtype: object\n"
     ]
    }
   ],
   "source": [
    "print(data_explode['Customer Feedback Tag'])"
   ]
  },
  {
   "cell_type": "code",
   "execution_count": 25,
   "metadata": {},
   "outputs": [],
   "source": [
    "# Deliver people 's negative dictionary\n",
    "qscp_dict =    {\"threat\":\"threat\",\n",
    "              \"Irregular appearance\":\"Professional attitude\",\n",
    "              \"Bad attitude\":\"Professional attitude\",\n",
    "              \"Early delivery\":\"Illegal operation\",\n",
    "              \"No notice on delivery\":\"Illegal operation\",\n",
    "              \"Delivery timeout\":\"Delivery timeout\",\n",
    "              \"Others\":\"Others\",\n",
    "                \"Not enough meals/Bad meal\":\"Delivery process\",\n",
    "                \"Wrong meal\":\"Delivery process\"}\n"
   ]
  },
  {
   "cell_type": "code",
   "execution_count": 26,
   "metadata": {},
   "outputs": [],
   "source": [
    "data_explode['Reviews Category']=data_explode['Customer Feedback Tag'].map(qscp_dict)\n",
    "data_explode.to_excel(path+'data_explode.xlsx')\n"
   ]
  },
  {
   "cell_type": "code",
   "execution_count": 27,
   "metadata": {},
   "outputs": [
    {
     "data": {
      "text/plain": [
       "Index(['No', 'Sites', 'Deliver Name', 'Rating', 'Feedback Tag',\n",
       "       'Pick Up Order Time', 'Arrival Time', 'Waiting Time', 'Deliver Time',\n",
       "       'N_Total Time', 'N_Overtime', 'N_Overtime_group',\n",
       "       'N_The length of the most time-spending',\n",
       "       'N_The most spending time part', 'Customer Feedback Tag',\n",
       "       'Reviews Category'],\n",
       "      dtype='object')"
      ]
     },
     "execution_count": 27,
     "metadata": {},
     "output_type": "execute_result"
    }
   ],
   "source": [
    "data_explode.columns"
   ]
  },
  {
   "cell_type": "markdown",
   "metadata": {},
   "source": [
    "# Analysis"
   ]
  },
  {
   "cell_type": "markdown",
   "metadata": {},
   "source": [
    "## overview analysis"
   ]
  },
  {
   "cell_type": "code",
   "execution_count": 28,
   "metadata": {},
   "outputs": [
    {
     "name": "stdout",
     "output_type": "stream",
     "text": [
      "差评数据概况：\n",
      "Sites total number： 6\n",
      "Deliver Person total 367\n",
      "Total order of negative feedback： 487\n",
      "Total of Customer Feedback Tag： 688\n"
     ]
    }
   ],
   "source": [
    "# 数据概况\n",
    "print('差评数据概况：')\n",
    "print('Sites total number：',data_explode['Sites'].unique().shape[0])\n",
    "print('Deliver Person total',data_explode['Deliver Name'].unique().shape[0])\n",
    "print('Total order of negative feedback：',data_explode['No'].unique().shape[0])\n",
    "print('Total of Customer Feedback Tag：',data_explode['No'].shape[0])\n",
    "\n"
   ]
  },
  {
   "cell_type": "code",
   "execution_count": 29,
   "metadata": {},
   "outputs": [
    {
     "data": {
      "text/html": [
       "<div>\n",
       "<style scoped>\n",
       "    .dataframe tbody tr th:only-of-type {\n",
       "        vertical-align: middle;\n",
       "    }\n",
       "\n",
       "    .dataframe tbody tr th {\n",
       "        vertical-align: top;\n",
       "    }\n",
       "\n",
       "    .dataframe thead th {\n",
       "        text-align: right;\n",
       "    }\n",
       "</style>\n",
       "<table border=\"1\" class=\"dataframe\">\n",
       "  <thead>\n",
       "    <tr style=\"text-align: right;\">\n",
       "      <th></th>\n",
       "      <th>Number of negative feedback</th>\n",
       "      <th>Number of People</th>\n",
       "      <th>Cumulative number</th>\n",
       "      <th>Proportion of people-%</th>\n",
       "      <th>Cumulative proportion of people-%</th>\n",
       "    </tr>\n",
       "  </thead>\n",
       "  <tbody>\n",
       "    <tr>\n",
       "      <th>0</th>\n",
       "      <td>1</td>\n",
       "      <td>221</td>\n",
       "      <td>221</td>\n",
       "      <td>60.217984</td>\n",
       "      <td>60.217984</td>\n",
       "    </tr>\n",
       "    <tr>\n",
       "      <th>1</th>\n",
       "      <td>2</td>\n",
       "      <td>76</td>\n",
       "      <td>297</td>\n",
       "      <td>20.708447</td>\n",
       "      <td>80.926431</td>\n",
       "    </tr>\n",
       "    <tr>\n",
       "      <th>2</th>\n",
       "      <td>3</td>\n",
       "      <td>33</td>\n",
       "      <td>330</td>\n",
       "      <td>8.991826</td>\n",
       "      <td>89.918256</td>\n",
       "    </tr>\n",
       "    <tr>\n",
       "      <th>3</th>\n",
       "      <td>4</td>\n",
       "      <td>12</td>\n",
       "      <td>342</td>\n",
       "      <td>3.269755</td>\n",
       "      <td>93.188011</td>\n",
       "    </tr>\n",
       "    <tr>\n",
       "      <th>4</th>\n",
       "      <td>5</td>\n",
       "      <td>9</td>\n",
       "      <td>351</td>\n",
       "      <td>2.452316</td>\n",
       "      <td>95.640327</td>\n",
       "    </tr>\n",
       "    <tr>\n",
       "      <th>5</th>\n",
       "      <td>6</td>\n",
       "      <td>6</td>\n",
       "      <td>357</td>\n",
       "      <td>1.634877</td>\n",
       "      <td>97.275204</td>\n",
       "    </tr>\n",
       "    <tr>\n",
       "      <th>7</th>\n",
       "      <td>7</td>\n",
       "      <td>3</td>\n",
       "      <td>360</td>\n",
       "      <td>0.817439</td>\n",
       "      <td>98.092643</td>\n",
       "    </tr>\n",
       "    <tr>\n",
       "      <th>6</th>\n",
       "      <td>8</td>\n",
       "      <td>3</td>\n",
       "      <td>363</td>\n",
       "      <td>0.817439</td>\n",
       "      <td>98.910082</td>\n",
       "    </tr>\n",
       "    <tr>\n",
       "      <th>8</th>\n",
       "      <td>9</td>\n",
       "      <td>2</td>\n",
       "      <td>365</td>\n",
       "      <td>0.544959</td>\n",
       "      <td>99.455041</td>\n",
       "    </tr>\n",
       "    <tr>\n",
       "      <th>10</th>\n",
       "      <td>11</td>\n",
       "      <td>1</td>\n",
       "      <td>366</td>\n",
       "      <td>0.272480</td>\n",
       "      <td>99.727520</td>\n",
       "    </tr>\n",
       "    <tr>\n",
       "      <th>9</th>\n",
       "      <td>13</td>\n",
       "      <td>1</td>\n",
       "      <td>367</td>\n",
       "      <td>0.272480</td>\n",
       "      <td>100.000000</td>\n",
       "    </tr>\n",
       "  </tbody>\n",
       "</table>\n",
       "</div>"
      ],
      "text/plain": [
       "    Number of negative feedback  Number of People  Cumulative number  \\\n",
       "0                             1               221                221   \n",
       "1                             2                76                297   \n",
       "2                             3                33                330   \n",
       "3                             4                12                342   \n",
       "4                             5                 9                351   \n",
       "5                             6                 6                357   \n",
       "7                             7                 3                360   \n",
       "6                             8                 3                363   \n",
       "8                             9                 2                365   \n",
       "10                           11                 1                366   \n",
       "9                            13                 1                367   \n",
       "\n",
       "    Proportion of people-%  Cumulative proportion of people-%  \n",
       "0                60.217984                          60.217984  \n",
       "1                20.708447                          80.926431  \n",
       "2                 8.991826                          89.918256  \n",
       "3                 3.269755                          93.188011  \n",
       "4                 2.452316                          95.640327  \n",
       "5                 1.634877                          97.275204  \n",
       "7                 0.817439                          98.092643  \n",
       "6                 0.817439                          98.910082  \n",
       "8                 0.544959                          99.455041  \n",
       "10                0.272480                          99.727520  \n",
       "9                 0.272480                         100.000000  "
      ]
     },
     "execution_count": 29,
     "metadata": {},
     "output_type": "execute_result"
    }
   ],
   "source": [
    "#将value_counts输出转换为dataframe\n",
    "a =data_explode['Deliver Name'].value_counts().rename_axis('Deliver Name').reset_index(name='Number of negative feedback')\n",
    "#print(a.head())\n",
    "#print(\"-\"*60)\n",
    "a1=a[\"Number of negative feedback\"].value_counts().rename_axis('Number of negative feedback').reset_index(name='Number of People').sort_values(by='Number of negative feedback')\n",
    "a1['Cumulative number']=a1['Number of People'].cumsum()\n",
    "a1['Proportion of people-%']=a1['Number of People']/a1['Number of People'].sum()*100\n",
    "a1['Cumulative proportion of people-%']=a1['Cumulative number']/a1['Number of People'].sum()*100\n",
    "a1"
   ]
  },
  {
   "cell_type": "code",
   "execution_count": 30,
   "metadata": {},
   "outputs": [
    {
     "data": {
      "text/html": [
       "<div>\n",
       "<style scoped>\n",
       "    .dataframe tbody tr th:only-of-type {\n",
       "        vertical-align: middle;\n",
       "    }\n",
       "\n",
       "    .dataframe tbody tr th {\n",
       "        vertical-align: top;\n",
       "    }\n",
       "\n",
       "    .dataframe thead th {\n",
       "        text-align: right;\n",
       "    }\n",
       "</style>\n",
       "<table border=\"1\" class=\"dataframe\">\n",
       "  <thead>\n",
       "    <tr style=\"text-align: right;\">\n",
       "      <th></th>\n",
       "      <th>No</th>\n",
       "      <th>Sites</th>\n",
       "      <th>Deliver Name</th>\n",
       "      <th>Rating</th>\n",
       "      <th>Feedback Tag</th>\n",
       "      <th>Pick Up Order Time</th>\n",
       "      <th>Arrival Time</th>\n",
       "      <th>Waiting Time</th>\n",
       "      <th>Deliver Time</th>\n",
       "      <th>N_Total Time</th>\n",
       "      <th>N_Overtime</th>\n",
       "      <th>N_Overtime_group</th>\n",
       "      <th>N_The length of the most time-spending</th>\n",
       "      <th>N_The most spending time part</th>\n",
       "      <th>Customer Feedback Tag</th>\n",
       "      <th>Reviews Category</th>\n",
       "    </tr>\n",
       "  </thead>\n",
       "  <tbody>\n",
       "    <tr>\n",
       "      <th>1</th>\n",
       "      <td>2</td>\n",
       "      <td>Site E</td>\n",
       "      <td>张*安</td>\n",
       "      <td>1</td>\n",
       "      <td>Others</td>\n",
       "      <td>0.07</td>\n",
       "      <td>6.87</td>\n",
       "      <td>1.93</td>\n",
       "      <td>6.30</td>\n",
       "      <td>15.17</td>\n",
       "      <td>-14.83</td>\n",
       "      <td>(-20.0, -10.0]</td>\n",
       "      <td>6.87</td>\n",
       "      <td>Arrival Time</td>\n",
       "      <td>Others</td>\n",
       "      <td>Others</td>\n",
       "    </tr>\n",
       "    <tr>\n",
       "      <th>2</th>\n",
       "      <td>3</td>\n",
       "      <td>Site E</td>\n",
       "      <td>林*健</td>\n",
       "      <td>1</td>\n",
       "      <td>Delivery timeout|Bad attitude</td>\n",
       "      <td>1.45</td>\n",
       "      <td>11.35</td>\n",
       "      <td>0.05</td>\n",
       "      <td>51.88</td>\n",
       "      <td>64.73</td>\n",
       "      <td>34.73</td>\n",
       "      <td>(30.0, 40.0]</td>\n",
       "      <td>51.88</td>\n",
       "      <td>Deliver Time</td>\n",
       "      <td>Delivery timeout</td>\n",
       "      <td>Delivery timeout</td>\n",
       "    </tr>\n",
       "    <tr>\n",
       "      <th>2</th>\n",
       "      <td>3</td>\n",
       "      <td>Site E</td>\n",
       "      <td>林*健</td>\n",
       "      <td>1</td>\n",
       "      <td>Delivery timeout|Bad attitude</td>\n",
       "      <td>1.45</td>\n",
       "      <td>11.35</td>\n",
       "      <td>0.05</td>\n",
       "      <td>51.88</td>\n",
       "      <td>64.73</td>\n",
       "      <td>34.73</td>\n",
       "      <td>(30.0, 40.0]</td>\n",
       "      <td>51.88</td>\n",
       "      <td>Deliver Time</td>\n",
       "      <td>Bad attitude</td>\n",
       "      <td>Professional attitude</td>\n",
       "    </tr>\n",
       "    <tr>\n",
       "      <th>4</th>\n",
       "      <td>5</td>\n",
       "      <td>Site E</td>\n",
       "      <td>黄*灶</td>\n",
       "      <td>1</td>\n",
       "      <td>Delivery timeout</td>\n",
       "      <td>15.80</td>\n",
       "      <td>12.90</td>\n",
       "      <td>7.23</td>\n",
       "      <td>10.18</td>\n",
       "      <td>46.11</td>\n",
       "      <td>16.11</td>\n",
       "      <td>(10.0, 20.0]</td>\n",
       "      <td>15.80</td>\n",
       "      <td>Pick Up Order Time</td>\n",
       "      <td>Delivery timeout</td>\n",
       "      <td>Delivery timeout</td>\n",
       "    </tr>\n",
       "    <tr>\n",
       "      <th>7</th>\n",
       "      <td>8</td>\n",
       "      <td>Site E</td>\n",
       "      <td>陈*贤</td>\n",
       "      <td>1</td>\n",
       "      <td>No notice on delivery</td>\n",
       "      <td>0.73</td>\n",
       "      <td>0.03</td>\n",
       "      <td>8.08</td>\n",
       "      <td>8.45</td>\n",
       "      <td>17.29</td>\n",
       "      <td>-12.71</td>\n",
       "      <td>(-20.0, -10.0]</td>\n",
       "      <td>8.45</td>\n",
       "      <td>Deliver Time</td>\n",
       "      <td>No notice on delivery</td>\n",
       "      <td>Illegal operation</td>\n",
       "    </tr>\n",
       "  </tbody>\n",
       "</table>\n",
       "</div>"
      ],
      "text/plain": [
       "   No   Sites Deliver Name  Rating                   Feedback Tag  \\\n",
       "1   2  Site E          张*安       1                         Others   \n",
       "2   3  Site E          林*健       1  Delivery timeout|Bad attitude   \n",
       "2   3  Site E          林*健       1  Delivery timeout|Bad attitude   \n",
       "4   5  Site E          黄*灶       1               Delivery timeout   \n",
       "7   8  Site E          陈*贤       1          No notice on delivery   \n",
       "\n",
       "   Pick Up Order Time  Arrival Time  Waiting Time  Deliver Time  N_Total Time  \\\n",
       "1                0.07          6.87          1.93          6.30         15.17   \n",
       "2                1.45         11.35          0.05         51.88         64.73   \n",
       "2                1.45         11.35          0.05         51.88         64.73   \n",
       "4               15.80         12.90          7.23         10.18         46.11   \n",
       "7                0.73          0.03          8.08          8.45         17.29   \n",
       "\n",
       "   N_Overtime N_Overtime_group  N_The length of the most time-spending  \\\n",
       "1      -14.83   (-20.0, -10.0]                                    6.87   \n",
       "2       34.73     (30.0, 40.0]                                   51.88   \n",
       "2       34.73     (30.0, 40.0]                                   51.88   \n",
       "4       16.11     (10.0, 20.0]                                   15.80   \n",
       "7      -12.71   (-20.0, -10.0]                                    8.45   \n",
       "\n",
       "  N_The most spending time part  Customer Feedback Tag       Reviews Category  \n",
       "1                  Arrival Time                 Others                 Others  \n",
       "2                  Deliver Time       Delivery timeout       Delivery timeout  \n",
       "2                  Deliver Time           Bad attitude  Professional attitude  \n",
       "4            Pick Up Order Time       Delivery timeout       Delivery timeout  \n",
       "7                  Deliver Time  No notice on delivery      Illegal operation  "
      ]
     },
     "execution_count": 30,
     "metadata": {},
     "output_type": "execute_result"
    }
   ],
   "source": [
    "data_explode.head()"
   ]
  },
  {
   "cell_type": "code",
   "execution_count": 31,
   "metadata": {},
   "outputs": [
    {
     "data": {
      "text/html": [
       "<div>\n",
       "<style scoped>\n",
       "    .dataframe tbody tr th:only-of-type {\n",
       "        vertical-align: middle;\n",
       "    }\n",
       "\n",
       "    .dataframe tbody tr th {\n",
       "        vertical-align: top;\n",
       "    }\n",
       "\n",
       "    .dataframe thead th {\n",
       "        text-align: right;\n",
       "    }\n",
       "</style>\n",
       "<table border=\"1\" class=\"dataframe\">\n",
       "  <thead>\n",
       "    <tr style=\"text-align: right;\">\n",
       "      <th></th>\n",
       "      <th>Sites</th>\n",
       "      <th>Reviews Category</th>\n",
       "      <th>Customer Feedback Tag</th>\n",
       "      <th>Number of negative reviews</th>\n",
       "    </tr>\n",
       "  </thead>\n",
       "  <tbody>\n",
       "    <tr>\n",
       "      <th>0</th>\n",
       "      <td>Site A</td>\n",
       "      <td>Delivery process</td>\n",
       "      <td>Not enough meals/Bad meal</td>\n",
       "      <td>33</td>\n",
       "    </tr>\n",
       "    <tr>\n",
       "      <th>1</th>\n",
       "      <td>Site A</td>\n",
       "      <td>Delivery process</td>\n",
       "      <td>Wrong meal</td>\n",
       "      <td>4</td>\n",
       "    </tr>\n",
       "    <tr>\n",
       "      <th>2</th>\n",
       "      <td>Site A</td>\n",
       "      <td>Delivery timeout</td>\n",
       "      <td>Delivery timeout</td>\n",
       "      <td>42</td>\n",
       "    </tr>\n",
       "    <tr>\n",
       "      <th>3</th>\n",
       "      <td>Site A</td>\n",
       "      <td>Illegal operation</td>\n",
       "      <td>Early delivery</td>\n",
       "      <td>16</td>\n",
       "    </tr>\n",
       "    <tr>\n",
       "      <th>4</th>\n",
       "      <td>Site A</td>\n",
       "      <td>Illegal operation</td>\n",
       "      <td>No notice on delivery</td>\n",
       "      <td>6</td>\n",
       "    </tr>\n",
       "    <tr>\n",
       "      <th>5</th>\n",
       "      <td>Site A</td>\n",
       "      <td>Others</td>\n",
       "      <td>Others</td>\n",
       "      <td>24</td>\n",
       "    </tr>\n",
       "    <tr>\n",
       "      <th>6</th>\n",
       "      <td>Site A</td>\n",
       "      <td>Professional attitude</td>\n",
       "      <td>Bad attitude</td>\n",
       "      <td>41</td>\n",
       "    </tr>\n",
       "    <tr>\n",
       "      <th>7</th>\n",
       "      <td>Site A</td>\n",
       "      <td>Professional attitude</td>\n",
       "      <td>Irregular appearance</td>\n",
       "      <td>16</td>\n",
       "    </tr>\n",
       "    <tr>\n",
       "      <th>8</th>\n",
       "      <td>Site B</td>\n",
       "      <td>Delivery process</td>\n",
       "      <td>Not enough meals/Bad meal</td>\n",
       "      <td>14</td>\n",
       "    </tr>\n",
       "    <tr>\n",
       "      <th>9</th>\n",
       "      <td>Site B</td>\n",
       "      <td>Delivery process</td>\n",
       "      <td>Wrong meal</td>\n",
       "      <td>5</td>\n",
       "    </tr>\n",
       "    <tr>\n",
       "      <th>10</th>\n",
       "      <td>Site B</td>\n",
       "      <td>Delivery timeout</td>\n",
       "      <td>Delivery timeout</td>\n",
       "      <td>40</td>\n",
       "    </tr>\n",
       "    <tr>\n",
       "      <th>11</th>\n",
       "      <td>Site B</td>\n",
       "      <td>Illegal operation</td>\n",
       "      <td>Early delivery</td>\n",
       "      <td>8</td>\n",
       "    </tr>\n",
       "    <tr>\n",
       "      <th>12</th>\n",
       "      <td>Site B</td>\n",
       "      <td>Illegal operation</td>\n",
       "      <td>No notice on delivery</td>\n",
       "      <td>4</td>\n",
       "    </tr>\n",
       "    <tr>\n",
       "      <th>13</th>\n",
       "      <td>Site B</td>\n",
       "      <td>Others</td>\n",
       "      <td>Others</td>\n",
       "      <td>26</td>\n",
       "    </tr>\n",
       "    <tr>\n",
       "      <th>14</th>\n",
       "      <td>Site B</td>\n",
       "      <td>Professional attitude</td>\n",
       "      <td>Bad attitude</td>\n",
       "      <td>28</td>\n",
       "    </tr>\n",
       "    <tr>\n",
       "      <th>15</th>\n",
       "      <td>Site B</td>\n",
       "      <td>Professional attitude</td>\n",
       "      <td>Irregular appearance</td>\n",
       "      <td>6</td>\n",
       "    </tr>\n",
       "    <tr>\n",
       "      <th>16</th>\n",
       "      <td>Site C</td>\n",
       "      <td>Delivery process</td>\n",
       "      <td>Not enough meals/Bad meal</td>\n",
       "      <td>35</td>\n",
       "    </tr>\n",
       "    <tr>\n",
       "      <th>17</th>\n",
       "      <td>Site C</td>\n",
       "      <td>Delivery process</td>\n",
       "      <td>Wrong meal</td>\n",
       "      <td>9</td>\n",
       "    </tr>\n",
       "    <tr>\n",
       "      <th>18</th>\n",
       "      <td>Site C</td>\n",
       "      <td>Delivery timeout</td>\n",
       "      <td>Delivery timeout</td>\n",
       "      <td>64</td>\n",
       "    </tr>\n",
       "    <tr>\n",
       "      <th>19</th>\n",
       "      <td>Site C</td>\n",
       "      <td>Illegal operation</td>\n",
       "      <td>Early delivery</td>\n",
       "      <td>13</td>\n",
       "    </tr>\n",
       "    <tr>\n",
       "      <th>20</th>\n",
       "      <td>Site C</td>\n",
       "      <td>Illegal operation</td>\n",
       "      <td>No notice on delivery</td>\n",
       "      <td>15</td>\n",
       "    </tr>\n",
       "    <tr>\n",
       "      <th>21</th>\n",
       "      <td>Site C</td>\n",
       "      <td>Others</td>\n",
       "      <td>Others</td>\n",
       "      <td>35</td>\n",
       "    </tr>\n",
       "    <tr>\n",
       "      <th>22</th>\n",
       "      <td>Site C</td>\n",
       "      <td>Professional attitude</td>\n",
       "      <td>Bad attitude</td>\n",
       "      <td>46</td>\n",
       "    </tr>\n",
       "    <tr>\n",
       "      <th>23</th>\n",
       "      <td>Site C</td>\n",
       "      <td>Professional attitude</td>\n",
       "      <td>Irregular appearance</td>\n",
       "      <td>7</td>\n",
       "    </tr>\n",
       "    <tr>\n",
       "      <th>24</th>\n",
       "      <td>Site D</td>\n",
       "      <td>Delivery process</td>\n",
       "      <td>Not enough meals/Bad meal</td>\n",
       "      <td>9</td>\n",
       "    </tr>\n",
       "    <tr>\n",
       "      <th>25</th>\n",
       "      <td>Site D</td>\n",
       "      <td>Delivery process</td>\n",
       "      <td>Wrong meal</td>\n",
       "      <td>2</td>\n",
       "    </tr>\n",
       "    <tr>\n",
       "      <th>26</th>\n",
       "      <td>Site D</td>\n",
       "      <td>Delivery timeout</td>\n",
       "      <td>Delivery timeout</td>\n",
       "      <td>18</td>\n",
       "    </tr>\n",
       "    <tr>\n",
       "      <th>27</th>\n",
       "      <td>Site D</td>\n",
       "      <td>Illegal operation</td>\n",
       "      <td>Early delivery</td>\n",
       "      <td>5</td>\n",
       "    </tr>\n",
       "    <tr>\n",
       "      <th>28</th>\n",
       "      <td>Site D</td>\n",
       "      <td>Illegal operation</td>\n",
       "      <td>No notice on delivery</td>\n",
       "      <td>3</td>\n",
       "    </tr>\n",
       "    <tr>\n",
       "      <th>29</th>\n",
       "      <td>Site D</td>\n",
       "      <td>Others</td>\n",
       "      <td>Others</td>\n",
       "      <td>11</td>\n",
       "    </tr>\n",
       "    <tr>\n",
       "      <th>30</th>\n",
       "      <td>Site D</td>\n",
       "      <td>Professional attitude</td>\n",
       "      <td>Bad attitude</td>\n",
       "      <td>10</td>\n",
       "    </tr>\n",
       "    <tr>\n",
       "      <th>31</th>\n",
       "      <td>Site D</td>\n",
       "      <td>Professional attitude</td>\n",
       "      <td>Irregular appearance</td>\n",
       "      <td>1</td>\n",
       "    </tr>\n",
       "    <tr>\n",
       "      <th>32</th>\n",
       "      <td>Site E</td>\n",
       "      <td>Delivery process</td>\n",
       "      <td>Not enough meals/Bad meal</td>\n",
       "      <td>4</td>\n",
       "    </tr>\n",
       "    <tr>\n",
       "      <th>33</th>\n",
       "      <td>Site E</td>\n",
       "      <td>Delivery process</td>\n",
       "      <td>Wrong meal</td>\n",
       "      <td>2</td>\n",
       "    </tr>\n",
       "    <tr>\n",
       "      <th>34</th>\n",
       "      <td>Site E</td>\n",
       "      <td>Delivery timeout</td>\n",
       "      <td>Delivery timeout</td>\n",
       "      <td>8</td>\n",
       "    </tr>\n",
       "    <tr>\n",
       "      <th>35</th>\n",
       "      <td>Site E</td>\n",
       "      <td>Illegal operation</td>\n",
       "      <td>Early delivery</td>\n",
       "      <td>4</td>\n",
       "    </tr>\n",
       "    <tr>\n",
       "      <th>36</th>\n",
       "      <td>Site E</td>\n",
       "      <td>Illegal operation</td>\n",
       "      <td>No notice on delivery</td>\n",
       "      <td>7</td>\n",
       "    </tr>\n",
       "    <tr>\n",
       "      <th>37</th>\n",
       "      <td>Site E</td>\n",
       "      <td>Others</td>\n",
       "      <td>Others</td>\n",
       "      <td>2</td>\n",
       "    </tr>\n",
       "    <tr>\n",
       "      <th>38</th>\n",
       "      <td>Site E</td>\n",
       "      <td>Professional attitude</td>\n",
       "      <td>Bad attitude</td>\n",
       "      <td>5</td>\n",
       "    </tr>\n",
       "    <tr>\n",
       "      <th>39</th>\n",
       "      <td>Site E</td>\n",
       "      <td>Professional attitude</td>\n",
       "      <td>Irregular appearance</td>\n",
       "      <td>1</td>\n",
       "    </tr>\n",
       "    <tr>\n",
       "      <th>40</th>\n",
       "      <td>Site F</td>\n",
       "      <td>Delivery process</td>\n",
       "      <td>Not enough meals/Bad meal</td>\n",
       "      <td>9</td>\n",
       "    </tr>\n",
       "    <tr>\n",
       "      <th>41</th>\n",
       "      <td>Site F</td>\n",
       "      <td>Delivery process</td>\n",
       "      <td>Wrong meal</td>\n",
       "      <td>1</td>\n",
       "    </tr>\n",
       "    <tr>\n",
       "      <th>42</th>\n",
       "      <td>Site F</td>\n",
       "      <td>Delivery timeout</td>\n",
       "      <td>Delivery timeout</td>\n",
       "      <td>17</td>\n",
       "    </tr>\n",
       "    <tr>\n",
       "      <th>43</th>\n",
       "      <td>Site F</td>\n",
       "      <td>Illegal operation</td>\n",
       "      <td>Early delivery</td>\n",
       "      <td>2</td>\n",
       "    </tr>\n",
       "    <tr>\n",
       "      <th>44</th>\n",
       "      <td>Site F</td>\n",
       "      <td>Others</td>\n",
       "      <td>Others</td>\n",
       "      <td>8</td>\n",
       "    </tr>\n",
       "    <tr>\n",
       "      <th>45</th>\n",
       "      <td>Site F</td>\n",
       "      <td>Professional attitude</td>\n",
       "      <td>Bad attitude</td>\n",
       "      <td>10</td>\n",
       "    </tr>\n",
       "    <tr>\n",
       "      <th>46</th>\n",
       "      <td>Site F</td>\n",
       "      <td>Professional attitude</td>\n",
       "      <td>Irregular appearance</td>\n",
       "      <td>1</td>\n",
       "    </tr>\n",
       "  </tbody>\n",
       "</table>\n",
       "</div>"
      ],
      "text/plain": [
       "     Sites       Reviews Category      Customer Feedback Tag  \\\n",
       "0   Site A       Delivery process  Not enough meals/Bad meal   \n",
       "1   Site A       Delivery process                 Wrong meal   \n",
       "2   Site A       Delivery timeout           Delivery timeout   \n",
       "3   Site A      Illegal operation             Early delivery   \n",
       "4   Site A      Illegal operation      No notice on delivery   \n",
       "5   Site A                 Others                     Others   \n",
       "6   Site A  Professional attitude               Bad attitude   \n",
       "7   Site A  Professional attitude       Irregular appearance   \n",
       "8   Site B       Delivery process  Not enough meals/Bad meal   \n",
       "9   Site B       Delivery process                 Wrong meal   \n",
       "10  Site B       Delivery timeout           Delivery timeout   \n",
       "11  Site B      Illegal operation             Early delivery   \n",
       "12  Site B      Illegal operation      No notice on delivery   \n",
       "13  Site B                 Others                     Others   \n",
       "14  Site B  Professional attitude               Bad attitude   \n",
       "15  Site B  Professional attitude       Irregular appearance   \n",
       "16  Site C       Delivery process  Not enough meals/Bad meal   \n",
       "17  Site C       Delivery process                 Wrong meal   \n",
       "18  Site C       Delivery timeout           Delivery timeout   \n",
       "19  Site C      Illegal operation             Early delivery   \n",
       "20  Site C      Illegal operation      No notice on delivery   \n",
       "21  Site C                 Others                     Others   \n",
       "22  Site C  Professional attitude               Bad attitude   \n",
       "23  Site C  Professional attitude       Irregular appearance   \n",
       "24  Site D       Delivery process  Not enough meals/Bad meal   \n",
       "25  Site D       Delivery process                 Wrong meal   \n",
       "26  Site D       Delivery timeout           Delivery timeout   \n",
       "27  Site D      Illegal operation             Early delivery   \n",
       "28  Site D      Illegal operation      No notice on delivery   \n",
       "29  Site D                 Others                     Others   \n",
       "30  Site D  Professional attitude               Bad attitude   \n",
       "31  Site D  Professional attitude       Irregular appearance   \n",
       "32  Site E       Delivery process  Not enough meals/Bad meal   \n",
       "33  Site E       Delivery process                 Wrong meal   \n",
       "34  Site E       Delivery timeout           Delivery timeout   \n",
       "35  Site E      Illegal operation             Early delivery   \n",
       "36  Site E      Illegal operation      No notice on delivery   \n",
       "37  Site E                 Others                     Others   \n",
       "38  Site E  Professional attitude               Bad attitude   \n",
       "39  Site E  Professional attitude       Irregular appearance   \n",
       "40  Site F       Delivery process  Not enough meals/Bad meal   \n",
       "41  Site F       Delivery process                 Wrong meal   \n",
       "42  Site F       Delivery timeout           Delivery timeout   \n",
       "43  Site F      Illegal operation             Early delivery   \n",
       "44  Site F                 Others                     Others   \n",
       "45  Site F  Professional attitude               Bad attitude   \n",
       "46  Site F  Professional attitude       Irregular appearance   \n",
       "\n",
       "    Number of negative reviews  \n",
       "0                           33  \n",
       "1                            4  \n",
       "2                           42  \n",
       "3                           16  \n",
       "4                            6  \n",
       "5                           24  \n",
       "6                           41  \n",
       "7                           16  \n",
       "8                           14  \n",
       "9                            5  \n",
       "10                          40  \n",
       "11                           8  \n",
       "12                           4  \n",
       "13                          26  \n",
       "14                          28  \n",
       "15                           6  \n",
       "16                          35  \n",
       "17                           9  \n",
       "18                          64  \n",
       "19                          13  \n",
       "20                          15  \n",
       "21                          35  \n",
       "22                          46  \n",
       "23                           7  \n",
       "24                           9  \n",
       "25                           2  \n",
       "26                          18  \n",
       "27                           5  \n",
       "28                           3  \n",
       "29                          11  \n",
       "30                          10  \n",
       "31                           1  \n",
       "32                           4  \n",
       "33                           2  \n",
       "34                           8  \n",
       "35                           4  \n",
       "36                           7  \n",
       "37                           2  \n",
       "38                           5  \n",
       "39                           1  \n",
       "40                           9  \n",
       "41                           1  \n",
       "42                          17  \n",
       "43                           2  \n",
       "44                           8  \n",
       "45                          10  \n",
       "46                           1  "
      ]
     },
     "execution_count": 31,
     "metadata": {},
     "output_type": "execute_result"
    }
   ],
   "source": [
    "grouped_data = data_explode.groupby(['Sites','Reviews Category','Customer Feedback Tag'],as_index=False)\n",
    "\n",
    "c=grouped_data.agg({\"Rating\":sum})\n",
    "\n",
    "c.columns = ['Sites','Reviews Category','Customer Feedback Tag','Number of negative reviews']\n",
    "c"
   ]
  },
  {
   "cell_type": "code",
   "execution_count": 32,
   "metadata": {},
   "outputs": [
    {
     "data": {
      "text/plain": [
       "Index(['Sites', 'Reviews Category', 'Customer Feedback Tag',\n",
       "       'Number of negative reviews'],\n",
       "      dtype='object')"
      ]
     },
     "execution_count": 32,
     "metadata": {},
     "output_type": "execute_result"
    }
   ],
   "source": [
    "c.columns"
   ]
  },
  {
   "cell_type": "code",
   "execution_count": 33,
   "metadata": {},
   "outputs": [
    {
     "data": {
      "application/vnd.plotly.v1+json": {
       "config": {
        "linkText": "Export to plot.ly",
        "plotlyServerURL": "https://plot.ly",
        "showLink": true
       },
       "data": [
        {
         "labels": [
          "Others",
          "Delivery timeout",
          "Professional attitude",
          "Delivery timeout",
          "Illegal operation",
          "Illegal operation",
          "Delivery timeout",
          "Illegal operation",
          "Professional attitude",
          "Illegal operation",
          "Illegal operation",
          "Illegal operation",
          "Professional attitude",
          "Delivery process",
          "Delivery timeout",
          "Delivery process",
          "Delivery process",
          "Others",
          "Delivery timeout",
          "Professional attitude",
          "Illegal operation",
          "Illegal operation",
          "Delivery process",
          "Delivery process",
          "Delivery timeout",
          "Illegal operation",
          "Professional attitude",
          "Illegal operation",
          "Delivery timeout",
          "Delivery process",
          "Illegal operation",
          "Delivery timeout",
          "Professional attitude",
          "Professional attitude",
          "Delivery timeout",
          "Others",
          "Delivery process",
          "Delivery timeout",
          "Delivery process",
          "Professional attitude",
          "Delivery timeout",
          "Delivery timeout",
          "Others",
          "Delivery process",
          "Delivery process",
          "Delivery timeout",
          "Delivery timeout",
          "Professional attitude",
          "Delivery timeout",
          "Delivery timeout",
          "Others",
          "Delivery process",
          "Delivery timeout",
          "Delivery timeout",
          "Delivery process",
          "Delivery process",
          "Delivery process",
          "Professional attitude",
          "Delivery timeout",
          "Others",
          "Illegal operation",
          "Others",
          "Illegal operation",
          "Delivery process",
          "Professional attitude",
          "Professional attitude",
          "Delivery timeout",
          "Others",
          "Professional attitude",
          "Delivery timeout",
          "Delivery timeout",
          "Professional attitude",
          "Others",
          "Professional attitude",
          "Others",
          "Professional attitude",
          "Professional attitude",
          "Delivery process",
          "Delivery timeout",
          "Delivery timeout",
          "Delivery timeout",
          "Delivery timeout",
          "Others",
          "Delivery timeout",
          "Delivery timeout",
          "Delivery timeout",
          "Professional attitude",
          "Professional attitude",
          "Professional attitude",
          "Delivery process",
          "Illegal operation",
          "Delivery timeout",
          "Professional attitude",
          "Others",
          "Illegal operation",
          "Delivery timeout",
          "Delivery timeout",
          "Professional attitude",
          "Others",
          "Professional attitude",
          "Illegal operation",
          null,
          "Delivery process",
          "Illegal operation",
          "Delivery timeout",
          "Delivery process",
          "Professional attitude",
          "Others",
          "Delivery process",
          "Delivery process",
          "Professional attitude",
          "Professional attitude",
          "Others",
          "Professional attitude",
          "Delivery timeout",
          "Illegal operation",
          "Delivery timeout",
          "Illegal operation",
          "Professional attitude",
          "Illegal operation",
          "Delivery timeout",
          "Professional attitude",
          "Delivery process",
          "Delivery process",
          "Professional attitude",
          "Delivery timeout",
          "Professional attitude",
          "Delivery timeout",
          "Others",
          "Others",
          "Others",
          "Delivery timeout",
          "Delivery process",
          "Others",
          "Delivery timeout",
          "Delivery process",
          "Delivery timeout",
          "Professional attitude",
          "Others",
          "Delivery process",
          "Illegal operation",
          "Delivery process",
          "Delivery timeout",
          "Others",
          "Illegal operation",
          "Others",
          "Delivery timeout",
          "Others",
          "Professional attitude",
          "Professional attitude",
          "Professional attitude",
          "Delivery timeout",
          "Delivery timeout",
          "Professional attitude",
          "Delivery process",
          null,
          "Delivery timeout",
          "Professional attitude",
          "Others",
          "Illegal operation",
          "Others",
          "Professional attitude",
          "Delivery timeout",
          "Illegal operation",
          "Delivery timeout",
          "Professional attitude",
          "Delivery process",
          "Delivery timeout",
          "Others",
          "Others",
          "Delivery timeout",
          "Illegal operation",
          "Delivery timeout",
          "Professional attitude",
          "Others",
          "Others",
          "Professional attitude",
          "Delivery timeout",
          "Delivery timeout",
          "Delivery process",
          "Delivery timeout",
          "Delivery process",
          "Delivery process",
          "Delivery process",
          "Delivery process",
          "Delivery timeout",
          "Delivery timeout",
          "Delivery process",
          "Delivery process",
          "Delivery process",
          "Delivery timeout",
          "Others",
          "Professional attitude",
          "Delivery process",
          "Professional attitude",
          "Professional attitude",
          "Delivery process",
          "Professional attitude",
          "Professional attitude",
          "Others",
          "Illegal operation",
          "Delivery process",
          "Delivery timeout",
          "Others",
          "Delivery process",
          "Delivery timeout",
          "Delivery process",
          "Delivery timeout",
          "Others",
          "Delivery timeout",
          "Delivery timeout",
          "Professional attitude",
          "Illegal operation",
          "Others",
          "Illegal operation",
          "Illegal operation",
          "Delivery timeout",
          "Professional attitude",
          "Delivery process",
          "Delivery timeout",
          "Delivery timeout",
          "Professional attitude",
          null,
          "Professional attitude",
          "Delivery process",
          "Others",
          "Professional attitude",
          "Delivery timeout",
          "Professional attitude",
          "Delivery process",
          "Delivery process",
          "Professional attitude",
          "Delivery process",
          "Professional attitude",
          "Delivery timeout",
          "Others",
          "Delivery process",
          "Delivery timeout",
          "Others",
          "Delivery timeout",
          "Delivery timeout",
          "Delivery process",
          null,
          "Delivery process",
          "Professional attitude",
          "Illegal operation",
          "Professional attitude",
          "Illegal operation",
          "Delivery timeout",
          "Delivery process",
          "Delivery timeout",
          "Professional attitude",
          "Others",
          "Delivery process",
          "Illegal operation",
          "Delivery process",
          "Professional attitude",
          "Delivery timeout",
          "Illegal operation",
          "Illegal operation",
          "Delivery timeout",
          "Delivery timeout",
          "Delivery timeout",
          "Professional attitude",
          "Delivery timeout",
          "Professional attitude",
          "Illegal operation",
          "Professional attitude",
          "Professional attitude",
          "Professional attitude",
          "Delivery process",
          "Professional attitude",
          "Delivery process",
          "Illegal operation",
          "Others",
          "Others",
          "Others",
          "Delivery process",
          "Others",
          "Delivery timeout",
          "Delivery timeout",
          "Delivery process",
          "Delivery process",
          "Delivery timeout",
          "Professional attitude",
          "Illegal operation",
          "Professional attitude",
          "Others",
          "Professional attitude",
          "Delivery timeout",
          "Delivery timeout",
          "Delivery timeout",
          "Professional attitude",
          "Others",
          "Illegal operation",
          "Delivery timeout",
          "Illegal operation",
          "Delivery timeout",
          "Professional attitude",
          "Illegal operation",
          "Delivery timeout",
          "Delivery timeout",
          "Delivery process",
          "Others",
          "Delivery timeout",
          "Delivery timeout",
          "Illegal operation",
          "Delivery process",
          "Professional attitude",
          "Delivery process",
          "Others",
          "Illegal operation",
          "Others",
          "Professional attitude",
          "Professional attitude",
          "Delivery timeout",
          "Professional attitude",
          "Delivery timeout",
          "Delivery process",
          "Professional attitude",
          "Delivery timeout",
          "Illegal operation",
          "Delivery process",
          "Others",
          "Professional attitude",
          "Delivery timeout",
          "Delivery process",
          "Delivery timeout",
          "Delivery timeout",
          "Professional attitude",
          "Others",
          "Delivery timeout",
          "Professional attitude",
          "Delivery process",
          "Illegal operation",
          "Professional attitude",
          "Professional attitude",
          "Delivery process",
          "Delivery process",
          "Delivery timeout",
          "Illegal operation",
          "Illegal operation",
          "Delivery timeout",
          "Professional attitude",
          "Delivery timeout",
          "Illegal operation",
          "Professional attitude",
          "Professional attitude",
          "Delivery timeout",
          "Others",
          "Professional attitude",
          "Delivery timeout",
          "Delivery timeout",
          "Professional attitude",
          "Delivery process",
          "Illegal operation",
          "Illegal operation",
          "Delivery timeout",
          "Professional attitude",
          "Professional attitude",
          "Professional attitude",
          "Professional attitude",
          "Delivery timeout",
          "Professional attitude",
          "Professional attitude",
          "Delivery timeout",
          "Others",
          "Professional attitude",
          "Professional attitude",
          "Illegal operation",
          null,
          "Others",
          "Professional attitude",
          "Others",
          "Illegal operation",
          "Delivery timeout",
          "Delivery process",
          "Illegal operation",
          "Delivery timeout",
          "Delivery process",
          "Professional attitude",
          "Professional attitude",
          "Illegal operation",
          null,
          "Others",
          "Delivery process",
          "Delivery process",
          null,
          "Illegal operation",
          "Delivery timeout",
          "Professional attitude",
          "Professional attitude",
          "Delivery timeout",
          "Delivery process",
          "Illegal operation",
          "Professional attitude",
          "Delivery process",
          "Professional attitude",
          "Delivery timeout",
          "Professional attitude",
          "Delivery timeout",
          "Delivery process",
          "Others",
          "Delivery process",
          "Illegal operation",
          "Delivery process",
          "Delivery process",
          "Professional attitude",
          "Delivery process",
          "Professional attitude",
          "Delivery timeout",
          "Professional attitude",
          "Delivery timeout",
          "Professional attitude",
          "Professional attitude",
          "Professional attitude",
          "Illegal operation",
          "Delivery process",
          "Professional attitude",
          "Delivery timeout",
          "Professional attitude",
          "Others",
          "Delivery timeout",
          "Delivery timeout",
          "Delivery process",
          "Illegal operation",
          "Delivery timeout",
          "Others",
          "Professional attitude",
          "Others",
          "Delivery process",
          "Illegal operation",
          "Professional attitude",
          "Delivery process",
          "Professional attitude",
          "Professional attitude",
          "Professional attitude",
          "Illegal operation",
          "Delivery process",
          "Delivery timeout",
          "Others",
          "Delivery process",
          "Delivery process",
          "Delivery timeout",
          "Delivery timeout",
          "Others",
          "Delivery timeout",
          "Professional attitude",
          "Others",
          "Professional attitude",
          "Delivery timeout",
          "Illegal operation",
          "Others",
          "Delivery timeout",
          "Delivery timeout",
          "Professional attitude",
          "Delivery process",
          "Professional attitude",
          "Delivery timeout",
          "Professional attitude",
          "Delivery process",
          "Professional attitude",
          "Delivery timeout",
          "Delivery timeout",
          "Others",
          "Delivery timeout",
          "Delivery process",
          "Delivery process",
          "Others",
          "Delivery process",
          "Others",
          "Illegal operation",
          "Delivery process",
          "Others",
          "Others",
          "Professional attitude",
          "Others",
          "Professional attitude",
          "Professional attitude",
          "Delivery process",
          "Illegal operation",
          "Professional attitude",
          "Professional attitude",
          "Delivery process",
          "Professional attitude",
          "Professional attitude",
          "Delivery timeout",
          "Delivery process",
          "Delivery timeout",
          "Delivery timeout",
          "Professional attitude",
          "Delivery process",
          "Delivery process",
          "Others",
          "Delivery process",
          "Professional attitude",
          "Delivery timeout",
          "Delivery timeout",
          "Professional attitude",
          "Illegal operation",
          "Delivery process",
          "Others",
          "Professional attitude",
          "Delivery timeout",
          "Delivery timeout",
          "Delivery process",
          "Illegal operation",
          "Professional attitude",
          "Delivery timeout",
          "Delivery process",
          "Delivery timeout",
          "Others",
          "Delivery timeout",
          "Delivery timeout",
          "Professional attitude",
          "Delivery timeout",
          null,
          "Delivery process",
          "Illegal operation",
          "Professional attitude",
          null,
          "Others",
          "Others",
          "Delivery process",
          "Delivery timeout",
          "Professional attitude",
          "Delivery timeout",
          "Delivery process",
          "Delivery process",
          "Others",
          "Others",
          "Others",
          "Illegal operation",
          "Illegal operation",
          "Others",
          "Delivery timeout",
          "Delivery process",
          "Professional attitude",
          null,
          "Professional attitude",
          "Delivery process",
          "Others",
          "Delivery timeout",
          "Delivery timeout",
          "Delivery process",
          "Others",
          "Professional attitude",
          "Others",
          "Illegal operation",
          "Professional attitude",
          "Illegal operation",
          "Illegal operation",
          "Delivery timeout",
          "Delivery timeout",
          "Delivery timeout",
          "Delivery timeout",
          "Professional attitude",
          "Delivery timeout",
          "Delivery timeout",
          "Illegal operation",
          "Delivery process",
          "Professional attitude",
          "Delivery timeout",
          "Professional attitude",
          "Delivery timeout",
          "Illegal operation",
          "Delivery timeout",
          "Delivery process",
          "Delivery timeout",
          "Professional attitude",
          "Illegal operation",
          "Professional attitude",
          "Delivery process",
          "Professional attitude",
          "Delivery timeout",
          "Delivery process",
          "Delivery timeout",
          "Others",
          "Others",
          "Professional attitude",
          "Delivery timeout",
          "Delivery timeout",
          "Others",
          "Professional attitude",
          "Others",
          "Delivery process",
          "Delivery process",
          "Others",
          "Professional attitude",
          "Professional attitude",
          "Professional attitude",
          "Delivery process",
          "Others",
          "Delivery process",
          "Delivery timeout",
          "Others",
          "Delivery timeout",
          "Professional attitude",
          "Delivery timeout",
          "Delivery timeout",
          "Professional attitude",
          "Delivery timeout",
          "Others",
          "Others",
          "Delivery timeout",
          "Others",
          "Professional attitude",
          "Delivery timeout",
          "Illegal operation",
          "Delivery process",
          "Professional attitude",
          "Delivery process",
          "Others",
          "Professional attitude",
          "Professional attitude",
          "Professional attitude",
          "Professional attitude",
          "Others",
          "Others",
          "Others",
          "Delivery timeout",
          "Others",
          "Professional attitude",
          "Delivery timeout",
          null,
          "Delivery timeout",
          "Illegal operation",
          "Professional attitude",
          "Delivery timeout",
          "Others",
          "Delivery timeout",
          "Professional attitude",
          "Delivery timeout",
          "Professional attitude",
          "Delivery timeout",
          "Others",
          "Delivery timeout",
          "Others",
          "Delivery timeout",
          "Delivery process",
          "Delivery process",
          "Illegal operation",
          "Illegal operation",
          "Others",
          "Delivery timeout",
          "Delivery timeout",
          "Delivery timeout",
          "Others",
          "Illegal operation",
          "Professional attitude",
          "Others",
          "Illegal operation",
          "Professional attitude",
          "Delivery timeout",
          "Delivery timeout",
          "Delivery timeout",
          "Professional attitude",
          "Others",
          "Others",
          "Delivery process",
          "Delivery timeout",
          "Professional attitude",
          "Professional attitude",
          "Delivery process",
          "Others",
          "Professional attitude",
          "Delivery timeout",
          "Others",
          "Delivery process",
          "Delivery process",
          "Professional attitude",
          "Professional attitude",
          "Professional attitude",
          "Delivery timeout",
          "Delivery process",
          "Illegal operation",
          "Delivery timeout",
          "Delivery timeout",
          "Delivery process",
          "Illegal operation",
          "Delivery timeout",
          "Delivery timeout",
          "Professional attitude",
          "Delivery timeout",
          "Others",
          "Professional attitude",
          "Delivery process",
          "Illegal operation"
         ],
         "marker": {
          "colors": [
           "rgba(255, 153, 51, 1.0)",
           "rgba(55, 128, 191, 1.0)",
           "rgba(50, 171, 96, 1.0)",
           "rgba(128, 0, 128, 1.0)",
           "rgba(219, 64, 82, 1.0)",
           "rgba(0, 128, 128, 1.0)",
           "rgba(255, 255, 51, 1.0)",
           "rgba(128, 128, 0, 1.0)",
           "rgba(251, 128, 114, 1.0)",
           "rgba(128, 177, 211, 1.0)",
           "rgba(128, 177, 211, 0.9883720930232558)",
           "rgba(255, 153, 51, 0.9883720930232558)",
           "rgba(55, 128, 191, 0.9883720930232558)",
           "rgba(50, 171, 96, 0.9883720930232558)",
           "rgba(128, 0, 128, 0.9883720930232558)",
           "rgba(219, 64, 82, 0.9883720930232558)",
           "rgba(0, 128, 128, 0.9883720930232558)",
           "rgba(255, 255, 51, 0.9883720930232558)",
           "rgba(128, 128, 0, 0.9883720930232558)",
           "rgba(251, 128, 114, 0.9883720930232558)",
           "rgba(251, 128, 114, 0.9767441860465116)",
           "rgba(128, 177, 211, 0.9767441860465116)",
           "rgba(255, 153, 51, 0.9767441860465116)",
           "rgba(55, 128, 191, 0.9767441860465116)",
           "rgba(50, 171, 96, 0.9767441860465116)",
           "rgba(128, 0, 128, 0.9767441860465116)",
           "rgba(219, 64, 82, 0.9767441860465116)",
           "rgba(0, 128, 128, 0.9767441860465116)",
           "rgba(255, 255, 51, 0.9767441860465116)",
           "rgba(128, 128, 0, 0.9767441860465116)",
           "rgba(128, 128, 0, 0.9651162790697674)",
           "rgba(251, 128, 114, 0.9651162790697674)",
           "rgba(128, 177, 211, 0.9651162790697674)",
           "rgba(255, 153, 51, 0.9651162790697674)",
           "rgba(55, 128, 191, 0.9651162790697674)",
           "rgba(50, 171, 96, 0.9651162790697674)",
           "rgba(128, 0, 128, 0.9651162790697674)",
           "rgba(219, 64, 82, 0.9651162790697674)",
           "rgba(0, 128, 128, 0.9651162790697674)",
           "rgba(255, 255, 51, 0.9651162790697674)",
           "rgba(255, 255, 51, 0.9534883720930232)",
           "rgba(128, 128, 0, 0.9534883720930232)",
           "rgba(251, 128, 114, 0.9534883720930232)",
           "rgba(128, 177, 211, 0.9534883720930232)",
           "rgba(255, 153, 51, 0.9534883720930232)",
           "rgba(55, 128, 191, 0.9534883720930232)",
           "rgba(50, 171, 96, 0.9534883720930232)",
           "rgba(128, 0, 128, 0.9534883720930232)",
           "rgba(219, 64, 82, 0.9534883720930232)",
           "rgba(0, 128, 128, 0.9534883720930232)",
           "rgba(0, 128, 128, 0.9418604651162792)",
           "rgba(255, 255, 51, 0.9418604651162792)",
           "rgba(128, 128, 0, 0.9418604651162792)",
           "rgba(251, 128, 114, 0.9418604651162792)",
           "rgba(128, 177, 211, 0.9418604651162792)",
           "rgba(255, 153, 51, 0.9418604651162792)",
           "rgba(55, 128, 191, 0.9418604651162792)",
           "rgba(50, 171, 96, 0.9418604651162792)",
           "rgba(128, 0, 128, 0.9418604651162792)",
           "rgba(219, 64, 82, 0.9418604651162792)",
           "rgba(219, 64, 82, 0.930232558139535)",
           "rgba(0, 128, 128, 0.930232558139535)",
           "rgba(255, 255, 51, 0.930232558139535)",
           "rgba(128, 128, 0, 0.930232558139535)",
           "rgba(251, 128, 114, 0.930232558139535)",
           "rgba(128, 177, 211, 0.930232558139535)",
           "rgba(255, 153, 51, 0.930232558139535)",
           "rgba(55, 128, 191, 0.930232558139535)",
           "rgba(50, 171, 96, 0.930232558139535)",
           "rgba(128, 0, 128, 0.930232558139535)",
           "rgba(128, 0, 128, 0.9186046511627908)",
           "rgba(219, 64, 82, 0.9186046511627908)",
           "rgba(0, 128, 128, 0.9186046511627908)",
           "rgba(255, 255, 51, 0.9186046511627908)",
           "rgba(128, 128, 0, 0.9186046511627908)",
           "rgba(251, 128, 114, 0.9186046511627908)",
           "rgba(128, 177, 211, 0.9186046511627908)",
           "rgba(255, 153, 51, 0.9186046511627908)",
           "rgba(55, 128, 191, 0.9186046511627908)",
           "rgba(50, 171, 96, 0.9186046511627908)",
           "rgba(50, 171, 96, 0.9069767441860466)",
           "rgba(128, 0, 128, 0.9069767441860466)",
           "rgba(219, 64, 82, 0.9069767441860466)",
           "rgba(0, 128, 128, 0.9069767441860466)",
           "rgba(255, 255, 51, 0.9069767441860466)",
           "rgba(128, 128, 0, 0.9069767441860466)",
           "rgba(251, 128, 114, 0.9069767441860466)",
           "rgba(128, 177, 211, 0.9069767441860466)",
           "rgba(255, 153, 51, 0.9069767441860466)",
           "rgba(55, 128, 191, 0.9069767441860466)",
           "rgba(55, 128, 191, 0.8953488372093024)",
           "rgba(50, 171, 96, 0.8953488372093024)",
           "rgba(128, 0, 128, 0.8953488372093024)",
           "rgba(219, 64, 82, 0.8953488372093024)",
           "rgba(0, 128, 128, 0.8953488372093024)",
           "rgba(255, 255, 51, 0.8953488372093024)",
           "rgba(128, 128, 0, 0.8953488372093024)",
           "rgba(251, 128, 114, 0.8953488372093024)",
           "rgba(128, 177, 211, 0.8953488372093024)",
           "rgba(255, 153, 51, 0.8953488372093024)",
           "rgba(255, 153, 51, 0.8837209302325582)",
           "rgba(55, 128, 191, 0.8837209302325582)",
           "rgba(50, 171, 96, 0.8837209302325582)",
           "rgba(128, 0, 128, 0.8837209302325582)",
           "rgba(219, 64, 82, 0.8837209302325582)",
           "rgba(0, 128, 128, 0.8837209302325582)",
           "rgba(255, 255, 51, 0.8837209302325582)",
           "rgba(128, 128, 0, 0.8837209302325582)",
           "rgba(251, 128, 114, 0.8837209302325582)",
           "rgba(128, 177, 211, 0.8837209302325582)",
           "rgba(128, 177, 211, 0.872093023255814)",
           "rgba(255, 153, 51, 0.872093023255814)",
           "rgba(55, 128, 191, 0.872093023255814)",
           "rgba(50, 171, 96, 0.872093023255814)",
           "rgba(128, 0, 128, 0.872093023255814)",
           "rgba(219, 64, 82, 0.872093023255814)",
           "rgba(0, 128, 128, 0.872093023255814)",
           "rgba(255, 255, 51, 0.872093023255814)",
           "rgba(128, 128, 0, 0.872093023255814)",
           "rgba(251, 128, 114, 0.872093023255814)",
           "rgba(251, 128, 114, 0.8604651162790697)",
           "rgba(128, 177, 211, 0.8604651162790697)",
           "rgba(255, 153, 51, 0.8604651162790697)",
           "rgba(55, 128, 191, 0.8604651162790697)",
           "rgba(50, 171, 96, 0.8604651162790697)",
           "rgba(128, 0, 128, 0.8604651162790697)",
           "rgba(219, 64, 82, 0.8604651162790697)",
           "rgba(0, 128, 128, 0.8604651162790697)",
           "rgba(255, 255, 51, 0.8604651162790697)",
           "rgba(128, 128, 0, 0.8604651162790697)",
           "rgba(128, 128, 0, 0.8488372093023258)",
           "rgba(251, 128, 114, 0.8488372093023258)",
           "rgba(128, 177, 211, 0.8488372093023258)",
           "rgba(255, 153, 51, 0.8488372093023258)",
           "rgba(55, 128, 191, 0.8488372093023258)",
           "rgba(50, 171, 96, 0.8488372093023258)",
           "rgba(128, 0, 128, 0.8488372093023258)",
           "rgba(219, 64, 82, 0.8488372093023258)",
           "rgba(0, 128, 128, 0.8488372093023258)",
           "rgba(255, 255, 51, 0.8488372093023258)",
           "rgba(255, 255, 51, 0.8372093023255816)",
           "rgba(128, 128, 0, 0.8372093023255816)",
           "rgba(251, 128, 114, 0.8372093023255816)",
           "rgba(128, 177, 211, 0.8372093023255816)",
           "rgba(255, 153, 51, 0.8372093023255816)",
           "rgba(55, 128, 191, 0.8372093023255816)",
           "rgba(50, 171, 96, 0.8372093023255816)",
           "rgba(128, 0, 128, 0.8372093023255816)",
           "rgba(219, 64, 82, 0.8372093023255816)",
           "rgba(0, 128, 128, 0.8372093023255816)",
           "rgba(0, 128, 128, 0.8255813953488373)",
           "rgba(255, 255, 51, 0.8255813953488373)",
           "rgba(128, 128, 0, 0.8255813953488373)",
           "rgba(251, 128, 114, 0.8255813953488373)",
           "rgba(128, 177, 211, 0.8255813953488373)",
           "rgba(255, 153, 51, 0.8255813953488373)",
           "rgba(55, 128, 191, 0.8255813953488373)",
           "rgba(50, 171, 96, 0.8255813953488373)",
           "rgba(128, 0, 128, 0.8255813953488373)",
           "rgba(219, 64, 82, 0.8255813953488373)",
           "rgba(219, 64, 82, 0.8139534883720931)",
           "rgba(0, 128, 128, 0.8139534883720931)",
           "rgba(255, 255, 51, 0.8139534883720931)",
           "rgba(128, 128, 0, 0.8139534883720931)",
           "rgba(251, 128, 114, 0.8139534883720931)",
           "rgba(128, 177, 211, 0.8139534883720931)",
           "rgba(255, 153, 51, 0.8139534883720931)",
           "rgba(55, 128, 191, 0.8139534883720931)",
           "rgba(50, 171, 96, 0.8139534883720931)",
           "rgba(128, 0, 128, 0.8139534883720931)",
           "rgba(128, 0, 128, 0.8023255813953489)",
           "rgba(219, 64, 82, 0.8023255813953489)",
           "rgba(0, 128, 128, 0.8023255813953489)",
           "rgba(255, 255, 51, 0.8023255813953489)",
           "rgba(128, 128, 0, 0.8023255813953489)",
           "rgba(251, 128, 114, 0.8023255813953489)",
           "rgba(128, 177, 211, 0.8023255813953489)",
           "rgba(255, 153, 51, 0.8023255813953489)",
           "rgba(55, 128, 191, 0.8023255813953489)",
           "rgba(50, 171, 96, 0.8023255813953489)",
           "rgba(50, 171, 96, 0.7906976744186047)",
           "rgba(128, 0, 128, 0.7906976744186047)",
           "rgba(219, 64, 82, 0.7906976744186047)",
           "rgba(0, 128, 128, 0.7906976744186047)",
           "rgba(255, 255, 51, 0.7906976744186047)",
           "rgba(128, 128, 0, 0.7906976744186047)",
           "rgba(251, 128, 114, 0.7906976744186047)",
           "rgba(128, 177, 211, 0.7906976744186047)",
           "rgba(255, 153, 51, 0.7906976744186047)",
           "rgba(55, 128, 191, 0.7906976744186047)",
           "rgba(55, 128, 191, 0.7790697674418605)",
           "rgba(50, 171, 96, 0.7790697674418605)",
           "rgba(128, 0, 128, 0.7790697674418605)",
           "rgba(219, 64, 82, 0.7790697674418605)",
           "rgba(0, 128, 128, 0.7790697674418605)",
           "rgba(255, 255, 51, 0.7790697674418605)",
           "rgba(128, 128, 0, 0.7790697674418605)",
           "rgba(251, 128, 114, 0.7790697674418605)",
           "rgba(128, 177, 211, 0.7790697674418605)",
           "rgba(255, 153, 51, 0.7790697674418605)",
           "rgba(255, 153, 51, 0.7674418604651163)",
           "rgba(55, 128, 191, 0.7674418604651163)",
           "rgba(50, 171, 96, 0.7674418604651163)",
           "rgba(128, 0, 128, 0.7674418604651163)",
           "rgba(219, 64, 82, 0.7674418604651163)",
           "rgba(0, 128, 128, 0.7674418604651163)",
           "rgba(255, 255, 51, 0.7674418604651163)",
           "rgba(128, 128, 0, 0.7674418604651163)",
           "rgba(251, 128, 114, 0.7674418604651163)",
           "rgba(128, 177, 211, 0.7674418604651163)",
           "rgba(128, 177, 211, 0.7558139534883723)",
           "rgba(255, 153, 51, 0.7558139534883723)",
           "rgba(55, 128, 191, 0.7558139534883723)",
           "rgba(50, 171, 96, 0.7558139534883723)",
           "rgba(128, 0, 128, 0.7558139534883723)",
           "rgba(219, 64, 82, 0.7558139534883723)",
           "rgba(0, 128, 128, 0.7558139534883723)",
           "rgba(255, 255, 51, 0.7558139534883723)",
           "rgba(128, 128, 0, 0.7558139534883723)",
           "rgba(251, 128, 114, 0.7558139534883723)",
           "rgba(251, 128, 114, 0.7441860465116281)",
           "rgba(128, 177, 211, 0.7441860465116281)",
           "rgba(255, 153, 51, 0.7441860465116281)",
           "rgba(55, 128, 191, 0.7441860465116281)",
           "rgba(50, 171, 96, 0.7441860465116281)",
           "rgba(128, 0, 128, 0.7441860465116281)",
           "rgba(219, 64, 82, 0.7441860465116281)",
           "rgba(0, 128, 128, 0.7441860465116281)",
           "rgba(255, 255, 51, 0.7441860465116281)",
           "rgba(128, 128, 0, 0.7441860465116281)",
           "rgba(128, 128, 0, 0.7325581395348839)",
           "rgba(251, 128, 114, 0.7325581395348839)",
           "rgba(128, 177, 211, 0.7325581395348839)",
           "rgba(255, 153, 51, 0.7325581395348839)",
           "rgba(55, 128, 191, 0.7325581395348839)",
           "rgba(50, 171, 96, 0.7325581395348839)",
           "rgba(128, 0, 128, 0.7325581395348839)",
           "rgba(219, 64, 82, 0.7325581395348839)",
           "rgba(0, 128, 128, 0.7325581395348839)",
           "rgba(255, 255, 51, 0.7325581395348839)",
           "rgba(255, 255, 51, 0.7209302325581397)",
           "rgba(128, 128, 0, 0.7209302325581397)",
           "rgba(251, 128, 114, 0.7209302325581397)",
           "rgba(128, 177, 211, 0.7209302325581397)",
           "rgba(255, 153, 51, 0.7209302325581397)",
           "rgba(55, 128, 191, 0.7209302325581397)",
           "rgba(50, 171, 96, 0.7209302325581397)",
           "rgba(128, 0, 128, 0.7209302325581397)",
           "rgba(219, 64, 82, 0.7209302325581397)",
           "rgba(0, 128, 128, 0.7209302325581397)",
           "rgba(0, 128, 128, 0.7093023255813955)",
           "rgba(255, 255, 51, 0.7093023255813955)",
           "rgba(128, 128, 0, 0.7093023255813955)",
           "rgba(251, 128, 114, 0.7093023255813955)",
           "rgba(128, 177, 211, 0.7093023255813955)",
           "rgba(255, 153, 51, 0.7093023255813955)",
           "rgba(55, 128, 191, 0.7093023255813955)",
           "rgba(50, 171, 96, 0.7093023255813955)",
           "rgba(128, 0, 128, 0.7093023255813955)",
           "rgba(219, 64, 82, 0.7093023255813955)",
           "rgba(219, 64, 82, 0.6976744186046513)",
           "rgba(0, 128, 128, 0.6976744186046513)",
           "rgba(255, 255, 51, 0.6976744186046513)",
           "rgba(128, 128, 0, 0.6976744186046513)",
           "rgba(251, 128, 114, 0.6976744186046513)",
           "rgba(128, 177, 211, 0.6976744186046513)",
           "rgba(255, 153, 51, 0.6976744186046513)",
           "rgba(55, 128, 191, 0.6976744186046513)",
           "rgba(50, 171, 96, 0.6976744186046513)",
           "rgba(128, 0, 128, 0.6976744186046513)",
           "rgba(128, 0, 128, 0.6860465116279071)",
           "rgba(219, 64, 82, 0.6860465116279071)",
           "rgba(0, 128, 128, 0.6860465116279071)",
           "rgba(255, 255, 51, 0.6860465116279071)",
           "rgba(128, 128, 0, 0.6860465116279071)",
           "rgba(251, 128, 114, 0.6860465116279071)",
           "rgba(128, 177, 211, 0.6860465116279071)",
           "rgba(255, 153, 51, 0.6860465116279071)",
           "rgba(55, 128, 191, 0.6860465116279071)",
           "rgba(50, 171, 96, 0.6860465116279071)",
           "rgba(50, 171, 96, 0.6744186046511629)",
           "rgba(128, 0, 128, 0.6744186046511629)",
           "rgba(219, 64, 82, 0.6744186046511629)",
           "rgba(0, 128, 128, 0.6744186046511629)",
           "rgba(255, 255, 51, 0.6744186046511629)",
           "rgba(128, 128, 0, 0.6744186046511629)",
           "rgba(251, 128, 114, 0.6744186046511629)",
           "rgba(128, 177, 211, 0.6744186046511629)",
           "rgba(255, 153, 51, 0.6744186046511629)",
           "rgba(55, 128, 191, 0.6744186046511629)",
           "rgba(55, 128, 191, 0.6627906976744187)",
           "rgba(50, 171, 96, 0.6627906976744187)",
           "rgba(128, 0, 128, 0.6627906976744187)",
           "rgba(219, 64, 82, 0.6627906976744187)",
           "rgba(0, 128, 128, 0.6627906976744187)",
           "rgba(255, 255, 51, 0.6627906976744187)",
           "rgba(128, 128, 0, 0.6627906976744187)",
           "rgba(251, 128, 114, 0.6627906976744187)",
           "rgba(128, 177, 211, 0.6627906976744187)",
           "rgba(255, 153, 51, 0.6627906976744187)",
           "rgba(255, 153, 51, 0.6511627906976747)",
           "rgba(55, 128, 191, 0.6511627906976747)",
           "rgba(50, 171, 96, 0.6511627906976747)",
           "rgba(128, 0, 128, 0.6511627906976747)",
           "rgba(219, 64, 82, 0.6511627906976747)",
           "rgba(0, 128, 128, 0.6511627906976747)",
           "rgba(255, 255, 51, 0.6511627906976747)",
           "rgba(128, 128, 0, 0.6511627906976747)",
           "rgba(251, 128, 114, 0.6511627906976747)",
           "rgba(128, 177, 211, 0.6511627906976747)",
           "rgba(128, 177, 211, 0.6395348837209305)",
           "rgba(255, 153, 51, 0.6395348837209305)",
           "rgba(55, 128, 191, 0.6395348837209305)",
           "rgba(50, 171, 96, 0.6395348837209305)",
           "rgba(128, 0, 128, 0.6395348837209305)",
           "rgba(219, 64, 82, 0.6395348837209305)",
           "rgba(0, 128, 128, 0.6395348837209305)",
           "rgba(255, 255, 51, 0.6395348837209305)",
           "rgba(128, 128, 0, 0.6395348837209305)",
           "rgba(251, 128, 114, 0.6395348837209305)",
           "rgba(251, 128, 114, 0.6279069767441863)",
           "rgba(128, 177, 211, 0.6279069767441863)",
           "rgba(255, 153, 51, 0.6279069767441863)",
           "rgba(55, 128, 191, 0.6279069767441863)",
           "rgba(50, 171, 96, 0.6279069767441863)",
           "rgba(128, 0, 128, 0.6279069767441863)",
           "rgba(219, 64, 82, 0.6279069767441863)",
           "rgba(0, 128, 128, 0.6279069767441863)",
           "rgba(255, 255, 51, 0.6279069767441863)",
           "rgba(128, 128, 0, 0.6279069767441863)",
           "rgba(128, 128, 0, 0.6162790697674421)",
           "rgba(251, 128, 114, 0.6162790697674421)",
           "rgba(128, 177, 211, 0.6162790697674421)",
           "rgba(255, 153, 51, 0.6162790697674421)",
           "rgba(55, 128, 191, 0.6162790697674421)",
           "rgba(50, 171, 96, 0.6162790697674421)",
           "rgba(128, 0, 128, 0.6162790697674421)",
           "rgba(219, 64, 82, 0.6162790697674421)",
           "rgba(0, 128, 128, 0.6162790697674421)",
           "rgba(255, 255, 51, 0.6162790697674421)",
           "rgba(255, 255, 51, 0.6046511627906979)",
           "rgba(128, 128, 0, 0.6046511627906979)",
           "rgba(251, 128, 114, 0.6046511627906979)",
           "rgba(128, 177, 211, 0.6046511627906979)",
           "rgba(255, 153, 51, 0.6046511627906979)",
           "rgba(55, 128, 191, 0.6046511627906979)",
           "rgba(50, 171, 96, 0.6046511627906979)",
           "rgba(128, 0, 128, 0.6046511627906979)",
           "rgba(219, 64, 82, 0.6046511627906979)",
           "rgba(0, 128, 128, 0.6046511627906979)",
           "rgba(0, 128, 128, 0.5930232558139537)",
           "rgba(255, 255, 51, 0.5930232558139537)",
           "rgba(128, 128, 0, 0.5930232558139537)",
           "rgba(251, 128, 114, 0.5930232558139537)",
           "rgba(128, 177, 211, 0.5930232558139537)",
           "rgba(255, 153, 51, 0.5930232558139537)",
           "rgba(55, 128, 191, 0.5930232558139537)",
           "rgba(50, 171, 96, 0.5930232558139537)",
           "rgba(128, 0, 128, 0.5930232558139537)",
           "rgba(219, 64, 82, 0.5930232558139537)",
           "rgba(219, 64, 82, 0.5813953488372094)",
           "rgba(0, 128, 128, 0.5813953488372094)",
           "rgba(255, 255, 51, 0.5813953488372094)",
           "rgba(128, 128, 0, 0.5813953488372094)",
           "rgba(251, 128, 114, 0.5813953488372094)",
           "rgba(128, 177, 211, 0.5813953488372094)",
           "rgba(255, 153, 51, 0.5813953488372094)",
           "rgba(55, 128, 191, 0.5813953488372094)",
           "rgba(50, 171, 96, 0.5813953488372094)",
           "rgba(128, 0, 128, 0.5813953488372094)",
           "rgba(128, 0, 128, 0.5697674418604652)",
           "rgba(219, 64, 82, 0.5697674418604652)",
           "rgba(0, 128, 128, 0.5697674418604652)",
           "rgba(255, 255, 51, 0.5697674418604652)",
           "rgba(128, 128, 0, 0.5697674418604652)",
           "rgba(251, 128, 114, 0.5697674418604652)",
           "rgba(128, 177, 211, 0.5697674418604652)",
           "rgba(255, 153, 51, 0.5697674418604652)",
           "rgba(55, 128, 191, 0.5697674418604652)",
           "rgba(50, 171, 96, 0.5697674418604652)",
           "rgba(50, 171, 96, 0.5581395348837213)",
           "rgba(128, 0, 128, 0.5581395348837213)",
           "rgba(219, 64, 82, 0.5581395348837213)",
           "rgba(0, 128, 128, 0.5581395348837213)",
           "rgba(255, 255, 51, 0.5581395348837213)",
           "rgba(128, 128, 0, 0.5581395348837213)",
           "rgba(251, 128, 114, 0.5581395348837213)",
           "rgba(128, 177, 211, 0.5581395348837213)",
           "rgba(255, 153, 51, 0.5581395348837213)",
           "rgba(55, 128, 191, 0.5581395348837213)",
           "rgba(55, 128, 191, 0.546511627906977)",
           "rgba(50, 171, 96, 0.546511627906977)",
           "rgba(128, 0, 128, 0.546511627906977)",
           "rgba(219, 64, 82, 0.546511627906977)",
           "rgba(0, 128, 128, 0.546511627906977)",
           "rgba(255, 255, 51, 0.546511627906977)",
           "rgba(128, 128, 0, 0.546511627906977)",
           "rgba(251, 128, 114, 0.546511627906977)",
           "rgba(128, 177, 211, 0.546511627906977)",
           "rgba(255, 153, 51, 0.546511627906977)",
           "rgba(255, 153, 51, 0.5348837209302328)",
           "rgba(55, 128, 191, 0.5348837209302328)",
           "rgba(50, 171, 96, 0.5348837209302328)",
           "rgba(128, 0, 128, 0.5348837209302328)",
           "rgba(219, 64, 82, 0.5348837209302328)",
           "rgba(0, 128, 128, 0.5348837209302328)",
           "rgba(255, 255, 51, 0.5348837209302328)",
           "rgba(128, 128, 0, 0.5348837209302328)",
           "rgba(251, 128, 114, 0.5348837209302328)",
           "rgba(128, 177, 211, 0.5348837209302328)",
           "rgba(128, 177, 211, 0.5232558139534886)",
           "rgba(255, 153, 51, 0.5232558139534886)",
           "rgba(55, 128, 191, 0.5232558139534886)",
           "rgba(50, 171, 96, 0.5232558139534886)",
           "rgba(128, 0, 128, 0.5232558139534886)",
           "rgba(219, 64, 82, 0.5232558139534886)",
           "rgba(0, 128, 128, 0.5232558139534886)",
           "rgba(255, 255, 51, 0.5232558139534886)",
           "rgba(128, 128, 0, 0.5232558139534886)",
           "rgba(251, 128, 114, 0.5232558139534886)",
           "rgba(251, 128, 114, 0.5116279069767444)",
           "rgba(128, 177, 211, 0.5116279069767444)",
           "rgba(255, 153, 51, 0.5116279069767444)",
           "rgba(55, 128, 191, 0.5116279069767444)",
           "rgba(50, 171, 96, 0.5116279069767444)",
           "rgba(128, 0, 128, 0.5116279069767444)",
           "rgba(219, 64, 82, 0.5116279069767444)",
           "rgba(0, 128, 128, 0.5116279069767444)",
           "rgba(255, 255, 51, 0.5116279069767444)",
           "rgba(128, 128, 0, 0.5116279069767444)",
           "rgba(128, 128, 0, 0.5000000000000002)",
           "rgba(251, 128, 114, 0.5000000000000002)",
           "rgba(128, 177, 211, 0.5000000000000002)",
           "rgba(255, 153, 51, 0.5000000000000002)",
           "rgba(55, 128, 191, 0.5000000000000002)",
           "rgba(50, 171, 96, 0.5000000000000002)",
           "rgba(128, 0, 128, 0.5000000000000002)",
           "rgba(219, 64, 82, 0.5000000000000002)",
           "rgba(0, 128, 128, 0.5000000000000002)",
           "rgba(255, 255, 51, 0.5000000000000002)",
           "rgba(255, 255, 51, 0.48837209302325607)",
           "rgba(128, 128, 0, 0.48837209302325607)",
           "rgba(251, 128, 114, 0.48837209302325607)",
           "rgba(128, 177, 211, 0.48837209302325607)",
           "rgba(255, 153, 51, 0.48837209302325607)",
           "rgba(55, 128, 191, 0.48837209302325607)",
           "rgba(50, 171, 96, 0.48837209302325607)",
           "rgba(128, 0, 128, 0.48837209302325607)",
           "rgba(219, 64, 82, 0.48837209302325607)",
           "rgba(0, 128, 128, 0.48837209302325607)",
           "rgba(0, 128, 128, 0.47674418604651186)",
           "rgba(255, 255, 51, 0.47674418604651186)",
           "rgba(128, 128, 0, 0.47674418604651186)",
           "rgba(251, 128, 114, 0.47674418604651186)",
           "rgba(128, 177, 211, 0.47674418604651186)",
           "rgba(255, 153, 51, 0.47674418604651186)",
           "rgba(55, 128, 191, 0.47674418604651186)",
           "rgba(50, 171, 96, 0.47674418604651186)",
           "rgba(128, 0, 128, 0.47674418604651186)",
           "rgba(219, 64, 82, 0.47674418604651186)",
           "rgba(219, 64, 82, 0.4651162790697679)",
           "rgba(0, 128, 128, 0.4651162790697679)",
           "rgba(255, 255, 51, 0.4651162790697679)",
           "rgba(128, 128, 0, 0.4651162790697679)",
           "rgba(251, 128, 114, 0.4651162790697679)",
           "rgba(128, 177, 211, 0.4651162790697679)",
           "rgba(255, 153, 51, 0.4651162790697679)",
           "rgba(55, 128, 191, 0.4651162790697679)",
           "rgba(50, 171, 96, 0.4651162790697679)",
           "rgba(128, 0, 128, 0.4651162790697679)",
           "rgba(128, 0, 128, 0.4534883720930237)",
           "rgba(219, 64, 82, 0.4534883720930237)",
           "rgba(0, 128, 128, 0.4534883720930237)",
           "rgba(255, 255, 51, 0.4534883720930237)",
           "rgba(128, 128, 0, 0.4534883720930237)",
           "rgba(251, 128, 114, 0.4534883720930237)",
           "rgba(128, 177, 211, 0.4534883720930237)",
           "rgba(255, 153, 51, 0.4534883720930237)",
           "rgba(55, 128, 191, 0.4534883720930237)",
           "rgba(50, 171, 96, 0.4534883720930237)",
           "rgba(50, 171, 96, 0.44186046511627947)",
           "rgba(128, 0, 128, 0.44186046511627947)",
           "rgba(219, 64, 82, 0.44186046511627947)",
           "rgba(0, 128, 128, 0.44186046511627947)",
           "rgba(255, 255, 51, 0.44186046511627947)",
           "rgba(128, 128, 0, 0.44186046511627947)",
           "rgba(251, 128, 114, 0.44186046511627947)",
           "rgba(128, 177, 211, 0.44186046511627947)",
           "rgba(255, 153, 51, 0.44186046511627947)",
           "rgba(55, 128, 191, 0.44186046511627947)",
           "rgba(55, 128, 191, 0.43023255813953526)",
           "rgba(50, 171, 96, 0.43023255813953526)",
           "rgba(128, 0, 128, 0.43023255813953526)",
           "rgba(219, 64, 82, 0.43023255813953526)",
           "rgba(0, 128, 128, 0.43023255813953526)",
           "rgba(255, 255, 51, 0.43023255813953526)",
           "rgba(128, 128, 0, 0.43023255813953526)",
           "rgba(251, 128, 114, 0.43023255813953526)",
           "rgba(128, 177, 211, 0.43023255813953526)",
           "rgba(255, 153, 51, 0.43023255813953526)",
           "rgba(255, 153, 51, 0.41860465116279105)",
           "rgba(55, 128, 191, 0.41860465116279105)",
           "rgba(50, 171, 96, 0.41860465116279105)",
           "rgba(128, 0, 128, 0.41860465116279105)",
           "rgba(219, 64, 82, 0.41860465116279105)",
           "rgba(0, 128, 128, 0.41860465116279105)",
           "rgba(255, 255, 51, 0.41860465116279105)",
           "rgba(128, 128, 0, 0.41860465116279105)",
           "rgba(251, 128, 114, 0.41860465116279105)",
           "rgba(128, 177, 211, 0.41860465116279105)",
           "rgba(128, 177, 211, 0.40697674418604685)",
           "rgba(255, 153, 51, 0.40697674418604685)",
           "rgba(55, 128, 191, 0.40697674418604685)",
           "rgba(50, 171, 96, 0.40697674418604685)",
           "rgba(128, 0, 128, 0.40697674418604685)",
           "rgba(219, 64, 82, 0.40697674418604685)",
           "rgba(0, 128, 128, 0.40697674418604685)",
           "rgba(255, 255, 51, 0.40697674418604685)",
           "rgba(128, 128, 0, 0.40697674418604685)",
           "rgba(251, 128, 114, 0.40697674418604685)",
           "rgba(251, 128, 114, 0.39534883720930264)",
           "rgba(128, 177, 211, 0.39534883720930264)",
           "rgba(255, 153, 51, 0.39534883720930264)",
           "rgba(55, 128, 191, 0.39534883720930264)",
           "rgba(50, 171, 96, 0.39534883720930264)",
           "rgba(128, 0, 128, 0.39534883720930264)",
           "rgba(219, 64, 82, 0.39534883720930264)",
           "rgba(0, 128, 128, 0.39534883720930264)",
           "rgba(255, 255, 51, 0.39534883720930264)",
           "rgba(128, 128, 0, 0.39534883720930264)",
           "rgba(128, 128, 0, 0.38372093023255843)",
           "rgba(251, 128, 114, 0.38372093023255843)",
           "rgba(128, 177, 211, 0.38372093023255843)",
           "rgba(255, 153, 51, 0.38372093023255843)",
           "rgba(55, 128, 191, 0.38372093023255843)",
           "rgba(50, 171, 96, 0.38372093023255843)",
           "rgba(128, 0, 128, 0.38372093023255843)",
           "rgba(219, 64, 82, 0.38372093023255843)",
           "rgba(0, 128, 128, 0.38372093023255843)",
           "rgba(255, 255, 51, 0.38372093023255843)",
           "rgba(255, 255, 51, 0.37209302325581445)",
           "rgba(128, 128, 0, 0.37209302325581445)",
           "rgba(251, 128, 114, 0.37209302325581445)",
           "rgba(128, 177, 211, 0.37209302325581445)",
           "rgba(255, 153, 51, 0.37209302325581445)",
           "rgba(55, 128, 191, 0.37209302325581445)",
           "rgba(50, 171, 96, 0.37209302325581445)",
           "rgba(128, 0, 128, 0.37209302325581445)",
           "rgba(219, 64, 82, 0.37209302325581445)",
           "rgba(0, 128, 128, 0.37209302325581445)",
           "rgba(0, 128, 128, 0.36046511627907024)",
           "rgba(255, 255, 51, 0.36046511627907024)",
           "rgba(128, 128, 0, 0.36046511627907024)",
           "rgba(251, 128, 114, 0.36046511627907024)",
           "rgba(128, 177, 211, 0.36046511627907024)",
           "rgba(255, 153, 51, 0.36046511627907024)",
           "rgba(55, 128, 191, 0.36046511627907024)",
           "rgba(50, 171, 96, 0.36046511627907024)",
           "rgba(128, 0, 128, 0.36046511627907024)",
           "rgba(219, 64, 82, 0.36046511627907024)",
           "rgba(219, 64, 82, 0.34883720930232603)",
           "rgba(0, 128, 128, 0.34883720930232603)",
           "rgba(255, 255, 51, 0.34883720930232603)",
           "rgba(128, 128, 0, 0.34883720930232603)",
           "rgba(251, 128, 114, 0.34883720930232603)",
           "rgba(128, 177, 211, 0.34883720930232603)",
           "rgba(255, 153, 51, 0.34883720930232603)",
           "rgba(55, 128, 191, 0.34883720930232603)",
           "rgba(50, 171, 96, 0.34883720930232603)",
           "rgba(128, 0, 128, 0.34883720930232603)",
           "rgba(128, 0, 128, 0.33720930232558183)",
           "rgba(219, 64, 82, 0.33720930232558183)",
           "rgba(0, 128, 128, 0.33720930232558183)",
           "rgba(255, 255, 51, 0.33720930232558183)",
           "rgba(128, 128, 0, 0.33720930232558183)",
           "rgba(251, 128, 114, 0.33720930232558183)",
           "rgba(128, 177, 211, 0.33720930232558183)",
           "rgba(255, 153, 51, 0.33720930232558183)",
           "rgba(55, 128, 191, 0.33720930232558183)",
           "rgba(50, 171, 96, 0.33720930232558183)",
           "rgba(50, 171, 96, 0.3255813953488376)",
           "rgba(128, 0, 128, 0.3255813953488376)",
           "rgba(219, 64, 82, 0.3255813953488376)",
           "rgba(0, 128, 128, 0.3255813953488376)",
           "rgba(255, 255, 51, 0.3255813953488376)",
           "rgba(128, 128, 0, 0.3255813953488376)",
           "rgba(251, 128, 114, 0.3255813953488376)",
           "rgba(128, 177, 211, 0.3255813953488376)",
           "rgba(255, 153, 51, 0.3255813953488376)",
           "rgba(55, 128, 191, 0.3255813953488376)",
           "rgba(55, 128, 191, 0.3139534883720934)",
           "rgba(50, 171, 96, 0.3139534883720934)",
           "rgba(128, 0, 128, 0.3139534883720934)",
           "rgba(219, 64, 82, 0.3139534883720934)",
           "rgba(0, 128, 128, 0.3139534883720934)",
           "rgba(255, 255, 51, 0.3139534883720934)",
           "rgba(128, 128, 0, 0.3139534883720934)",
           "rgba(251, 128, 114, 0.3139534883720934)",
           "rgba(128, 177, 211, 0.3139534883720934)",
           "rgba(255, 153, 51, 0.3139534883720934)",
           "rgba(255, 153, 51, 0.3023255813953492)",
           "rgba(55, 128, 191, 0.3023255813953492)",
           "rgba(50, 171, 96, 0.3023255813953492)",
           "rgba(128, 0, 128, 0.3023255813953492)",
           "rgba(219, 64, 82, 0.3023255813953492)",
           "rgba(0, 128, 128, 0.3023255813953492)",
           "rgba(255, 255, 51, 0.3023255813953492)",
           "rgba(128, 128, 0, 0.3023255813953492)",
           "rgba(251, 128, 114, 0.3023255813953492)",
           "rgba(128, 177, 211, 0.3023255813953492)",
           "rgba(128, 177, 211, 0.290697674418605)",
           "rgba(255, 153, 51, 0.290697674418605)",
           "rgba(55, 128, 191, 0.290697674418605)",
           "rgba(50, 171, 96, 0.290697674418605)",
           "rgba(128, 0, 128, 0.290697674418605)",
           "rgba(219, 64, 82, 0.290697674418605)",
           "rgba(0, 128, 128, 0.290697674418605)",
           "rgba(255, 255, 51, 0.290697674418605)",
           "rgba(128, 128, 0, 0.290697674418605)",
           "rgba(251, 128, 114, 0.290697674418605)",
           "rgba(251, 128, 114, 0.279069767441861)",
           "rgba(128, 177, 211, 0.279069767441861)",
           "rgba(255, 153, 51, 0.279069767441861)",
           "rgba(55, 128, 191, 0.279069767441861)",
           "rgba(50, 171, 96, 0.279069767441861)",
           "rgba(128, 0, 128, 0.279069767441861)",
           "rgba(219, 64, 82, 0.279069767441861)",
           "rgba(0, 128, 128, 0.279069767441861)",
           "rgba(255, 255, 51, 0.279069767441861)",
           "rgba(128, 128, 0, 0.279069767441861)",
           "rgba(128, 128, 0, 0.2674418604651168)",
           "rgba(251, 128, 114, 0.2674418604651168)",
           "rgba(128, 177, 211, 0.2674418604651168)",
           "rgba(255, 153, 51, 0.2674418604651168)",
           "rgba(55, 128, 191, 0.2674418604651168)",
           "rgba(50, 171, 96, 0.2674418604651168)",
           "rgba(128, 0, 128, 0.2674418604651168)",
           "rgba(219, 64, 82, 0.2674418604651168)",
           "rgba(0, 128, 128, 0.2674418604651168)",
           "rgba(255, 255, 51, 0.2674418604651168)",
           "rgba(255, 255, 51, 0.2558139534883726)",
           "rgba(128, 128, 0, 0.2558139534883726)",
           "rgba(251, 128, 114, 0.2558139534883726)",
           "rgba(128, 177, 211, 0.2558139534883726)",
           "rgba(255, 153, 51, 0.2558139534883726)",
           "rgba(55, 128, 191, 0.2558139534883726)",
           "rgba(50, 171, 96, 0.2558139534883726)",
           "rgba(128, 0, 128, 0.2558139534883726)",
           "rgba(219, 64, 82, 0.2558139534883726)",
           "rgba(0, 128, 128, 0.2558139534883726)",
           "rgba(0, 128, 128, 0.2441860465116284)",
           "rgba(255, 255, 51, 0.2441860465116284)",
           "rgba(128, 128, 0, 0.2441860465116284)",
           "rgba(251, 128, 114, 0.2441860465116284)",
           "rgba(128, 177, 211, 0.2441860465116284)",
           "rgba(255, 153, 51, 0.2441860465116284)",
           "rgba(55, 128, 191, 0.2441860465116284)",
           "rgba(50, 171, 96, 0.2441860465116284)",
           "rgba(128, 0, 128, 0.2441860465116284)",
           "rgba(219, 64, 82, 0.2441860465116284)",
           "rgba(219, 64, 82, 0.2325581395348842)",
           "rgba(0, 128, 128, 0.2325581395348842)",
           "rgba(255, 255, 51, 0.2325581395348842)",
           "rgba(128, 128, 0, 0.2325581395348842)",
           "rgba(251, 128, 114, 0.2325581395348842)",
           "rgba(128, 177, 211, 0.2325581395348842)",
           "rgba(255, 153, 51, 0.2325581395348842)",
           "rgba(55, 128, 191, 0.2325581395348842)",
           "rgba(50, 171, 96, 0.2325581395348842)",
           "rgba(128, 0, 128, 0.2325581395348842)",
           "rgba(128, 0, 128, 0.22093023255813998)",
           "rgba(219, 64, 82, 0.22093023255813998)",
           "rgba(0, 128, 128, 0.22093023255813998)",
           "rgba(255, 255, 51, 0.22093023255813998)",
           "rgba(128, 128, 0, 0.22093023255813998)",
           "rgba(251, 128, 114, 0.22093023255813998)",
           "rgba(128, 177, 211, 0.22093023255813998)",
           "rgba(255, 153, 51, 0.22093023255813998)",
           "rgba(55, 128, 191, 0.22093023255813998)",
           "rgba(50, 171, 96, 0.22093023255813998)",
           "rgba(50, 171, 96, 0.20930232558139578)",
           "rgba(128, 0, 128, 0.20930232558139578)",
           "rgba(219, 64, 82, 0.20930232558139578)",
           "rgba(0, 128, 128, 0.20930232558139578)",
           "rgba(255, 255, 51, 0.20930232558139578)",
           "rgba(128, 128, 0, 0.20930232558139578)",
           "rgba(251, 128, 114, 0.20930232558139578)",
           "rgba(128, 177, 211, 0.20930232558139578)"
          ]
         },
         "name": "",
         "type": "pie",
         "values": [
          1,
          1,
          1,
          1,
          1,
          1,
          1,
          1,
          1,
          1,
          1,
          1,
          1,
          1,
          1,
          1,
          1,
          1,
          1,
          1,
          1,
          1,
          1,
          1,
          1,
          1,
          1,
          1,
          1,
          1,
          1,
          1,
          1,
          1,
          1,
          1,
          1,
          1,
          1,
          1,
          1,
          1,
          1,
          1,
          1,
          1,
          1,
          1,
          1,
          1,
          1,
          1,
          1,
          1,
          1,
          1,
          1,
          1,
          1,
          1,
          1,
          1,
          1,
          1,
          1,
          1,
          1,
          1,
          1,
          1,
          1,
          1,
          1,
          1,
          1,
          1,
          1,
          1,
          1,
          1,
          1,
          1,
          1,
          1,
          1,
          1,
          1,
          1,
          1,
          1,
          1,
          1,
          1,
          1,
          1,
          1,
          1,
          1,
          1,
          1,
          1,
          1,
          1,
          1,
          1,
          1,
          1,
          1,
          1,
          1,
          1,
          1,
          1,
          1,
          1,
          1,
          1,
          1,
          1,
          1,
          1,
          1,
          1,
          1,
          1,
          1,
          1,
          1,
          1,
          1,
          1,
          1,
          1,
          1,
          1,
          1,
          1,
          1,
          1,
          1,
          1,
          1,
          1,
          1,
          1,
          1,
          1,
          1,
          1,
          1,
          1,
          1,
          1,
          1,
          1,
          1,
          1,
          1,
          1,
          1,
          1,
          1,
          1,
          1,
          1,
          1,
          1,
          1,
          1,
          1,
          1,
          1,
          1,
          1,
          1,
          1,
          1,
          1,
          1,
          1,
          1,
          1,
          1,
          1,
          1,
          1,
          1,
          1,
          1,
          1,
          1,
          1,
          1,
          1,
          1,
          1,
          1,
          1,
          1,
          1,
          1,
          1,
          1,
          1,
          1,
          1,
          1,
          1,
          1,
          1,
          1,
          1,
          1,
          1,
          1,
          1,
          1,
          1,
          1,
          1,
          1,
          1,
          1,
          1,
          1,
          1,
          1,
          1,
          1,
          1,
          1,
          1,
          1,
          1,
          1,
          1,
          1,
          1,
          1,
          1,
          1,
          1,
          1,
          1,
          1,
          1,
          1,
          1,
          1,
          1,
          1,
          1,
          1,
          1,
          1,
          1,
          1,
          1,
          1,
          1,
          1,
          1,
          1,
          1,
          1,
          1,
          1,
          1,
          1,
          1,
          1,
          1,
          1,
          1,
          1,
          1,
          1,
          1,
          1,
          1,
          1,
          1,
          1,
          1,
          1,
          1,
          1,
          1,
          1,
          1,
          1,
          1,
          1,
          1,
          1,
          1,
          1,
          1,
          1,
          1,
          1,
          1,
          1,
          1,
          1,
          1,
          1,
          1,
          1,
          1,
          1,
          1,
          1,
          1,
          1,
          1,
          1,
          1,
          1,
          1,
          1,
          1,
          1,
          1,
          1,
          1,
          1,
          1,
          1,
          1,
          1,
          1,
          1,
          1,
          1,
          1,
          1,
          1,
          1,
          1,
          1,
          1,
          1,
          1,
          1,
          1,
          1,
          1,
          1,
          1,
          1,
          1,
          1,
          1,
          1,
          1,
          1,
          1,
          1,
          1,
          1,
          1,
          1,
          1,
          1,
          1,
          1,
          1,
          1,
          1,
          1,
          1,
          1,
          1,
          1,
          1,
          1,
          1,
          1,
          1,
          1,
          1,
          1,
          1,
          1,
          1,
          1,
          1,
          1,
          1,
          1,
          1,
          1,
          1,
          1,
          1,
          1,
          1,
          1,
          1,
          1,
          1,
          1,
          1,
          1,
          1,
          1,
          1,
          1,
          1,
          1,
          1,
          1,
          1,
          1,
          1,
          1,
          1,
          1,
          1,
          1,
          1,
          1,
          1,
          1,
          1,
          1,
          1,
          1,
          1,
          1,
          1,
          1,
          1,
          1,
          1,
          1,
          1,
          1,
          1,
          1,
          1,
          1,
          1,
          1,
          1,
          1,
          1,
          1,
          1,
          1,
          1,
          1,
          1,
          1,
          1,
          1,
          1,
          1,
          1,
          1,
          1,
          1,
          1,
          1,
          1,
          1,
          1,
          1,
          1,
          1,
          1,
          1,
          1,
          1,
          1,
          1,
          1,
          1,
          1,
          1,
          1,
          1,
          1,
          1,
          1,
          1,
          1,
          1,
          1,
          1,
          1,
          1,
          1,
          1,
          1,
          1,
          1,
          1,
          1,
          1,
          1,
          1,
          1,
          1,
          1,
          1,
          1,
          1,
          1,
          1,
          1,
          1,
          1,
          1,
          1,
          1,
          1,
          1,
          1,
          1,
          1,
          1,
          1,
          1,
          1,
          1,
          1,
          1,
          1,
          1,
          1,
          1,
          1,
          1,
          1,
          1,
          1,
          1,
          1,
          1,
          1,
          1,
          1,
          1,
          1,
          1,
          1,
          1,
          1,
          1,
          1,
          1,
          1,
          1,
          1,
          1,
          1,
          1,
          1,
          1,
          1,
          1,
          1,
          1,
          1,
          1,
          1,
          1,
          1,
          1,
          1,
          1,
          1,
          1,
          1,
          1,
          1,
          1,
          1,
          1,
          1,
          1,
          1,
          1,
          1,
          1,
          1,
          1,
          1,
          1,
          1,
          1,
          1,
          1,
          1,
          1,
          1,
          1,
          1,
          1,
          1,
          1,
          1,
          1,
          1,
          1,
          1,
          1,
          1,
          1,
          1,
          1,
          1,
          1,
          1,
          1,
          1,
          1,
          1,
          1,
          1,
          1,
          1,
          1,
          1,
          1,
          1,
          1,
          1,
          1,
          1,
          1,
          1,
          1,
          1,
          1,
          1,
          1,
          1,
          1,
          1,
          1,
          1,
          1,
          1,
          1,
          1,
          1,
          1,
          1,
          1,
          1,
          1,
          1,
          1,
          1,
          1,
          1,
          1,
          1,
          1,
          1,
          1,
          1,
          1,
          1,
          1,
          1,
          1,
          1,
          1,
          1,
          1,
          1,
          1,
          1,
          1,
          1,
          1,
          1,
          1,
          1,
          1,
          1,
          1,
          1,
          1
         ]
        }
       ],
       "layout": {
        "legend": {
         "bgcolor": "#F5F6F9",
         "font": {
          "color": "#4D5663"
         }
        },
        "paper_bgcolor": "#F5F6F9",
        "plot_bgcolor": "#F5F6F9",
        "title": "Reviews Category",
        "titlefont": {
         "color": "#4D5663"
        }
       }
      },
      "text/html": [
       "<div>                            <div id=\"b062ea25-85ee-4089-be06-d3161213e5da\" class=\"plotly-graph-div\" style=\"height:525px; width:100%;\"></div>            <script type=\"text/javascript\">                require([\"plotly\"], function(Plotly) {                    window.PLOTLYENV=window.PLOTLYENV || {};\n",
       "                    window.PLOTLYENV.BASE_URL='https://plot.ly';                                    if (document.getElementById(\"b062ea25-85ee-4089-be06-d3161213e5da\")) {                    Plotly.newPlot(                        \"b062ea25-85ee-4089-be06-d3161213e5da\",                        [{\"labels\": [\"Others\", \"Delivery timeout\", \"Professional attitude\", \"Delivery timeout\", \"Illegal operation\", \"Illegal operation\", \"Delivery timeout\", \"Illegal operation\", \"Professional attitude\", \"Illegal operation\", \"Illegal operation\", \"Illegal operation\", \"Professional attitude\", \"Delivery process\", \"Delivery timeout\", \"Delivery process\", \"Delivery process\", \"Others\", \"Delivery timeout\", \"Professional attitude\", \"Illegal operation\", \"Illegal operation\", \"Delivery process\", \"Delivery process\", \"Delivery timeout\", \"Illegal operation\", \"Professional attitude\", \"Illegal operation\", \"Delivery timeout\", \"Delivery process\", \"Illegal operation\", \"Delivery timeout\", \"Professional attitude\", \"Professional attitude\", \"Delivery timeout\", \"Others\", \"Delivery process\", \"Delivery timeout\", \"Delivery process\", \"Professional attitude\", \"Delivery timeout\", \"Delivery timeout\", \"Others\", \"Delivery process\", \"Delivery process\", \"Delivery timeout\", \"Delivery timeout\", \"Professional attitude\", \"Delivery timeout\", \"Delivery timeout\", \"Others\", \"Delivery process\", \"Delivery timeout\", \"Delivery timeout\", \"Delivery process\", \"Delivery process\", \"Delivery process\", \"Professional attitude\", \"Delivery timeout\", \"Others\", \"Illegal operation\", \"Others\", \"Illegal operation\", \"Delivery process\", \"Professional attitude\", \"Professional attitude\", \"Delivery timeout\", \"Others\", \"Professional attitude\", \"Delivery timeout\", \"Delivery timeout\", \"Professional attitude\", \"Others\", \"Professional attitude\", \"Others\", \"Professional attitude\", \"Professional attitude\", \"Delivery process\", \"Delivery timeout\", \"Delivery timeout\", \"Delivery timeout\", \"Delivery timeout\", \"Others\", \"Delivery timeout\", \"Delivery timeout\", \"Delivery timeout\", \"Professional attitude\", \"Professional attitude\", \"Professional attitude\", \"Delivery process\", \"Illegal operation\", \"Delivery timeout\", \"Professional attitude\", \"Others\", \"Illegal operation\", \"Delivery timeout\", \"Delivery timeout\", \"Professional attitude\", \"Others\", \"Professional attitude\", \"Illegal operation\", null, \"Delivery process\", \"Illegal operation\", \"Delivery timeout\", \"Delivery process\", \"Professional attitude\", \"Others\", \"Delivery process\", \"Delivery process\", \"Professional attitude\", \"Professional attitude\", \"Others\", \"Professional attitude\", \"Delivery timeout\", \"Illegal operation\", \"Delivery timeout\", \"Illegal operation\", \"Professional attitude\", \"Illegal operation\", \"Delivery timeout\", \"Professional attitude\", \"Delivery process\", \"Delivery process\", \"Professional attitude\", \"Delivery timeout\", \"Professional attitude\", \"Delivery timeout\", \"Others\", \"Others\", \"Others\", \"Delivery timeout\", \"Delivery process\", \"Others\", \"Delivery timeout\", \"Delivery process\", \"Delivery timeout\", \"Professional attitude\", \"Others\", \"Delivery process\", \"Illegal operation\", \"Delivery process\", \"Delivery timeout\", \"Others\", \"Illegal operation\", \"Others\", \"Delivery timeout\", \"Others\", \"Professional attitude\", \"Professional attitude\", \"Professional attitude\", \"Delivery timeout\", \"Delivery timeout\", \"Professional attitude\", \"Delivery process\", null, \"Delivery timeout\", \"Professional attitude\", \"Others\", \"Illegal operation\", \"Others\", \"Professional attitude\", \"Delivery timeout\", \"Illegal operation\", \"Delivery timeout\", \"Professional attitude\", \"Delivery process\", \"Delivery timeout\", \"Others\", \"Others\", \"Delivery timeout\", \"Illegal operation\", \"Delivery timeout\", \"Professional attitude\", \"Others\", \"Others\", \"Professional attitude\", \"Delivery timeout\", \"Delivery timeout\", \"Delivery process\", \"Delivery timeout\", \"Delivery process\", \"Delivery process\", \"Delivery process\", \"Delivery process\", \"Delivery timeout\", \"Delivery timeout\", \"Delivery process\", \"Delivery process\", \"Delivery process\", \"Delivery timeout\", \"Others\", \"Professional attitude\", \"Delivery process\", \"Professional attitude\", \"Professional attitude\", \"Delivery process\", \"Professional attitude\", \"Professional attitude\", \"Others\", \"Illegal operation\", \"Delivery process\", \"Delivery timeout\", \"Others\", \"Delivery process\", \"Delivery timeout\", \"Delivery process\", \"Delivery timeout\", \"Others\", \"Delivery timeout\", \"Delivery timeout\", \"Professional attitude\", \"Illegal operation\", \"Others\", \"Illegal operation\", \"Illegal operation\", \"Delivery timeout\", \"Professional attitude\", \"Delivery process\", \"Delivery timeout\", \"Delivery timeout\", \"Professional attitude\", null, \"Professional attitude\", \"Delivery process\", \"Others\", \"Professional attitude\", \"Delivery timeout\", \"Professional attitude\", \"Delivery process\", \"Delivery process\", \"Professional attitude\", \"Delivery process\", \"Professional attitude\", \"Delivery timeout\", \"Others\", \"Delivery process\", \"Delivery timeout\", \"Others\", \"Delivery timeout\", \"Delivery timeout\", \"Delivery process\", null, \"Delivery process\", \"Professional attitude\", \"Illegal operation\", \"Professional attitude\", \"Illegal operation\", \"Delivery timeout\", \"Delivery process\", \"Delivery timeout\", \"Professional attitude\", \"Others\", \"Delivery process\", \"Illegal operation\", \"Delivery process\", \"Professional attitude\", \"Delivery timeout\", \"Illegal operation\", \"Illegal operation\", \"Delivery timeout\", \"Delivery timeout\", \"Delivery timeout\", \"Professional attitude\", \"Delivery timeout\", \"Professional attitude\", \"Illegal operation\", \"Professional attitude\", \"Professional attitude\", \"Professional attitude\", \"Delivery process\", \"Professional attitude\", \"Delivery process\", \"Illegal operation\", \"Others\", \"Others\", \"Others\", \"Delivery process\", \"Others\", \"Delivery timeout\", \"Delivery timeout\", \"Delivery process\", \"Delivery process\", \"Delivery timeout\", \"Professional attitude\", \"Illegal operation\", \"Professional attitude\", \"Others\", \"Professional attitude\", \"Delivery timeout\", \"Delivery timeout\", \"Delivery timeout\", \"Professional attitude\", \"Others\", \"Illegal operation\", \"Delivery timeout\", \"Illegal operation\", \"Delivery timeout\", \"Professional attitude\", \"Illegal operation\", \"Delivery timeout\", \"Delivery timeout\", \"Delivery process\", \"Others\", \"Delivery timeout\", \"Delivery timeout\", \"Illegal operation\", \"Delivery process\", \"Professional attitude\", \"Delivery process\", \"Others\", \"Illegal operation\", \"Others\", \"Professional attitude\", \"Professional attitude\", \"Delivery timeout\", \"Professional attitude\", \"Delivery timeout\", \"Delivery process\", \"Professional attitude\", \"Delivery timeout\", \"Illegal operation\", \"Delivery process\", \"Others\", \"Professional attitude\", \"Delivery timeout\", \"Delivery process\", \"Delivery timeout\", \"Delivery timeout\", \"Professional attitude\", \"Others\", \"Delivery timeout\", \"Professional attitude\", \"Delivery process\", \"Illegal operation\", \"Professional attitude\", \"Professional attitude\", \"Delivery process\", \"Delivery process\", \"Delivery timeout\", \"Illegal operation\", \"Illegal operation\", \"Delivery timeout\", \"Professional attitude\", \"Delivery timeout\", \"Illegal operation\", \"Professional attitude\", \"Professional attitude\", \"Delivery timeout\", \"Others\", \"Professional attitude\", \"Delivery timeout\", \"Delivery timeout\", \"Professional attitude\", \"Delivery process\", \"Illegal operation\", \"Illegal operation\", \"Delivery timeout\", \"Professional attitude\", \"Professional attitude\", \"Professional attitude\", \"Professional attitude\", \"Delivery timeout\", \"Professional attitude\", \"Professional attitude\", \"Delivery timeout\", \"Others\", \"Professional attitude\", \"Professional attitude\", \"Illegal operation\", null, \"Others\", \"Professional attitude\", \"Others\", \"Illegal operation\", \"Delivery timeout\", \"Delivery process\", \"Illegal operation\", \"Delivery timeout\", \"Delivery process\", \"Professional attitude\", \"Professional attitude\", \"Illegal operation\", null, \"Others\", \"Delivery process\", \"Delivery process\", null, \"Illegal operation\", \"Delivery timeout\", \"Professional attitude\", \"Professional attitude\", \"Delivery timeout\", \"Delivery process\", \"Illegal operation\", \"Professional attitude\", \"Delivery process\", \"Professional attitude\", \"Delivery timeout\", \"Professional attitude\", \"Delivery timeout\", \"Delivery process\", \"Others\", \"Delivery process\", \"Illegal operation\", \"Delivery process\", \"Delivery process\", \"Professional attitude\", \"Delivery process\", \"Professional attitude\", \"Delivery timeout\", \"Professional attitude\", \"Delivery timeout\", \"Professional attitude\", \"Professional attitude\", \"Professional attitude\", \"Illegal operation\", \"Delivery process\", \"Professional attitude\", \"Delivery timeout\", \"Professional attitude\", \"Others\", \"Delivery timeout\", \"Delivery timeout\", \"Delivery process\", \"Illegal operation\", \"Delivery timeout\", \"Others\", \"Professional attitude\", \"Others\", \"Delivery process\", \"Illegal operation\", \"Professional attitude\", \"Delivery process\", \"Professional attitude\", \"Professional attitude\", \"Professional attitude\", \"Illegal operation\", \"Delivery process\", \"Delivery timeout\", \"Others\", \"Delivery process\", \"Delivery process\", \"Delivery timeout\", \"Delivery timeout\", \"Others\", \"Delivery timeout\", \"Professional attitude\", \"Others\", \"Professional attitude\", \"Delivery timeout\", \"Illegal operation\", \"Others\", \"Delivery timeout\", \"Delivery timeout\", \"Professional attitude\", \"Delivery process\", \"Professional attitude\", \"Delivery timeout\", \"Professional attitude\", \"Delivery process\", \"Professional attitude\", \"Delivery timeout\", \"Delivery timeout\", \"Others\", \"Delivery timeout\", \"Delivery process\", \"Delivery process\", \"Others\", \"Delivery process\", \"Others\", \"Illegal operation\", \"Delivery process\", \"Others\", \"Others\", \"Professional attitude\", \"Others\", \"Professional attitude\", \"Professional attitude\", \"Delivery process\", \"Illegal operation\", \"Professional attitude\", \"Professional attitude\", \"Delivery process\", \"Professional attitude\", \"Professional attitude\", \"Delivery timeout\", \"Delivery process\", \"Delivery timeout\", \"Delivery timeout\", \"Professional attitude\", \"Delivery process\", \"Delivery process\", \"Others\", \"Delivery process\", \"Professional attitude\", \"Delivery timeout\", \"Delivery timeout\", \"Professional attitude\", \"Illegal operation\", \"Delivery process\", \"Others\", \"Professional attitude\", \"Delivery timeout\", \"Delivery timeout\", \"Delivery process\", \"Illegal operation\", \"Professional attitude\", \"Delivery timeout\", \"Delivery process\", \"Delivery timeout\", \"Others\", \"Delivery timeout\", \"Delivery timeout\", \"Professional attitude\", \"Delivery timeout\", null, \"Delivery process\", \"Illegal operation\", \"Professional attitude\", null, \"Others\", \"Others\", \"Delivery process\", \"Delivery timeout\", \"Professional attitude\", \"Delivery timeout\", \"Delivery process\", \"Delivery process\", \"Others\", \"Others\", \"Others\", \"Illegal operation\", \"Illegal operation\", \"Others\", \"Delivery timeout\", \"Delivery process\", \"Professional attitude\", null, \"Professional attitude\", \"Delivery process\", \"Others\", \"Delivery timeout\", \"Delivery timeout\", \"Delivery process\", \"Others\", \"Professional attitude\", \"Others\", \"Illegal operation\", \"Professional attitude\", \"Illegal operation\", \"Illegal operation\", \"Delivery timeout\", \"Delivery timeout\", \"Delivery timeout\", \"Delivery timeout\", \"Professional attitude\", \"Delivery timeout\", \"Delivery timeout\", \"Illegal operation\", \"Delivery process\", \"Professional attitude\", \"Delivery timeout\", \"Professional attitude\", \"Delivery timeout\", \"Illegal operation\", \"Delivery timeout\", \"Delivery process\", \"Delivery timeout\", \"Professional attitude\", \"Illegal operation\", \"Professional attitude\", \"Delivery process\", \"Professional attitude\", \"Delivery timeout\", \"Delivery process\", \"Delivery timeout\", \"Others\", \"Others\", \"Professional attitude\", \"Delivery timeout\", \"Delivery timeout\", \"Others\", \"Professional attitude\", \"Others\", \"Delivery process\", \"Delivery process\", \"Others\", \"Professional attitude\", \"Professional attitude\", \"Professional attitude\", \"Delivery process\", \"Others\", \"Delivery process\", \"Delivery timeout\", \"Others\", \"Delivery timeout\", \"Professional attitude\", \"Delivery timeout\", \"Delivery timeout\", \"Professional attitude\", \"Delivery timeout\", \"Others\", \"Others\", \"Delivery timeout\", \"Others\", \"Professional attitude\", \"Delivery timeout\", \"Illegal operation\", \"Delivery process\", \"Professional attitude\", \"Delivery process\", \"Others\", \"Professional attitude\", \"Professional attitude\", \"Professional attitude\", \"Professional attitude\", \"Others\", \"Others\", \"Others\", \"Delivery timeout\", \"Others\", \"Professional attitude\", \"Delivery timeout\", null, \"Delivery timeout\", \"Illegal operation\", \"Professional attitude\", \"Delivery timeout\", \"Others\", \"Delivery timeout\", \"Professional attitude\", \"Delivery timeout\", \"Professional attitude\", \"Delivery timeout\", \"Others\", \"Delivery timeout\", \"Others\", \"Delivery timeout\", \"Delivery process\", \"Delivery process\", \"Illegal operation\", \"Illegal operation\", \"Others\", \"Delivery timeout\", \"Delivery timeout\", \"Delivery timeout\", \"Others\", \"Illegal operation\", \"Professional attitude\", \"Others\", \"Illegal operation\", \"Professional attitude\", \"Delivery timeout\", \"Delivery timeout\", \"Delivery timeout\", \"Professional attitude\", \"Others\", \"Others\", \"Delivery process\", \"Delivery timeout\", \"Professional attitude\", \"Professional attitude\", \"Delivery process\", \"Others\", \"Professional attitude\", \"Delivery timeout\", \"Others\", \"Delivery process\", \"Delivery process\", \"Professional attitude\", \"Professional attitude\", \"Professional attitude\", \"Delivery timeout\", \"Delivery process\", \"Illegal operation\", \"Delivery timeout\", \"Delivery timeout\", \"Delivery process\", \"Illegal operation\", \"Delivery timeout\", \"Delivery timeout\", \"Professional attitude\", \"Delivery timeout\", \"Others\", \"Professional attitude\", \"Delivery process\", \"Illegal operation\"], \"marker\": {\"colors\": [\"rgba(255, 153, 51, 1.0)\", \"rgba(55, 128, 191, 1.0)\", \"rgba(50, 171, 96, 1.0)\", \"rgba(128, 0, 128, 1.0)\", \"rgba(219, 64, 82, 1.0)\", \"rgba(0, 128, 128, 1.0)\", \"rgba(255, 255, 51, 1.0)\", \"rgba(128, 128, 0, 1.0)\", \"rgba(251, 128, 114, 1.0)\", \"rgba(128, 177, 211, 1.0)\", \"rgba(128, 177, 211, 0.9883720930232558)\", \"rgba(255, 153, 51, 0.9883720930232558)\", \"rgba(55, 128, 191, 0.9883720930232558)\", \"rgba(50, 171, 96, 0.9883720930232558)\", \"rgba(128, 0, 128, 0.9883720930232558)\", \"rgba(219, 64, 82, 0.9883720930232558)\", \"rgba(0, 128, 128, 0.9883720930232558)\", \"rgba(255, 255, 51, 0.9883720930232558)\", \"rgba(128, 128, 0, 0.9883720930232558)\", \"rgba(251, 128, 114, 0.9883720930232558)\", \"rgba(251, 128, 114, 0.9767441860465116)\", \"rgba(128, 177, 211, 0.9767441860465116)\", \"rgba(255, 153, 51, 0.9767441860465116)\", \"rgba(55, 128, 191, 0.9767441860465116)\", \"rgba(50, 171, 96, 0.9767441860465116)\", \"rgba(128, 0, 128, 0.9767441860465116)\", \"rgba(219, 64, 82, 0.9767441860465116)\", \"rgba(0, 128, 128, 0.9767441860465116)\", \"rgba(255, 255, 51, 0.9767441860465116)\", \"rgba(128, 128, 0, 0.9767441860465116)\", \"rgba(128, 128, 0, 0.9651162790697674)\", \"rgba(251, 128, 114, 0.9651162790697674)\", \"rgba(128, 177, 211, 0.9651162790697674)\", \"rgba(255, 153, 51, 0.9651162790697674)\", \"rgba(55, 128, 191, 0.9651162790697674)\", \"rgba(50, 171, 96, 0.9651162790697674)\", \"rgba(128, 0, 128, 0.9651162790697674)\", \"rgba(219, 64, 82, 0.9651162790697674)\", \"rgba(0, 128, 128, 0.9651162790697674)\", \"rgba(255, 255, 51, 0.9651162790697674)\", \"rgba(255, 255, 51, 0.9534883720930232)\", \"rgba(128, 128, 0, 0.9534883720930232)\", \"rgba(251, 128, 114, 0.9534883720930232)\", \"rgba(128, 177, 211, 0.9534883720930232)\", \"rgba(255, 153, 51, 0.9534883720930232)\", \"rgba(55, 128, 191, 0.9534883720930232)\", \"rgba(50, 171, 96, 0.9534883720930232)\", \"rgba(128, 0, 128, 0.9534883720930232)\", \"rgba(219, 64, 82, 0.9534883720930232)\", \"rgba(0, 128, 128, 0.9534883720930232)\", \"rgba(0, 128, 128, 0.9418604651162792)\", \"rgba(255, 255, 51, 0.9418604651162792)\", \"rgba(128, 128, 0, 0.9418604651162792)\", \"rgba(251, 128, 114, 0.9418604651162792)\", \"rgba(128, 177, 211, 0.9418604651162792)\", \"rgba(255, 153, 51, 0.9418604651162792)\", \"rgba(55, 128, 191, 0.9418604651162792)\", \"rgba(50, 171, 96, 0.9418604651162792)\", \"rgba(128, 0, 128, 0.9418604651162792)\", \"rgba(219, 64, 82, 0.9418604651162792)\", \"rgba(219, 64, 82, 0.930232558139535)\", \"rgba(0, 128, 128, 0.930232558139535)\", \"rgba(255, 255, 51, 0.930232558139535)\", \"rgba(128, 128, 0, 0.930232558139535)\", \"rgba(251, 128, 114, 0.930232558139535)\", \"rgba(128, 177, 211, 0.930232558139535)\", \"rgba(255, 153, 51, 0.930232558139535)\", \"rgba(55, 128, 191, 0.930232558139535)\", \"rgba(50, 171, 96, 0.930232558139535)\", \"rgba(128, 0, 128, 0.930232558139535)\", \"rgba(128, 0, 128, 0.9186046511627908)\", \"rgba(219, 64, 82, 0.9186046511627908)\", \"rgba(0, 128, 128, 0.9186046511627908)\", \"rgba(255, 255, 51, 0.9186046511627908)\", \"rgba(128, 128, 0, 0.9186046511627908)\", \"rgba(251, 128, 114, 0.9186046511627908)\", \"rgba(128, 177, 211, 0.9186046511627908)\", \"rgba(255, 153, 51, 0.9186046511627908)\", \"rgba(55, 128, 191, 0.9186046511627908)\", \"rgba(50, 171, 96, 0.9186046511627908)\", \"rgba(50, 171, 96, 0.9069767441860466)\", \"rgba(128, 0, 128, 0.9069767441860466)\", \"rgba(219, 64, 82, 0.9069767441860466)\", \"rgba(0, 128, 128, 0.9069767441860466)\", \"rgba(255, 255, 51, 0.9069767441860466)\", \"rgba(128, 128, 0, 0.9069767441860466)\", \"rgba(251, 128, 114, 0.9069767441860466)\", \"rgba(128, 177, 211, 0.9069767441860466)\", \"rgba(255, 153, 51, 0.9069767441860466)\", \"rgba(55, 128, 191, 0.9069767441860466)\", \"rgba(55, 128, 191, 0.8953488372093024)\", \"rgba(50, 171, 96, 0.8953488372093024)\", \"rgba(128, 0, 128, 0.8953488372093024)\", \"rgba(219, 64, 82, 0.8953488372093024)\", \"rgba(0, 128, 128, 0.8953488372093024)\", \"rgba(255, 255, 51, 0.8953488372093024)\", \"rgba(128, 128, 0, 0.8953488372093024)\", \"rgba(251, 128, 114, 0.8953488372093024)\", \"rgba(128, 177, 211, 0.8953488372093024)\", \"rgba(255, 153, 51, 0.8953488372093024)\", \"rgba(255, 153, 51, 0.8837209302325582)\", \"rgba(55, 128, 191, 0.8837209302325582)\", \"rgba(50, 171, 96, 0.8837209302325582)\", \"rgba(128, 0, 128, 0.8837209302325582)\", \"rgba(219, 64, 82, 0.8837209302325582)\", \"rgba(0, 128, 128, 0.8837209302325582)\", \"rgba(255, 255, 51, 0.8837209302325582)\", \"rgba(128, 128, 0, 0.8837209302325582)\", \"rgba(251, 128, 114, 0.8837209302325582)\", \"rgba(128, 177, 211, 0.8837209302325582)\", \"rgba(128, 177, 211, 0.872093023255814)\", \"rgba(255, 153, 51, 0.872093023255814)\", \"rgba(55, 128, 191, 0.872093023255814)\", \"rgba(50, 171, 96, 0.872093023255814)\", \"rgba(128, 0, 128, 0.872093023255814)\", \"rgba(219, 64, 82, 0.872093023255814)\", \"rgba(0, 128, 128, 0.872093023255814)\", \"rgba(255, 255, 51, 0.872093023255814)\", \"rgba(128, 128, 0, 0.872093023255814)\", \"rgba(251, 128, 114, 0.872093023255814)\", \"rgba(251, 128, 114, 0.8604651162790697)\", \"rgba(128, 177, 211, 0.8604651162790697)\", \"rgba(255, 153, 51, 0.8604651162790697)\", \"rgba(55, 128, 191, 0.8604651162790697)\", \"rgba(50, 171, 96, 0.8604651162790697)\", \"rgba(128, 0, 128, 0.8604651162790697)\", \"rgba(219, 64, 82, 0.8604651162790697)\", \"rgba(0, 128, 128, 0.8604651162790697)\", \"rgba(255, 255, 51, 0.8604651162790697)\", \"rgba(128, 128, 0, 0.8604651162790697)\", \"rgba(128, 128, 0, 0.8488372093023258)\", \"rgba(251, 128, 114, 0.8488372093023258)\", \"rgba(128, 177, 211, 0.8488372093023258)\", \"rgba(255, 153, 51, 0.8488372093023258)\", \"rgba(55, 128, 191, 0.8488372093023258)\", \"rgba(50, 171, 96, 0.8488372093023258)\", \"rgba(128, 0, 128, 0.8488372093023258)\", \"rgba(219, 64, 82, 0.8488372093023258)\", \"rgba(0, 128, 128, 0.8488372093023258)\", \"rgba(255, 255, 51, 0.8488372093023258)\", \"rgba(255, 255, 51, 0.8372093023255816)\", \"rgba(128, 128, 0, 0.8372093023255816)\", \"rgba(251, 128, 114, 0.8372093023255816)\", \"rgba(128, 177, 211, 0.8372093023255816)\", \"rgba(255, 153, 51, 0.8372093023255816)\", \"rgba(55, 128, 191, 0.8372093023255816)\", \"rgba(50, 171, 96, 0.8372093023255816)\", \"rgba(128, 0, 128, 0.8372093023255816)\", \"rgba(219, 64, 82, 0.8372093023255816)\", \"rgba(0, 128, 128, 0.8372093023255816)\", \"rgba(0, 128, 128, 0.8255813953488373)\", \"rgba(255, 255, 51, 0.8255813953488373)\", \"rgba(128, 128, 0, 0.8255813953488373)\", \"rgba(251, 128, 114, 0.8255813953488373)\", \"rgba(128, 177, 211, 0.8255813953488373)\", \"rgba(255, 153, 51, 0.8255813953488373)\", \"rgba(55, 128, 191, 0.8255813953488373)\", \"rgba(50, 171, 96, 0.8255813953488373)\", \"rgba(128, 0, 128, 0.8255813953488373)\", \"rgba(219, 64, 82, 0.8255813953488373)\", \"rgba(219, 64, 82, 0.8139534883720931)\", \"rgba(0, 128, 128, 0.8139534883720931)\", \"rgba(255, 255, 51, 0.8139534883720931)\", \"rgba(128, 128, 0, 0.8139534883720931)\", \"rgba(251, 128, 114, 0.8139534883720931)\", \"rgba(128, 177, 211, 0.8139534883720931)\", \"rgba(255, 153, 51, 0.8139534883720931)\", \"rgba(55, 128, 191, 0.8139534883720931)\", \"rgba(50, 171, 96, 0.8139534883720931)\", \"rgba(128, 0, 128, 0.8139534883720931)\", \"rgba(128, 0, 128, 0.8023255813953489)\", \"rgba(219, 64, 82, 0.8023255813953489)\", \"rgba(0, 128, 128, 0.8023255813953489)\", \"rgba(255, 255, 51, 0.8023255813953489)\", \"rgba(128, 128, 0, 0.8023255813953489)\", \"rgba(251, 128, 114, 0.8023255813953489)\", \"rgba(128, 177, 211, 0.8023255813953489)\", \"rgba(255, 153, 51, 0.8023255813953489)\", \"rgba(55, 128, 191, 0.8023255813953489)\", \"rgba(50, 171, 96, 0.8023255813953489)\", \"rgba(50, 171, 96, 0.7906976744186047)\", \"rgba(128, 0, 128, 0.7906976744186047)\", \"rgba(219, 64, 82, 0.7906976744186047)\", \"rgba(0, 128, 128, 0.7906976744186047)\", \"rgba(255, 255, 51, 0.7906976744186047)\", \"rgba(128, 128, 0, 0.7906976744186047)\", \"rgba(251, 128, 114, 0.7906976744186047)\", \"rgba(128, 177, 211, 0.7906976744186047)\", \"rgba(255, 153, 51, 0.7906976744186047)\", \"rgba(55, 128, 191, 0.7906976744186047)\", \"rgba(55, 128, 191, 0.7790697674418605)\", \"rgba(50, 171, 96, 0.7790697674418605)\", \"rgba(128, 0, 128, 0.7790697674418605)\", \"rgba(219, 64, 82, 0.7790697674418605)\", \"rgba(0, 128, 128, 0.7790697674418605)\", \"rgba(255, 255, 51, 0.7790697674418605)\", \"rgba(128, 128, 0, 0.7790697674418605)\", \"rgba(251, 128, 114, 0.7790697674418605)\", \"rgba(128, 177, 211, 0.7790697674418605)\", \"rgba(255, 153, 51, 0.7790697674418605)\", \"rgba(255, 153, 51, 0.7674418604651163)\", \"rgba(55, 128, 191, 0.7674418604651163)\", \"rgba(50, 171, 96, 0.7674418604651163)\", \"rgba(128, 0, 128, 0.7674418604651163)\", \"rgba(219, 64, 82, 0.7674418604651163)\", \"rgba(0, 128, 128, 0.7674418604651163)\", \"rgba(255, 255, 51, 0.7674418604651163)\", \"rgba(128, 128, 0, 0.7674418604651163)\", \"rgba(251, 128, 114, 0.7674418604651163)\", \"rgba(128, 177, 211, 0.7674418604651163)\", \"rgba(128, 177, 211, 0.7558139534883723)\", \"rgba(255, 153, 51, 0.7558139534883723)\", \"rgba(55, 128, 191, 0.7558139534883723)\", \"rgba(50, 171, 96, 0.7558139534883723)\", \"rgba(128, 0, 128, 0.7558139534883723)\", \"rgba(219, 64, 82, 0.7558139534883723)\", \"rgba(0, 128, 128, 0.7558139534883723)\", \"rgba(255, 255, 51, 0.7558139534883723)\", \"rgba(128, 128, 0, 0.7558139534883723)\", \"rgba(251, 128, 114, 0.7558139534883723)\", \"rgba(251, 128, 114, 0.7441860465116281)\", \"rgba(128, 177, 211, 0.7441860465116281)\", \"rgba(255, 153, 51, 0.7441860465116281)\", \"rgba(55, 128, 191, 0.7441860465116281)\", \"rgba(50, 171, 96, 0.7441860465116281)\", \"rgba(128, 0, 128, 0.7441860465116281)\", \"rgba(219, 64, 82, 0.7441860465116281)\", \"rgba(0, 128, 128, 0.7441860465116281)\", \"rgba(255, 255, 51, 0.7441860465116281)\", \"rgba(128, 128, 0, 0.7441860465116281)\", \"rgba(128, 128, 0, 0.7325581395348839)\", \"rgba(251, 128, 114, 0.7325581395348839)\", \"rgba(128, 177, 211, 0.7325581395348839)\", \"rgba(255, 153, 51, 0.7325581395348839)\", \"rgba(55, 128, 191, 0.7325581395348839)\", \"rgba(50, 171, 96, 0.7325581395348839)\", \"rgba(128, 0, 128, 0.7325581395348839)\", \"rgba(219, 64, 82, 0.7325581395348839)\", \"rgba(0, 128, 128, 0.7325581395348839)\", \"rgba(255, 255, 51, 0.7325581395348839)\", \"rgba(255, 255, 51, 0.7209302325581397)\", \"rgba(128, 128, 0, 0.7209302325581397)\", \"rgba(251, 128, 114, 0.7209302325581397)\", \"rgba(128, 177, 211, 0.7209302325581397)\", \"rgba(255, 153, 51, 0.7209302325581397)\", \"rgba(55, 128, 191, 0.7209302325581397)\", \"rgba(50, 171, 96, 0.7209302325581397)\", \"rgba(128, 0, 128, 0.7209302325581397)\", \"rgba(219, 64, 82, 0.7209302325581397)\", \"rgba(0, 128, 128, 0.7209302325581397)\", \"rgba(0, 128, 128, 0.7093023255813955)\", \"rgba(255, 255, 51, 0.7093023255813955)\", \"rgba(128, 128, 0, 0.7093023255813955)\", \"rgba(251, 128, 114, 0.7093023255813955)\", \"rgba(128, 177, 211, 0.7093023255813955)\", \"rgba(255, 153, 51, 0.7093023255813955)\", \"rgba(55, 128, 191, 0.7093023255813955)\", \"rgba(50, 171, 96, 0.7093023255813955)\", \"rgba(128, 0, 128, 0.7093023255813955)\", \"rgba(219, 64, 82, 0.7093023255813955)\", \"rgba(219, 64, 82, 0.6976744186046513)\", \"rgba(0, 128, 128, 0.6976744186046513)\", \"rgba(255, 255, 51, 0.6976744186046513)\", \"rgba(128, 128, 0, 0.6976744186046513)\", \"rgba(251, 128, 114, 0.6976744186046513)\", \"rgba(128, 177, 211, 0.6976744186046513)\", \"rgba(255, 153, 51, 0.6976744186046513)\", \"rgba(55, 128, 191, 0.6976744186046513)\", \"rgba(50, 171, 96, 0.6976744186046513)\", \"rgba(128, 0, 128, 0.6976744186046513)\", \"rgba(128, 0, 128, 0.6860465116279071)\", \"rgba(219, 64, 82, 0.6860465116279071)\", \"rgba(0, 128, 128, 0.6860465116279071)\", \"rgba(255, 255, 51, 0.6860465116279071)\", \"rgba(128, 128, 0, 0.6860465116279071)\", \"rgba(251, 128, 114, 0.6860465116279071)\", \"rgba(128, 177, 211, 0.6860465116279071)\", \"rgba(255, 153, 51, 0.6860465116279071)\", \"rgba(55, 128, 191, 0.6860465116279071)\", \"rgba(50, 171, 96, 0.6860465116279071)\", \"rgba(50, 171, 96, 0.6744186046511629)\", \"rgba(128, 0, 128, 0.6744186046511629)\", \"rgba(219, 64, 82, 0.6744186046511629)\", \"rgba(0, 128, 128, 0.6744186046511629)\", \"rgba(255, 255, 51, 0.6744186046511629)\", \"rgba(128, 128, 0, 0.6744186046511629)\", \"rgba(251, 128, 114, 0.6744186046511629)\", \"rgba(128, 177, 211, 0.6744186046511629)\", \"rgba(255, 153, 51, 0.6744186046511629)\", \"rgba(55, 128, 191, 0.6744186046511629)\", \"rgba(55, 128, 191, 0.6627906976744187)\", \"rgba(50, 171, 96, 0.6627906976744187)\", \"rgba(128, 0, 128, 0.6627906976744187)\", \"rgba(219, 64, 82, 0.6627906976744187)\", \"rgba(0, 128, 128, 0.6627906976744187)\", \"rgba(255, 255, 51, 0.6627906976744187)\", \"rgba(128, 128, 0, 0.6627906976744187)\", \"rgba(251, 128, 114, 0.6627906976744187)\", \"rgba(128, 177, 211, 0.6627906976744187)\", \"rgba(255, 153, 51, 0.6627906976744187)\", \"rgba(255, 153, 51, 0.6511627906976747)\", \"rgba(55, 128, 191, 0.6511627906976747)\", \"rgba(50, 171, 96, 0.6511627906976747)\", \"rgba(128, 0, 128, 0.6511627906976747)\", \"rgba(219, 64, 82, 0.6511627906976747)\", \"rgba(0, 128, 128, 0.6511627906976747)\", \"rgba(255, 255, 51, 0.6511627906976747)\", \"rgba(128, 128, 0, 0.6511627906976747)\", \"rgba(251, 128, 114, 0.6511627906976747)\", \"rgba(128, 177, 211, 0.6511627906976747)\", \"rgba(128, 177, 211, 0.6395348837209305)\", \"rgba(255, 153, 51, 0.6395348837209305)\", \"rgba(55, 128, 191, 0.6395348837209305)\", \"rgba(50, 171, 96, 0.6395348837209305)\", \"rgba(128, 0, 128, 0.6395348837209305)\", \"rgba(219, 64, 82, 0.6395348837209305)\", \"rgba(0, 128, 128, 0.6395348837209305)\", \"rgba(255, 255, 51, 0.6395348837209305)\", \"rgba(128, 128, 0, 0.6395348837209305)\", \"rgba(251, 128, 114, 0.6395348837209305)\", \"rgba(251, 128, 114, 0.6279069767441863)\", \"rgba(128, 177, 211, 0.6279069767441863)\", \"rgba(255, 153, 51, 0.6279069767441863)\", \"rgba(55, 128, 191, 0.6279069767441863)\", \"rgba(50, 171, 96, 0.6279069767441863)\", \"rgba(128, 0, 128, 0.6279069767441863)\", \"rgba(219, 64, 82, 0.6279069767441863)\", \"rgba(0, 128, 128, 0.6279069767441863)\", \"rgba(255, 255, 51, 0.6279069767441863)\", \"rgba(128, 128, 0, 0.6279069767441863)\", \"rgba(128, 128, 0, 0.6162790697674421)\", \"rgba(251, 128, 114, 0.6162790697674421)\", \"rgba(128, 177, 211, 0.6162790697674421)\", \"rgba(255, 153, 51, 0.6162790697674421)\", \"rgba(55, 128, 191, 0.6162790697674421)\", \"rgba(50, 171, 96, 0.6162790697674421)\", \"rgba(128, 0, 128, 0.6162790697674421)\", \"rgba(219, 64, 82, 0.6162790697674421)\", \"rgba(0, 128, 128, 0.6162790697674421)\", \"rgba(255, 255, 51, 0.6162790697674421)\", \"rgba(255, 255, 51, 0.6046511627906979)\", \"rgba(128, 128, 0, 0.6046511627906979)\", \"rgba(251, 128, 114, 0.6046511627906979)\", \"rgba(128, 177, 211, 0.6046511627906979)\", \"rgba(255, 153, 51, 0.6046511627906979)\", \"rgba(55, 128, 191, 0.6046511627906979)\", \"rgba(50, 171, 96, 0.6046511627906979)\", \"rgba(128, 0, 128, 0.6046511627906979)\", \"rgba(219, 64, 82, 0.6046511627906979)\", \"rgba(0, 128, 128, 0.6046511627906979)\", \"rgba(0, 128, 128, 0.5930232558139537)\", \"rgba(255, 255, 51, 0.5930232558139537)\", \"rgba(128, 128, 0, 0.5930232558139537)\", \"rgba(251, 128, 114, 0.5930232558139537)\", \"rgba(128, 177, 211, 0.5930232558139537)\", \"rgba(255, 153, 51, 0.5930232558139537)\", \"rgba(55, 128, 191, 0.5930232558139537)\", \"rgba(50, 171, 96, 0.5930232558139537)\", \"rgba(128, 0, 128, 0.5930232558139537)\", \"rgba(219, 64, 82, 0.5930232558139537)\", \"rgba(219, 64, 82, 0.5813953488372094)\", \"rgba(0, 128, 128, 0.5813953488372094)\", \"rgba(255, 255, 51, 0.5813953488372094)\", \"rgba(128, 128, 0, 0.5813953488372094)\", \"rgba(251, 128, 114, 0.5813953488372094)\", \"rgba(128, 177, 211, 0.5813953488372094)\", \"rgba(255, 153, 51, 0.5813953488372094)\", \"rgba(55, 128, 191, 0.5813953488372094)\", \"rgba(50, 171, 96, 0.5813953488372094)\", \"rgba(128, 0, 128, 0.5813953488372094)\", \"rgba(128, 0, 128, 0.5697674418604652)\", \"rgba(219, 64, 82, 0.5697674418604652)\", \"rgba(0, 128, 128, 0.5697674418604652)\", \"rgba(255, 255, 51, 0.5697674418604652)\", \"rgba(128, 128, 0, 0.5697674418604652)\", \"rgba(251, 128, 114, 0.5697674418604652)\", \"rgba(128, 177, 211, 0.5697674418604652)\", \"rgba(255, 153, 51, 0.5697674418604652)\", \"rgba(55, 128, 191, 0.5697674418604652)\", \"rgba(50, 171, 96, 0.5697674418604652)\", \"rgba(50, 171, 96, 0.5581395348837213)\", \"rgba(128, 0, 128, 0.5581395348837213)\", \"rgba(219, 64, 82, 0.5581395348837213)\", \"rgba(0, 128, 128, 0.5581395348837213)\", \"rgba(255, 255, 51, 0.5581395348837213)\", \"rgba(128, 128, 0, 0.5581395348837213)\", \"rgba(251, 128, 114, 0.5581395348837213)\", \"rgba(128, 177, 211, 0.5581395348837213)\", \"rgba(255, 153, 51, 0.5581395348837213)\", \"rgba(55, 128, 191, 0.5581395348837213)\", \"rgba(55, 128, 191, 0.546511627906977)\", \"rgba(50, 171, 96, 0.546511627906977)\", \"rgba(128, 0, 128, 0.546511627906977)\", \"rgba(219, 64, 82, 0.546511627906977)\", \"rgba(0, 128, 128, 0.546511627906977)\", \"rgba(255, 255, 51, 0.546511627906977)\", \"rgba(128, 128, 0, 0.546511627906977)\", \"rgba(251, 128, 114, 0.546511627906977)\", \"rgba(128, 177, 211, 0.546511627906977)\", \"rgba(255, 153, 51, 0.546511627906977)\", \"rgba(255, 153, 51, 0.5348837209302328)\", \"rgba(55, 128, 191, 0.5348837209302328)\", \"rgba(50, 171, 96, 0.5348837209302328)\", \"rgba(128, 0, 128, 0.5348837209302328)\", \"rgba(219, 64, 82, 0.5348837209302328)\", \"rgba(0, 128, 128, 0.5348837209302328)\", \"rgba(255, 255, 51, 0.5348837209302328)\", \"rgba(128, 128, 0, 0.5348837209302328)\", \"rgba(251, 128, 114, 0.5348837209302328)\", \"rgba(128, 177, 211, 0.5348837209302328)\", \"rgba(128, 177, 211, 0.5232558139534886)\", \"rgba(255, 153, 51, 0.5232558139534886)\", \"rgba(55, 128, 191, 0.5232558139534886)\", \"rgba(50, 171, 96, 0.5232558139534886)\", \"rgba(128, 0, 128, 0.5232558139534886)\", \"rgba(219, 64, 82, 0.5232558139534886)\", \"rgba(0, 128, 128, 0.5232558139534886)\", \"rgba(255, 255, 51, 0.5232558139534886)\", \"rgba(128, 128, 0, 0.5232558139534886)\", \"rgba(251, 128, 114, 0.5232558139534886)\", \"rgba(251, 128, 114, 0.5116279069767444)\", \"rgba(128, 177, 211, 0.5116279069767444)\", \"rgba(255, 153, 51, 0.5116279069767444)\", \"rgba(55, 128, 191, 0.5116279069767444)\", \"rgba(50, 171, 96, 0.5116279069767444)\", \"rgba(128, 0, 128, 0.5116279069767444)\", \"rgba(219, 64, 82, 0.5116279069767444)\", \"rgba(0, 128, 128, 0.5116279069767444)\", \"rgba(255, 255, 51, 0.5116279069767444)\", \"rgba(128, 128, 0, 0.5116279069767444)\", \"rgba(128, 128, 0, 0.5000000000000002)\", \"rgba(251, 128, 114, 0.5000000000000002)\", \"rgba(128, 177, 211, 0.5000000000000002)\", \"rgba(255, 153, 51, 0.5000000000000002)\", \"rgba(55, 128, 191, 0.5000000000000002)\", \"rgba(50, 171, 96, 0.5000000000000002)\", \"rgba(128, 0, 128, 0.5000000000000002)\", \"rgba(219, 64, 82, 0.5000000000000002)\", \"rgba(0, 128, 128, 0.5000000000000002)\", \"rgba(255, 255, 51, 0.5000000000000002)\", \"rgba(255, 255, 51, 0.48837209302325607)\", \"rgba(128, 128, 0, 0.48837209302325607)\", \"rgba(251, 128, 114, 0.48837209302325607)\", \"rgba(128, 177, 211, 0.48837209302325607)\", \"rgba(255, 153, 51, 0.48837209302325607)\", \"rgba(55, 128, 191, 0.48837209302325607)\", \"rgba(50, 171, 96, 0.48837209302325607)\", \"rgba(128, 0, 128, 0.48837209302325607)\", \"rgba(219, 64, 82, 0.48837209302325607)\", \"rgba(0, 128, 128, 0.48837209302325607)\", \"rgba(0, 128, 128, 0.47674418604651186)\", \"rgba(255, 255, 51, 0.47674418604651186)\", \"rgba(128, 128, 0, 0.47674418604651186)\", \"rgba(251, 128, 114, 0.47674418604651186)\", \"rgba(128, 177, 211, 0.47674418604651186)\", \"rgba(255, 153, 51, 0.47674418604651186)\", \"rgba(55, 128, 191, 0.47674418604651186)\", \"rgba(50, 171, 96, 0.47674418604651186)\", \"rgba(128, 0, 128, 0.47674418604651186)\", \"rgba(219, 64, 82, 0.47674418604651186)\", \"rgba(219, 64, 82, 0.4651162790697679)\", \"rgba(0, 128, 128, 0.4651162790697679)\", \"rgba(255, 255, 51, 0.4651162790697679)\", \"rgba(128, 128, 0, 0.4651162790697679)\", \"rgba(251, 128, 114, 0.4651162790697679)\", \"rgba(128, 177, 211, 0.4651162790697679)\", \"rgba(255, 153, 51, 0.4651162790697679)\", \"rgba(55, 128, 191, 0.4651162790697679)\", \"rgba(50, 171, 96, 0.4651162790697679)\", \"rgba(128, 0, 128, 0.4651162790697679)\", \"rgba(128, 0, 128, 0.4534883720930237)\", \"rgba(219, 64, 82, 0.4534883720930237)\", \"rgba(0, 128, 128, 0.4534883720930237)\", \"rgba(255, 255, 51, 0.4534883720930237)\", \"rgba(128, 128, 0, 0.4534883720930237)\", \"rgba(251, 128, 114, 0.4534883720930237)\", \"rgba(128, 177, 211, 0.4534883720930237)\", \"rgba(255, 153, 51, 0.4534883720930237)\", \"rgba(55, 128, 191, 0.4534883720930237)\", \"rgba(50, 171, 96, 0.4534883720930237)\", \"rgba(50, 171, 96, 0.44186046511627947)\", \"rgba(128, 0, 128, 0.44186046511627947)\", \"rgba(219, 64, 82, 0.44186046511627947)\", \"rgba(0, 128, 128, 0.44186046511627947)\", \"rgba(255, 255, 51, 0.44186046511627947)\", \"rgba(128, 128, 0, 0.44186046511627947)\", \"rgba(251, 128, 114, 0.44186046511627947)\", \"rgba(128, 177, 211, 0.44186046511627947)\", \"rgba(255, 153, 51, 0.44186046511627947)\", \"rgba(55, 128, 191, 0.44186046511627947)\", \"rgba(55, 128, 191, 0.43023255813953526)\", \"rgba(50, 171, 96, 0.43023255813953526)\", \"rgba(128, 0, 128, 0.43023255813953526)\", \"rgba(219, 64, 82, 0.43023255813953526)\", \"rgba(0, 128, 128, 0.43023255813953526)\", \"rgba(255, 255, 51, 0.43023255813953526)\", \"rgba(128, 128, 0, 0.43023255813953526)\", \"rgba(251, 128, 114, 0.43023255813953526)\", \"rgba(128, 177, 211, 0.43023255813953526)\", \"rgba(255, 153, 51, 0.43023255813953526)\", \"rgba(255, 153, 51, 0.41860465116279105)\", \"rgba(55, 128, 191, 0.41860465116279105)\", \"rgba(50, 171, 96, 0.41860465116279105)\", \"rgba(128, 0, 128, 0.41860465116279105)\", \"rgba(219, 64, 82, 0.41860465116279105)\", \"rgba(0, 128, 128, 0.41860465116279105)\", \"rgba(255, 255, 51, 0.41860465116279105)\", \"rgba(128, 128, 0, 0.41860465116279105)\", \"rgba(251, 128, 114, 0.41860465116279105)\", \"rgba(128, 177, 211, 0.41860465116279105)\", \"rgba(128, 177, 211, 0.40697674418604685)\", \"rgba(255, 153, 51, 0.40697674418604685)\", \"rgba(55, 128, 191, 0.40697674418604685)\", \"rgba(50, 171, 96, 0.40697674418604685)\", \"rgba(128, 0, 128, 0.40697674418604685)\", \"rgba(219, 64, 82, 0.40697674418604685)\", \"rgba(0, 128, 128, 0.40697674418604685)\", \"rgba(255, 255, 51, 0.40697674418604685)\", \"rgba(128, 128, 0, 0.40697674418604685)\", \"rgba(251, 128, 114, 0.40697674418604685)\", \"rgba(251, 128, 114, 0.39534883720930264)\", \"rgba(128, 177, 211, 0.39534883720930264)\", \"rgba(255, 153, 51, 0.39534883720930264)\", \"rgba(55, 128, 191, 0.39534883720930264)\", \"rgba(50, 171, 96, 0.39534883720930264)\", \"rgba(128, 0, 128, 0.39534883720930264)\", \"rgba(219, 64, 82, 0.39534883720930264)\", \"rgba(0, 128, 128, 0.39534883720930264)\", \"rgba(255, 255, 51, 0.39534883720930264)\", \"rgba(128, 128, 0, 0.39534883720930264)\", \"rgba(128, 128, 0, 0.38372093023255843)\", \"rgba(251, 128, 114, 0.38372093023255843)\", \"rgba(128, 177, 211, 0.38372093023255843)\", \"rgba(255, 153, 51, 0.38372093023255843)\", \"rgba(55, 128, 191, 0.38372093023255843)\", \"rgba(50, 171, 96, 0.38372093023255843)\", \"rgba(128, 0, 128, 0.38372093023255843)\", \"rgba(219, 64, 82, 0.38372093023255843)\", \"rgba(0, 128, 128, 0.38372093023255843)\", \"rgba(255, 255, 51, 0.38372093023255843)\", \"rgba(255, 255, 51, 0.37209302325581445)\", \"rgba(128, 128, 0, 0.37209302325581445)\", \"rgba(251, 128, 114, 0.37209302325581445)\", \"rgba(128, 177, 211, 0.37209302325581445)\", \"rgba(255, 153, 51, 0.37209302325581445)\", \"rgba(55, 128, 191, 0.37209302325581445)\", \"rgba(50, 171, 96, 0.37209302325581445)\", \"rgba(128, 0, 128, 0.37209302325581445)\", \"rgba(219, 64, 82, 0.37209302325581445)\", \"rgba(0, 128, 128, 0.37209302325581445)\", \"rgba(0, 128, 128, 0.36046511627907024)\", \"rgba(255, 255, 51, 0.36046511627907024)\", \"rgba(128, 128, 0, 0.36046511627907024)\", \"rgba(251, 128, 114, 0.36046511627907024)\", \"rgba(128, 177, 211, 0.36046511627907024)\", \"rgba(255, 153, 51, 0.36046511627907024)\", \"rgba(55, 128, 191, 0.36046511627907024)\", \"rgba(50, 171, 96, 0.36046511627907024)\", \"rgba(128, 0, 128, 0.36046511627907024)\", \"rgba(219, 64, 82, 0.36046511627907024)\", \"rgba(219, 64, 82, 0.34883720930232603)\", \"rgba(0, 128, 128, 0.34883720930232603)\", \"rgba(255, 255, 51, 0.34883720930232603)\", \"rgba(128, 128, 0, 0.34883720930232603)\", \"rgba(251, 128, 114, 0.34883720930232603)\", \"rgba(128, 177, 211, 0.34883720930232603)\", \"rgba(255, 153, 51, 0.34883720930232603)\", \"rgba(55, 128, 191, 0.34883720930232603)\", \"rgba(50, 171, 96, 0.34883720930232603)\", \"rgba(128, 0, 128, 0.34883720930232603)\", \"rgba(128, 0, 128, 0.33720930232558183)\", \"rgba(219, 64, 82, 0.33720930232558183)\", \"rgba(0, 128, 128, 0.33720930232558183)\", \"rgba(255, 255, 51, 0.33720930232558183)\", \"rgba(128, 128, 0, 0.33720930232558183)\", \"rgba(251, 128, 114, 0.33720930232558183)\", \"rgba(128, 177, 211, 0.33720930232558183)\", \"rgba(255, 153, 51, 0.33720930232558183)\", \"rgba(55, 128, 191, 0.33720930232558183)\", \"rgba(50, 171, 96, 0.33720930232558183)\", \"rgba(50, 171, 96, 0.3255813953488376)\", \"rgba(128, 0, 128, 0.3255813953488376)\", \"rgba(219, 64, 82, 0.3255813953488376)\", \"rgba(0, 128, 128, 0.3255813953488376)\", \"rgba(255, 255, 51, 0.3255813953488376)\", \"rgba(128, 128, 0, 0.3255813953488376)\", \"rgba(251, 128, 114, 0.3255813953488376)\", \"rgba(128, 177, 211, 0.3255813953488376)\", \"rgba(255, 153, 51, 0.3255813953488376)\", \"rgba(55, 128, 191, 0.3255813953488376)\", \"rgba(55, 128, 191, 0.3139534883720934)\", \"rgba(50, 171, 96, 0.3139534883720934)\", \"rgba(128, 0, 128, 0.3139534883720934)\", \"rgba(219, 64, 82, 0.3139534883720934)\", \"rgba(0, 128, 128, 0.3139534883720934)\", \"rgba(255, 255, 51, 0.3139534883720934)\", \"rgba(128, 128, 0, 0.3139534883720934)\", \"rgba(251, 128, 114, 0.3139534883720934)\", \"rgba(128, 177, 211, 0.3139534883720934)\", \"rgba(255, 153, 51, 0.3139534883720934)\", \"rgba(255, 153, 51, 0.3023255813953492)\", \"rgba(55, 128, 191, 0.3023255813953492)\", \"rgba(50, 171, 96, 0.3023255813953492)\", \"rgba(128, 0, 128, 0.3023255813953492)\", \"rgba(219, 64, 82, 0.3023255813953492)\", \"rgba(0, 128, 128, 0.3023255813953492)\", \"rgba(255, 255, 51, 0.3023255813953492)\", \"rgba(128, 128, 0, 0.3023255813953492)\", \"rgba(251, 128, 114, 0.3023255813953492)\", \"rgba(128, 177, 211, 0.3023255813953492)\", \"rgba(128, 177, 211, 0.290697674418605)\", \"rgba(255, 153, 51, 0.290697674418605)\", \"rgba(55, 128, 191, 0.290697674418605)\", \"rgba(50, 171, 96, 0.290697674418605)\", \"rgba(128, 0, 128, 0.290697674418605)\", \"rgba(219, 64, 82, 0.290697674418605)\", \"rgba(0, 128, 128, 0.290697674418605)\", \"rgba(255, 255, 51, 0.290697674418605)\", \"rgba(128, 128, 0, 0.290697674418605)\", \"rgba(251, 128, 114, 0.290697674418605)\", \"rgba(251, 128, 114, 0.279069767441861)\", \"rgba(128, 177, 211, 0.279069767441861)\", \"rgba(255, 153, 51, 0.279069767441861)\", \"rgba(55, 128, 191, 0.279069767441861)\", \"rgba(50, 171, 96, 0.279069767441861)\", \"rgba(128, 0, 128, 0.279069767441861)\", \"rgba(219, 64, 82, 0.279069767441861)\", \"rgba(0, 128, 128, 0.279069767441861)\", \"rgba(255, 255, 51, 0.279069767441861)\", \"rgba(128, 128, 0, 0.279069767441861)\", \"rgba(128, 128, 0, 0.2674418604651168)\", \"rgba(251, 128, 114, 0.2674418604651168)\", \"rgba(128, 177, 211, 0.2674418604651168)\", \"rgba(255, 153, 51, 0.2674418604651168)\", \"rgba(55, 128, 191, 0.2674418604651168)\", \"rgba(50, 171, 96, 0.2674418604651168)\", \"rgba(128, 0, 128, 0.2674418604651168)\", \"rgba(219, 64, 82, 0.2674418604651168)\", \"rgba(0, 128, 128, 0.2674418604651168)\", \"rgba(255, 255, 51, 0.2674418604651168)\", \"rgba(255, 255, 51, 0.2558139534883726)\", \"rgba(128, 128, 0, 0.2558139534883726)\", \"rgba(251, 128, 114, 0.2558139534883726)\", \"rgba(128, 177, 211, 0.2558139534883726)\", \"rgba(255, 153, 51, 0.2558139534883726)\", \"rgba(55, 128, 191, 0.2558139534883726)\", \"rgba(50, 171, 96, 0.2558139534883726)\", \"rgba(128, 0, 128, 0.2558139534883726)\", \"rgba(219, 64, 82, 0.2558139534883726)\", \"rgba(0, 128, 128, 0.2558139534883726)\", \"rgba(0, 128, 128, 0.2441860465116284)\", \"rgba(255, 255, 51, 0.2441860465116284)\", \"rgba(128, 128, 0, 0.2441860465116284)\", \"rgba(251, 128, 114, 0.2441860465116284)\", \"rgba(128, 177, 211, 0.2441860465116284)\", \"rgba(255, 153, 51, 0.2441860465116284)\", \"rgba(55, 128, 191, 0.2441860465116284)\", \"rgba(50, 171, 96, 0.2441860465116284)\", \"rgba(128, 0, 128, 0.2441860465116284)\", \"rgba(219, 64, 82, 0.2441860465116284)\", \"rgba(219, 64, 82, 0.2325581395348842)\", \"rgba(0, 128, 128, 0.2325581395348842)\", \"rgba(255, 255, 51, 0.2325581395348842)\", \"rgba(128, 128, 0, 0.2325581395348842)\", \"rgba(251, 128, 114, 0.2325581395348842)\", \"rgba(128, 177, 211, 0.2325581395348842)\", \"rgba(255, 153, 51, 0.2325581395348842)\", \"rgba(55, 128, 191, 0.2325581395348842)\", \"rgba(50, 171, 96, 0.2325581395348842)\", \"rgba(128, 0, 128, 0.2325581395348842)\", \"rgba(128, 0, 128, 0.22093023255813998)\", \"rgba(219, 64, 82, 0.22093023255813998)\", \"rgba(0, 128, 128, 0.22093023255813998)\", \"rgba(255, 255, 51, 0.22093023255813998)\", \"rgba(128, 128, 0, 0.22093023255813998)\", \"rgba(251, 128, 114, 0.22093023255813998)\", \"rgba(128, 177, 211, 0.22093023255813998)\", \"rgba(255, 153, 51, 0.22093023255813998)\", \"rgba(55, 128, 191, 0.22093023255813998)\", \"rgba(50, 171, 96, 0.22093023255813998)\", \"rgba(50, 171, 96, 0.20930232558139578)\", \"rgba(128, 0, 128, 0.20930232558139578)\", \"rgba(219, 64, 82, 0.20930232558139578)\", \"rgba(0, 128, 128, 0.20930232558139578)\", \"rgba(255, 255, 51, 0.20930232558139578)\", \"rgba(128, 128, 0, 0.20930232558139578)\", \"rgba(251, 128, 114, 0.20930232558139578)\", \"rgba(128, 177, 211, 0.20930232558139578)\"]}, \"name\": \"\", \"type\": \"pie\", \"values\": [1, 1, 1, 1, 1, 1, 1, 1, 1, 1, 1, 1, 1, 1, 1, 1, 1, 1, 1, 1, 1, 1, 1, 1, 1, 1, 1, 1, 1, 1, 1, 1, 1, 1, 1, 1, 1, 1, 1, 1, 1, 1, 1, 1, 1, 1, 1, 1, 1, 1, 1, 1, 1, 1, 1, 1, 1, 1, 1, 1, 1, 1, 1, 1, 1, 1, 1, 1, 1, 1, 1, 1, 1, 1, 1, 1, 1, 1, 1, 1, 1, 1, 1, 1, 1, 1, 1, 1, 1, 1, 1, 1, 1, 1, 1, 1, 1, 1, 1, 1, 1, 1, 1, 1, 1, 1, 1, 1, 1, 1, 1, 1, 1, 1, 1, 1, 1, 1, 1, 1, 1, 1, 1, 1, 1, 1, 1, 1, 1, 1, 1, 1, 1, 1, 1, 1, 1, 1, 1, 1, 1, 1, 1, 1, 1, 1, 1, 1, 1, 1, 1, 1, 1, 1, 1, 1, 1, 1, 1, 1, 1, 1, 1, 1, 1, 1, 1, 1, 1, 1, 1, 1, 1, 1, 1, 1, 1, 1, 1, 1, 1, 1, 1, 1, 1, 1, 1, 1, 1, 1, 1, 1, 1, 1, 1, 1, 1, 1, 1, 1, 1, 1, 1, 1, 1, 1, 1, 1, 1, 1, 1, 1, 1, 1, 1, 1, 1, 1, 1, 1, 1, 1, 1, 1, 1, 1, 1, 1, 1, 1, 1, 1, 1, 1, 1, 1, 1, 1, 1, 1, 1, 1, 1, 1, 1, 1, 1, 1, 1, 1, 1, 1, 1, 1, 1, 1, 1, 1, 1, 1, 1, 1, 1, 1, 1, 1, 1, 1, 1, 1, 1, 1, 1, 1, 1, 1, 1, 1, 1, 1, 1, 1, 1, 1, 1, 1, 1, 1, 1, 1, 1, 1, 1, 1, 1, 1, 1, 1, 1, 1, 1, 1, 1, 1, 1, 1, 1, 1, 1, 1, 1, 1, 1, 1, 1, 1, 1, 1, 1, 1, 1, 1, 1, 1, 1, 1, 1, 1, 1, 1, 1, 1, 1, 1, 1, 1, 1, 1, 1, 1, 1, 1, 1, 1, 1, 1, 1, 1, 1, 1, 1, 1, 1, 1, 1, 1, 1, 1, 1, 1, 1, 1, 1, 1, 1, 1, 1, 1, 1, 1, 1, 1, 1, 1, 1, 1, 1, 1, 1, 1, 1, 1, 1, 1, 1, 1, 1, 1, 1, 1, 1, 1, 1, 1, 1, 1, 1, 1, 1, 1, 1, 1, 1, 1, 1, 1, 1, 1, 1, 1, 1, 1, 1, 1, 1, 1, 1, 1, 1, 1, 1, 1, 1, 1, 1, 1, 1, 1, 1, 1, 1, 1, 1, 1, 1, 1, 1, 1, 1, 1, 1, 1, 1, 1, 1, 1, 1, 1, 1, 1, 1, 1, 1, 1, 1, 1, 1, 1, 1, 1, 1, 1, 1, 1, 1, 1, 1, 1, 1, 1, 1, 1, 1, 1, 1, 1, 1, 1, 1, 1, 1, 1, 1, 1, 1, 1, 1, 1, 1, 1, 1, 1, 1, 1, 1, 1, 1, 1, 1, 1, 1, 1, 1, 1, 1, 1, 1, 1, 1, 1, 1, 1, 1, 1, 1, 1, 1, 1, 1, 1, 1, 1, 1, 1, 1, 1, 1, 1, 1, 1, 1, 1, 1, 1, 1, 1, 1, 1, 1, 1, 1, 1, 1, 1, 1, 1, 1, 1, 1, 1, 1, 1, 1, 1, 1, 1, 1, 1, 1, 1, 1, 1, 1, 1, 1, 1, 1, 1, 1, 1, 1, 1, 1, 1, 1, 1, 1, 1, 1, 1, 1, 1, 1, 1, 1, 1, 1, 1, 1, 1, 1, 1, 1, 1, 1, 1, 1, 1, 1, 1, 1, 1, 1, 1, 1, 1, 1, 1, 1, 1, 1, 1, 1, 1, 1, 1, 1, 1, 1, 1, 1, 1, 1, 1, 1, 1, 1, 1, 1, 1, 1, 1, 1, 1, 1, 1, 1, 1, 1, 1, 1, 1, 1, 1, 1, 1, 1, 1, 1, 1, 1, 1, 1, 1, 1, 1, 1, 1, 1, 1, 1, 1, 1, 1, 1, 1, 1, 1, 1, 1, 1, 1, 1, 1, 1, 1, 1, 1, 1, 1, 1, 1, 1, 1, 1, 1, 1, 1]}],                        {\"legend\": {\"bgcolor\": \"#F5F6F9\", \"font\": {\"color\": \"#4D5663\"}}, \"paper_bgcolor\": \"#F5F6F9\", \"plot_bgcolor\": \"#F5F6F9\", \"title\": \"Reviews Category\", \"titlefont\": {\"color\": \"#4D5663\"}},                        {\"showLink\": true, \"linkText\": \"Export to plot.ly\", \"plotlyServerURL\": \"https://plot.ly\", \"responsive\": true}                    ).then(function(){\n",
       "                            \n",
       "var gd = document.getElementById('b062ea25-85ee-4089-be06-d3161213e5da');\n",
       "var x = new MutationObserver(function (mutations, observer) {{\n",
       "        var display = window.getComputedStyle(gd).display;\n",
       "        if (!display || display === 'none') {{\n",
       "            console.log([gd, 'removed!']);\n",
       "            Plotly.purge(gd);\n",
       "            observer.disconnect();\n",
       "        }}\n",
       "}});\n",
       "\n",
       "// Listen for the removal of the full notebook cells\n",
       "var notebookContainer = gd.closest('#notebook-container');\n",
       "if (notebookContainer) {{\n",
       "    x.observe(notebookContainer, {childList: true});\n",
       "}}\n",
       "\n",
       "// Listen for the clearing of the current output cell\n",
       "var outputEl = gd.closest('.output');\n",
       "if (outputEl) {{\n",
       "    x.observe(outputEl, {childList: true});\n",
       "}}\n",
       "\n",
       "                        })                };                });            </script>        </div>"
      ]
     },
     "metadata": {},
     "output_type": "display_data"
    }
   ],
   "source": [
    "data_explode.iplot(kind='pie',labels='Reviews Category',values='Rating',title='Reviews Category')"
   ]
  },
  {
   "cell_type": "code",
   "execution_count": 34,
   "metadata": {
    "scrolled": true
   },
   "outputs": [
    {
     "data": {
      "application/vnd.plotly.v1+json": {
       "config": {
        "plotlyServerURL": "https://plot.ly"
       },
       "data": [
        {
         "alignmentgroup": "True",
         "hovertemplate": "Reviews Category=Delivery process<br>Customer Feedback Tag=%{x}<br>Number of negative reviews=%{y}<extra></extra>",
         "legendgroup": "Delivery process",
         "marker": {
          "color": "#636efa"
         },
         "name": "Delivery process",
         "offsetgroup": "Delivery process",
         "orientation": "v",
         "showlegend": true,
         "textposition": "auto",
         "type": "bar",
         "x": [
          "Not enough meals/Bad meal",
          "Wrong meal",
          "Not enough meals/Bad meal",
          "Wrong meal",
          "Not enough meals/Bad meal",
          "Wrong meal",
          "Not enough meals/Bad meal",
          "Wrong meal",
          "Not enough meals/Bad meal",
          "Wrong meal",
          "Not enough meals/Bad meal",
          "Wrong meal"
         ],
         "xaxis": "x",
         "y": [
          33,
          4,
          14,
          5,
          35,
          9,
          9,
          2,
          4,
          2,
          9,
          1
         ],
         "yaxis": "y"
        },
        {
         "alignmentgroup": "True",
         "hovertemplate": "Reviews Category=Delivery timeout<br>Customer Feedback Tag=%{x}<br>Number of negative reviews=%{y}<extra></extra>",
         "legendgroup": "Delivery timeout",
         "marker": {
          "color": "#EF553B"
         },
         "name": "Delivery timeout",
         "offsetgroup": "Delivery timeout",
         "orientation": "v",
         "showlegend": true,
         "textposition": "auto",
         "type": "bar",
         "x": [
          "Delivery timeout",
          "Delivery timeout",
          "Delivery timeout",
          "Delivery timeout",
          "Delivery timeout",
          "Delivery timeout"
         ],
         "xaxis": "x",
         "y": [
          42,
          40,
          64,
          18,
          8,
          17
         ],
         "yaxis": "y"
        },
        {
         "alignmentgroup": "True",
         "hovertemplate": "Reviews Category=Illegal operation<br>Customer Feedback Tag=%{x}<br>Number of negative reviews=%{y}<extra></extra>",
         "legendgroup": "Illegal operation",
         "marker": {
          "color": "#00cc96"
         },
         "name": "Illegal operation",
         "offsetgroup": "Illegal operation",
         "orientation": "v",
         "showlegend": true,
         "textposition": "auto",
         "type": "bar",
         "x": [
          "Early delivery",
          "No notice on delivery",
          "Early delivery",
          "No notice on delivery",
          "Early delivery",
          "No notice on delivery",
          "Early delivery",
          "No notice on delivery",
          "Early delivery",
          "No notice on delivery",
          "Early delivery"
         ],
         "xaxis": "x",
         "y": [
          16,
          6,
          8,
          4,
          13,
          15,
          5,
          3,
          4,
          7,
          2
         ],
         "yaxis": "y"
        },
        {
         "alignmentgroup": "True",
         "hovertemplate": "Reviews Category=Others<br>Customer Feedback Tag=%{x}<br>Number of negative reviews=%{y}<extra></extra>",
         "legendgroup": "Others",
         "marker": {
          "color": "#ab63fa"
         },
         "name": "Others",
         "offsetgroup": "Others",
         "orientation": "v",
         "showlegend": true,
         "textposition": "auto",
         "type": "bar",
         "x": [
          "Others",
          "Others",
          "Others",
          "Others",
          "Others",
          "Others"
         ],
         "xaxis": "x",
         "y": [
          24,
          26,
          35,
          11,
          2,
          8
         ],
         "yaxis": "y"
        },
        {
         "alignmentgroup": "True",
         "hovertemplate": "Reviews Category=Professional attitude<br>Customer Feedback Tag=%{x}<br>Number of negative reviews=%{y}<extra></extra>",
         "legendgroup": "Professional attitude",
         "marker": {
          "color": "#FFA15A"
         },
         "name": "Professional attitude",
         "offsetgroup": "Professional attitude",
         "orientation": "v",
         "showlegend": true,
         "textposition": "auto",
         "type": "bar",
         "x": [
          "Bad attitude",
          "Irregular appearance",
          "Bad attitude",
          "Irregular appearance",
          "Bad attitude",
          "Irregular appearance",
          "Bad attitude",
          "Irregular appearance",
          "Bad attitude",
          "Irregular appearance",
          "Bad attitude",
          "Irregular appearance"
         ],
         "xaxis": "x",
         "y": [
          41,
          16,
          28,
          6,
          46,
          7,
          10,
          1,
          5,
          1,
          10,
          1
         ],
         "yaxis": "y"
        }
       ],
       "layout": {
        "barmode": "relative",
        "legend": {
         "title": {
          "text": "Reviews Category"
         },
         "tracegroupgap": 0
        },
        "template": {
         "data": {
          "bar": [
           {
            "error_x": {
             "color": "#2a3f5f"
            },
            "error_y": {
             "color": "#2a3f5f"
            },
            "marker": {
             "line": {
              "color": "#E5ECF6",
              "width": 0.5
             }
            },
            "type": "bar"
           }
          ],
          "barpolar": [
           {
            "marker": {
             "line": {
              "color": "#E5ECF6",
              "width": 0.5
             }
            },
            "type": "barpolar"
           }
          ],
          "carpet": [
           {
            "aaxis": {
             "endlinecolor": "#2a3f5f",
             "gridcolor": "white",
             "linecolor": "white",
             "minorgridcolor": "white",
             "startlinecolor": "#2a3f5f"
            },
            "baxis": {
             "endlinecolor": "#2a3f5f",
             "gridcolor": "white",
             "linecolor": "white",
             "minorgridcolor": "white",
             "startlinecolor": "#2a3f5f"
            },
            "type": "carpet"
           }
          ],
          "choropleth": [
           {
            "colorbar": {
             "outlinewidth": 0,
             "ticks": ""
            },
            "type": "choropleth"
           }
          ],
          "contour": [
           {
            "colorbar": {
             "outlinewidth": 0,
             "ticks": ""
            },
            "colorscale": [
             [
              0,
              "#0d0887"
             ],
             [
              0.1111111111111111,
              "#46039f"
             ],
             [
              0.2222222222222222,
              "#7201a8"
             ],
             [
              0.3333333333333333,
              "#9c179e"
             ],
             [
              0.4444444444444444,
              "#bd3786"
             ],
             [
              0.5555555555555556,
              "#d8576b"
             ],
             [
              0.6666666666666666,
              "#ed7953"
             ],
             [
              0.7777777777777778,
              "#fb9f3a"
             ],
             [
              0.8888888888888888,
              "#fdca26"
             ],
             [
              1,
              "#f0f921"
             ]
            ],
            "type": "contour"
           }
          ],
          "contourcarpet": [
           {
            "colorbar": {
             "outlinewidth": 0,
             "ticks": ""
            },
            "type": "contourcarpet"
           }
          ],
          "heatmap": [
           {
            "colorbar": {
             "outlinewidth": 0,
             "ticks": ""
            },
            "colorscale": [
             [
              0,
              "#0d0887"
             ],
             [
              0.1111111111111111,
              "#46039f"
             ],
             [
              0.2222222222222222,
              "#7201a8"
             ],
             [
              0.3333333333333333,
              "#9c179e"
             ],
             [
              0.4444444444444444,
              "#bd3786"
             ],
             [
              0.5555555555555556,
              "#d8576b"
             ],
             [
              0.6666666666666666,
              "#ed7953"
             ],
             [
              0.7777777777777778,
              "#fb9f3a"
             ],
             [
              0.8888888888888888,
              "#fdca26"
             ],
             [
              1,
              "#f0f921"
             ]
            ],
            "type": "heatmap"
           }
          ],
          "heatmapgl": [
           {
            "colorbar": {
             "outlinewidth": 0,
             "ticks": ""
            },
            "colorscale": [
             [
              0,
              "#0d0887"
             ],
             [
              0.1111111111111111,
              "#46039f"
             ],
             [
              0.2222222222222222,
              "#7201a8"
             ],
             [
              0.3333333333333333,
              "#9c179e"
             ],
             [
              0.4444444444444444,
              "#bd3786"
             ],
             [
              0.5555555555555556,
              "#d8576b"
             ],
             [
              0.6666666666666666,
              "#ed7953"
             ],
             [
              0.7777777777777778,
              "#fb9f3a"
             ],
             [
              0.8888888888888888,
              "#fdca26"
             ],
             [
              1,
              "#f0f921"
             ]
            ],
            "type": "heatmapgl"
           }
          ],
          "histogram": [
           {
            "marker": {
             "colorbar": {
              "outlinewidth": 0,
              "ticks": ""
             }
            },
            "type": "histogram"
           }
          ],
          "histogram2d": [
           {
            "colorbar": {
             "outlinewidth": 0,
             "ticks": ""
            },
            "colorscale": [
             [
              0,
              "#0d0887"
             ],
             [
              0.1111111111111111,
              "#46039f"
             ],
             [
              0.2222222222222222,
              "#7201a8"
             ],
             [
              0.3333333333333333,
              "#9c179e"
             ],
             [
              0.4444444444444444,
              "#bd3786"
             ],
             [
              0.5555555555555556,
              "#d8576b"
             ],
             [
              0.6666666666666666,
              "#ed7953"
             ],
             [
              0.7777777777777778,
              "#fb9f3a"
             ],
             [
              0.8888888888888888,
              "#fdca26"
             ],
             [
              1,
              "#f0f921"
             ]
            ],
            "type": "histogram2d"
           }
          ],
          "histogram2dcontour": [
           {
            "colorbar": {
             "outlinewidth": 0,
             "ticks": ""
            },
            "colorscale": [
             [
              0,
              "#0d0887"
             ],
             [
              0.1111111111111111,
              "#46039f"
             ],
             [
              0.2222222222222222,
              "#7201a8"
             ],
             [
              0.3333333333333333,
              "#9c179e"
             ],
             [
              0.4444444444444444,
              "#bd3786"
             ],
             [
              0.5555555555555556,
              "#d8576b"
             ],
             [
              0.6666666666666666,
              "#ed7953"
             ],
             [
              0.7777777777777778,
              "#fb9f3a"
             ],
             [
              0.8888888888888888,
              "#fdca26"
             ],
             [
              1,
              "#f0f921"
             ]
            ],
            "type": "histogram2dcontour"
           }
          ],
          "mesh3d": [
           {
            "colorbar": {
             "outlinewidth": 0,
             "ticks": ""
            },
            "type": "mesh3d"
           }
          ],
          "parcoords": [
           {
            "line": {
             "colorbar": {
              "outlinewidth": 0,
              "ticks": ""
             }
            },
            "type": "parcoords"
           }
          ],
          "pie": [
           {
            "automargin": true,
            "type": "pie"
           }
          ],
          "scatter": [
           {
            "marker": {
             "colorbar": {
              "outlinewidth": 0,
              "ticks": ""
             }
            },
            "type": "scatter"
           }
          ],
          "scatter3d": [
           {
            "line": {
             "colorbar": {
              "outlinewidth": 0,
              "ticks": ""
             }
            },
            "marker": {
             "colorbar": {
              "outlinewidth": 0,
              "ticks": ""
             }
            },
            "type": "scatter3d"
           }
          ],
          "scattercarpet": [
           {
            "marker": {
             "colorbar": {
              "outlinewidth": 0,
              "ticks": ""
             }
            },
            "type": "scattercarpet"
           }
          ],
          "scattergeo": [
           {
            "marker": {
             "colorbar": {
              "outlinewidth": 0,
              "ticks": ""
             }
            },
            "type": "scattergeo"
           }
          ],
          "scattergl": [
           {
            "marker": {
             "colorbar": {
              "outlinewidth": 0,
              "ticks": ""
             }
            },
            "type": "scattergl"
           }
          ],
          "scattermapbox": [
           {
            "marker": {
             "colorbar": {
              "outlinewidth": 0,
              "ticks": ""
             }
            },
            "type": "scattermapbox"
           }
          ],
          "scatterpolar": [
           {
            "marker": {
             "colorbar": {
              "outlinewidth": 0,
              "ticks": ""
             }
            },
            "type": "scatterpolar"
           }
          ],
          "scatterpolargl": [
           {
            "marker": {
             "colorbar": {
              "outlinewidth": 0,
              "ticks": ""
             }
            },
            "type": "scatterpolargl"
           }
          ],
          "scatterternary": [
           {
            "marker": {
             "colorbar": {
              "outlinewidth": 0,
              "ticks": ""
             }
            },
            "type": "scatterternary"
           }
          ],
          "surface": [
           {
            "colorbar": {
             "outlinewidth": 0,
             "ticks": ""
            },
            "colorscale": [
             [
              0,
              "#0d0887"
             ],
             [
              0.1111111111111111,
              "#46039f"
             ],
             [
              0.2222222222222222,
              "#7201a8"
             ],
             [
              0.3333333333333333,
              "#9c179e"
             ],
             [
              0.4444444444444444,
              "#bd3786"
             ],
             [
              0.5555555555555556,
              "#d8576b"
             ],
             [
              0.6666666666666666,
              "#ed7953"
             ],
             [
              0.7777777777777778,
              "#fb9f3a"
             ],
             [
              0.8888888888888888,
              "#fdca26"
             ],
             [
              1,
              "#f0f921"
             ]
            ],
            "type": "surface"
           }
          ],
          "table": [
           {
            "cells": {
             "fill": {
              "color": "#EBF0F8"
             },
             "line": {
              "color": "white"
             }
            },
            "header": {
             "fill": {
              "color": "#C8D4E3"
             },
             "line": {
              "color": "white"
             }
            },
            "type": "table"
           }
          ]
         },
         "layout": {
          "annotationdefaults": {
           "arrowcolor": "#2a3f5f",
           "arrowhead": 0,
           "arrowwidth": 1
          },
          "autotypenumbers": "strict",
          "coloraxis": {
           "colorbar": {
            "outlinewidth": 0,
            "ticks": ""
           }
          },
          "colorscale": {
           "diverging": [
            [
             0,
             "#8e0152"
            ],
            [
             0.1,
             "#c51b7d"
            ],
            [
             0.2,
             "#de77ae"
            ],
            [
             0.3,
             "#f1b6da"
            ],
            [
             0.4,
             "#fde0ef"
            ],
            [
             0.5,
             "#f7f7f7"
            ],
            [
             0.6,
             "#e6f5d0"
            ],
            [
             0.7,
             "#b8e186"
            ],
            [
             0.8,
             "#7fbc41"
            ],
            [
             0.9,
             "#4d9221"
            ],
            [
             1,
             "#276419"
            ]
           ],
           "sequential": [
            [
             0,
             "#0d0887"
            ],
            [
             0.1111111111111111,
             "#46039f"
            ],
            [
             0.2222222222222222,
             "#7201a8"
            ],
            [
             0.3333333333333333,
             "#9c179e"
            ],
            [
             0.4444444444444444,
             "#bd3786"
            ],
            [
             0.5555555555555556,
             "#d8576b"
            ],
            [
             0.6666666666666666,
             "#ed7953"
            ],
            [
             0.7777777777777778,
             "#fb9f3a"
            ],
            [
             0.8888888888888888,
             "#fdca26"
            ],
            [
             1,
             "#f0f921"
            ]
           ],
           "sequentialminus": [
            [
             0,
             "#0d0887"
            ],
            [
             0.1111111111111111,
             "#46039f"
            ],
            [
             0.2222222222222222,
             "#7201a8"
            ],
            [
             0.3333333333333333,
             "#9c179e"
            ],
            [
             0.4444444444444444,
             "#bd3786"
            ],
            [
             0.5555555555555556,
             "#d8576b"
            ],
            [
             0.6666666666666666,
             "#ed7953"
            ],
            [
             0.7777777777777778,
             "#fb9f3a"
            ],
            [
             0.8888888888888888,
             "#fdca26"
            ],
            [
             1,
             "#f0f921"
            ]
           ]
          },
          "colorway": [
           "#636efa",
           "#EF553B",
           "#00cc96",
           "#ab63fa",
           "#FFA15A",
           "#19d3f3",
           "#FF6692",
           "#B6E880",
           "#FF97FF",
           "#FECB52"
          ],
          "font": {
           "color": "#2a3f5f"
          },
          "geo": {
           "bgcolor": "white",
           "lakecolor": "white",
           "landcolor": "#E5ECF6",
           "showlakes": true,
           "showland": true,
           "subunitcolor": "white"
          },
          "hoverlabel": {
           "align": "left"
          },
          "hovermode": "closest",
          "mapbox": {
           "style": "light"
          },
          "paper_bgcolor": "white",
          "plot_bgcolor": "#E5ECF6",
          "polar": {
           "angularaxis": {
            "gridcolor": "white",
            "linecolor": "white",
            "ticks": ""
           },
           "bgcolor": "#E5ECF6",
           "radialaxis": {
            "gridcolor": "white",
            "linecolor": "white",
            "ticks": ""
           }
          },
          "scene": {
           "xaxis": {
            "backgroundcolor": "#E5ECF6",
            "gridcolor": "white",
            "gridwidth": 2,
            "linecolor": "white",
            "showbackground": true,
            "ticks": "",
            "zerolinecolor": "white"
           },
           "yaxis": {
            "backgroundcolor": "#E5ECF6",
            "gridcolor": "white",
            "gridwidth": 2,
            "linecolor": "white",
            "showbackground": true,
            "ticks": "",
            "zerolinecolor": "white"
           },
           "zaxis": {
            "backgroundcolor": "#E5ECF6",
            "gridcolor": "white",
            "gridwidth": 2,
            "linecolor": "white",
            "showbackground": true,
            "ticks": "",
            "zerolinecolor": "white"
           }
          },
          "shapedefaults": {
           "line": {
            "color": "#2a3f5f"
           }
          },
          "ternary": {
           "aaxis": {
            "gridcolor": "white",
            "linecolor": "white",
            "ticks": ""
           },
           "baxis": {
            "gridcolor": "white",
            "linecolor": "white",
            "ticks": ""
           },
           "bgcolor": "#E5ECF6",
           "caxis": {
            "gridcolor": "white",
            "linecolor": "white",
            "ticks": ""
           }
          },
          "title": {
           "x": 0.05
          },
          "xaxis": {
           "automargin": true,
           "gridcolor": "white",
           "linecolor": "white",
           "ticks": "",
           "title": {
            "standoff": 15
           },
           "zerolinecolor": "white",
           "zerolinewidth": 2
          },
          "yaxis": {
           "automargin": true,
           "gridcolor": "white",
           "linecolor": "white",
           "ticks": "",
           "title": {
            "standoff": 15
           },
           "zerolinecolor": "white",
           "zerolinewidth": 2
          }
         }
        },
        "title": {
         "text": "Negative review type distribution"
        },
        "xaxis": {
         "anchor": "y",
         "domain": [
          0,
          1
         ],
         "title": {
          "text": "Customer Feedback Tag"
         }
        },
        "yaxis": {
         "anchor": "x",
         "domain": [
          0,
          1
         ],
         "title": {
          "text": "Number of negative reviews"
         }
        }
       }
      },
      "text/html": [
       "<div>                            <div id=\"46da1299-2fef-40ea-b98d-3abd2ed2ebcf\" class=\"plotly-graph-div\" style=\"height:525px; width:100%;\"></div>            <script type=\"text/javascript\">                require([\"plotly\"], function(Plotly) {                    window.PLOTLYENV=window.PLOTLYENV || {};                                    if (document.getElementById(\"46da1299-2fef-40ea-b98d-3abd2ed2ebcf\")) {                    Plotly.newPlot(                        \"46da1299-2fef-40ea-b98d-3abd2ed2ebcf\",                        [{\"alignmentgroup\": \"True\", \"hovertemplate\": \"Reviews Category=Delivery process<br>Customer Feedback Tag=%{x}<br>Number of negative reviews=%{y}<extra></extra>\", \"legendgroup\": \"Delivery process\", \"marker\": {\"color\": \"#636efa\"}, \"name\": \"Delivery process\", \"offsetgroup\": \"Delivery process\", \"orientation\": \"v\", \"showlegend\": true, \"textposition\": \"auto\", \"type\": \"bar\", \"x\": [\"Not enough meals/Bad meal\", \"Wrong meal\", \"Not enough meals/Bad meal\", \"Wrong meal\", \"Not enough meals/Bad meal\", \"Wrong meal\", \"Not enough meals/Bad meal\", \"Wrong meal\", \"Not enough meals/Bad meal\", \"Wrong meal\", \"Not enough meals/Bad meal\", \"Wrong meal\"], \"xaxis\": \"x\", \"y\": [33, 4, 14, 5, 35, 9, 9, 2, 4, 2, 9, 1], \"yaxis\": \"y\"}, {\"alignmentgroup\": \"True\", \"hovertemplate\": \"Reviews Category=Delivery timeout<br>Customer Feedback Tag=%{x}<br>Number of negative reviews=%{y}<extra></extra>\", \"legendgroup\": \"Delivery timeout\", \"marker\": {\"color\": \"#EF553B\"}, \"name\": \"Delivery timeout\", \"offsetgroup\": \"Delivery timeout\", \"orientation\": \"v\", \"showlegend\": true, \"textposition\": \"auto\", \"type\": \"bar\", \"x\": [\"Delivery timeout\", \"Delivery timeout\", \"Delivery timeout\", \"Delivery timeout\", \"Delivery timeout\", \"Delivery timeout\"], \"xaxis\": \"x\", \"y\": [42, 40, 64, 18, 8, 17], \"yaxis\": \"y\"}, {\"alignmentgroup\": \"True\", \"hovertemplate\": \"Reviews Category=Illegal operation<br>Customer Feedback Tag=%{x}<br>Number of negative reviews=%{y}<extra></extra>\", \"legendgroup\": \"Illegal operation\", \"marker\": {\"color\": \"#00cc96\"}, \"name\": \"Illegal operation\", \"offsetgroup\": \"Illegal operation\", \"orientation\": \"v\", \"showlegend\": true, \"textposition\": \"auto\", \"type\": \"bar\", \"x\": [\"Early delivery\", \"No notice on delivery\", \"Early delivery\", \"No notice on delivery\", \"Early delivery\", \"No notice on delivery\", \"Early delivery\", \"No notice on delivery\", \"Early delivery\", \"No notice on delivery\", \"Early delivery\"], \"xaxis\": \"x\", \"y\": [16, 6, 8, 4, 13, 15, 5, 3, 4, 7, 2], \"yaxis\": \"y\"}, {\"alignmentgroup\": \"True\", \"hovertemplate\": \"Reviews Category=Others<br>Customer Feedback Tag=%{x}<br>Number of negative reviews=%{y}<extra></extra>\", \"legendgroup\": \"Others\", \"marker\": {\"color\": \"#ab63fa\"}, \"name\": \"Others\", \"offsetgroup\": \"Others\", \"orientation\": \"v\", \"showlegend\": true, \"textposition\": \"auto\", \"type\": \"bar\", \"x\": [\"Others\", \"Others\", \"Others\", \"Others\", \"Others\", \"Others\"], \"xaxis\": \"x\", \"y\": [24, 26, 35, 11, 2, 8], \"yaxis\": \"y\"}, {\"alignmentgroup\": \"True\", \"hovertemplate\": \"Reviews Category=Professional attitude<br>Customer Feedback Tag=%{x}<br>Number of negative reviews=%{y}<extra></extra>\", \"legendgroup\": \"Professional attitude\", \"marker\": {\"color\": \"#FFA15A\"}, \"name\": \"Professional attitude\", \"offsetgroup\": \"Professional attitude\", \"orientation\": \"v\", \"showlegend\": true, \"textposition\": \"auto\", \"type\": \"bar\", \"x\": [\"Bad attitude\", \"Irregular appearance\", \"Bad attitude\", \"Irregular appearance\", \"Bad attitude\", \"Irregular appearance\", \"Bad attitude\", \"Irregular appearance\", \"Bad attitude\", \"Irregular appearance\", \"Bad attitude\", \"Irregular appearance\"], \"xaxis\": \"x\", \"y\": [41, 16, 28, 6, 46, 7, 10, 1, 5, 1, 10, 1], \"yaxis\": \"y\"}],                        {\"barmode\": \"relative\", \"legend\": {\"title\": {\"text\": \"Reviews Category\"}, \"tracegroupgap\": 0}, \"template\": {\"data\": {\"bar\": [{\"error_x\": {\"color\": \"#2a3f5f\"}, \"error_y\": {\"color\": \"#2a3f5f\"}, \"marker\": {\"line\": {\"color\": \"#E5ECF6\", \"width\": 0.5}}, \"type\": \"bar\"}], \"barpolar\": [{\"marker\": {\"line\": {\"color\": \"#E5ECF6\", \"width\": 0.5}}, \"type\": \"barpolar\"}], \"carpet\": [{\"aaxis\": {\"endlinecolor\": \"#2a3f5f\", \"gridcolor\": \"white\", \"linecolor\": \"white\", \"minorgridcolor\": \"white\", \"startlinecolor\": \"#2a3f5f\"}, \"baxis\": {\"endlinecolor\": \"#2a3f5f\", \"gridcolor\": \"white\", \"linecolor\": \"white\", \"minorgridcolor\": \"white\", \"startlinecolor\": \"#2a3f5f\"}, \"type\": \"carpet\"}], \"choropleth\": [{\"colorbar\": {\"outlinewidth\": 0, \"ticks\": \"\"}, \"type\": \"choropleth\"}], \"contour\": [{\"colorbar\": {\"outlinewidth\": 0, \"ticks\": \"\"}, \"colorscale\": [[0.0, \"#0d0887\"], [0.1111111111111111, \"#46039f\"], [0.2222222222222222, \"#7201a8\"], [0.3333333333333333, \"#9c179e\"], [0.4444444444444444, \"#bd3786\"], [0.5555555555555556, \"#d8576b\"], [0.6666666666666666, \"#ed7953\"], [0.7777777777777778, \"#fb9f3a\"], [0.8888888888888888, \"#fdca26\"], [1.0, \"#f0f921\"]], \"type\": \"contour\"}], \"contourcarpet\": [{\"colorbar\": {\"outlinewidth\": 0, \"ticks\": \"\"}, \"type\": \"contourcarpet\"}], \"heatmap\": [{\"colorbar\": {\"outlinewidth\": 0, \"ticks\": \"\"}, \"colorscale\": [[0.0, \"#0d0887\"], [0.1111111111111111, \"#46039f\"], [0.2222222222222222, \"#7201a8\"], [0.3333333333333333, \"#9c179e\"], [0.4444444444444444, \"#bd3786\"], [0.5555555555555556, \"#d8576b\"], [0.6666666666666666, \"#ed7953\"], [0.7777777777777778, \"#fb9f3a\"], [0.8888888888888888, \"#fdca26\"], [1.0, \"#f0f921\"]], \"type\": \"heatmap\"}], \"heatmapgl\": [{\"colorbar\": {\"outlinewidth\": 0, \"ticks\": \"\"}, \"colorscale\": [[0.0, \"#0d0887\"], [0.1111111111111111, \"#46039f\"], [0.2222222222222222, \"#7201a8\"], [0.3333333333333333, \"#9c179e\"], [0.4444444444444444, \"#bd3786\"], [0.5555555555555556, \"#d8576b\"], [0.6666666666666666, \"#ed7953\"], [0.7777777777777778, \"#fb9f3a\"], [0.8888888888888888, \"#fdca26\"], [1.0, \"#f0f921\"]], \"type\": \"heatmapgl\"}], \"histogram\": [{\"marker\": {\"colorbar\": {\"outlinewidth\": 0, \"ticks\": \"\"}}, \"type\": \"histogram\"}], \"histogram2d\": [{\"colorbar\": {\"outlinewidth\": 0, \"ticks\": \"\"}, \"colorscale\": [[0.0, \"#0d0887\"], [0.1111111111111111, \"#46039f\"], [0.2222222222222222, \"#7201a8\"], [0.3333333333333333, \"#9c179e\"], [0.4444444444444444, \"#bd3786\"], [0.5555555555555556, \"#d8576b\"], [0.6666666666666666, \"#ed7953\"], [0.7777777777777778, \"#fb9f3a\"], [0.8888888888888888, \"#fdca26\"], [1.0, \"#f0f921\"]], \"type\": \"histogram2d\"}], \"histogram2dcontour\": [{\"colorbar\": {\"outlinewidth\": 0, \"ticks\": \"\"}, \"colorscale\": [[0.0, \"#0d0887\"], [0.1111111111111111, \"#46039f\"], [0.2222222222222222, \"#7201a8\"], [0.3333333333333333, \"#9c179e\"], [0.4444444444444444, \"#bd3786\"], [0.5555555555555556, \"#d8576b\"], [0.6666666666666666, \"#ed7953\"], [0.7777777777777778, \"#fb9f3a\"], [0.8888888888888888, \"#fdca26\"], [1.0, \"#f0f921\"]], \"type\": \"histogram2dcontour\"}], \"mesh3d\": [{\"colorbar\": {\"outlinewidth\": 0, \"ticks\": \"\"}, \"type\": \"mesh3d\"}], \"parcoords\": [{\"line\": {\"colorbar\": {\"outlinewidth\": 0, \"ticks\": \"\"}}, \"type\": \"parcoords\"}], \"pie\": [{\"automargin\": true, \"type\": \"pie\"}], \"scatter\": [{\"marker\": {\"colorbar\": {\"outlinewidth\": 0, \"ticks\": \"\"}}, \"type\": \"scatter\"}], \"scatter3d\": [{\"line\": {\"colorbar\": {\"outlinewidth\": 0, \"ticks\": \"\"}}, \"marker\": {\"colorbar\": {\"outlinewidth\": 0, \"ticks\": \"\"}}, \"type\": \"scatter3d\"}], \"scattercarpet\": [{\"marker\": {\"colorbar\": {\"outlinewidth\": 0, \"ticks\": \"\"}}, \"type\": \"scattercarpet\"}], \"scattergeo\": [{\"marker\": {\"colorbar\": {\"outlinewidth\": 0, \"ticks\": \"\"}}, \"type\": \"scattergeo\"}], \"scattergl\": [{\"marker\": {\"colorbar\": {\"outlinewidth\": 0, \"ticks\": \"\"}}, \"type\": \"scattergl\"}], \"scattermapbox\": [{\"marker\": {\"colorbar\": {\"outlinewidth\": 0, \"ticks\": \"\"}}, \"type\": \"scattermapbox\"}], \"scatterpolar\": [{\"marker\": {\"colorbar\": {\"outlinewidth\": 0, \"ticks\": \"\"}}, \"type\": \"scatterpolar\"}], \"scatterpolargl\": [{\"marker\": {\"colorbar\": {\"outlinewidth\": 0, \"ticks\": \"\"}}, \"type\": \"scatterpolargl\"}], \"scatterternary\": [{\"marker\": {\"colorbar\": {\"outlinewidth\": 0, \"ticks\": \"\"}}, \"type\": \"scatterternary\"}], \"surface\": [{\"colorbar\": {\"outlinewidth\": 0, \"ticks\": \"\"}, \"colorscale\": [[0.0, \"#0d0887\"], [0.1111111111111111, \"#46039f\"], [0.2222222222222222, \"#7201a8\"], [0.3333333333333333, \"#9c179e\"], [0.4444444444444444, \"#bd3786\"], [0.5555555555555556, \"#d8576b\"], [0.6666666666666666, \"#ed7953\"], [0.7777777777777778, \"#fb9f3a\"], [0.8888888888888888, \"#fdca26\"], [1.0, \"#f0f921\"]], \"type\": \"surface\"}], \"table\": [{\"cells\": {\"fill\": {\"color\": \"#EBF0F8\"}, \"line\": {\"color\": \"white\"}}, \"header\": {\"fill\": {\"color\": \"#C8D4E3\"}, \"line\": {\"color\": \"white\"}}, \"type\": \"table\"}]}, \"layout\": {\"annotationdefaults\": {\"arrowcolor\": \"#2a3f5f\", \"arrowhead\": 0, \"arrowwidth\": 1}, \"autotypenumbers\": \"strict\", \"coloraxis\": {\"colorbar\": {\"outlinewidth\": 0, \"ticks\": \"\"}}, \"colorscale\": {\"diverging\": [[0, \"#8e0152\"], [0.1, \"#c51b7d\"], [0.2, \"#de77ae\"], [0.3, \"#f1b6da\"], [0.4, \"#fde0ef\"], [0.5, \"#f7f7f7\"], [0.6, \"#e6f5d0\"], [0.7, \"#b8e186\"], [0.8, \"#7fbc41\"], [0.9, \"#4d9221\"], [1, \"#276419\"]], \"sequential\": [[0.0, \"#0d0887\"], [0.1111111111111111, \"#46039f\"], [0.2222222222222222, \"#7201a8\"], [0.3333333333333333, \"#9c179e\"], [0.4444444444444444, \"#bd3786\"], [0.5555555555555556, \"#d8576b\"], [0.6666666666666666, \"#ed7953\"], [0.7777777777777778, \"#fb9f3a\"], [0.8888888888888888, \"#fdca26\"], [1.0, \"#f0f921\"]], \"sequentialminus\": [[0.0, \"#0d0887\"], [0.1111111111111111, \"#46039f\"], [0.2222222222222222, \"#7201a8\"], [0.3333333333333333, \"#9c179e\"], [0.4444444444444444, \"#bd3786\"], [0.5555555555555556, \"#d8576b\"], [0.6666666666666666, \"#ed7953\"], [0.7777777777777778, \"#fb9f3a\"], [0.8888888888888888, \"#fdca26\"], [1.0, \"#f0f921\"]]}, \"colorway\": [\"#636efa\", \"#EF553B\", \"#00cc96\", \"#ab63fa\", \"#FFA15A\", \"#19d3f3\", \"#FF6692\", \"#B6E880\", \"#FF97FF\", \"#FECB52\"], \"font\": {\"color\": \"#2a3f5f\"}, \"geo\": {\"bgcolor\": \"white\", \"lakecolor\": \"white\", \"landcolor\": \"#E5ECF6\", \"showlakes\": true, \"showland\": true, \"subunitcolor\": \"white\"}, \"hoverlabel\": {\"align\": \"left\"}, \"hovermode\": \"closest\", \"mapbox\": {\"style\": \"light\"}, \"paper_bgcolor\": \"white\", \"plot_bgcolor\": \"#E5ECF6\", \"polar\": {\"angularaxis\": {\"gridcolor\": \"white\", \"linecolor\": \"white\", \"ticks\": \"\"}, \"bgcolor\": \"#E5ECF6\", \"radialaxis\": {\"gridcolor\": \"white\", \"linecolor\": \"white\", \"ticks\": \"\"}}, \"scene\": {\"xaxis\": {\"backgroundcolor\": \"#E5ECF6\", \"gridcolor\": \"white\", \"gridwidth\": 2, \"linecolor\": \"white\", \"showbackground\": true, \"ticks\": \"\", \"zerolinecolor\": \"white\"}, \"yaxis\": {\"backgroundcolor\": \"#E5ECF6\", \"gridcolor\": \"white\", \"gridwidth\": 2, \"linecolor\": \"white\", \"showbackground\": true, \"ticks\": \"\", \"zerolinecolor\": \"white\"}, \"zaxis\": {\"backgroundcolor\": \"#E5ECF6\", \"gridcolor\": \"white\", \"gridwidth\": 2, \"linecolor\": \"white\", \"showbackground\": true, \"ticks\": \"\", \"zerolinecolor\": \"white\"}}, \"shapedefaults\": {\"line\": {\"color\": \"#2a3f5f\"}}, \"ternary\": {\"aaxis\": {\"gridcolor\": \"white\", \"linecolor\": \"white\", \"ticks\": \"\"}, \"baxis\": {\"gridcolor\": \"white\", \"linecolor\": \"white\", \"ticks\": \"\"}, \"bgcolor\": \"#E5ECF6\", \"caxis\": {\"gridcolor\": \"white\", \"linecolor\": \"white\", \"ticks\": \"\"}}, \"title\": {\"x\": 0.05}, \"xaxis\": {\"automargin\": true, \"gridcolor\": \"white\", \"linecolor\": \"white\", \"ticks\": \"\", \"title\": {\"standoff\": 15}, \"zerolinecolor\": \"white\", \"zerolinewidth\": 2}, \"yaxis\": {\"automargin\": true, \"gridcolor\": \"white\", \"linecolor\": \"white\", \"ticks\": \"\", \"title\": {\"standoff\": 15}, \"zerolinecolor\": \"white\", \"zerolinewidth\": 2}}}, \"title\": {\"text\": \"Negative review type distribution\"}, \"xaxis\": {\"anchor\": \"y\", \"domain\": [0.0, 1.0], \"title\": {\"text\": \"Customer Feedback Tag\"}}, \"yaxis\": {\"anchor\": \"x\", \"domain\": [0.0, 1.0], \"title\": {\"text\": \"Number of negative reviews\"}}},                        {\"responsive\": true}                    ).then(function(){\n",
       "                            \n",
       "var gd = document.getElementById('46da1299-2fef-40ea-b98d-3abd2ed2ebcf');\n",
       "var x = new MutationObserver(function (mutations, observer) {{\n",
       "        var display = window.getComputedStyle(gd).display;\n",
       "        if (!display || display === 'none') {{\n",
       "            console.log([gd, 'removed!']);\n",
       "            Plotly.purge(gd);\n",
       "            observer.disconnect();\n",
       "        }}\n",
       "}});\n",
       "\n",
       "// Listen for the removal of the full notebook cells\n",
       "var notebookContainer = gd.closest('#notebook-container');\n",
       "if (notebookContainer) {{\n",
       "    x.observe(notebookContainer, {childList: true});\n",
       "}}\n",
       "\n",
       "// Listen for the clearing of the current output cell\n",
       "var outputEl = gd.closest('.output');\n",
       "if (outputEl) {{\n",
       "    x.observe(outputEl, {childList: true});\n",
       "}}\n",
       "\n",
       "                        })                };                });            </script>        </div>"
      ]
     },
     "metadata": {},
     "output_type": "display_data"
    }
   ],
   "source": [
    "fig = px.bar(c, x=\"Customer Feedback Tag\", y=\"Number of negative reviews\", color=\"Reviews Category\", title=\"Negative review type distribution\")\n",
    "fig.show()"
   ]
  },
  {
   "cell_type": "code",
   "execution_count": 35,
   "metadata": {},
   "outputs": [
    {
     "data": {
      "text/html": [
       "<style  type=\"text/css\" >\n",
       "#T_33d4e0f6_5452_11eb_9e3d_1c36bb2decd8row0_col0{\n",
       "            background-color:  #005e26;\n",
       "            color:  #f1f1f1;\n",
       "        }#T_33d4e0f6_5452_11eb_9e3d_1c36bb2decd8row0_col1,#T_33d4e0f6_5452_11eb_9e3d_1c36bb2decd8row1_col0,#T_33d4e0f6_5452_11eb_9e3d_1c36bb2decd8row4_col3,#T_33d4e0f6_5452_11eb_9e3d_1c36bb2decd8row4_col4,#T_33d4e0f6_5452_11eb_9e3d_1c36bb2decd8row5_col2{\n",
       "            background-color:  #f7fcf5;\n",
       "            color:  #000000;\n",
       "        }#T_33d4e0f6_5452_11eb_9e3d_1c36bb2decd8row0_col2{\n",
       "            background-color:  #c1e6ba;\n",
       "            color:  #000000;\n",
       "        }#T_33d4e0f6_5452_11eb_9e3d_1c36bb2decd8row0_col3{\n",
       "            background-color:  #6dc072;\n",
       "            color:  #000000;\n",
       "        }#T_33d4e0f6_5452_11eb_9e3d_1c36bb2decd8row0_col4,#T_33d4e0f6_5452_11eb_9e3d_1c36bb2decd8row1_col3,#T_33d4e0f6_5452_11eb_9e3d_1c36bb2decd8row4_col2,#T_33d4e0f6_5452_11eb_9e3d_1c36bb2decd8row5_col0,#T_33d4e0f6_5452_11eb_9e3d_1c36bb2decd8row5_col1{\n",
       "            background-color:  #00441b;\n",
       "            color:  #f1f1f1;\n",
       "        }#T_33d4e0f6_5452_11eb_9e3d_1c36bb2decd8row1_col1,#T_33d4e0f6_5452_11eb_9e3d_1c36bb2decd8row3_col1{\n",
       "            background-color:  #4aaf61;\n",
       "            color:  #000000;\n",
       "        }#T_33d4e0f6_5452_11eb_9e3d_1c36bb2decd8row1_col2{\n",
       "            background-color:  #dbf1d5;\n",
       "            color:  #000000;\n",
       "        }#T_33d4e0f6_5452_11eb_9e3d_1c36bb2decd8row1_col4{\n",
       "            background-color:  #4eb264;\n",
       "            color:  #000000;\n",
       "        }#T_33d4e0f6_5452_11eb_9e3d_1c36bb2decd8row2_col0{\n",
       "            background-color:  #127c39;\n",
       "            color:  #f1f1f1;\n",
       "        }#T_33d4e0f6_5452_11eb_9e3d_1c36bb2decd8row2_col1{\n",
       "            background-color:  #88ce87;\n",
       "            color:  #000000;\n",
       "        }#T_33d4e0f6_5452_11eb_9e3d_1c36bb2decd8row2_col2{\n",
       "            background-color:  #bce4b5;\n",
       "            color:  #000000;\n",
       "        }#T_33d4e0f6_5452_11eb_9e3d_1c36bb2decd8row2_col3{\n",
       "            background-color:  #309950;\n",
       "            color:  #000000;\n",
       "        }#T_33d4e0f6_5452_11eb_9e3d_1c36bb2decd8row2_col4{\n",
       "            background-color:  #92d28f;\n",
       "            color:  #000000;\n",
       "        }#T_33d4e0f6_5452_11eb_9e3d_1c36bb2decd8row3_col0{\n",
       "            background-color:  #3aa357;\n",
       "            color:  #000000;\n",
       "        }#T_33d4e0f6_5452_11eb_9e3d_1c36bb2decd8row3_col2{\n",
       "            background-color:  #b1e0ab;\n",
       "            color:  #000000;\n",
       "        }#T_33d4e0f6_5452_11eb_9e3d_1c36bb2decd8row3_col3{\n",
       "            background-color:  #006027;\n",
       "            color:  #f1f1f1;\n",
       "        }#T_33d4e0f6_5452_11eb_9e3d_1c36bb2decd8row3_col4{\n",
       "            background-color:  #f2faef;\n",
       "            color:  #000000;\n",
       "        }#T_33d4e0f6_5452_11eb_9e3d_1c36bb2decd8row4_col0{\n",
       "            background-color:  #53b466;\n",
       "            color:  #000000;\n",
       "        }#T_33d4e0f6_5452_11eb_9e3d_1c36bb2decd8row4_col1{\n",
       "            background-color:  #e9f7e5;\n",
       "            color:  #000000;\n",
       "        }#T_33d4e0f6_5452_11eb_9e3d_1c36bb2decd8row5_col3{\n",
       "            background-color:  #1e8741;\n",
       "            color:  #000000;\n",
       "        }#T_33d4e0f6_5452_11eb_9e3d_1c36bb2decd8row5_col4{\n",
       "            background-color:  #a5db9f;\n",
       "            color:  #000000;\n",
       "        }</style><table id=\"T_33d4e0f6_5452_11eb_9e3d_1c36bb2decd8\" ><thead>    <tr>        <th class=\"index_name level0\" >Reviews Category</th>        <th class=\"col_heading level0 col0\" >Delivery process</th>        <th class=\"col_heading level0 col1\" >Delivery timeout</th>        <th class=\"col_heading level0 col2\" >Illegal operation</th>        <th class=\"col_heading level0 col3\" >Others</th>        <th class=\"col_heading level0 col4\" >Professional attitude</th>    </tr>    <tr>        <th class=\"index_name level0\" >Sites</th>        <th class=\"blank\" ></th>        <th class=\"blank\" ></th>        <th class=\"blank\" ></th>        <th class=\"blank\" ></th>        <th class=\"blank\" ></th>    </tr></thead><tbody>\n",
       "                <tr>\n",
       "                        <th id=\"T_33d4e0f6_5452_11eb_9e3d_1c36bb2decd8level0_row0\" class=\"row_heading level0 row0\" >Site A</th>\n",
       "                        <td id=\"T_33d4e0f6_5452_11eb_9e3d_1c36bb2decd8row0_col0\" class=\"data row0 col0\" >20.329670</td>\n",
       "                        <td id=\"T_33d4e0f6_5452_11eb_9e3d_1c36bb2decd8row0_col1\" class=\"data row0 col1\" >23.076923</td>\n",
       "                        <td id=\"T_33d4e0f6_5452_11eb_9e3d_1c36bb2decd8row0_col2\" class=\"data row0 col2\" >12.087912</td>\n",
       "                        <td id=\"T_33d4e0f6_5452_11eb_9e3d_1c36bb2decd8row0_col3\" class=\"data row0 col3\" >13.186813</td>\n",
       "                        <td id=\"T_33d4e0f6_5452_11eb_9e3d_1c36bb2decd8row0_col4\" class=\"data row0 col4\" >31.318681</td>\n",
       "            </tr>\n",
       "            <tr>\n",
       "                        <th id=\"T_33d4e0f6_5452_11eb_9e3d_1c36bb2decd8level0_row1\" class=\"row_heading level0 row1\" >Site B</th>\n",
       "                        <td id=\"T_33d4e0f6_5452_11eb_9e3d_1c36bb2decd8row1_col0\" class=\"data row1 col0\" >14.503817</td>\n",
       "                        <td id=\"T_33d4e0f6_5452_11eb_9e3d_1c36bb2decd8row1_col1\" class=\"data row1 col1\" >30.534351</td>\n",
       "                        <td id=\"T_33d4e0f6_5452_11eb_9e3d_1c36bb2decd8row1_col2\" class=\"data row1 col2\" >9.160305</td>\n",
       "                        <td id=\"T_33d4e0f6_5452_11eb_9e3d_1c36bb2decd8row1_col3\" class=\"data row1 col3\" >19.847328</td>\n",
       "                        <td id=\"T_33d4e0f6_5452_11eb_9e3d_1c36bb2decd8row1_col4\" class=\"data row1 col4\" >25.954198</td>\n",
       "            </tr>\n",
       "            <tr>\n",
       "                        <th id=\"T_33d4e0f6_5452_11eb_9e3d_1c36bb2decd8level0_row2\" class=\"row_heading level0 row2\" >Site C</th>\n",
       "                        <td id=\"T_33d4e0f6_5452_11eb_9e3d_1c36bb2decd8row2_col0\" class=\"data row2 col0\" >19.642857</td>\n",
       "                        <td id=\"T_33d4e0f6_5452_11eb_9e3d_1c36bb2decd8row2_col1\" class=\"data row2 col1\" >28.571429</td>\n",
       "                        <td id=\"T_33d4e0f6_5452_11eb_9e3d_1c36bb2decd8row2_col2\" class=\"data row2 col2\" >12.500000</td>\n",
       "                        <td id=\"T_33d4e0f6_5452_11eb_9e3d_1c36bb2decd8row2_col3\" class=\"data row2 col3\" >15.625000</td>\n",
       "                        <td id=\"T_33d4e0f6_5452_11eb_9e3d_1c36bb2decd8row2_col4\" class=\"data row2 col4\" >23.660714</td>\n",
       "            </tr>\n",
       "            <tr>\n",
       "                        <th id=\"T_33d4e0f6_5452_11eb_9e3d_1c36bb2decd8level0_row3\" class=\"row_heading level0 row3\" >Site D</th>\n",
       "                        <td id=\"T_33d4e0f6_5452_11eb_9e3d_1c36bb2decd8row3_col0\" class=\"data row3 col0\" >18.644068</td>\n",
       "                        <td id=\"T_33d4e0f6_5452_11eb_9e3d_1c36bb2decd8row3_col1\" class=\"data row3 col1\" >30.508475</td>\n",
       "                        <td id=\"T_33d4e0f6_5452_11eb_9e3d_1c36bb2decd8row3_col2\" class=\"data row3 col2\" >13.559322</td>\n",
       "                        <td id=\"T_33d4e0f6_5452_11eb_9e3d_1c36bb2decd8row3_col3\" class=\"data row3 col3\" >18.644068</td>\n",
       "                        <td id=\"T_33d4e0f6_5452_11eb_9e3d_1c36bb2decd8row3_col4\" class=\"data row3 col4\" >18.644068</td>\n",
       "            </tr>\n",
       "            <tr>\n",
       "                        <th id=\"T_33d4e0f6_5452_11eb_9e3d_1c36bb2decd8level0_row4\" class=\"row_heading level0 row4\" >Site E</th>\n",
       "                        <td id=\"T_33d4e0f6_5452_11eb_9e3d_1c36bb2decd8row4_col0\" class=\"data row4 col0\" >18.181818</td>\n",
       "                        <td id=\"T_33d4e0f6_5452_11eb_9e3d_1c36bb2decd8row4_col1\" class=\"data row4 col1\" >24.242424</td>\n",
       "                        <td id=\"T_33d4e0f6_5452_11eb_9e3d_1c36bb2decd8row4_col2\" class=\"data row4 col2\" >33.333333</td>\n",
       "                        <td id=\"T_33d4e0f6_5452_11eb_9e3d_1c36bb2decd8row4_col3\" class=\"data row4 col3\" >6.060606</td>\n",
       "                        <td id=\"T_33d4e0f6_5452_11eb_9e3d_1c36bb2decd8row4_col4\" class=\"data row4 col4\" >18.181818</td>\n",
       "            </tr>\n",
       "            <tr>\n",
       "                        <th id=\"T_33d4e0f6_5452_11eb_9e3d_1c36bb2decd8level0_row5\" class=\"row_heading level0 row5\" >Site F</th>\n",
       "                        <td id=\"T_33d4e0f6_5452_11eb_9e3d_1c36bb2decd8row5_col0\" class=\"data row5 col0\" >20.833333</td>\n",
       "                        <td id=\"T_33d4e0f6_5452_11eb_9e3d_1c36bb2decd8row5_col1\" class=\"data row5 col1\" >35.416667</td>\n",
       "                        <td id=\"T_33d4e0f6_5452_11eb_9e3d_1c36bb2decd8row5_col2\" class=\"data row5 col2\" >4.166667</td>\n",
       "                        <td id=\"T_33d4e0f6_5452_11eb_9e3d_1c36bb2decd8row5_col3\" class=\"data row5 col3\" >16.666667</td>\n",
       "                        <td id=\"T_33d4e0f6_5452_11eb_9e3d_1c36bb2decd8row5_col4\" class=\"data row5 col4\" >22.916667</td>\n",
       "            </tr>\n",
       "    </tbody></table>"
      ],
      "text/plain": [
       "<pandas.io.formats.style.Styler at 0x13aad06a0>"
      ]
     },
     "execution_count": 35,
     "metadata": {},
     "output_type": "execute_result"
    }
   ],
   "source": [
    "crosstab1=pd.crosstab(index=data_explode['Sites'],\n",
    "                      columns=data_explode['Reviews Category'],\n",
    "                      values=data_explode['Rating'],\n",
    "                      aggfunc=np.size #np.unique \n",
    "                     # ,margins=True\n",
    "           ).round(0).fillna(0).astype('int')\n",
    "crosstab11=crosstab1.apply(lambda x: x/crosstab1.sum(axis=1))*100\n",
    "crosstab11.style.background_gradient(cmap='Greens')"
   ]
  },
  {
   "cell_type": "code",
   "execution_count": 36,
   "metadata": {},
   "outputs": [
    {
     "data": {
      "application/vnd.plotly.v1+json": {
       "config": {
        "linkText": "Export to plot.ly",
        "plotlyServerURL": "https://plot.ly",
        "showLink": true
       },
       "data": [
        {
         "marker": {
          "color": "rgba(255, 153, 51, 0.6)",
          "line": {
           "color": "rgba(255, 153, 51, 1.0)",
           "width": 1
          }
         },
         "name": "Delivery process",
         "orientation": "v",
         "text": "",
         "type": "bar",
         "x": [
          "Site A",
          "Site B",
          "Site C",
          "Site D",
          "Site E",
          "Site F"
         ],
         "y": [
          20.32967032967033,
          14.50381679389313,
          19.642857142857142,
          18.64406779661017,
          18.181818181818183,
          20.833333333333336
         ]
        },
        {
         "marker": {
          "color": "rgba(55, 128, 191, 0.6)",
          "line": {
           "color": "rgba(55, 128, 191, 1.0)",
           "width": 1
          }
         },
         "name": "Delivery timeout",
         "orientation": "v",
         "text": "",
         "type": "bar",
         "x": [
          "Site A",
          "Site B",
          "Site C",
          "Site D",
          "Site E",
          "Site F"
         ],
         "y": [
          23.076923076923077,
          30.53435114503817,
          28.57142857142857,
          30.508474576271187,
          24.242424242424242,
          35.41666666666667
         ]
        },
        {
         "marker": {
          "color": "rgba(50, 171, 96, 0.6)",
          "line": {
           "color": "rgba(50, 171, 96, 1.0)",
           "width": 1
          }
         },
         "name": "Illegal operation",
         "orientation": "v",
         "text": "",
         "type": "bar",
         "x": [
          "Site A",
          "Site B",
          "Site C",
          "Site D",
          "Site E",
          "Site F"
         ],
         "y": [
          12.087912087912088,
          9.16030534351145,
          12.5,
          13.559322033898304,
          33.33333333333333,
          4.166666666666666
         ]
        },
        {
         "marker": {
          "color": "rgba(128, 0, 128, 0.6)",
          "line": {
           "color": "rgba(128, 0, 128, 1.0)",
           "width": 1
          }
         },
         "name": "Others",
         "orientation": "v",
         "text": "",
         "type": "bar",
         "x": [
          "Site A",
          "Site B",
          "Site C",
          "Site D",
          "Site E",
          "Site F"
         ],
         "y": [
          13.186813186813188,
          19.84732824427481,
          15.625,
          18.64406779661017,
          6.0606060606060606,
          16.666666666666664
         ]
        },
        {
         "marker": {
          "color": "rgba(219, 64, 82, 0.6)",
          "line": {
           "color": "rgba(219, 64, 82, 1.0)",
           "width": 1
          }
         },
         "name": "Professional attitude",
         "orientation": "v",
         "text": "",
         "type": "bar",
         "x": [
          "Site A",
          "Site B",
          "Site C",
          "Site D",
          "Site E",
          "Site F"
         ],
         "y": [
          31.318681318681318,
          25.954198473282442,
          23.660714285714285,
          18.64406779661017,
          18.181818181818183,
          22.916666666666664
         ]
        }
       ],
       "layout": {
        "barmode": "stack",
        "legend": {
         "bgcolor": "#F5F6F9",
         "font": {
          "color": "#4D5663"
         },
         "traceorder": "normal"
        },
        "paper_bgcolor": "#F5F6F9",
        "plot_bgcolor": "#F5F6F9",
        "template": {
         "data": {
          "bar": [
           {
            "error_x": {
             "color": "#2a3f5f"
            },
            "error_y": {
             "color": "#2a3f5f"
            },
            "marker": {
             "line": {
              "color": "#E5ECF6",
              "width": 0.5
             }
            },
            "type": "bar"
           }
          ],
          "barpolar": [
           {
            "marker": {
             "line": {
              "color": "#E5ECF6",
              "width": 0.5
             }
            },
            "type": "barpolar"
           }
          ],
          "carpet": [
           {
            "aaxis": {
             "endlinecolor": "#2a3f5f",
             "gridcolor": "white",
             "linecolor": "white",
             "minorgridcolor": "white",
             "startlinecolor": "#2a3f5f"
            },
            "baxis": {
             "endlinecolor": "#2a3f5f",
             "gridcolor": "white",
             "linecolor": "white",
             "minorgridcolor": "white",
             "startlinecolor": "#2a3f5f"
            },
            "type": "carpet"
           }
          ],
          "choropleth": [
           {
            "colorbar": {
             "outlinewidth": 0,
             "ticks": ""
            },
            "type": "choropleth"
           }
          ],
          "contour": [
           {
            "colorbar": {
             "outlinewidth": 0,
             "ticks": ""
            },
            "colorscale": [
             [
              0,
              "#0d0887"
             ],
             [
              0.1111111111111111,
              "#46039f"
             ],
             [
              0.2222222222222222,
              "#7201a8"
             ],
             [
              0.3333333333333333,
              "#9c179e"
             ],
             [
              0.4444444444444444,
              "#bd3786"
             ],
             [
              0.5555555555555556,
              "#d8576b"
             ],
             [
              0.6666666666666666,
              "#ed7953"
             ],
             [
              0.7777777777777778,
              "#fb9f3a"
             ],
             [
              0.8888888888888888,
              "#fdca26"
             ],
             [
              1,
              "#f0f921"
             ]
            ],
            "type": "contour"
           }
          ],
          "contourcarpet": [
           {
            "colorbar": {
             "outlinewidth": 0,
             "ticks": ""
            },
            "type": "contourcarpet"
           }
          ],
          "heatmap": [
           {
            "colorbar": {
             "outlinewidth": 0,
             "ticks": ""
            },
            "colorscale": [
             [
              0,
              "#0d0887"
             ],
             [
              0.1111111111111111,
              "#46039f"
             ],
             [
              0.2222222222222222,
              "#7201a8"
             ],
             [
              0.3333333333333333,
              "#9c179e"
             ],
             [
              0.4444444444444444,
              "#bd3786"
             ],
             [
              0.5555555555555556,
              "#d8576b"
             ],
             [
              0.6666666666666666,
              "#ed7953"
             ],
             [
              0.7777777777777778,
              "#fb9f3a"
             ],
             [
              0.8888888888888888,
              "#fdca26"
             ],
             [
              1,
              "#f0f921"
             ]
            ],
            "type": "heatmap"
           }
          ],
          "heatmapgl": [
           {
            "colorbar": {
             "outlinewidth": 0,
             "ticks": ""
            },
            "colorscale": [
             [
              0,
              "#0d0887"
             ],
             [
              0.1111111111111111,
              "#46039f"
             ],
             [
              0.2222222222222222,
              "#7201a8"
             ],
             [
              0.3333333333333333,
              "#9c179e"
             ],
             [
              0.4444444444444444,
              "#bd3786"
             ],
             [
              0.5555555555555556,
              "#d8576b"
             ],
             [
              0.6666666666666666,
              "#ed7953"
             ],
             [
              0.7777777777777778,
              "#fb9f3a"
             ],
             [
              0.8888888888888888,
              "#fdca26"
             ],
             [
              1,
              "#f0f921"
             ]
            ],
            "type": "heatmapgl"
           }
          ],
          "histogram": [
           {
            "marker": {
             "colorbar": {
              "outlinewidth": 0,
              "ticks": ""
             }
            },
            "type": "histogram"
           }
          ],
          "histogram2d": [
           {
            "colorbar": {
             "outlinewidth": 0,
             "ticks": ""
            },
            "colorscale": [
             [
              0,
              "#0d0887"
             ],
             [
              0.1111111111111111,
              "#46039f"
             ],
             [
              0.2222222222222222,
              "#7201a8"
             ],
             [
              0.3333333333333333,
              "#9c179e"
             ],
             [
              0.4444444444444444,
              "#bd3786"
             ],
             [
              0.5555555555555556,
              "#d8576b"
             ],
             [
              0.6666666666666666,
              "#ed7953"
             ],
             [
              0.7777777777777778,
              "#fb9f3a"
             ],
             [
              0.8888888888888888,
              "#fdca26"
             ],
             [
              1,
              "#f0f921"
             ]
            ],
            "type": "histogram2d"
           }
          ],
          "histogram2dcontour": [
           {
            "colorbar": {
             "outlinewidth": 0,
             "ticks": ""
            },
            "colorscale": [
             [
              0,
              "#0d0887"
             ],
             [
              0.1111111111111111,
              "#46039f"
             ],
             [
              0.2222222222222222,
              "#7201a8"
             ],
             [
              0.3333333333333333,
              "#9c179e"
             ],
             [
              0.4444444444444444,
              "#bd3786"
             ],
             [
              0.5555555555555556,
              "#d8576b"
             ],
             [
              0.6666666666666666,
              "#ed7953"
             ],
             [
              0.7777777777777778,
              "#fb9f3a"
             ],
             [
              0.8888888888888888,
              "#fdca26"
             ],
             [
              1,
              "#f0f921"
             ]
            ],
            "type": "histogram2dcontour"
           }
          ],
          "mesh3d": [
           {
            "colorbar": {
             "outlinewidth": 0,
             "ticks": ""
            },
            "type": "mesh3d"
           }
          ],
          "parcoords": [
           {
            "line": {
             "colorbar": {
              "outlinewidth": 0,
              "ticks": ""
             }
            },
            "type": "parcoords"
           }
          ],
          "pie": [
           {
            "automargin": true,
            "type": "pie"
           }
          ],
          "scatter": [
           {
            "marker": {
             "colorbar": {
              "outlinewidth": 0,
              "ticks": ""
             }
            },
            "type": "scatter"
           }
          ],
          "scatter3d": [
           {
            "line": {
             "colorbar": {
              "outlinewidth": 0,
              "ticks": ""
             }
            },
            "marker": {
             "colorbar": {
              "outlinewidth": 0,
              "ticks": ""
             }
            },
            "type": "scatter3d"
           }
          ],
          "scattercarpet": [
           {
            "marker": {
             "colorbar": {
              "outlinewidth": 0,
              "ticks": ""
             }
            },
            "type": "scattercarpet"
           }
          ],
          "scattergeo": [
           {
            "marker": {
             "colorbar": {
              "outlinewidth": 0,
              "ticks": ""
             }
            },
            "type": "scattergeo"
           }
          ],
          "scattergl": [
           {
            "marker": {
             "colorbar": {
              "outlinewidth": 0,
              "ticks": ""
             }
            },
            "type": "scattergl"
           }
          ],
          "scattermapbox": [
           {
            "marker": {
             "colorbar": {
              "outlinewidth": 0,
              "ticks": ""
             }
            },
            "type": "scattermapbox"
           }
          ],
          "scatterpolar": [
           {
            "marker": {
             "colorbar": {
              "outlinewidth": 0,
              "ticks": ""
             }
            },
            "type": "scatterpolar"
           }
          ],
          "scatterpolargl": [
           {
            "marker": {
             "colorbar": {
              "outlinewidth": 0,
              "ticks": ""
             }
            },
            "type": "scatterpolargl"
           }
          ],
          "scatterternary": [
           {
            "marker": {
             "colorbar": {
              "outlinewidth": 0,
              "ticks": ""
             }
            },
            "type": "scatterternary"
           }
          ],
          "surface": [
           {
            "colorbar": {
             "outlinewidth": 0,
             "ticks": ""
            },
            "colorscale": [
             [
              0,
              "#0d0887"
             ],
             [
              0.1111111111111111,
              "#46039f"
             ],
             [
              0.2222222222222222,
              "#7201a8"
             ],
             [
              0.3333333333333333,
              "#9c179e"
             ],
             [
              0.4444444444444444,
              "#bd3786"
             ],
             [
              0.5555555555555556,
              "#d8576b"
             ],
             [
              0.6666666666666666,
              "#ed7953"
             ],
             [
              0.7777777777777778,
              "#fb9f3a"
             ],
             [
              0.8888888888888888,
              "#fdca26"
             ],
             [
              1,
              "#f0f921"
             ]
            ],
            "type": "surface"
           }
          ],
          "table": [
           {
            "cells": {
             "fill": {
              "color": "#EBF0F8"
             },
             "line": {
              "color": "white"
             }
            },
            "header": {
             "fill": {
              "color": "#C8D4E3"
             },
             "line": {
              "color": "white"
             }
            },
            "type": "table"
           }
          ]
         },
         "layout": {
          "annotationdefaults": {
           "arrowcolor": "#2a3f5f",
           "arrowhead": 0,
           "arrowwidth": 1
          },
          "autotypenumbers": "strict",
          "coloraxis": {
           "colorbar": {
            "outlinewidth": 0,
            "ticks": ""
           }
          },
          "colorscale": {
           "diverging": [
            [
             0,
             "#8e0152"
            ],
            [
             0.1,
             "#c51b7d"
            ],
            [
             0.2,
             "#de77ae"
            ],
            [
             0.3,
             "#f1b6da"
            ],
            [
             0.4,
             "#fde0ef"
            ],
            [
             0.5,
             "#f7f7f7"
            ],
            [
             0.6,
             "#e6f5d0"
            ],
            [
             0.7,
             "#b8e186"
            ],
            [
             0.8,
             "#7fbc41"
            ],
            [
             0.9,
             "#4d9221"
            ],
            [
             1,
             "#276419"
            ]
           ],
           "sequential": [
            [
             0,
             "#0d0887"
            ],
            [
             0.1111111111111111,
             "#46039f"
            ],
            [
             0.2222222222222222,
             "#7201a8"
            ],
            [
             0.3333333333333333,
             "#9c179e"
            ],
            [
             0.4444444444444444,
             "#bd3786"
            ],
            [
             0.5555555555555556,
             "#d8576b"
            ],
            [
             0.6666666666666666,
             "#ed7953"
            ],
            [
             0.7777777777777778,
             "#fb9f3a"
            ],
            [
             0.8888888888888888,
             "#fdca26"
            ],
            [
             1,
             "#f0f921"
            ]
           ],
           "sequentialminus": [
            [
             0,
             "#0d0887"
            ],
            [
             0.1111111111111111,
             "#46039f"
            ],
            [
             0.2222222222222222,
             "#7201a8"
            ],
            [
             0.3333333333333333,
             "#9c179e"
            ],
            [
             0.4444444444444444,
             "#bd3786"
            ],
            [
             0.5555555555555556,
             "#d8576b"
            ],
            [
             0.6666666666666666,
             "#ed7953"
            ],
            [
             0.7777777777777778,
             "#fb9f3a"
            ],
            [
             0.8888888888888888,
             "#fdca26"
            ],
            [
             1,
             "#f0f921"
            ]
           ]
          },
          "colorway": [
           "#636efa",
           "#EF553B",
           "#00cc96",
           "#ab63fa",
           "#FFA15A",
           "#19d3f3",
           "#FF6692",
           "#B6E880",
           "#FF97FF",
           "#FECB52"
          ],
          "font": {
           "color": "#2a3f5f"
          },
          "geo": {
           "bgcolor": "white",
           "lakecolor": "white",
           "landcolor": "#E5ECF6",
           "showlakes": true,
           "showland": true,
           "subunitcolor": "white"
          },
          "hoverlabel": {
           "align": "left"
          },
          "hovermode": "closest",
          "mapbox": {
           "style": "light"
          },
          "paper_bgcolor": "white",
          "plot_bgcolor": "#E5ECF6",
          "polar": {
           "angularaxis": {
            "gridcolor": "white",
            "linecolor": "white",
            "ticks": ""
           },
           "bgcolor": "#E5ECF6",
           "radialaxis": {
            "gridcolor": "white",
            "linecolor": "white",
            "ticks": ""
           }
          },
          "scene": {
           "xaxis": {
            "backgroundcolor": "#E5ECF6",
            "gridcolor": "white",
            "gridwidth": 2,
            "linecolor": "white",
            "showbackground": true,
            "ticks": "",
            "zerolinecolor": "white"
           },
           "yaxis": {
            "backgroundcolor": "#E5ECF6",
            "gridcolor": "white",
            "gridwidth": 2,
            "linecolor": "white",
            "showbackground": true,
            "ticks": "",
            "zerolinecolor": "white"
           },
           "zaxis": {
            "backgroundcolor": "#E5ECF6",
            "gridcolor": "white",
            "gridwidth": 2,
            "linecolor": "white",
            "showbackground": true,
            "ticks": "",
            "zerolinecolor": "white"
           }
          },
          "shapedefaults": {
           "line": {
            "color": "#2a3f5f"
           }
          },
          "ternary": {
           "aaxis": {
            "gridcolor": "white",
            "linecolor": "white",
            "ticks": ""
           },
           "baxis": {
            "gridcolor": "white",
            "linecolor": "white",
            "ticks": ""
           },
           "bgcolor": "#E5ECF6",
           "caxis": {
            "gridcolor": "white",
            "linecolor": "white",
            "ticks": ""
           }
          },
          "title": {
           "x": 0.05
          },
          "xaxis": {
           "automargin": true,
           "gridcolor": "white",
           "linecolor": "white",
           "ticks": "",
           "title": {
            "standoff": 15
           },
           "zerolinecolor": "white",
           "zerolinewidth": 2
          },
          "yaxis": {
           "automargin": true,
           "gridcolor": "white",
           "linecolor": "white",
           "ticks": "",
           "title": {
            "standoff": 15
           },
           "zerolinecolor": "white",
           "zerolinewidth": 2
          }
         }
        },
        "title": {
         "font": {
          "color": "#4D5663"
         },
         "text": "aa"
        },
        "xaxis": {
         "gridcolor": "#E1E5ED",
         "showgrid": true,
         "tickfont": {
          "color": "#4D5663"
         },
         "title": {
          "font": {
           "color": "#4D5663"
          },
          "text": ""
         },
         "zerolinecolor": "#E1E5ED"
        },
        "yaxis": {
         "gridcolor": "#E1E5ED",
         "showgrid": true,
         "tickfont": {
          "color": "#4D5663"
         },
         "title": {
          "font": {
           "color": "#4D5663"
          },
          "text": ""
         },
         "zerolinecolor": "#E1E5ED"
        }
       }
      },
      "text/html": [
       "<div>                            <div id=\"1475de68-f02d-4116-aee5-6fc95dbac54a\" class=\"plotly-graph-div\" style=\"height:525px; width:100%;\"></div>            <script type=\"text/javascript\">                require([\"plotly\"], function(Plotly) {                    window.PLOTLYENV=window.PLOTLYENV || {};\n",
       "                    window.PLOTLYENV.BASE_URL='https://plot.ly';                                    if (document.getElementById(\"1475de68-f02d-4116-aee5-6fc95dbac54a\")) {                    Plotly.newPlot(                        \"1475de68-f02d-4116-aee5-6fc95dbac54a\",                        [{\"marker\": {\"color\": \"rgba(255, 153, 51, 0.6)\", \"line\": {\"color\": \"rgba(255, 153, 51, 1.0)\", \"width\": 1}}, \"name\": \"Delivery process\", \"orientation\": \"v\", \"text\": \"\", \"type\": \"bar\", \"x\": [\"Site A\", \"Site B\", \"Site C\", \"Site D\", \"Site E\", \"Site F\"], \"y\": [20.32967032967033, 14.50381679389313, 19.642857142857142, 18.64406779661017, 18.181818181818183, 20.833333333333336]}, {\"marker\": {\"color\": \"rgba(55, 128, 191, 0.6)\", \"line\": {\"color\": \"rgba(55, 128, 191, 1.0)\", \"width\": 1}}, \"name\": \"Delivery timeout\", \"orientation\": \"v\", \"text\": \"\", \"type\": \"bar\", \"x\": [\"Site A\", \"Site B\", \"Site C\", \"Site D\", \"Site E\", \"Site F\"], \"y\": [23.076923076923077, 30.53435114503817, 28.57142857142857, 30.508474576271187, 24.242424242424242, 35.41666666666667]}, {\"marker\": {\"color\": \"rgba(50, 171, 96, 0.6)\", \"line\": {\"color\": \"rgba(50, 171, 96, 1.0)\", \"width\": 1}}, \"name\": \"Illegal operation\", \"orientation\": \"v\", \"text\": \"\", \"type\": \"bar\", \"x\": [\"Site A\", \"Site B\", \"Site C\", \"Site D\", \"Site E\", \"Site F\"], \"y\": [12.087912087912088, 9.16030534351145, 12.5, 13.559322033898304, 33.33333333333333, 4.166666666666666]}, {\"marker\": {\"color\": \"rgba(128, 0, 128, 0.6)\", \"line\": {\"color\": \"rgba(128, 0, 128, 1.0)\", \"width\": 1}}, \"name\": \"Others\", \"orientation\": \"v\", \"text\": \"\", \"type\": \"bar\", \"x\": [\"Site A\", \"Site B\", \"Site C\", \"Site D\", \"Site E\", \"Site F\"], \"y\": [13.186813186813188, 19.84732824427481, 15.625, 18.64406779661017, 6.0606060606060606, 16.666666666666664]}, {\"marker\": {\"color\": \"rgba(219, 64, 82, 0.6)\", \"line\": {\"color\": \"rgba(219, 64, 82, 1.0)\", \"width\": 1}}, \"name\": \"Professional attitude\", \"orientation\": \"v\", \"text\": \"\", \"type\": \"bar\", \"x\": [\"Site A\", \"Site B\", \"Site C\", \"Site D\", \"Site E\", \"Site F\"], \"y\": [31.318681318681318, 25.954198473282442, 23.660714285714285, 18.64406779661017, 18.181818181818183, 22.916666666666664]}],                        {\"barmode\": \"stack\", \"legend\": {\"bgcolor\": \"#F5F6F9\", \"font\": {\"color\": \"#4D5663\"}, \"traceorder\": \"normal\"}, \"paper_bgcolor\": \"#F5F6F9\", \"plot_bgcolor\": \"#F5F6F9\", \"template\": {\"data\": {\"bar\": [{\"error_x\": {\"color\": \"#2a3f5f\"}, \"error_y\": {\"color\": \"#2a3f5f\"}, \"marker\": {\"line\": {\"color\": \"#E5ECF6\", \"width\": 0.5}}, \"type\": \"bar\"}], \"barpolar\": [{\"marker\": {\"line\": {\"color\": \"#E5ECF6\", \"width\": 0.5}}, \"type\": \"barpolar\"}], \"carpet\": [{\"aaxis\": {\"endlinecolor\": \"#2a3f5f\", \"gridcolor\": \"white\", \"linecolor\": \"white\", \"minorgridcolor\": \"white\", \"startlinecolor\": \"#2a3f5f\"}, \"baxis\": {\"endlinecolor\": \"#2a3f5f\", \"gridcolor\": \"white\", \"linecolor\": \"white\", \"minorgridcolor\": \"white\", \"startlinecolor\": \"#2a3f5f\"}, \"type\": \"carpet\"}], \"choropleth\": [{\"colorbar\": {\"outlinewidth\": 0, \"ticks\": \"\"}, \"type\": \"choropleth\"}], \"contour\": [{\"colorbar\": {\"outlinewidth\": 0, \"ticks\": \"\"}, \"colorscale\": [[0.0, \"#0d0887\"], [0.1111111111111111, \"#46039f\"], [0.2222222222222222, \"#7201a8\"], [0.3333333333333333, \"#9c179e\"], [0.4444444444444444, \"#bd3786\"], [0.5555555555555556, \"#d8576b\"], [0.6666666666666666, \"#ed7953\"], [0.7777777777777778, \"#fb9f3a\"], [0.8888888888888888, \"#fdca26\"], [1.0, \"#f0f921\"]], \"type\": \"contour\"}], \"contourcarpet\": [{\"colorbar\": {\"outlinewidth\": 0, \"ticks\": \"\"}, \"type\": \"contourcarpet\"}], \"heatmap\": [{\"colorbar\": {\"outlinewidth\": 0, \"ticks\": \"\"}, \"colorscale\": [[0.0, \"#0d0887\"], [0.1111111111111111, \"#46039f\"], [0.2222222222222222, \"#7201a8\"], [0.3333333333333333, \"#9c179e\"], [0.4444444444444444, \"#bd3786\"], [0.5555555555555556, \"#d8576b\"], [0.6666666666666666, \"#ed7953\"], [0.7777777777777778, \"#fb9f3a\"], [0.8888888888888888, \"#fdca26\"], [1.0, \"#f0f921\"]], \"type\": \"heatmap\"}], \"heatmapgl\": [{\"colorbar\": {\"outlinewidth\": 0, \"ticks\": \"\"}, \"colorscale\": [[0.0, \"#0d0887\"], [0.1111111111111111, \"#46039f\"], [0.2222222222222222, \"#7201a8\"], [0.3333333333333333, \"#9c179e\"], [0.4444444444444444, \"#bd3786\"], [0.5555555555555556, \"#d8576b\"], [0.6666666666666666, \"#ed7953\"], [0.7777777777777778, \"#fb9f3a\"], [0.8888888888888888, \"#fdca26\"], [1.0, \"#f0f921\"]], \"type\": \"heatmapgl\"}], \"histogram\": [{\"marker\": {\"colorbar\": {\"outlinewidth\": 0, \"ticks\": \"\"}}, \"type\": \"histogram\"}], \"histogram2d\": [{\"colorbar\": {\"outlinewidth\": 0, \"ticks\": \"\"}, \"colorscale\": [[0.0, \"#0d0887\"], [0.1111111111111111, \"#46039f\"], [0.2222222222222222, \"#7201a8\"], [0.3333333333333333, \"#9c179e\"], [0.4444444444444444, \"#bd3786\"], [0.5555555555555556, \"#d8576b\"], [0.6666666666666666, \"#ed7953\"], [0.7777777777777778, \"#fb9f3a\"], [0.8888888888888888, \"#fdca26\"], [1.0, \"#f0f921\"]], \"type\": \"histogram2d\"}], \"histogram2dcontour\": [{\"colorbar\": {\"outlinewidth\": 0, \"ticks\": \"\"}, \"colorscale\": [[0.0, \"#0d0887\"], [0.1111111111111111, \"#46039f\"], [0.2222222222222222, \"#7201a8\"], [0.3333333333333333, \"#9c179e\"], [0.4444444444444444, \"#bd3786\"], [0.5555555555555556, \"#d8576b\"], [0.6666666666666666, \"#ed7953\"], [0.7777777777777778, \"#fb9f3a\"], [0.8888888888888888, \"#fdca26\"], [1.0, \"#f0f921\"]], \"type\": \"histogram2dcontour\"}], \"mesh3d\": [{\"colorbar\": {\"outlinewidth\": 0, \"ticks\": \"\"}, \"type\": \"mesh3d\"}], \"parcoords\": [{\"line\": {\"colorbar\": {\"outlinewidth\": 0, \"ticks\": \"\"}}, \"type\": \"parcoords\"}], \"pie\": [{\"automargin\": true, \"type\": \"pie\"}], \"scatter\": [{\"marker\": {\"colorbar\": {\"outlinewidth\": 0, \"ticks\": \"\"}}, \"type\": \"scatter\"}], \"scatter3d\": [{\"line\": {\"colorbar\": {\"outlinewidth\": 0, \"ticks\": \"\"}}, \"marker\": {\"colorbar\": {\"outlinewidth\": 0, \"ticks\": \"\"}}, \"type\": \"scatter3d\"}], \"scattercarpet\": [{\"marker\": {\"colorbar\": {\"outlinewidth\": 0, \"ticks\": \"\"}}, \"type\": \"scattercarpet\"}], \"scattergeo\": [{\"marker\": {\"colorbar\": {\"outlinewidth\": 0, \"ticks\": \"\"}}, \"type\": \"scattergeo\"}], \"scattergl\": [{\"marker\": {\"colorbar\": {\"outlinewidth\": 0, \"ticks\": \"\"}}, \"type\": \"scattergl\"}], \"scattermapbox\": [{\"marker\": {\"colorbar\": {\"outlinewidth\": 0, \"ticks\": \"\"}}, \"type\": \"scattermapbox\"}], \"scatterpolar\": [{\"marker\": {\"colorbar\": {\"outlinewidth\": 0, \"ticks\": \"\"}}, \"type\": \"scatterpolar\"}], \"scatterpolargl\": [{\"marker\": {\"colorbar\": {\"outlinewidth\": 0, \"ticks\": \"\"}}, \"type\": \"scatterpolargl\"}], \"scatterternary\": [{\"marker\": {\"colorbar\": {\"outlinewidth\": 0, \"ticks\": \"\"}}, \"type\": \"scatterternary\"}], \"surface\": [{\"colorbar\": {\"outlinewidth\": 0, \"ticks\": \"\"}, \"colorscale\": [[0.0, \"#0d0887\"], [0.1111111111111111, \"#46039f\"], [0.2222222222222222, \"#7201a8\"], [0.3333333333333333, \"#9c179e\"], [0.4444444444444444, \"#bd3786\"], [0.5555555555555556, \"#d8576b\"], [0.6666666666666666, \"#ed7953\"], [0.7777777777777778, \"#fb9f3a\"], [0.8888888888888888, \"#fdca26\"], [1.0, \"#f0f921\"]], \"type\": \"surface\"}], \"table\": [{\"cells\": {\"fill\": {\"color\": \"#EBF0F8\"}, \"line\": {\"color\": \"white\"}}, \"header\": {\"fill\": {\"color\": \"#C8D4E3\"}, \"line\": {\"color\": \"white\"}}, \"type\": \"table\"}]}, \"layout\": {\"annotationdefaults\": {\"arrowcolor\": \"#2a3f5f\", \"arrowhead\": 0, \"arrowwidth\": 1}, \"autotypenumbers\": \"strict\", \"coloraxis\": {\"colorbar\": {\"outlinewidth\": 0, \"ticks\": \"\"}}, \"colorscale\": {\"diverging\": [[0, \"#8e0152\"], [0.1, \"#c51b7d\"], [0.2, \"#de77ae\"], [0.3, \"#f1b6da\"], [0.4, \"#fde0ef\"], [0.5, \"#f7f7f7\"], [0.6, \"#e6f5d0\"], [0.7, \"#b8e186\"], [0.8, \"#7fbc41\"], [0.9, \"#4d9221\"], [1, \"#276419\"]], \"sequential\": [[0.0, \"#0d0887\"], [0.1111111111111111, \"#46039f\"], [0.2222222222222222, \"#7201a8\"], [0.3333333333333333, \"#9c179e\"], [0.4444444444444444, \"#bd3786\"], [0.5555555555555556, \"#d8576b\"], [0.6666666666666666, \"#ed7953\"], [0.7777777777777778, \"#fb9f3a\"], [0.8888888888888888, \"#fdca26\"], [1.0, \"#f0f921\"]], \"sequentialminus\": [[0.0, \"#0d0887\"], [0.1111111111111111, \"#46039f\"], [0.2222222222222222, \"#7201a8\"], [0.3333333333333333, \"#9c179e\"], [0.4444444444444444, \"#bd3786\"], [0.5555555555555556, \"#d8576b\"], [0.6666666666666666, \"#ed7953\"], [0.7777777777777778, \"#fb9f3a\"], [0.8888888888888888, \"#fdca26\"], [1.0, \"#f0f921\"]]}, \"colorway\": [\"#636efa\", \"#EF553B\", \"#00cc96\", \"#ab63fa\", \"#FFA15A\", \"#19d3f3\", \"#FF6692\", \"#B6E880\", \"#FF97FF\", \"#FECB52\"], \"font\": {\"color\": \"#2a3f5f\"}, \"geo\": {\"bgcolor\": \"white\", \"lakecolor\": \"white\", \"landcolor\": \"#E5ECF6\", \"showlakes\": true, \"showland\": true, \"subunitcolor\": \"white\"}, \"hoverlabel\": {\"align\": \"left\"}, \"hovermode\": \"closest\", \"mapbox\": {\"style\": \"light\"}, \"paper_bgcolor\": \"white\", \"plot_bgcolor\": \"#E5ECF6\", \"polar\": {\"angularaxis\": {\"gridcolor\": \"white\", \"linecolor\": \"white\", \"ticks\": \"\"}, \"bgcolor\": \"#E5ECF6\", \"radialaxis\": {\"gridcolor\": \"white\", \"linecolor\": \"white\", \"ticks\": \"\"}}, \"scene\": {\"xaxis\": {\"backgroundcolor\": \"#E5ECF6\", \"gridcolor\": \"white\", \"gridwidth\": 2, \"linecolor\": \"white\", \"showbackground\": true, \"ticks\": \"\", \"zerolinecolor\": \"white\"}, \"yaxis\": {\"backgroundcolor\": \"#E5ECF6\", \"gridcolor\": \"white\", \"gridwidth\": 2, \"linecolor\": \"white\", \"showbackground\": true, \"ticks\": \"\", \"zerolinecolor\": \"white\"}, \"zaxis\": {\"backgroundcolor\": \"#E5ECF6\", \"gridcolor\": \"white\", \"gridwidth\": 2, \"linecolor\": \"white\", \"showbackground\": true, \"ticks\": \"\", \"zerolinecolor\": \"white\"}}, \"shapedefaults\": {\"line\": {\"color\": \"#2a3f5f\"}}, \"ternary\": {\"aaxis\": {\"gridcolor\": \"white\", \"linecolor\": \"white\", \"ticks\": \"\"}, \"baxis\": {\"gridcolor\": \"white\", \"linecolor\": \"white\", \"ticks\": \"\"}, \"bgcolor\": \"#E5ECF6\", \"caxis\": {\"gridcolor\": \"white\", \"linecolor\": \"white\", \"ticks\": \"\"}}, \"title\": {\"x\": 0.05}, \"xaxis\": {\"automargin\": true, \"gridcolor\": \"white\", \"linecolor\": \"white\", \"ticks\": \"\", \"title\": {\"standoff\": 15}, \"zerolinecolor\": \"white\", \"zerolinewidth\": 2}, \"yaxis\": {\"automargin\": true, \"gridcolor\": \"white\", \"linecolor\": \"white\", \"ticks\": \"\", \"title\": {\"standoff\": 15}, \"zerolinecolor\": \"white\", \"zerolinewidth\": 2}}}, \"title\": {\"font\": {\"color\": \"#4D5663\"}, \"text\": \"aa\"}, \"xaxis\": {\"gridcolor\": \"#E1E5ED\", \"showgrid\": true, \"tickfont\": {\"color\": \"#4D5663\"}, \"title\": {\"font\": {\"color\": \"#4D5663\"}, \"text\": \"\"}, \"zerolinecolor\": \"#E1E5ED\"}, \"yaxis\": {\"gridcolor\": \"#E1E5ED\", \"showgrid\": true, \"tickfont\": {\"color\": \"#4D5663\"}, \"title\": {\"font\": {\"color\": \"#4D5663\"}, \"text\": \"\"}, \"zerolinecolor\": \"#E1E5ED\"}},                        {\"showLink\": true, \"linkText\": \"Export to plot.ly\", \"plotlyServerURL\": \"https://plot.ly\", \"responsive\": true}                    ).then(function(){\n",
       "                            \n",
       "var gd = document.getElementById('1475de68-f02d-4116-aee5-6fc95dbac54a');\n",
       "var x = new MutationObserver(function (mutations, observer) {{\n",
       "        var display = window.getComputedStyle(gd).display;\n",
       "        if (!display || display === 'none') {{\n",
       "            console.log([gd, 'removed!']);\n",
       "            Plotly.purge(gd);\n",
       "            observer.disconnect();\n",
       "        }}\n",
       "}});\n",
       "\n",
       "// Listen for the removal of the full notebook cells\n",
       "var notebookContainer = gd.closest('#notebook-container');\n",
       "if (notebookContainer) {{\n",
       "    x.observe(notebookContainer, {childList: true});\n",
       "}}\n",
       "\n",
       "// Listen for the clearing of the current output cell\n",
       "var outputEl = gd.closest('.output');\n",
       "if (outputEl) {{\n",
       "    x.observe(outputEl, {childList: true});\n",
       "}}\n",
       "\n",
       "                        })                };                });            </script>        </div>"
      ]
     },
     "metadata": {},
     "output_type": "display_data"
    }
   ],
   "source": [
    "crosstab11.iplot(kind='bar',barmode='stack',title=\"aa\")"
   ]
  },
  {
   "cell_type": "code",
   "execution_count": 37,
   "metadata": {},
   "outputs": [
    {
     "data": {
      "text/plain": [
       "Index(['No', 'Sites', 'Deliver Name', 'Rating', 'Feedback Tag',\n",
       "       'Pick Up Order Time', 'Arrival Time', 'Waiting Time', 'Deliver Time',\n",
       "       'N_Total Time', 'N_Overtime', 'N_Overtime_group',\n",
       "       'N_The length of the most time-spending',\n",
       "       'N_The most spending time part', 'Customer Feedback Tag',\n",
       "       'Reviews Category'],\n",
       "      dtype='object')"
      ]
     },
     "execution_count": 37,
     "metadata": {},
     "output_type": "execute_result"
    }
   ],
   "source": [
    "data_explode.columns\n"
   ]
  },
  {
   "cell_type": "code",
   "execution_count": 38,
   "metadata": {},
   "outputs": [
    {
     "data": {
      "text/html": [
       "<style  type=\"text/css\" >\n",
       "#T_33ed120c_5452_11eb_9d12_1c36bb2decd8row0_col0{\n",
       "            background-color:  #067230;\n",
       "            color:  #f1f1f1;\n",
       "        }#T_33ed120c_5452_11eb_9d12_1c36bb2decd8row0_col1{\n",
       "            background-color:  #3ca559;\n",
       "            color:  #000000;\n",
       "        }#T_33ed120c_5452_11eb_9d12_1c36bb2decd8row0_col2{\n",
       "            background-color:  #1d8640;\n",
       "            color:  #000000;\n",
       "        }#T_33ed120c_5452_11eb_9d12_1c36bb2decd8row0_col3,#T_33ed120c_5452_11eb_9d12_1c36bb2decd8row1_col1{\n",
       "            background-color:  #37a055;\n",
       "            color:  #000000;\n",
       "        }#T_33ed120c_5452_11eb_9d12_1c36bb2decd8row0_col4{\n",
       "            background-color:  #05712f;\n",
       "            color:  #f1f1f1;\n",
       "        }#T_33ed120c_5452_11eb_9d12_1c36bb2decd8row1_col0{\n",
       "            background-color:  #b1e0ab;\n",
       "            color:  #000000;\n",
       "        }#T_33ed120c_5452_11eb_9d12_1c36bb2decd8row1_col2{\n",
       "            background-color:  #95d391;\n",
       "            color:  #000000;\n",
       "        }#T_33ed120c_5452_11eb_9d12_1c36bb2decd8row1_col3{\n",
       "            background-color:  #157f3b;\n",
       "            color:  #f1f1f1;\n",
       "        }#T_33ed120c_5452_11eb_9d12_1c36bb2decd8row1_col4{\n",
       "            background-color:  #4bb062;\n",
       "            color:  #000000;\n",
       "        }#T_33ed120c_5452_11eb_9d12_1c36bb2decd8row2_col0,#T_33ed120c_5452_11eb_9d12_1c36bb2decd8row2_col1,#T_33ed120c_5452_11eb_9d12_1c36bb2decd8row2_col2,#T_33ed120c_5452_11eb_9d12_1c36bb2decd8row2_col3,#T_33ed120c_5452_11eb_9d12_1c36bb2decd8row2_col4{\n",
       "            background-color:  #00441b;\n",
       "            color:  #f1f1f1;\n",
       "        }#T_33ed120c_5452_11eb_9d12_1c36bb2decd8row3_col0,#T_33ed120c_5452_11eb_9d12_1c36bb2decd8row5_col0{\n",
       "            background-color:  #e6f5e1;\n",
       "            color:  #000000;\n",
       "        }#T_33ed120c_5452_11eb_9d12_1c36bb2decd8row3_col1{\n",
       "            background-color:  #d1edcb;\n",
       "            color:  #000000;\n",
       "        }#T_33ed120c_5452_11eb_9d12_1c36bb2decd8row3_col2{\n",
       "            background-color:  #ccebc6;\n",
       "            color:  #000000;\n",
       "        }#T_33ed120c_5452_11eb_9d12_1c36bb2decd8row3_col3{\n",
       "            background-color:  #b8e3b2;\n",
       "            color:  #000000;\n",
       "        }#T_33ed120c_5452_11eb_9d12_1c36bb2decd8row3_col4{\n",
       "            background-color:  #e7f6e2;\n",
       "            color:  #000000;\n",
       "        }#T_33ed120c_5452_11eb_9d12_1c36bb2decd8row4_col0,#T_33ed120c_5452_11eb_9d12_1c36bb2decd8row4_col1,#T_33ed120c_5452_11eb_9d12_1c36bb2decd8row4_col3,#T_33ed120c_5452_11eb_9d12_1c36bb2decd8row4_col4,#T_33ed120c_5452_11eb_9d12_1c36bb2decd8row5_col2{\n",
       "            background-color:  #f7fcf5;\n",
       "            color:  #000000;\n",
       "        }#T_33ed120c_5452_11eb_9d12_1c36bb2decd8row4_col2{\n",
       "            background-color:  #b2e0ac;\n",
       "            color:  #000000;\n",
       "        }#T_33ed120c_5452_11eb_9d12_1c36bb2decd8row5_col1{\n",
       "            background-color:  #d6efd0;\n",
       "            color:  #000000;\n",
       "        }#T_33ed120c_5452_11eb_9d12_1c36bb2decd8row5_col3{\n",
       "            background-color:  #dbf1d6;\n",
       "            color:  #000000;\n",
       "        }#T_33ed120c_5452_11eb_9d12_1c36bb2decd8row5_col4{\n",
       "            background-color:  #ebf7e7;\n",
       "            color:  #000000;\n",
       "        }</style><table id=\"T_33ed120c_5452_11eb_9d12_1c36bb2decd8\" ><thead>    <tr>        <th class=\"index_name level0\" >Reviews Category</th>        <th class=\"col_heading level0 col0\" >Delivery process</th>        <th class=\"col_heading level0 col1\" >Delivery timeout</th>        <th class=\"col_heading level0 col2\" >Illegal operation</th>        <th class=\"col_heading level0 col3\" >Others</th>        <th class=\"col_heading level0 col4\" >Professional attitude</th>    </tr>    <tr>        <th class=\"index_name level0\" >Sites</th>        <th class=\"blank\" ></th>        <th class=\"blank\" ></th>        <th class=\"blank\" ></th>        <th class=\"blank\" ></th>        <th class=\"blank\" ></th>    </tr></thead><tbody>\n",
       "                <tr>\n",
       "                        <th id=\"T_33ed120c_5452_11eb_9d12_1c36bb2decd8level0_row0\" class=\"row_heading level0 row0\" >Site A</th>\n",
       "                        <td id=\"T_33ed120c_5452_11eb_9d12_1c36bb2decd8row0_col0\" class=\"data row0 col0\" >35</td>\n",
       "                        <td id=\"T_33ed120c_5452_11eb_9d12_1c36bb2decd8row0_col1\" class=\"data row0 col1\" >39</td>\n",
       "                        <td id=\"T_33ed120c_5452_11eb_9d12_1c36bb2decd8row0_col2\" class=\"data row0 col2\" >19</td>\n",
       "                        <td id=\"T_33ed120c_5452_11eb_9d12_1c36bb2decd8row0_col3\" class=\"data row0 col3\" >22</td>\n",
       "                        <td id=\"T_33ed120c_5452_11eb_9d12_1c36bb2decd8row0_col4\" class=\"data row0 col4\" >36</td>\n",
       "            </tr>\n",
       "            <tr>\n",
       "                        <th id=\"T_33ed120c_5452_11eb_9d12_1c36bb2decd8level0_row1\" class=\"row_heading level0 row1\" >Site B</th>\n",
       "                        <td id=\"T_33ed120c_5452_11eb_9d12_1c36bb2decd8row1_col0\" class=\"data row1 col0\" >17</td>\n",
       "                        <td id=\"T_33ed120c_5452_11eb_9d12_1c36bb2decd8row1_col1\" class=\"data row1 col1\" >40</td>\n",
       "                        <td id=\"T_33ed120c_5452_11eb_9d12_1c36bb2decd8row1_col2\" class=\"data row1 col2\" >11</td>\n",
       "                        <td id=\"T_33ed120c_5452_11eb_9d12_1c36bb2decd8row1_col3\" class=\"data row1 col3\" >26</td>\n",
       "                        <td id=\"T_33ed120c_5452_11eb_9d12_1c36bb2decd8row1_col4\" class=\"data row1 col4\" >27</td>\n",
       "            </tr>\n",
       "            <tr>\n",
       "                        <th id=\"T_33ed120c_5452_11eb_9d12_1c36bb2decd8level0_row2\" class=\"row_heading level0 row2\" >Site C</th>\n",
       "                        <td id=\"T_33ed120c_5452_11eb_9d12_1c36bb2decd8row2_col0\" class=\"data row2 col0\" >40</td>\n",
       "                        <td id=\"T_33ed120c_5452_11eb_9d12_1c36bb2decd8row2_col1\" class=\"data row2 col1\" >56</td>\n",
       "                        <td id=\"T_33ed120c_5452_11eb_9d12_1c36bb2decd8row2_col2\" class=\"data row2 col2\" >24</td>\n",
       "                        <td id=\"T_33ed120c_5452_11eb_9d12_1c36bb2decd8row2_col3\" class=\"data row2 col3\" >32</td>\n",
       "                        <td id=\"T_33ed120c_5452_11eb_9d12_1c36bb2decd8row2_col4\" class=\"data row2 col4\" >41</td>\n",
       "            </tr>\n",
       "            <tr>\n",
       "                        <th id=\"T_33ed120c_5452_11eb_9d12_1c36bb2decd8level0_row3\" class=\"row_heading level0 row3\" >Site D</th>\n",
       "                        <td id=\"T_33ed120c_5452_11eb_9d12_1c36bb2decd8row3_col0\" class=\"data row3 col0\" >10</td>\n",
       "                        <td id=\"T_33ed120c_5452_11eb_9d12_1c36bb2decd8row3_col1\" class=\"data row3 col1\" >18</td>\n",
       "                        <td id=\"T_33ed120c_5452_11eb_9d12_1c36bb2decd8row3_col2\" class=\"data row3 col2\" >7</td>\n",
       "                        <td id=\"T_33ed120c_5452_11eb_9d12_1c36bb2decd8row3_col3\" class=\"data row3 col3\" >11</td>\n",
       "                        <td id=\"T_33ed120c_5452_11eb_9d12_1c36bb2decd8row3_col4\" class=\"data row3 col4\" >10</td>\n",
       "            </tr>\n",
       "            <tr>\n",
       "                        <th id=\"T_33ed120c_5452_11eb_9d12_1c36bb2decd8level0_row4\" class=\"row_heading level0 row4\" >Site E</th>\n",
       "                        <td id=\"T_33ed120c_5452_11eb_9d12_1c36bb2decd8row4_col0\" class=\"data row4 col0\" >6</td>\n",
       "                        <td id=\"T_33ed120c_5452_11eb_9d12_1c36bb2decd8row4_col1\" class=\"data row4 col1\" >8</td>\n",
       "                        <td id=\"T_33ed120c_5452_11eb_9d12_1c36bb2decd8row4_col2\" class=\"data row4 col2\" >9</td>\n",
       "                        <td id=\"T_33ed120c_5452_11eb_9d12_1c36bb2decd8row4_col3\" class=\"data row4 col3\" >2</td>\n",
       "                        <td id=\"T_33ed120c_5452_11eb_9d12_1c36bb2decd8row4_col4\" class=\"data row4 col4\" >6</td>\n",
       "            </tr>\n",
       "            <tr>\n",
       "                        <th id=\"T_33ed120c_5452_11eb_9d12_1c36bb2decd8level0_row5\" class=\"row_heading level0 row5\" >Site F</th>\n",
       "                        <td id=\"T_33ed120c_5452_11eb_9d12_1c36bb2decd8row5_col0\" class=\"data row5 col0\" >10</td>\n",
       "                        <td id=\"T_33ed120c_5452_11eb_9d12_1c36bb2decd8row5_col1\" class=\"data row5 col1\" >17</td>\n",
       "                        <td id=\"T_33ed120c_5452_11eb_9d12_1c36bb2decd8row5_col2\" class=\"data row5 col2\" >2</td>\n",
       "                        <td id=\"T_33ed120c_5452_11eb_9d12_1c36bb2decd8row5_col3\" class=\"data row5 col3\" >7</td>\n",
       "                        <td id=\"T_33ed120c_5452_11eb_9d12_1c36bb2decd8row5_col4\" class=\"data row5 col4\" >9</td>\n",
       "            </tr>\n",
       "    </tbody></table>"
      ],
      "text/plain": [
       "<pandas.io.formats.style.Styler at 0x13aac5d30>"
      ]
     },
     "execution_count": 38,
     "metadata": {},
     "output_type": "execute_result"
    }
   ],
   "source": [
    "crosstab2=pd.crosstab(index=data_explode['Sites'],\n",
    "                      columns=data_explode['Reviews Category'],\n",
    "                      values=data_explode['Deliver Name'],\n",
    "                      aggfunc='nunique' #dataframe去重\n",
    "                     # , margins=True\n",
    "           ).round(0).fillna(0).astype('int')\n",
    "crosstab2.style.background_gradient(cmap='Greens')"
   ]
  },
  {
   "cell_type": "code",
   "execution_count": 39,
   "metadata": {},
   "outputs": [],
   "source": [
    "crosstab22=crosstab2.apply(lambda x: x/crosstab2.sum(axis=1))*100"
   ]
  },
  {
   "cell_type": "code",
   "execution_count": 40,
   "metadata": {},
   "outputs": [
    {
     "data": {
      "application/vnd.plotly.v1+json": {
       "config": {
        "linkText": "Export to plot.ly",
        "plotlyServerURL": "https://plot.ly",
        "showLink": true
       },
       "data": [
        {
         "marker": {
          "color": "rgba(255, 153, 51, 0.6)",
          "line": {
           "color": "rgba(255, 153, 51, 1.0)",
           "width": 1
          }
         },
         "name": "Delivery process",
         "orientation": "v",
         "text": "",
         "type": "bar",
         "x": [
          "Site A",
          "Site B",
          "Site C",
          "Site D",
          "Site E",
          "Site F"
         ],
         "y": [
          23.178807947019866,
          14.049586776859504,
          20.72538860103627,
          17.857142857142858,
          19.35483870967742,
          22.22222222222222
         ]
        },
        {
         "marker": {
          "color": "rgba(55, 128, 191, 0.6)",
          "line": {
           "color": "rgba(55, 128, 191, 1.0)",
           "width": 1
          }
         },
         "name": "Delivery timeout",
         "orientation": "v",
         "text": "",
         "type": "bar",
         "x": [
          "Site A",
          "Site B",
          "Site C",
          "Site D",
          "Site E",
          "Site F"
         ],
         "y": [
          25.82781456953642,
          33.057851239669425,
          29.015544041450774,
          32.142857142857146,
          25.806451612903224,
          37.77777777777778
         ]
        },
        {
         "marker": {
          "color": "rgba(50, 171, 96, 0.6)",
          "line": {
           "color": "rgba(50, 171, 96, 1.0)",
           "width": 1
          }
         },
         "name": "Illegal operation",
         "orientation": "v",
         "text": "",
         "type": "bar",
         "x": [
          "Site A",
          "Site B",
          "Site C",
          "Site D",
          "Site E",
          "Site F"
         ],
         "y": [
          12.582781456953644,
          9.090909090909092,
          12.435233160621761,
          12.5,
          29.03225806451613,
          4.444444444444445
         ]
        },
        {
         "marker": {
          "color": "rgba(128, 0, 128, 0.6)",
          "line": {
           "color": "rgba(128, 0, 128, 1.0)",
           "width": 1
          }
         },
         "name": "Others",
         "orientation": "v",
         "text": "",
         "type": "bar",
         "x": [
          "Site A",
          "Site B",
          "Site C",
          "Site D",
          "Site E",
          "Site F"
         ],
         "y": [
          14.56953642384106,
          21.487603305785125,
          16.580310880829018,
          19.642857142857142,
          6.451612903225806,
          15.555555555555555
         ]
        },
        {
         "marker": {
          "color": "rgba(219, 64, 82, 0.6)",
          "line": {
           "color": "rgba(219, 64, 82, 1.0)",
           "width": 1
          }
         },
         "name": "Professional attitude",
         "orientation": "v",
         "text": "",
         "type": "bar",
         "x": [
          "Site A",
          "Site B",
          "Site C",
          "Site D",
          "Site E",
          "Site F"
         ],
         "y": [
          23.841059602649008,
          22.31404958677686,
          21.243523316062177,
          17.857142857142858,
          19.35483870967742,
          20
         ]
        }
       ],
       "layout": {
        "barmode": "stack",
        "legend": {
         "bgcolor": "#F5F6F9",
         "font": {
          "color": "#4D5663"
         },
         "traceorder": "normal"
        },
        "paper_bgcolor": "#F5F6F9",
        "plot_bgcolor": "#F5F6F9",
        "template": {
         "data": {
          "bar": [
           {
            "error_x": {
             "color": "#2a3f5f"
            },
            "error_y": {
             "color": "#2a3f5f"
            },
            "marker": {
             "line": {
              "color": "#E5ECF6",
              "width": 0.5
             }
            },
            "type": "bar"
           }
          ],
          "barpolar": [
           {
            "marker": {
             "line": {
              "color": "#E5ECF6",
              "width": 0.5
             }
            },
            "type": "barpolar"
           }
          ],
          "carpet": [
           {
            "aaxis": {
             "endlinecolor": "#2a3f5f",
             "gridcolor": "white",
             "linecolor": "white",
             "minorgridcolor": "white",
             "startlinecolor": "#2a3f5f"
            },
            "baxis": {
             "endlinecolor": "#2a3f5f",
             "gridcolor": "white",
             "linecolor": "white",
             "minorgridcolor": "white",
             "startlinecolor": "#2a3f5f"
            },
            "type": "carpet"
           }
          ],
          "choropleth": [
           {
            "colorbar": {
             "outlinewidth": 0,
             "ticks": ""
            },
            "type": "choropleth"
           }
          ],
          "contour": [
           {
            "colorbar": {
             "outlinewidth": 0,
             "ticks": ""
            },
            "colorscale": [
             [
              0,
              "#0d0887"
             ],
             [
              0.1111111111111111,
              "#46039f"
             ],
             [
              0.2222222222222222,
              "#7201a8"
             ],
             [
              0.3333333333333333,
              "#9c179e"
             ],
             [
              0.4444444444444444,
              "#bd3786"
             ],
             [
              0.5555555555555556,
              "#d8576b"
             ],
             [
              0.6666666666666666,
              "#ed7953"
             ],
             [
              0.7777777777777778,
              "#fb9f3a"
             ],
             [
              0.8888888888888888,
              "#fdca26"
             ],
             [
              1,
              "#f0f921"
             ]
            ],
            "type": "contour"
           }
          ],
          "contourcarpet": [
           {
            "colorbar": {
             "outlinewidth": 0,
             "ticks": ""
            },
            "type": "contourcarpet"
           }
          ],
          "heatmap": [
           {
            "colorbar": {
             "outlinewidth": 0,
             "ticks": ""
            },
            "colorscale": [
             [
              0,
              "#0d0887"
             ],
             [
              0.1111111111111111,
              "#46039f"
             ],
             [
              0.2222222222222222,
              "#7201a8"
             ],
             [
              0.3333333333333333,
              "#9c179e"
             ],
             [
              0.4444444444444444,
              "#bd3786"
             ],
             [
              0.5555555555555556,
              "#d8576b"
             ],
             [
              0.6666666666666666,
              "#ed7953"
             ],
             [
              0.7777777777777778,
              "#fb9f3a"
             ],
             [
              0.8888888888888888,
              "#fdca26"
             ],
             [
              1,
              "#f0f921"
             ]
            ],
            "type": "heatmap"
           }
          ],
          "heatmapgl": [
           {
            "colorbar": {
             "outlinewidth": 0,
             "ticks": ""
            },
            "colorscale": [
             [
              0,
              "#0d0887"
             ],
             [
              0.1111111111111111,
              "#46039f"
             ],
             [
              0.2222222222222222,
              "#7201a8"
             ],
             [
              0.3333333333333333,
              "#9c179e"
             ],
             [
              0.4444444444444444,
              "#bd3786"
             ],
             [
              0.5555555555555556,
              "#d8576b"
             ],
             [
              0.6666666666666666,
              "#ed7953"
             ],
             [
              0.7777777777777778,
              "#fb9f3a"
             ],
             [
              0.8888888888888888,
              "#fdca26"
             ],
             [
              1,
              "#f0f921"
             ]
            ],
            "type": "heatmapgl"
           }
          ],
          "histogram": [
           {
            "marker": {
             "colorbar": {
              "outlinewidth": 0,
              "ticks": ""
             }
            },
            "type": "histogram"
           }
          ],
          "histogram2d": [
           {
            "colorbar": {
             "outlinewidth": 0,
             "ticks": ""
            },
            "colorscale": [
             [
              0,
              "#0d0887"
             ],
             [
              0.1111111111111111,
              "#46039f"
             ],
             [
              0.2222222222222222,
              "#7201a8"
             ],
             [
              0.3333333333333333,
              "#9c179e"
             ],
             [
              0.4444444444444444,
              "#bd3786"
             ],
             [
              0.5555555555555556,
              "#d8576b"
             ],
             [
              0.6666666666666666,
              "#ed7953"
             ],
             [
              0.7777777777777778,
              "#fb9f3a"
             ],
             [
              0.8888888888888888,
              "#fdca26"
             ],
             [
              1,
              "#f0f921"
             ]
            ],
            "type": "histogram2d"
           }
          ],
          "histogram2dcontour": [
           {
            "colorbar": {
             "outlinewidth": 0,
             "ticks": ""
            },
            "colorscale": [
             [
              0,
              "#0d0887"
             ],
             [
              0.1111111111111111,
              "#46039f"
             ],
             [
              0.2222222222222222,
              "#7201a8"
             ],
             [
              0.3333333333333333,
              "#9c179e"
             ],
             [
              0.4444444444444444,
              "#bd3786"
             ],
             [
              0.5555555555555556,
              "#d8576b"
             ],
             [
              0.6666666666666666,
              "#ed7953"
             ],
             [
              0.7777777777777778,
              "#fb9f3a"
             ],
             [
              0.8888888888888888,
              "#fdca26"
             ],
             [
              1,
              "#f0f921"
             ]
            ],
            "type": "histogram2dcontour"
           }
          ],
          "mesh3d": [
           {
            "colorbar": {
             "outlinewidth": 0,
             "ticks": ""
            },
            "type": "mesh3d"
           }
          ],
          "parcoords": [
           {
            "line": {
             "colorbar": {
              "outlinewidth": 0,
              "ticks": ""
             }
            },
            "type": "parcoords"
           }
          ],
          "pie": [
           {
            "automargin": true,
            "type": "pie"
           }
          ],
          "scatter": [
           {
            "marker": {
             "colorbar": {
              "outlinewidth": 0,
              "ticks": ""
             }
            },
            "type": "scatter"
           }
          ],
          "scatter3d": [
           {
            "line": {
             "colorbar": {
              "outlinewidth": 0,
              "ticks": ""
             }
            },
            "marker": {
             "colorbar": {
              "outlinewidth": 0,
              "ticks": ""
             }
            },
            "type": "scatter3d"
           }
          ],
          "scattercarpet": [
           {
            "marker": {
             "colorbar": {
              "outlinewidth": 0,
              "ticks": ""
             }
            },
            "type": "scattercarpet"
           }
          ],
          "scattergeo": [
           {
            "marker": {
             "colorbar": {
              "outlinewidth": 0,
              "ticks": ""
             }
            },
            "type": "scattergeo"
           }
          ],
          "scattergl": [
           {
            "marker": {
             "colorbar": {
              "outlinewidth": 0,
              "ticks": ""
             }
            },
            "type": "scattergl"
           }
          ],
          "scattermapbox": [
           {
            "marker": {
             "colorbar": {
              "outlinewidth": 0,
              "ticks": ""
             }
            },
            "type": "scattermapbox"
           }
          ],
          "scatterpolar": [
           {
            "marker": {
             "colorbar": {
              "outlinewidth": 0,
              "ticks": ""
             }
            },
            "type": "scatterpolar"
           }
          ],
          "scatterpolargl": [
           {
            "marker": {
             "colorbar": {
              "outlinewidth": 0,
              "ticks": ""
             }
            },
            "type": "scatterpolargl"
           }
          ],
          "scatterternary": [
           {
            "marker": {
             "colorbar": {
              "outlinewidth": 0,
              "ticks": ""
             }
            },
            "type": "scatterternary"
           }
          ],
          "surface": [
           {
            "colorbar": {
             "outlinewidth": 0,
             "ticks": ""
            },
            "colorscale": [
             [
              0,
              "#0d0887"
             ],
             [
              0.1111111111111111,
              "#46039f"
             ],
             [
              0.2222222222222222,
              "#7201a8"
             ],
             [
              0.3333333333333333,
              "#9c179e"
             ],
             [
              0.4444444444444444,
              "#bd3786"
             ],
             [
              0.5555555555555556,
              "#d8576b"
             ],
             [
              0.6666666666666666,
              "#ed7953"
             ],
             [
              0.7777777777777778,
              "#fb9f3a"
             ],
             [
              0.8888888888888888,
              "#fdca26"
             ],
             [
              1,
              "#f0f921"
             ]
            ],
            "type": "surface"
           }
          ],
          "table": [
           {
            "cells": {
             "fill": {
              "color": "#EBF0F8"
             },
             "line": {
              "color": "white"
             }
            },
            "header": {
             "fill": {
              "color": "#C8D4E3"
             },
             "line": {
              "color": "white"
             }
            },
            "type": "table"
           }
          ]
         },
         "layout": {
          "annotationdefaults": {
           "arrowcolor": "#2a3f5f",
           "arrowhead": 0,
           "arrowwidth": 1
          },
          "autotypenumbers": "strict",
          "coloraxis": {
           "colorbar": {
            "outlinewidth": 0,
            "ticks": ""
           }
          },
          "colorscale": {
           "diverging": [
            [
             0,
             "#8e0152"
            ],
            [
             0.1,
             "#c51b7d"
            ],
            [
             0.2,
             "#de77ae"
            ],
            [
             0.3,
             "#f1b6da"
            ],
            [
             0.4,
             "#fde0ef"
            ],
            [
             0.5,
             "#f7f7f7"
            ],
            [
             0.6,
             "#e6f5d0"
            ],
            [
             0.7,
             "#b8e186"
            ],
            [
             0.8,
             "#7fbc41"
            ],
            [
             0.9,
             "#4d9221"
            ],
            [
             1,
             "#276419"
            ]
           ],
           "sequential": [
            [
             0,
             "#0d0887"
            ],
            [
             0.1111111111111111,
             "#46039f"
            ],
            [
             0.2222222222222222,
             "#7201a8"
            ],
            [
             0.3333333333333333,
             "#9c179e"
            ],
            [
             0.4444444444444444,
             "#bd3786"
            ],
            [
             0.5555555555555556,
             "#d8576b"
            ],
            [
             0.6666666666666666,
             "#ed7953"
            ],
            [
             0.7777777777777778,
             "#fb9f3a"
            ],
            [
             0.8888888888888888,
             "#fdca26"
            ],
            [
             1,
             "#f0f921"
            ]
           ],
           "sequentialminus": [
            [
             0,
             "#0d0887"
            ],
            [
             0.1111111111111111,
             "#46039f"
            ],
            [
             0.2222222222222222,
             "#7201a8"
            ],
            [
             0.3333333333333333,
             "#9c179e"
            ],
            [
             0.4444444444444444,
             "#bd3786"
            ],
            [
             0.5555555555555556,
             "#d8576b"
            ],
            [
             0.6666666666666666,
             "#ed7953"
            ],
            [
             0.7777777777777778,
             "#fb9f3a"
            ],
            [
             0.8888888888888888,
             "#fdca26"
            ],
            [
             1,
             "#f0f921"
            ]
           ]
          },
          "colorway": [
           "#636efa",
           "#EF553B",
           "#00cc96",
           "#ab63fa",
           "#FFA15A",
           "#19d3f3",
           "#FF6692",
           "#B6E880",
           "#FF97FF",
           "#FECB52"
          ],
          "font": {
           "color": "#2a3f5f"
          },
          "geo": {
           "bgcolor": "white",
           "lakecolor": "white",
           "landcolor": "#E5ECF6",
           "showlakes": true,
           "showland": true,
           "subunitcolor": "white"
          },
          "hoverlabel": {
           "align": "left"
          },
          "hovermode": "closest",
          "mapbox": {
           "style": "light"
          },
          "paper_bgcolor": "white",
          "plot_bgcolor": "#E5ECF6",
          "polar": {
           "angularaxis": {
            "gridcolor": "white",
            "linecolor": "white",
            "ticks": ""
           },
           "bgcolor": "#E5ECF6",
           "radialaxis": {
            "gridcolor": "white",
            "linecolor": "white",
            "ticks": ""
           }
          },
          "scene": {
           "xaxis": {
            "backgroundcolor": "#E5ECF6",
            "gridcolor": "white",
            "gridwidth": 2,
            "linecolor": "white",
            "showbackground": true,
            "ticks": "",
            "zerolinecolor": "white"
           },
           "yaxis": {
            "backgroundcolor": "#E5ECF6",
            "gridcolor": "white",
            "gridwidth": 2,
            "linecolor": "white",
            "showbackground": true,
            "ticks": "",
            "zerolinecolor": "white"
           },
           "zaxis": {
            "backgroundcolor": "#E5ECF6",
            "gridcolor": "white",
            "gridwidth": 2,
            "linecolor": "white",
            "showbackground": true,
            "ticks": "",
            "zerolinecolor": "white"
           }
          },
          "shapedefaults": {
           "line": {
            "color": "#2a3f5f"
           }
          },
          "ternary": {
           "aaxis": {
            "gridcolor": "white",
            "linecolor": "white",
            "ticks": ""
           },
           "baxis": {
            "gridcolor": "white",
            "linecolor": "white",
            "ticks": ""
           },
           "bgcolor": "#E5ECF6",
           "caxis": {
            "gridcolor": "white",
            "linecolor": "white",
            "ticks": ""
           }
          },
          "title": {
           "x": 0.05
          },
          "xaxis": {
           "automargin": true,
           "gridcolor": "white",
           "linecolor": "white",
           "ticks": "",
           "title": {
            "standoff": 15
           },
           "zerolinecolor": "white",
           "zerolinewidth": 2
          },
          "yaxis": {
           "automargin": true,
           "gridcolor": "white",
           "linecolor": "white",
           "ticks": "",
           "title": {
            "standoff": 15
           },
           "zerolinecolor": "white",
           "zerolinewidth": 2
          }
         }
        },
        "title": {
         "font": {
          "color": "#4D5663"
         },
         "text": "aa"
        },
        "xaxis": {
         "gridcolor": "#E1E5ED",
         "showgrid": true,
         "tickfont": {
          "color": "#4D5663"
         },
         "title": {
          "font": {
           "color": "#4D5663"
          },
          "text": ""
         },
         "zerolinecolor": "#E1E5ED"
        },
        "yaxis": {
         "gridcolor": "#E1E5ED",
         "showgrid": true,
         "tickfont": {
          "color": "#4D5663"
         },
         "title": {
          "font": {
           "color": "#4D5663"
          },
          "text": ""
         },
         "zerolinecolor": "#E1E5ED"
        }
       }
      },
      "text/html": [
       "<div>                            <div id=\"a9d1893f-f1a1-4d29-afcf-8a24b11f5676\" class=\"plotly-graph-div\" style=\"height:525px; width:100%;\"></div>            <script type=\"text/javascript\">                require([\"plotly\"], function(Plotly) {                    window.PLOTLYENV=window.PLOTLYENV || {};\n",
       "                    window.PLOTLYENV.BASE_URL='https://plot.ly';                                    if (document.getElementById(\"a9d1893f-f1a1-4d29-afcf-8a24b11f5676\")) {                    Plotly.newPlot(                        \"a9d1893f-f1a1-4d29-afcf-8a24b11f5676\",                        [{\"marker\": {\"color\": \"rgba(255, 153, 51, 0.6)\", \"line\": {\"color\": \"rgba(255, 153, 51, 1.0)\", \"width\": 1}}, \"name\": \"Delivery process\", \"orientation\": \"v\", \"text\": \"\", \"type\": \"bar\", \"x\": [\"Site A\", \"Site B\", \"Site C\", \"Site D\", \"Site E\", \"Site F\"], \"y\": [23.178807947019866, 14.049586776859504, 20.72538860103627, 17.857142857142858, 19.35483870967742, 22.22222222222222]}, {\"marker\": {\"color\": \"rgba(55, 128, 191, 0.6)\", \"line\": {\"color\": \"rgba(55, 128, 191, 1.0)\", \"width\": 1}}, \"name\": \"Delivery timeout\", \"orientation\": \"v\", \"text\": \"\", \"type\": \"bar\", \"x\": [\"Site A\", \"Site B\", \"Site C\", \"Site D\", \"Site E\", \"Site F\"], \"y\": [25.82781456953642, 33.057851239669425, 29.015544041450774, 32.142857142857146, 25.806451612903224, 37.77777777777778]}, {\"marker\": {\"color\": \"rgba(50, 171, 96, 0.6)\", \"line\": {\"color\": \"rgba(50, 171, 96, 1.0)\", \"width\": 1}}, \"name\": \"Illegal operation\", \"orientation\": \"v\", \"text\": \"\", \"type\": \"bar\", \"x\": [\"Site A\", \"Site B\", \"Site C\", \"Site D\", \"Site E\", \"Site F\"], \"y\": [12.582781456953644, 9.090909090909092, 12.435233160621761, 12.5, 29.03225806451613, 4.444444444444445]}, {\"marker\": {\"color\": \"rgba(128, 0, 128, 0.6)\", \"line\": {\"color\": \"rgba(128, 0, 128, 1.0)\", \"width\": 1}}, \"name\": \"Others\", \"orientation\": \"v\", \"text\": \"\", \"type\": \"bar\", \"x\": [\"Site A\", \"Site B\", \"Site C\", \"Site D\", \"Site E\", \"Site F\"], \"y\": [14.56953642384106, 21.487603305785125, 16.580310880829018, 19.642857142857142, 6.451612903225806, 15.555555555555555]}, {\"marker\": {\"color\": \"rgba(219, 64, 82, 0.6)\", \"line\": {\"color\": \"rgba(219, 64, 82, 1.0)\", \"width\": 1}}, \"name\": \"Professional attitude\", \"orientation\": \"v\", \"text\": \"\", \"type\": \"bar\", \"x\": [\"Site A\", \"Site B\", \"Site C\", \"Site D\", \"Site E\", \"Site F\"], \"y\": [23.841059602649008, 22.31404958677686, 21.243523316062177, 17.857142857142858, 19.35483870967742, 20.0]}],                        {\"barmode\": \"stack\", \"legend\": {\"bgcolor\": \"#F5F6F9\", \"font\": {\"color\": \"#4D5663\"}, \"traceorder\": \"normal\"}, \"paper_bgcolor\": \"#F5F6F9\", \"plot_bgcolor\": \"#F5F6F9\", \"template\": {\"data\": {\"bar\": [{\"error_x\": {\"color\": \"#2a3f5f\"}, \"error_y\": {\"color\": \"#2a3f5f\"}, \"marker\": {\"line\": {\"color\": \"#E5ECF6\", \"width\": 0.5}}, \"type\": \"bar\"}], \"barpolar\": [{\"marker\": {\"line\": {\"color\": \"#E5ECF6\", \"width\": 0.5}}, \"type\": \"barpolar\"}], \"carpet\": [{\"aaxis\": {\"endlinecolor\": \"#2a3f5f\", \"gridcolor\": \"white\", \"linecolor\": \"white\", \"minorgridcolor\": \"white\", \"startlinecolor\": \"#2a3f5f\"}, \"baxis\": {\"endlinecolor\": \"#2a3f5f\", \"gridcolor\": \"white\", \"linecolor\": \"white\", \"minorgridcolor\": \"white\", \"startlinecolor\": \"#2a3f5f\"}, \"type\": \"carpet\"}], \"choropleth\": [{\"colorbar\": {\"outlinewidth\": 0, \"ticks\": \"\"}, \"type\": \"choropleth\"}], \"contour\": [{\"colorbar\": {\"outlinewidth\": 0, \"ticks\": \"\"}, \"colorscale\": [[0.0, \"#0d0887\"], [0.1111111111111111, \"#46039f\"], [0.2222222222222222, \"#7201a8\"], [0.3333333333333333, \"#9c179e\"], [0.4444444444444444, \"#bd3786\"], [0.5555555555555556, \"#d8576b\"], [0.6666666666666666, \"#ed7953\"], [0.7777777777777778, \"#fb9f3a\"], [0.8888888888888888, \"#fdca26\"], [1.0, \"#f0f921\"]], \"type\": \"contour\"}], \"contourcarpet\": [{\"colorbar\": {\"outlinewidth\": 0, \"ticks\": \"\"}, \"type\": \"contourcarpet\"}], \"heatmap\": [{\"colorbar\": {\"outlinewidth\": 0, \"ticks\": \"\"}, \"colorscale\": [[0.0, \"#0d0887\"], [0.1111111111111111, \"#46039f\"], [0.2222222222222222, \"#7201a8\"], [0.3333333333333333, \"#9c179e\"], [0.4444444444444444, \"#bd3786\"], [0.5555555555555556, \"#d8576b\"], [0.6666666666666666, \"#ed7953\"], [0.7777777777777778, \"#fb9f3a\"], [0.8888888888888888, \"#fdca26\"], [1.0, \"#f0f921\"]], \"type\": \"heatmap\"}], \"heatmapgl\": [{\"colorbar\": {\"outlinewidth\": 0, \"ticks\": \"\"}, \"colorscale\": [[0.0, \"#0d0887\"], [0.1111111111111111, \"#46039f\"], [0.2222222222222222, \"#7201a8\"], [0.3333333333333333, \"#9c179e\"], [0.4444444444444444, \"#bd3786\"], [0.5555555555555556, \"#d8576b\"], [0.6666666666666666, \"#ed7953\"], [0.7777777777777778, \"#fb9f3a\"], [0.8888888888888888, \"#fdca26\"], [1.0, \"#f0f921\"]], \"type\": \"heatmapgl\"}], \"histogram\": [{\"marker\": {\"colorbar\": {\"outlinewidth\": 0, \"ticks\": \"\"}}, \"type\": \"histogram\"}], \"histogram2d\": [{\"colorbar\": {\"outlinewidth\": 0, \"ticks\": \"\"}, \"colorscale\": [[0.0, \"#0d0887\"], [0.1111111111111111, \"#46039f\"], [0.2222222222222222, \"#7201a8\"], [0.3333333333333333, \"#9c179e\"], [0.4444444444444444, \"#bd3786\"], [0.5555555555555556, \"#d8576b\"], [0.6666666666666666, \"#ed7953\"], [0.7777777777777778, \"#fb9f3a\"], [0.8888888888888888, \"#fdca26\"], [1.0, \"#f0f921\"]], \"type\": \"histogram2d\"}], \"histogram2dcontour\": [{\"colorbar\": {\"outlinewidth\": 0, \"ticks\": \"\"}, \"colorscale\": [[0.0, \"#0d0887\"], [0.1111111111111111, \"#46039f\"], [0.2222222222222222, \"#7201a8\"], [0.3333333333333333, \"#9c179e\"], [0.4444444444444444, \"#bd3786\"], [0.5555555555555556, \"#d8576b\"], [0.6666666666666666, \"#ed7953\"], [0.7777777777777778, \"#fb9f3a\"], [0.8888888888888888, \"#fdca26\"], [1.0, \"#f0f921\"]], \"type\": \"histogram2dcontour\"}], \"mesh3d\": [{\"colorbar\": {\"outlinewidth\": 0, \"ticks\": \"\"}, \"type\": \"mesh3d\"}], \"parcoords\": [{\"line\": {\"colorbar\": {\"outlinewidth\": 0, \"ticks\": \"\"}}, \"type\": \"parcoords\"}], \"pie\": [{\"automargin\": true, \"type\": \"pie\"}], \"scatter\": [{\"marker\": {\"colorbar\": {\"outlinewidth\": 0, \"ticks\": \"\"}}, \"type\": \"scatter\"}], \"scatter3d\": [{\"line\": {\"colorbar\": {\"outlinewidth\": 0, \"ticks\": \"\"}}, \"marker\": {\"colorbar\": {\"outlinewidth\": 0, \"ticks\": \"\"}}, \"type\": \"scatter3d\"}], \"scattercarpet\": [{\"marker\": {\"colorbar\": {\"outlinewidth\": 0, \"ticks\": \"\"}}, \"type\": \"scattercarpet\"}], \"scattergeo\": [{\"marker\": {\"colorbar\": {\"outlinewidth\": 0, \"ticks\": \"\"}}, \"type\": \"scattergeo\"}], \"scattergl\": [{\"marker\": {\"colorbar\": {\"outlinewidth\": 0, \"ticks\": \"\"}}, \"type\": \"scattergl\"}], \"scattermapbox\": [{\"marker\": {\"colorbar\": {\"outlinewidth\": 0, \"ticks\": \"\"}}, \"type\": \"scattermapbox\"}], \"scatterpolar\": [{\"marker\": {\"colorbar\": {\"outlinewidth\": 0, \"ticks\": \"\"}}, \"type\": \"scatterpolar\"}], \"scatterpolargl\": [{\"marker\": {\"colorbar\": {\"outlinewidth\": 0, \"ticks\": \"\"}}, \"type\": \"scatterpolargl\"}], \"scatterternary\": [{\"marker\": {\"colorbar\": {\"outlinewidth\": 0, \"ticks\": \"\"}}, \"type\": \"scatterternary\"}], \"surface\": [{\"colorbar\": {\"outlinewidth\": 0, \"ticks\": \"\"}, \"colorscale\": [[0.0, \"#0d0887\"], [0.1111111111111111, \"#46039f\"], [0.2222222222222222, \"#7201a8\"], [0.3333333333333333, \"#9c179e\"], [0.4444444444444444, \"#bd3786\"], [0.5555555555555556, \"#d8576b\"], [0.6666666666666666, \"#ed7953\"], [0.7777777777777778, \"#fb9f3a\"], [0.8888888888888888, \"#fdca26\"], [1.0, \"#f0f921\"]], \"type\": \"surface\"}], \"table\": [{\"cells\": {\"fill\": {\"color\": \"#EBF0F8\"}, \"line\": {\"color\": \"white\"}}, \"header\": {\"fill\": {\"color\": \"#C8D4E3\"}, \"line\": {\"color\": \"white\"}}, \"type\": \"table\"}]}, \"layout\": {\"annotationdefaults\": {\"arrowcolor\": \"#2a3f5f\", \"arrowhead\": 0, \"arrowwidth\": 1}, \"autotypenumbers\": \"strict\", \"coloraxis\": {\"colorbar\": {\"outlinewidth\": 0, \"ticks\": \"\"}}, \"colorscale\": {\"diverging\": [[0, \"#8e0152\"], [0.1, \"#c51b7d\"], [0.2, \"#de77ae\"], [0.3, \"#f1b6da\"], [0.4, \"#fde0ef\"], [0.5, \"#f7f7f7\"], [0.6, \"#e6f5d0\"], [0.7, \"#b8e186\"], [0.8, \"#7fbc41\"], [0.9, \"#4d9221\"], [1, \"#276419\"]], \"sequential\": [[0.0, \"#0d0887\"], [0.1111111111111111, \"#46039f\"], [0.2222222222222222, \"#7201a8\"], [0.3333333333333333, \"#9c179e\"], [0.4444444444444444, \"#bd3786\"], [0.5555555555555556, \"#d8576b\"], [0.6666666666666666, \"#ed7953\"], [0.7777777777777778, \"#fb9f3a\"], [0.8888888888888888, \"#fdca26\"], [1.0, \"#f0f921\"]], \"sequentialminus\": [[0.0, \"#0d0887\"], [0.1111111111111111, \"#46039f\"], [0.2222222222222222, \"#7201a8\"], [0.3333333333333333, \"#9c179e\"], [0.4444444444444444, \"#bd3786\"], [0.5555555555555556, \"#d8576b\"], [0.6666666666666666, \"#ed7953\"], [0.7777777777777778, \"#fb9f3a\"], [0.8888888888888888, \"#fdca26\"], [1.0, \"#f0f921\"]]}, \"colorway\": [\"#636efa\", \"#EF553B\", \"#00cc96\", \"#ab63fa\", \"#FFA15A\", \"#19d3f3\", \"#FF6692\", \"#B6E880\", \"#FF97FF\", \"#FECB52\"], \"font\": {\"color\": \"#2a3f5f\"}, \"geo\": {\"bgcolor\": \"white\", \"lakecolor\": \"white\", \"landcolor\": \"#E5ECF6\", \"showlakes\": true, \"showland\": true, \"subunitcolor\": \"white\"}, \"hoverlabel\": {\"align\": \"left\"}, \"hovermode\": \"closest\", \"mapbox\": {\"style\": \"light\"}, \"paper_bgcolor\": \"white\", \"plot_bgcolor\": \"#E5ECF6\", \"polar\": {\"angularaxis\": {\"gridcolor\": \"white\", \"linecolor\": \"white\", \"ticks\": \"\"}, \"bgcolor\": \"#E5ECF6\", \"radialaxis\": {\"gridcolor\": \"white\", \"linecolor\": \"white\", \"ticks\": \"\"}}, \"scene\": {\"xaxis\": {\"backgroundcolor\": \"#E5ECF6\", \"gridcolor\": \"white\", \"gridwidth\": 2, \"linecolor\": \"white\", \"showbackground\": true, \"ticks\": \"\", \"zerolinecolor\": \"white\"}, \"yaxis\": {\"backgroundcolor\": \"#E5ECF6\", \"gridcolor\": \"white\", \"gridwidth\": 2, \"linecolor\": \"white\", \"showbackground\": true, \"ticks\": \"\", \"zerolinecolor\": \"white\"}, \"zaxis\": {\"backgroundcolor\": \"#E5ECF6\", \"gridcolor\": \"white\", \"gridwidth\": 2, \"linecolor\": \"white\", \"showbackground\": true, \"ticks\": \"\", \"zerolinecolor\": \"white\"}}, \"shapedefaults\": {\"line\": {\"color\": \"#2a3f5f\"}}, \"ternary\": {\"aaxis\": {\"gridcolor\": \"white\", \"linecolor\": \"white\", \"ticks\": \"\"}, \"baxis\": {\"gridcolor\": \"white\", \"linecolor\": \"white\", \"ticks\": \"\"}, \"bgcolor\": \"#E5ECF6\", \"caxis\": {\"gridcolor\": \"white\", \"linecolor\": \"white\", \"ticks\": \"\"}}, \"title\": {\"x\": 0.05}, \"xaxis\": {\"automargin\": true, \"gridcolor\": \"white\", \"linecolor\": \"white\", \"ticks\": \"\", \"title\": {\"standoff\": 15}, \"zerolinecolor\": \"white\", \"zerolinewidth\": 2}, \"yaxis\": {\"automargin\": true, \"gridcolor\": \"white\", \"linecolor\": \"white\", \"ticks\": \"\", \"title\": {\"standoff\": 15}, \"zerolinecolor\": \"white\", \"zerolinewidth\": 2}}}, \"title\": {\"font\": {\"color\": \"#4D5663\"}, \"text\": \"aa\"}, \"xaxis\": {\"gridcolor\": \"#E1E5ED\", \"showgrid\": true, \"tickfont\": {\"color\": \"#4D5663\"}, \"title\": {\"font\": {\"color\": \"#4D5663\"}, \"text\": \"\"}, \"zerolinecolor\": \"#E1E5ED\"}, \"yaxis\": {\"gridcolor\": \"#E1E5ED\", \"showgrid\": true, \"tickfont\": {\"color\": \"#4D5663\"}, \"title\": {\"font\": {\"color\": \"#4D5663\"}, \"text\": \"\"}, \"zerolinecolor\": \"#E1E5ED\"}},                        {\"showLink\": true, \"linkText\": \"Export to plot.ly\", \"plotlyServerURL\": \"https://plot.ly\", \"responsive\": true}                    ).then(function(){\n",
       "                            \n",
       "var gd = document.getElementById('a9d1893f-f1a1-4d29-afcf-8a24b11f5676');\n",
       "var x = new MutationObserver(function (mutations, observer) {{\n",
       "        var display = window.getComputedStyle(gd).display;\n",
       "        if (!display || display === 'none') {{\n",
       "            console.log([gd, 'removed!']);\n",
       "            Plotly.purge(gd);\n",
       "            observer.disconnect();\n",
       "        }}\n",
       "}});\n",
       "\n",
       "// Listen for the removal of the full notebook cells\n",
       "var notebookContainer = gd.closest('#notebook-container');\n",
       "if (notebookContainer) {{\n",
       "    x.observe(notebookContainer, {childList: true});\n",
       "}}\n",
       "\n",
       "// Listen for the clearing of the current output cell\n",
       "var outputEl = gd.closest('.output');\n",
       "if (outputEl) {{\n",
       "    x.observe(outputEl, {childList: true});\n",
       "}}\n",
       "\n",
       "                        })                };                });            </script>        </div>"
      ]
     },
     "metadata": {},
     "output_type": "display_data"
    }
   ],
   "source": [
    "crosstab22.iplot(kind='bar',barmode='stack',title=\"aa\")"
   ]
  },
  {
   "cell_type": "markdown",
   "metadata": {},
   "source": [
    "### Analysis of the timeout situation of each site"
   ]
  },
  {
   "cell_type": "markdown",
   "metadata": {},
   "source": [
    "#### Timeout : C> A> B"
   ]
  },
  {
   "cell_type": "code",
   "execution_count": 41,
   "metadata": {},
   "outputs": [
    {
     "data": {
      "text/html": [
       "<div>\n",
       "<style scoped>\n",
       "    .dataframe tbody tr th:only-of-type {\n",
       "        vertical-align: middle;\n",
       "    }\n",
       "\n",
       "    .dataframe tbody tr th {\n",
       "        vertical-align: top;\n",
       "    }\n",
       "\n",
       "    .dataframe thead th {\n",
       "        text-align: right;\n",
       "    }\n",
       "</style>\n",
       "<table border=\"1\" class=\"dataframe\">\n",
       "  <thead>\n",
       "    <tr style=\"text-align: right;\">\n",
       "      <th></th>\n",
       "      <th>No</th>\n",
       "      <th>Sites</th>\n",
       "      <th>Deliver Name</th>\n",
       "      <th>Rating</th>\n",
       "      <th>Feedback Tag</th>\n",
       "      <th>Pick Up Order Time</th>\n",
       "      <th>Arrival Time</th>\n",
       "      <th>Waiting Time</th>\n",
       "      <th>Deliver Time</th>\n",
       "      <th>N_Total Time</th>\n",
       "      <th>N_Overtime</th>\n",
       "      <th>N_Overtime_group</th>\n",
       "      <th>N_The length of the most time-spending</th>\n",
       "      <th>N_The most spending time part</th>\n",
       "      <th>Customer Feedback Tag</th>\n",
       "      <th>Reviews Category</th>\n",
       "    </tr>\n",
       "  </thead>\n",
       "  <tbody>\n",
       "    <tr>\n",
       "      <th>2</th>\n",
       "      <td>3</td>\n",
       "      <td>Site E</td>\n",
       "      <td>林*健</td>\n",
       "      <td>1</td>\n",
       "      <td>Delivery timeout|Bad attitude</td>\n",
       "      <td>1.45</td>\n",
       "      <td>11.35</td>\n",
       "      <td>0.05</td>\n",
       "      <td>51.88</td>\n",
       "      <td>64.73</td>\n",
       "      <td>34.73</td>\n",
       "      <td>(30.0, 40.0]</td>\n",
       "      <td>51.88</td>\n",
       "      <td>Deliver Time</td>\n",
       "      <td>Delivery timeout</td>\n",
       "      <td>Delivery timeout</td>\n",
       "    </tr>\n",
       "    <tr>\n",
       "      <th>4</th>\n",
       "      <td>5</td>\n",
       "      <td>Site E</td>\n",
       "      <td>黄*灶</td>\n",
       "      <td>1</td>\n",
       "      <td>Delivery timeout</td>\n",
       "      <td>15.80</td>\n",
       "      <td>12.90</td>\n",
       "      <td>7.23</td>\n",
       "      <td>10.18</td>\n",
       "      <td>46.11</td>\n",
       "      <td>16.11</td>\n",
       "      <td>(10.0, 20.0]</td>\n",
       "      <td>15.80</td>\n",
       "      <td>Pick Up Order Time</td>\n",
       "      <td>Delivery timeout</td>\n",
       "      <td>Delivery timeout</td>\n",
       "    </tr>\n",
       "    <tr>\n",
       "      <th>8</th>\n",
       "      <td>9</td>\n",
       "      <td>Site E</td>\n",
       "      <td>钟*林</td>\n",
       "      <td>1</td>\n",
       "      <td>No notice on delivery|Delivery timeout</td>\n",
       "      <td>1.35</td>\n",
       "      <td>8.92</td>\n",
       "      <td>3.65</td>\n",
       "      <td>37.27</td>\n",
       "      <td>51.19</td>\n",
       "      <td>21.19</td>\n",
       "      <td>(20.0, 30.0]</td>\n",
       "      <td>37.27</td>\n",
       "      <td>Deliver Time</td>\n",
       "      <td>Delivery timeout</td>\n",
       "      <td>Delivery timeout</td>\n",
       "    </tr>\n",
       "    <tr>\n",
       "      <th>11</th>\n",
       "      <td>12</td>\n",
       "      <td>Site E</td>\n",
       "      <td>王*杰</td>\n",
       "      <td>1</td>\n",
       "      <td>Delivery timeout|Not enough meals/Bad meal</td>\n",
       "      <td>9.90</td>\n",
       "      <td>12.15</td>\n",
       "      <td>1.62</td>\n",
       "      <td>21.67</td>\n",
       "      <td>45.34</td>\n",
       "      <td>15.34</td>\n",
       "      <td>(10.0, 20.0]</td>\n",
       "      <td>21.67</td>\n",
       "      <td>Deliver Time</td>\n",
       "      <td>Delivery timeout</td>\n",
       "      <td>Delivery timeout</td>\n",
       "    </tr>\n",
       "    <tr>\n",
       "      <th>14</th>\n",
       "      <td>15</td>\n",
       "      <td>Site E</td>\n",
       "      <td>袁*</td>\n",
       "      <td>1</td>\n",
       "      <td>Delivery timeout|Bad attitude|No notice on del...</td>\n",
       "      <td>4.07</td>\n",
       "      <td>18.53</td>\n",
       "      <td>0.12</td>\n",
       "      <td>12.27</td>\n",
       "      <td>34.99</td>\n",
       "      <td>4.99</td>\n",
       "      <td>(0.0, 10.0]</td>\n",
       "      <td>18.53</td>\n",
       "      <td>Arrival Time</td>\n",
       "      <td>Delivery timeout</td>\n",
       "      <td>Delivery timeout</td>\n",
       "    </tr>\n",
       "  </tbody>\n",
       "</table>\n",
       "</div>"
      ],
      "text/plain": [
       "    No   Sites Deliver Name  Rating  \\\n",
       "2    3  Site E          林*健       1   \n",
       "4    5  Site E          黄*灶       1   \n",
       "8    9  Site E          钟*林       1   \n",
       "11  12  Site E          王*杰       1   \n",
       "14  15  Site E           袁*       1   \n",
       "\n",
       "                                         Feedback Tag  Pick Up Order Time  \\\n",
       "2                       Delivery timeout|Bad attitude                1.45   \n",
       "4                                    Delivery timeout               15.80   \n",
       "8              No notice on delivery|Delivery timeout                1.35   \n",
       "11         Delivery timeout|Not enough meals/Bad meal                9.90   \n",
       "14  Delivery timeout|Bad attitude|No notice on del...                4.07   \n",
       "\n",
       "    Arrival Time  Waiting Time  Deliver Time  N_Total Time  N_Overtime  \\\n",
       "2          11.35          0.05         51.88         64.73       34.73   \n",
       "4          12.90          7.23         10.18         46.11       16.11   \n",
       "8           8.92          3.65         37.27         51.19       21.19   \n",
       "11         12.15          1.62         21.67         45.34       15.34   \n",
       "14         18.53          0.12         12.27         34.99        4.99   \n",
       "\n",
       "   N_Overtime_group  N_The length of the most time-spending  \\\n",
       "2      (30.0, 40.0]                                   51.88   \n",
       "4      (10.0, 20.0]                                   15.80   \n",
       "8      (20.0, 30.0]                                   37.27   \n",
       "11     (10.0, 20.0]                                   21.67   \n",
       "14      (0.0, 10.0]                                   18.53   \n",
       "\n",
       "   N_The most spending time part Customer Feedback Tag  Reviews Category  \n",
       "2                   Deliver Time      Delivery timeout  Delivery timeout  \n",
       "4             Pick Up Order Time      Delivery timeout  Delivery timeout  \n",
       "8                   Deliver Time      Delivery timeout  Delivery timeout  \n",
       "11                  Deliver Time      Delivery timeout  Delivery timeout  \n",
       "14                  Arrival Time      Delivery timeout  Delivery timeout  "
      ]
     },
     "execution_count": 41,
     "metadata": {},
     "output_type": "execute_result"
    }
   ],
   "source": [
    "\n",
    "sub=data_explode[data_explode['Reviews Category']=='Delivery timeout']\n",
    "sub.head(5)"
   ]
  },
  {
   "cell_type": "code",
   "execution_count": 43,
   "metadata": {},
   "outputs": [
    {
     "data": {
      "application/vnd.plotly.v1+json": {
       "config": {
        "plotlyServerURL": "https://plot.ly"
       },
       "data": [
        {
         "alignmentgroup": "True",
         "bingroup": "x",
         "hovertemplate": "Sites=Site E<br>N_Total Time=%{x}<br>count=%{y}<extra></extra>",
         "legendgroup": "Site E",
         "marker": {
          "color": "#636efa"
         },
         "name": "Site E",
         "offsetgroup": "Site E",
         "orientation": "v",
         "showlegend": true,
         "type": "histogram",
         "x": [
          64.73,
          46.11000000000001,
          51.190000000000005,
          45.34,
          34.99,
          32.37,
          35.3,
          65.41
         ],
         "xaxis": "x",
         "yaxis": "y"
        },
        {
         "alignmentgroup": "True",
         "hovertemplate": "Sites=Site E<br>N_Total Time=%{x}<extra></extra>",
         "legendgroup": "Site E",
         "marker": {
          "color": "#636efa"
         },
         "name": "Site E",
         "notched": true,
         "offsetgroup": "Site E",
         "showlegend": false,
         "type": "box",
         "x": [
          64.73,
          46.11000000000001,
          51.190000000000005,
          45.34,
          34.99,
          32.37,
          35.3,
          65.41
         ],
         "xaxis": "x2",
         "yaxis": "y2"
        },
        {
         "alignmentgroup": "True",
         "bingroup": "x",
         "hovertemplate": "Sites=Site F<br>N_Total Time=%{x}<br>count=%{y}<extra></extra>",
         "legendgroup": "Site F",
         "marker": {
          "color": "#EF553B"
         },
         "name": "Site F",
         "offsetgroup": "Site F",
         "orientation": "v",
         "showlegend": true,
         "type": "histogram",
         "x": [
          41.56,
          62.03,
          40.519999999999996,
          47.75,
          60.89,
          42.09,
          69.97,
          28.54,
          46.69,
          82.47,
          41.269999999999996,
          38.4,
          33.07,
          39.040000000000006,
          61.34,
          34.57,
          48.23
         ],
         "xaxis": "x",
         "yaxis": "y"
        },
        {
         "alignmentgroup": "True",
         "hovertemplate": "Sites=Site F<br>N_Total Time=%{x}<extra></extra>",
         "legendgroup": "Site F",
         "marker": {
          "color": "#EF553B"
         },
         "name": "Site F",
         "notched": true,
         "offsetgroup": "Site F",
         "showlegend": false,
         "type": "box",
         "x": [
          41.56,
          62.03,
          40.519999999999996,
          47.75,
          60.89,
          42.09,
          69.97,
          28.54,
          46.69,
          82.47,
          41.269999999999996,
          38.4,
          33.07,
          39.040000000000006,
          61.34,
          34.57,
          48.23
         ],
         "xaxis": "x2",
         "yaxis": "y2"
        },
        {
         "alignmentgroup": "True",
         "bingroup": "x",
         "hovertemplate": "Sites=Site C<br>N_Total Time=%{x}<br>count=%{y}<extra></extra>",
         "legendgroup": "Site C",
         "marker": {
          "color": "#00cc96"
         },
         "name": "Site C",
         "offsetgroup": "Site C",
         "orientation": "v",
         "showlegend": true,
         "type": "histogram",
         "x": [
          17.89,
          76.73,
          39.65,
          13.44,
          37.959999999999994,
          76.15,
          53.2,
          44.12,
          63.55,
          55.440000000000005,
          80.02,
          36.660000000000004,
          59.15,
          74.93,
          24.43,
          42.11,
          63.08,
          49.88,
          17.03,
          66.92,
          15.05,
          59.22,
          40.910000000000004,
          82.17,
          57.75,
          38.61,
          59.85,
          36.01,
          32.99,
          65.99,
          28.97,
          46.72,
          56.5,
          62.43,
          45.45,
          40.519999999999996,
          45.22,
          33.6,
          45.690000000000005,
          50.98,
          51.73,
          37.14,
          32.25,
          87.24000000000001,
          28.720000000000002,
          38.38,
          24.560000000000002,
          67.12,
          51.33,
          43.13,
          46.489999999999995,
          68.75,
          50.65,
          52.379999999999995,
          63.87,
          48.85,
          45.01,
          43.43,
          76.93,
          69.67,
          67.51,
          57.06999999999999,
          40,
          47.75
         ],
         "xaxis": "x",
         "yaxis": "y"
        },
        {
         "alignmentgroup": "True",
         "hovertemplate": "Sites=Site C<br>N_Total Time=%{x}<extra></extra>",
         "legendgroup": "Site C",
         "marker": {
          "color": "#00cc96"
         },
         "name": "Site C",
         "notched": true,
         "offsetgroup": "Site C",
         "showlegend": false,
         "type": "box",
         "x": [
          17.89,
          76.73,
          39.65,
          13.44,
          37.959999999999994,
          76.15,
          53.2,
          44.12,
          63.55,
          55.440000000000005,
          80.02,
          36.660000000000004,
          59.15,
          74.93,
          24.43,
          42.11,
          63.08,
          49.88,
          17.03,
          66.92,
          15.05,
          59.22,
          40.910000000000004,
          82.17,
          57.75,
          38.61,
          59.85,
          36.01,
          32.99,
          65.99,
          28.97,
          46.72,
          56.5,
          62.43,
          45.45,
          40.519999999999996,
          45.22,
          33.6,
          45.690000000000005,
          50.98,
          51.73,
          37.14,
          32.25,
          87.24000000000001,
          28.720000000000002,
          38.38,
          24.560000000000002,
          67.12,
          51.33,
          43.13,
          46.489999999999995,
          68.75,
          50.65,
          52.379999999999995,
          63.87,
          48.85,
          45.01,
          43.43,
          76.93,
          69.67,
          67.51,
          57.06999999999999,
          40,
          47.75
         ],
         "xaxis": "x2",
         "yaxis": "y2"
        },
        {
         "alignmentgroup": "True",
         "bingroup": "x",
         "hovertemplate": "Sites=Site A<br>N_Total Time=%{x}<br>count=%{y}<extra></extra>",
         "legendgroup": "Site A",
         "marker": {
          "color": "#ab63fa"
         },
         "name": "Site A",
         "offsetgroup": "Site A",
         "orientation": "v",
         "showlegend": true,
         "type": "histogram",
         "x": [
          48.33,
          48.45,
          48.019999999999996,
          28.500000000000007,
          41.86,
          41.55,
          53.1,
          33.93,
          60.769999999999996,
          26.83,
          61.4,
          52.53,
          29.33,
          39.64,
          60.81,
          59.790000000000006,
          9.98,
          32.15,
          32,
          16.88,
          36.84,
          38.27,
          42,
          34.55,
          24.96,
          38.19,
          44.03,
          35.86,
          32.65,
          41.1,
          62.39,
          66.69999999999999,
          37.35,
          34.64,
          35.8,
          65.54,
          57.64,
          51.61,
          35.68,
          64.77,
          37.95,
          49.290000000000006
         ],
         "xaxis": "x",
         "yaxis": "y"
        },
        {
         "alignmentgroup": "True",
         "hovertemplate": "Sites=Site A<br>N_Total Time=%{x}<extra></extra>",
         "legendgroup": "Site A",
         "marker": {
          "color": "#ab63fa"
         },
         "name": "Site A",
         "notched": true,
         "offsetgroup": "Site A",
         "showlegend": false,
         "type": "box",
         "x": [
          48.33,
          48.45,
          48.019999999999996,
          28.500000000000007,
          41.86,
          41.55,
          53.1,
          33.93,
          60.769999999999996,
          26.83,
          61.4,
          52.53,
          29.33,
          39.64,
          60.81,
          59.790000000000006,
          9.98,
          32.15,
          32,
          16.88,
          36.84,
          38.27,
          42,
          34.55,
          24.96,
          38.19,
          44.03,
          35.86,
          32.65,
          41.1,
          62.39,
          66.69999999999999,
          37.35,
          34.64,
          35.8,
          65.54,
          57.64,
          51.61,
          35.68,
          64.77,
          37.95,
          49.290000000000006
         ],
         "xaxis": "x2",
         "yaxis": "y2"
        },
        {
         "alignmentgroup": "True",
         "bingroup": "x",
         "hovertemplate": "Sites=Site D<br>N_Total Time=%{x}<br>count=%{y}<extra></extra>",
         "legendgroup": "Site D",
         "marker": {
          "color": "#FFA15A"
         },
         "name": "Site D",
         "offsetgroup": "Site D",
         "orientation": "v",
         "showlegend": true,
         "type": "histogram",
         "x": [
          33.62,
          49.79,
          28.88,
          77.12,
          40.629999999999995,
          31.869999999999997,
          1.1,
          51.25,
          33.57,
          50.16,
          56.24,
          32.13,
          55.599999999999994,
          39.06999999999999,
          38.900000000000006,
          43.47,
          47.09,
          51.440000000000005
         ],
         "xaxis": "x",
         "yaxis": "y"
        },
        {
         "alignmentgroup": "True",
         "hovertemplate": "Sites=Site D<br>N_Total Time=%{x}<extra></extra>",
         "legendgroup": "Site D",
         "marker": {
          "color": "#FFA15A"
         },
         "name": "Site D",
         "notched": true,
         "offsetgroup": "Site D",
         "showlegend": false,
         "type": "box",
         "x": [
          33.62,
          49.79,
          28.88,
          77.12,
          40.629999999999995,
          31.869999999999997,
          1.1,
          51.25,
          33.57,
          50.16,
          56.24,
          32.13,
          55.599999999999994,
          39.06999999999999,
          38.900000000000006,
          43.47,
          47.09,
          51.440000000000005
         ],
         "xaxis": "x2",
         "yaxis": "y2"
        },
        {
         "alignmentgroup": "True",
         "bingroup": "x",
         "hovertemplate": "Sites=Site B<br>N_Total Time=%{x}<br>count=%{y}<extra></extra>",
         "legendgroup": "Site B",
         "marker": {
          "color": "#19d3f3"
         },
         "name": "Site B",
         "offsetgroup": "Site B",
         "orientation": "v",
         "showlegend": true,
         "type": "histogram",
         "x": [
          42.95,
          68.33,
          53.08,
          38.55,
          46.08,
          80.12,
          69.28999999999999,
          45.43,
          16.34,
          88.22,
          43.22,
          44.56,
          61.76,
          35.900000000000006,
          45.66,
          41.01,
          40.379999999999995,
          46.010000000000005,
          46.75,
          47.34,
          57.67,
          46.02,
          68.85,
          56.510000000000005,
          35.79,
          70.65,
          41.77,
          51.43,
          40.5,
          78.46000000000001,
          37.41,
          25.119999999999997,
          44.370000000000005,
          51.06,
          36.28,
          47.61,
          64.57,
          18.97,
          24.14,
          34.13
         ],
         "xaxis": "x",
         "yaxis": "y"
        },
        {
         "alignmentgroup": "True",
         "hovertemplate": "Sites=Site B<br>N_Total Time=%{x}<extra></extra>",
         "legendgroup": "Site B",
         "marker": {
          "color": "#19d3f3"
         },
         "name": "Site B",
         "notched": true,
         "offsetgroup": "Site B",
         "showlegend": false,
         "type": "box",
         "x": [
          42.95,
          68.33,
          53.08,
          38.55,
          46.08,
          80.12,
          69.28999999999999,
          45.43,
          16.34,
          88.22,
          43.22,
          44.56,
          61.76,
          35.900000000000006,
          45.66,
          41.01,
          40.379999999999995,
          46.010000000000005,
          46.75,
          47.34,
          57.67,
          46.02,
          68.85,
          56.510000000000005,
          35.79,
          70.65,
          41.77,
          51.43,
          40.5,
          78.46000000000001,
          37.41,
          25.119999999999997,
          44.370000000000005,
          51.06,
          36.28,
          47.61,
          64.57,
          18.97,
          24.14,
          34.13
         ],
         "xaxis": "x2",
         "yaxis": "y2"
        }
       ],
       "layout": {
        "barmode": "relative",
        "legend": {
         "title": {
          "text": "Sites"
         },
         "tracegroupgap": 0
        },
        "margin": {
         "t": 60
        },
        "template": {
         "data": {
          "bar": [
           {
            "error_x": {
             "color": "#2a3f5f"
            },
            "error_y": {
             "color": "#2a3f5f"
            },
            "marker": {
             "line": {
              "color": "#E5ECF6",
              "width": 0.5
             }
            },
            "type": "bar"
           }
          ],
          "barpolar": [
           {
            "marker": {
             "line": {
              "color": "#E5ECF6",
              "width": 0.5
             }
            },
            "type": "barpolar"
           }
          ],
          "carpet": [
           {
            "aaxis": {
             "endlinecolor": "#2a3f5f",
             "gridcolor": "white",
             "linecolor": "white",
             "minorgridcolor": "white",
             "startlinecolor": "#2a3f5f"
            },
            "baxis": {
             "endlinecolor": "#2a3f5f",
             "gridcolor": "white",
             "linecolor": "white",
             "minorgridcolor": "white",
             "startlinecolor": "#2a3f5f"
            },
            "type": "carpet"
           }
          ],
          "choropleth": [
           {
            "colorbar": {
             "outlinewidth": 0,
             "ticks": ""
            },
            "type": "choropleth"
           }
          ],
          "contour": [
           {
            "colorbar": {
             "outlinewidth": 0,
             "ticks": ""
            },
            "colorscale": [
             [
              0,
              "#0d0887"
             ],
             [
              0.1111111111111111,
              "#46039f"
             ],
             [
              0.2222222222222222,
              "#7201a8"
             ],
             [
              0.3333333333333333,
              "#9c179e"
             ],
             [
              0.4444444444444444,
              "#bd3786"
             ],
             [
              0.5555555555555556,
              "#d8576b"
             ],
             [
              0.6666666666666666,
              "#ed7953"
             ],
             [
              0.7777777777777778,
              "#fb9f3a"
             ],
             [
              0.8888888888888888,
              "#fdca26"
             ],
             [
              1,
              "#f0f921"
             ]
            ],
            "type": "contour"
           }
          ],
          "contourcarpet": [
           {
            "colorbar": {
             "outlinewidth": 0,
             "ticks": ""
            },
            "type": "contourcarpet"
           }
          ],
          "heatmap": [
           {
            "colorbar": {
             "outlinewidth": 0,
             "ticks": ""
            },
            "colorscale": [
             [
              0,
              "#0d0887"
             ],
             [
              0.1111111111111111,
              "#46039f"
             ],
             [
              0.2222222222222222,
              "#7201a8"
             ],
             [
              0.3333333333333333,
              "#9c179e"
             ],
             [
              0.4444444444444444,
              "#bd3786"
             ],
             [
              0.5555555555555556,
              "#d8576b"
             ],
             [
              0.6666666666666666,
              "#ed7953"
             ],
             [
              0.7777777777777778,
              "#fb9f3a"
             ],
             [
              0.8888888888888888,
              "#fdca26"
             ],
             [
              1,
              "#f0f921"
             ]
            ],
            "type": "heatmap"
           }
          ],
          "heatmapgl": [
           {
            "colorbar": {
             "outlinewidth": 0,
             "ticks": ""
            },
            "colorscale": [
             [
              0,
              "#0d0887"
             ],
             [
              0.1111111111111111,
              "#46039f"
             ],
             [
              0.2222222222222222,
              "#7201a8"
             ],
             [
              0.3333333333333333,
              "#9c179e"
             ],
             [
              0.4444444444444444,
              "#bd3786"
             ],
             [
              0.5555555555555556,
              "#d8576b"
             ],
             [
              0.6666666666666666,
              "#ed7953"
             ],
             [
              0.7777777777777778,
              "#fb9f3a"
             ],
             [
              0.8888888888888888,
              "#fdca26"
             ],
             [
              1,
              "#f0f921"
             ]
            ],
            "type": "heatmapgl"
           }
          ],
          "histogram": [
           {
            "marker": {
             "colorbar": {
              "outlinewidth": 0,
              "ticks": ""
             }
            },
            "type": "histogram"
           }
          ],
          "histogram2d": [
           {
            "colorbar": {
             "outlinewidth": 0,
             "ticks": ""
            },
            "colorscale": [
             [
              0,
              "#0d0887"
             ],
             [
              0.1111111111111111,
              "#46039f"
             ],
             [
              0.2222222222222222,
              "#7201a8"
             ],
             [
              0.3333333333333333,
              "#9c179e"
             ],
             [
              0.4444444444444444,
              "#bd3786"
             ],
             [
              0.5555555555555556,
              "#d8576b"
             ],
             [
              0.6666666666666666,
              "#ed7953"
             ],
             [
              0.7777777777777778,
              "#fb9f3a"
             ],
             [
              0.8888888888888888,
              "#fdca26"
             ],
             [
              1,
              "#f0f921"
             ]
            ],
            "type": "histogram2d"
           }
          ],
          "histogram2dcontour": [
           {
            "colorbar": {
             "outlinewidth": 0,
             "ticks": ""
            },
            "colorscale": [
             [
              0,
              "#0d0887"
             ],
             [
              0.1111111111111111,
              "#46039f"
             ],
             [
              0.2222222222222222,
              "#7201a8"
             ],
             [
              0.3333333333333333,
              "#9c179e"
             ],
             [
              0.4444444444444444,
              "#bd3786"
             ],
             [
              0.5555555555555556,
              "#d8576b"
             ],
             [
              0.6666666666666666,
              "#ed7953"
             ],
             [
              0.7777777777777778,
              "#fb9f3a"
             ],
             [
              0.8888888888888888,
              "#fdca26"
             ],
             [
              1,
              "#f0f921"
             ]
            ],
            "type": "histogram2dcontour"
           }
          ],
          "mesh3d": [
           {
            "colorbar": {
             "outlinewidth": 0,
             "ticks": ""
            },
            "type": "mesh3d"
           }
          ],
          "parcoords": [
           {
            "line": {
             "colorbar": {
              "outlinewidth": 0,
              "ticks": ""
             }
            },
            "type": "parcoords"
           }
          ],
          "pie": [
           {
            "automargin": true,
            "type": "pie"
           }
          ],
          "scatter": [
           {
            "marker": {
             "colorbar": {
              "outlinewidth": 0,
              "ticks": ""
             }
            },
            "type": "scatter"
           }
          ],
          "scatter3d": [
           {
            "line": {
             "colorbar": {
              "outlinewidth": 0,
              "ticks": ""
             }
            },
            "marker": {
             "colorbar": {
              "outlinewidth": 0,
              "ticks": ""
             }
            },
            "type": "scatter3d"
           }
          ],
          "scattercarpet": [
           {
            "marker": {
             "colorbar": {
              "outlinewidth": 0,
              "ticks": ""
             }
            },
            "type": "scattercarpet"
           }
          ],
          "scattergeo": [
           {
            "marker": {
             "colorbar": {
              "outlinewidth": 0,
              "ticks": ""
             }
            },
            "type": "scattergeo"
           }
          ],
          "scattergl": [
           {
            "marker": {
             "colorbar": {
              "outlinewidth": 0,
              "ticks": ""
             }
            },
            "type": "scattergl"
           }
          ],
          "scattermapbox": [
           {
            "marker": {
             "colorbar": {
              "outlinewidth": 0,
              "ticks": ""
             }
            },
            "type": "scattermapbox"
           }
          ],
          "scatterpolar": [
           {
            "marker": {
             "colorbar": {
              "outlinewidth": 0,
              "ticks": ""
             }
            },
            "type": "scatterpolar"
           }
          ],
          "scatterpolargl": [
           {
            "marker": {
             "colorbar": {
              "outlinewidth": 0,
              "ticks": ""
             }
            },
            "type": "scatterpolargl"
           }
          ],
          "scatterternary": [
           {
            "marker": {
             "colorbar": {
              "outlinewidth": 0,
              "ticks": ""
             }
            },
            "type": "scatterternary"
           }
          ],
          "surface": [
           {
            "colorbar": {
             "outlinewidth": 0,
             "ticks": ""
            },
            "colorscale": [
             [
              0,
              "#0d0887"
             ],
             [
              0.1111111111111111,
              "#46039f"
             ],
             [
              0.2222222222222222,
              "#7201a8"
             ],
             [
              0.3333333333333333,
              "#9c179e"
             ],
             [
              0.4444444444444444,
              "#bd3786"
             ],
             [
              0.5555555555555556,
              "#d8576b"
             ],
             [
              0.6666666666666666,
              "#ed7953"
             ],
             [
              0.7777777777777778,
              "#fb9f3a"
             ],
             [
              0.8888888888888888,
              "#fdca26"
             ],
             [
              1,
              "#f0f921"
             ]
            ],
            "type": "surface"
           }
          ],
          "table": [
           {
            "cells": {
             "fill": {
              "color": "#EBF0F8"
             },
             "line": {
              "color": "white"
             }
            },
            "header": {
             "fill": {
              "color": "#C8D4E3"
             },
             "line": {
              "color": "white"
             }
            },
            "type": "table"
           }
          ]
         },
         "layout": {
          "annotationdefaults": {
           "arrowcolor": "#2a3f5f",
           "arrowhead": 0,
           "arrowwidth": 1
          },
          "autotypenumbers": "strict",
          "coloraxis": {
           "colorbar": {
            "outlinewidth": 0,
            "ticks": ""
           }
          },
          "colorscale": {
           "diverging": [
            [
             0,
             "#8e0152"
            ],
            [
             0.1,
             "#c51b7d"
            ],
            [
             0.2,
             "#de77ae"
            ],
            [
             0.3,
             "#f1b6da"
            ],
            [
             0.4,
             "#fde0ef"
            ],
            [
             0.5,
             "#f7f7f7"
            ],
            [
             0.6,
             "#e6f5d0"
            ],
            [
             0.7,
             "#b8e186"
            ],
            [
             0.8,
             "#7fbc41"
            ],
            [
             0.9,
             "#4d9221"
            ],
            [
             1,
             "#276419"
            ]
           ],
           "sequential": [
            [
             0,
             "#0d0887"
            ],
            [
             0.1111111111111111,
             "#46039f"
            ],
            [
             0.2222222222222222,
             "#7201a8"
            ],
            [
             0.3333333333333333,
             "#9c179e"
            ],
            [
             0.4444444444444444,
             "#bd3786"
            ],
            [
             0.5555555555555556,
             "#d8576b"
            ],
            [
             0.6666666666666666,
             "#ed7953"
            ],
            [
             0.7777777777777778,
             "#fb9f3a"
            ],
            [
             0.8888888888888888,
             "#fdca26"
            ],
            [
             1,
             "#f0f921"
            ]
           ],
           "sequentialminus": [
            [
             0,
             "#0d0887"
            ],
            [
             0.1111111111111111,
             "#46039f"
            ],
            [
             0.2222222222222222,
             "#7201a8"
            ],
            [
             0.3333333333333333,
             "#9c179e"
            ],
            [
             0.4444444444444444,
             "#bd3786"
            ],
            [
             0.5555555555555556,
             "#d8576b"
            ],
            [
             0.6666666666666666,
             "#ed7953"
            ],
            [
             0.7777777777777778,
             "#fb9f3a"
            ],
            [
             0.8888888888888888,
             "#fdca26"
            ],
            [
             1,
             "#f0f921"
            ]
           ]
          },
          "colorway": [
           "#636efa",
           "#EF553B",
           "#00cc96",
           "#ab63fa",
           "#FFA15A",
           "#19d3f3",
           "#FF6692",
           "#B6E880",
           "#FF97FF",
           "#FECB52"
          ],
          "font": {
           "color": "#2a3f5f"
          },
          "geo": {
           "bgcolor": "white",
           "lakecolor": "white",
           "landcolor": "#E5ECF6",
           "showlakes": true,
           "showland": true,
           "subunitcolor": "white"
          },
          "hoverlabel": {
           "align": "left"
          },
          "hovermode": "closest",
          "mapbox": {
           "style": "light"
          },
          "paper_bgcolor": "white",
          "plot_bgcolor": "#E5ECF6",
          "polar": {
           "angularaxis": {
            "gridcolor": "white",
            "linecolor": "white",
            "ticks": ""
           },
           "bgcolor": "#E5ECF6",
           "radialaxis": {
            "gridcolor": "white",
            "linecolor": "white",
            "ticks": ""
           }
          },
          "scene": {
           "xaxis": {
            "backgroundcolor": "#E5ECF6",
            "gridcolor": "white",
            "gridwidth": 2,
            "linecolor": "white",
            "showbackground": true,
            "ticks": "",
            "zerolinecolor": "white"
           },
           "yaxis": {
            "backgroundcolor": "#E5ECF6",
            "gridcolor": "white",
            "gridwidth": 2,
            "linecolor": "white",
            "showbackground": true,
            "ticks": "",
            "zerolinecolor": "white"
           },
           "zaxis": {
            "backgroundcolor": "#E5ECF6",
            "gridcolor": "white",
            "gridwidth": 2,
            "linecolor": "white",
            "showbackground": true,
            "ticks": "",
            "zerolinecolor": "white"
           }
          },
          "shapedefaults": {
           "line": {
            "color": "#2a3f5f"
           }
          },
          "ternary": {
           "aaxis": {
            "gridcolor": "white",
            "linecolor": "white",
            "ticks": ""
           },
           "baxis": {
            "gridcolor": "white",
            "linecolor": "white",
            "ticks": ""
           },
           "bgcolor": "#E5ECF6",
           "caxis": {
            "gridcolor": "white",
            "linecolor": "white",
            "ticks": ""
           }
          },
          "title": {
           "x": 0.05
          },
          "xaxis": {
           "automargin": true,
           "gridcolor": "white",
           "linecolor": "white",
           "ticks": "",
           "title": {
            "standoff": 15
           },
           "zerolinecolor": "white",
           "zerolinewidth": 2
          },
          "yaxis": {
           "automargin": true,
           "gridcolor": "white",
           "linecolor": "white",
           "ticks": "",
           "title": {
            "standoff": 15
           },
           "zerolinecolor": "white",
           "zerolinewidth": 2
          }
         }
        },
        "xaxis": {
         "anchor": "y",
         "domain": [
          0,
          1
         ],
         "title": {
          "text": "N_Total Time"
         }
        },
        "xaxis2": {
         "anchor": "y2",
         "domain": [
          0,
          1
         ],
         "matches": "x",
         "showgrid": true,
         "showticklabels": false
        },
        "yaxis": {
         "anchor": "x",
         "domain": [
          0,
          0.7326
         ],
         "title": {
          "text": "count"
         }
        },
        "yaxis2": {
         "anchor": "x2",
         "domain": [
          0.7426,
          1
         ],
         "matches": "y2",
         "showgrid": false,
         "showline": false,
         "showticklabels": false,
         "ticks": ""
        }
       }
      },
      "text/html": [
       "<div>                            <div id=\"85fa0cca-eed1-4c29-b409-10f328cc939b\" class=\"plotly-graph-div\" style=\"height:525px; width:100%;\"></div>            <script type=\"text/javascript\">                require([\"plotly\"], function(Plotly) {                    window.PLOTLYENV=window.PLOTLYENV || {};                                    if (document.getElementById(\"85fa0cca-eed1-4c29-b409-10f328cc939b\")) {                    Plotly.newPlot(                        \"85fa0cca-eed1-4c29-b409-10f328cc939b\",                        [{\"alignmentgroup\": \"True\", \"bingroup\": \"x\", \"hovertemplate\": \"Sites=Site E<br>N_Total Time=%{x}<br>count=%{y}<extra></extra>\", \"legendgroup\": \"Site E\", \"marker\": {\"color\": \"#636efa\"}, \"name\": \"Site E\", \"offsetgroup\": \"Site E\", \"orientation\": \"v\", \"showlegend\": true, \"type\": \"histogram\", \"x\": [64.73, 46.11000000000001, 51.190000000000005, 45.34, 34.99, 32.37, 35.3, 65.41], \"xaxis\": \"x\", \"yaxis\": \"y\"}, {\"alignmentgroup\": \"True\", \"hovertemplate\": \"Sites=Site E<br>N_Total Time=%{x}<extra></extra>\", \"legendgroup\": \"Site E\", \"marker\": {\"color\": \"#636efa\"}, \"name\": \"Site E\", \"notched\": true, \"offsetgroup\": \"Site E\", \"showlegend\": false, \"type\": \"box\", \"x\": [64.73, 46.11000000000001, 51.190000000000005, 45.34, 34.99, 32.37, 35.3, 65.41], \"xaxis\": \"x2\", \"yaxis\": \"y2\"}, {\"alignmentgroup\": \"True\", \"bingroup\": \"x\", \"hovertemplate\": \"Sites=Site F<br>N_Total Time=%{x}<br>count=%{y}<extra></extra>\", \"legendgroup\": \"Site F\", \"marker\": {\"color\": \"#EF553B\"}, \"name\": \"Site F\", \"offsetgroup\": \"Site F\", \"orientation\": \"v\", \"showlegend\": true, \"type\": \"histogram\", \"x\": [41.56, 62.03, 40.519999999999996, 47.75, 60.89, 42.09, 69.97, 28.54, 46.69, 82.47, 41.269999999999996, 38.4, 33.07, 39.040000000000006, 61.34, 34.57, 48.23], \"xaxis\": \"x\", \"yaxis\": \"y\"}, {\"alignmentgroup\": \"True\", \"hovertemplate\": \"Sites=Site F<br>N_Total Time=%{x}<extra></extra>\", \"legendgroup\": \"Site F\", \"marker\": {\"color\": \"#EF553B\"}, \"name\": \"Site F\", \"notched\": true, \"offsetgroup\": \"Site F\", \"showlegend\": false, \"type\": \"box\", \"x\": [41.56, 62.03, 40.519999999999996, 47.75, 60.89, 42.09, 69.97, 28.54, 46.69, 82.47, 41.269999999999996, 38.4, 33.07, 39.040000000000006, 61.34, 34.57, 48.23], \"xaxis\": \"x2\", \"yaxis\": \"y2\"}, {\"alignmentgroup\": \"True\", \"bingroup\": \"x\", \"hovertemplate\": \"Sites=Site C<br>N_Total Time=%{x}<br>count=%{y}<extra></extra>\", \"legendgroup\": \"Site C\", \"marker\": {\"color\": \"#00cc96\"}, \"name\": \"Site C\", \"offsetgroup\": \"Site C\", \"orientation\": \"v\", \"showlegend\": true, \"type\": \"histogram\", \"x\": [17.89, 76.73, 39.65, 13.44, 37.959999999999994, 76.15, 53.2, 44.12, 63.55, 55.440000000000005, 80.02, 36.660000000000004, 59.15, 74.93, 24.43, 42.11, 63.08, 49.88, 17.03, 66.92, 15.05, 59.22, 40.910000000000004, 82.17, 57.75, 38.61, 59.85, 36.01, 32.99, 65.99, 28.97, 46.72, 56.5, 62.43, 45.45, 40.519999999999996, 45.22, 33.6, 45.690000000000005, 50.98, 51.73, 37.14, 32.25, 87.24000000000001, 28.720000000000002, 38.38, 24.560000000000002, 67.12, 51.33, 43.13, 46.489999999999995, 68.75, 50.65, 52.379999999999995, 63.87, 48.85, 45.01, 43.43, 76.93, 69.67, 67.51, 57.06999999999999, 40.0, 47.75], \"xaxis\": \"x\", \"yaxis\": \"y\"}, {\"alignmentgroup\": \"True\", \"hovertemplate\": \"Sites=Site C<br>N_Total Time=%{x}<extra></extra>\", \"legendgroup\": \"Site C\", \"marker\": {\"color\": \"#00cc96\"}, \"name\": \"Site C\", \"notched\": true, \"offsetgroup\": \"Site C\", \"showlegend\": false, \"type\": \"box\", \"x\": [17.89, 76.73, 39.65, 13.44, 37.959999999999994, 76.15, 53.2, 44.12, 63.55, 55.440000000000005, 80.02, 36.660000000000004, 59.15, 74.93, 24.43, 42.11, 63.08, 49.88, 17.03, 66.92, 15.05, 59.22, 40.910000000000004, 82.17, 57.75, 38.61, 59.85, 36.01, 32.99, 65.99, 28.97, 46.72, 56.5, 62.43, 45.45, 40.519999999999996, 45.22, 33.6, 45.690000000000005, 50.98, 51.73, 37.14, 32.25, 87.24000000000001, 28.720000000000002, 38.38, 24.560000000000002, 67.12, 51.33, 43.13, 46.489999999999995, 68.75, 50.65, 52.379999999999995, 63.87, 48.85, 45.01, 43.43, 76.93, 69.67, 67.51, 57.06999999999999, 40.0, 47.75], \"xaxis\": \"x2\", \"yaxis\": \"y2\"}, {\"alignmentgroup\": \"True\", \"bingroup\": \"x\", \"hovertemplate\": \"Sites=Site A<br>N_Total Time=%{x}<br>count=%{y}<extra></extra>\", \"legendgroup\": \"Site A\", \"marker\": {\"color\": \"#ab63fa\"}, \"name\": \"Site A\", \"offsetgroup\": \"Site A\", \"orientation\": \"v\", \"showlegend\": true, \"type\": \"histogram\", \"x\": [48.33, 48.45, 48.019999999999996, 28.500000000000007, 41.86, 41.55, 53.1, 33.93, 60.769999999999996, 26.83, 61.4, 52.53, 29.33, 39.64, 60.81, 59.790000000000006, 9.98, 32.15, 32.0, 16.88, 36.84, 38.27, 42.0, 34.55, 24.96, 38.19, 44.03, 35.86, 32.65, 41.1, 62.39, 66.69999999999999, 37.35, 34.64, 35.8, 65.54, 57.64, 51.61, 35.68, 64.77, 37.95, 49.290000000000006], \"xaxis\": \"x\", \"yaxis\": \"y\"}, {\"alignmentgroup\": \"True\", \"hovertemplate\": \"Sites=Site A<br>N_Total Time=%{x}<extra></extra>\", \"legendgroup\": \"Site A\", \"marker\": {\"color\": \"#ab63fa\"}, \"name\": \"Site A\", \"notched\": true, \"offsetgroup\": \"Site A\", \"showlegend\": false, \"type\": \"box\", \"x\": [48.33, 48.45, 48.019999999999996, 28.500000000000007, 41.86, 41.55, 53.1, 33.93, 60.769999999999996, 26.83, 61.4, 52.53, 29.33, 39.64, 60.81, 59.790000000000006, 9.98, 32.15, 32.0, 16.88, 36.84, 38.27, 42.0, 34.55, 24.96, 38.19, 44.03, 35.86, 32.65, 41.1, 62.39, 66.69999999999999, 37.35, 34.64, 35.8, 65.54, 57.64, 51.61, 35.68, 64.77, 37.95, 49.290000000000006], \"xaxis\": \"x2\", \"yaxis\": \"y2\"}, {\"alignmentgroup\": \"True\", \"bingroup\": \"x\", \"hovertemplate\": \"Sites=Site D<br>N_Total Time=%{x}<br>count=%{y}<extra></extra>\", \"legendgroup\": \"Site D\", \"marker\": {\"color\": \"#FFA15A\"}, \"name\": \"Site D\", \"offsetgroup\": \"Site D\", \"orientation\": \"v\", \"showlegend\": true, \"type\": \"histogram\", \"x\": [33.62, 49.79, 28.88, 77.12, 40.629999999999995, 31.869999999999997, 1.1, 51.25, 33.57, 50.16, 56.24, 32.13, 55.599999999999994, 39.06999999999999, 38.900000000000006, 43.47, 47.09, 51.440000000000005], \"xaxis\": \"x\", \"yaxis\": \"y\"}, {\"alignmentgroup\": \"True\", \"hovertemplate\": \"Sites=Site D<br>N_Total Time=%{x}<extra></extra>\", \"legendgroup\": \"Site D\", \"marker\": {\"color\": \"#FFA15A\"}, \"name\": \"Site D\", \"notched\": true, \"offsetgroup\": \"Site D\", \"showlegend\": false, \"type\": \"box\", \"x\": [33.62, 49.79, 28.88, 77.12, 40.629999999999995, 31.869999999999997, 1.1, 51.25, 33.57, 50.16, 56.24, 32.13, 55.599999999999994, 39.06999999999999, 38.900000000000006, 43.47, 47.09, 51.440000000000005], \"xaxis\": \"x2\", \"yaxis\": \"y2\"}, {\"alignmentgroup\": \"True\", \"bingroup\": \"x\", \"hovertemplate\": \"Sites=Site B<br>N_Total Time=%{x}<br>count=%{y}<extra></extra>\", \"legendgroup\": \"Site B\", \"marker\": {\"color\": \"#19d3f3\"}, \"name\": \"Site B\", \"offsetgroup\": \"Site B\", \"orientation\": \"v\", \"showlegend\": true, \"type\": \"histogram\", \"x\": [42.95, 68.33, 53.08, 38.55, 46.08, 80.12, 69.28999999999999, 45.43, 16.34, 88.22, 43.22, 44.56, 61.76, 35.900000000000006, 45.66, 41.01, 40.379999999999995, 46.010000000000005, 46.75, 47.34, 57.67, 46.02, 68.85, 56.510000000000005, 35.79, 70.65, 41.77, 51.43, 40.5, 78.46000000000001, 37.41, 25.119999999999997, 44.370000000000005, 51.06, 36.28, 47.61, 64.57, 18.97, 24.14, 34.13], \"xaxis\": \"x\", \"yaxis\": \"y\"}, {\"alignmentgroup\": \"True\", \"hovertemplate\": \"Sites=Site B<br>N_Total Time=%{x}<extra></extra>\", \"legendgroup\": \"Site B\", \"marker\": {\"color\": \"#19d3f3\"}, \"name\": \"Site B\", \"notched\": true, \"offsetgroup\": \"Site B\", \"showlegend\": false, \"type\": \"box\", \"x\": [42.95, 68.33, 53.08, 38.55, 46.08, 80.12, 69.28999999999999, 45.43, 16.34, 88.22, 43.22, 44.56, 61.76, 35.900000000000006, 45.66, 41.01, 40.379999999999995, 46.010000000000005, 46.75, 47.34, 57.67, 46.02, 68.85, 56.510000000000005, 35.79, 70.65, 41.77, 51.43, 40.5, 78.46000000000001, 37.41, 25.119999999999997, 44.370000000000005, 51.06, 36.28, 47.61, 64.57, 18.97, 24.14, 34.13], \"xaxis\": \"x2\", \"yaxis\": \"y2\"}],                        {\"barmode\": \"relative\", \"legend\": {\"title\": {\"text\": \"Sites\"}, \"tracegroupgap\": 0}, \"margin\": {\"t\": 60}, \"template\": {\"data\": {\"bar\": [{\"error_x\": {\"color\": \"#2a3f5f\"}, \"error_y\": {\"color\": \"#2a3f5f\"}, \"marker\": {\"line\": {\"color\": \"#E5ECF6\", \"width\": 0.5}}, \"type\": \"bar\"}], \"barpolar\": [{\"marker\": {\"line\": {\"color\": \"#E5ECF6\", \"width\": 0.5}}, \"type\": \"barpolar\"}], \"carpet\": [{\"aaxis\": {\"endlinecolor\": \"#2a3f5f\", \"gridcolor\": \"white\", \"linecolor\": \"white\", \"minorgridcolor\": \"white\", \"startlinecolor\": \"#2a3f5f\"}, \"baxis\": {\"endlinecolor\": \"#2a3f5f\", \"gridcolor\": \"white\", \"linecolor\": \"white\", \"minorgridcolor\": \"white\", \"startlinecolor\": \"#2a3f5f\"}, \"type\": \"carpet\"}], \"choropleth\": [{\"colorbar\": {\"outlinewidth\": 0, \"ticks\": \"\"}, \"type\": \"choropleth\"}], \"contour\": [{\"colorbar\": {\"outlinewidth\": 0, \"ticks\": \"\"}, \"colorscale\": [[0.0, \"#0d0887\"], [0.1111111111111111, \"#46039f\"], [0.2222222222222222, \"#7201a8\"], [0.3333333333333333, \"#9c179e\"], [0.4444444444444444, \"#bd3786\"], [0.5555555555555556, \"#d8576b\"], [0.6666666666666666, \"#ed7953\"], [0.7777777777777778, \"#fb9f3a\"], [0.8888888888888888, \"#fdca26\"], [1.0, \"#f0f921\"]], \"type\": \"contour\"}], \"contourcarpet\": [{\"colorbar\": {\"outlinewidth\": 0, \"ticks\": \"\"}, \"type\": \"contourcarpet\"}], \"heatmap\": [{\"colorbar\": {\"outlinewidth\": 0, \"ticks\": \"\"}, \"colorscale\": [[0.0, \"#0d0887\"], [0.1111111111111111, \"#46039f\"], [0.2222222222222222, \"#7201a8\"], [0.3333333333333333, \"#9c179e\"], [0.4444444444444444, \"#bd3786\"], [0.5555555555555556, \"#d8576b\"], [0.6666666666666666, \"#ed7953\"], [0.7777777777777778, \"#fb9f3a\"], [0.8888888888888888, \"#fdca26\"], [1.0, \"#f0f921\"]], \"type\": \"heatmap\"}], \"heatmapgl\": [{\"colorbar\": {\"outlinewidth\": 0, \"ticks\": \"\"}, \"colorscale\": [[0.0, \"#0d0887\"], [0.1111111111111111, \"#46039f\"], [0.2222222222222222, \"#7201a8\"], [0.3333333333333333, \"#9c179e\"], [0.4444444444444444, \"#bd3786\"], [0.5555555555555556, \"#d8576b\"], [0.6666666666666666, \"#ed7953\"], [0.7777777777777778, \"#fb9f3a\"], [0.8888888888888888, \"#fdca26\"], [1.0, \"#f0f921\"]], \"type\": \"heatmapgl\"}], \"histogram\": [{\"marker\": {\"colorbar\": {\"outlinewidth\": 0, \"ticks\": \"\"}}, \"type\": \"histogram\"}], \"histogram2d\": [{\"colorbar\": {\"outlinewidth\": 0, \"ticks\": \"\"}, \"colorscale\": [[0.0, \"#0d0887\"], [0.1111111111111111, \"#46039f\"], [0.2222222222222222, \"#7201a8\"], [0.3333333333333333, \"#9c179e\"], [0.4444444444444444, \"#bd3786\"], [0.5555555555555556, \"#d8576b\"], [0.6666666666666666, \"#ed7953\"], [0.7777777777777778, \"#fb9f3a\"], [0.8888888888888888, \"#fdca26\"], [1.0, \"#f0f921\"]], \"type\": \"histogram2d\"}], \"histogram2dcontour\": [{\"colorbar\": {\"outlinewidth\": 0, \"ticks\": \"\"}, \"colorscale\": [[0.0, \"#0d0887\"], [0.1111111111111111, \"#46039f\"], [0.2222222222222222, \"#7201a8\"], [0.3333333333333333, \"#9c179e\"], [0.4444444444444444, \"#bd3786\"], [0.5555555555555556, \"#d8576b\"], [0.6666666666666666, \"#ed7953\"], [0.7777777777777778, \"#fb9f3a\"], [0.8888888888888888, \"#fdca26\"], [1.0, \"#f0f921\"]], \"type\": \"histogram2dcontour\"}], \"mesh3d\": [{\"colorbar\": {\"outlinewidth\": 0, \"ticks\": \"\"}, \"type\": \"mesh3d\"}], \"parcoords\": [{\"line\": {\"colorbar\": {\"outlinewidth\": 0, \"ticks\": \"\"}}, \"type\": \"parcoords\"}], \"pie\": [{\"automargin\": true, \"type\": \"pie\"}], \"scatter\": [{\"marker\": {\"colorbar\": {\"outlinewidth\": 0, \"ticks\": \"\"}}, \"type\": \"scatter\"}], \"scatter3d\": [{\"line\": {\"colorbar\": {\"outlinewidth\": 0, \"ticks\": \"\"}}, \"marker\": {\"colorbar\": {\"outlinewidth\": 0, \"ticks\": \"\"}}, \"type\": \"scatter3d\"}], \"scattercarpet\": [{\"marker\": {\"colorbar\": {\"outlinewidth\": 0, \"ticks\": \"\"}}, \"type\": \"scattercarpet\"}], \"scattergeo\": [{\"marker\": {\"colorbar\": {\"outlinewidth\": 0, \"ticks\": \"\"}}, \"type\": \"scattergeo\"}], \"scattergl\": [{\"marker\": {\"colorbar\": {\"outlinewidth\": 0, \"ticks\": \"\"}}, \"type\": \"scattergl\"}], \"scattermapbox\": [{\"marker\": {\"colorbar\": {\"outlinewidth\": 0, \"ticks\": \"\"}}, \"type\": \"scattermapbox\"}], \"scatterpolar\": [{\"marker\": {\"colorbar\": {\"outlinewidth\": 0, \"ticks\": \"\"}}, \"type\": \"scatterpolar\"}], \"scatterpolargl\": [{\"marker\": {\"colorbar\": {\"outlinewidth\": 0, \"ticks\": \"\"}}, \"type\": \"scatterpolargl\"}], \"scatterternary\": [{\"marker\": {\"colorbar\": {\"outlinewidth\": 0, \"ticks\": \"\"}}, \"type\": \"scatterternary\"}], \"surface\": [{\"colorbar\": {\"outlinewidth\": 0, \"ticks\": \"\"}, \"colorscale\": [[0.0, \"#0d0887\"], [0.1111111111111111, \"#46039f\"], [0.2222222222222222, \"#7201a8\"], [0.3333333333333333, \"#9c179e\"], [0.4444444444444444, \"#bd3786\"], [0.5555555555555556, \"#d8576b\"], [0.6666666666666666, \"#ed7953\"], [0.7777777777777778, \"#fb9f3a\"], [0.8888888888888888, \"#fdca26\"], [1.0, \"#f0f921\"]], \"type\": \"surface\"}], \"table\": [{\"cells\": {\"fill\": {\"color\": \"#EBF0F8\"}, \"line\": {\"color\": \"white\"}}, \"header\": {\"fill\": {\"color\": \"#C8D4E3\"}, \"line\": {\"color\": \"white\"}}, \"type\": \"table\"}]}, \"layout\": {\"annotationdefaults\": {\"arrowcolor\": \"#2a3f5f\", \"arrowhead\": 0, \"arrowwidth\": 1}, \"autotypenumbers\": \"strict\", \"coloraxis\": {\"colorbar\": {\"outlinewidth\": 0, \"ticks\": \"\"}}, \"colorscale\": {\"diverging\": [[0, \"#8e0152\"], [0.1, \"#c51b7d\"], [0.2, \"#de77ae\"], [0.3, \"#f1b6da\"], [0.4, \"#fde0ef\"], [0.5, \"#f7f7f7\"], [0.6, \"#e6f5d0\"], [0.7, \"#b8e186\"], [0.8, \"#7fbc41\"], [0.9, \"#4d9221\"], [1, \"#276419\"]], \"sequential\": [[0.0, \"#0d0887\"], [0.1111111111111111, \"#46039f\"], [0.2222222222222222, \"#7201a8\"], [0.3333333333333333, \"#9c179e\"], [0.4444444444444444, \"#bd3786\"], [0.5555555555555556, \"#d8576b\"], [0.6666666666666666, \"#ed7953\"], [0.7777777777777778, \"#fb9f3a\"], [0.8888888888888888, \"#fdca26\"], [1.0, \"#f0f921\"]], \"sequentialminus\": [[0.0, \"#0d0887\"], [0.1111111111111111, \"#46039f\"], [0.2222222222222222, \"#7201a8\"], [0.3333333333333333, \"#9c179e\"], [0.4444444444444444, \"#bd3786\"], [0.5555555555555556, \"#d8576b\"], [0.6666666666666666, \"#ed7953\"], [0.7777777777777778, \"#fb9f3a\"], [0.8888888888888888, \"#fdca26\"], [1.0, \"#f0f921\"]]}, \"colorway\": [\"#636efa\", \"#EF553B\", \"#00cc96\", \"#ab63fa\", \"#FFA15A\", \"#19d3f3\", \"#FF6692\", \"#B6E880\", \"#FF97FF\", \"#FECB52\"], \"font\": {\"color\": \"#2a3f5f\"}, \"geo\": {\"bgcolor\": \"white\", \"lakecolor\": \"white\", \"landcolor\": \"#E5ECF6\", \"showlakes\": true, \"showland\": true, \"subunitcolor\": \"white\"}, \"hoverlabel\": {\"align\": \"left\"}, \"hovermode\": \"closest\", \"mapbox\": {\"style\": \"light\"}, \"paper_bgcolor\": \"white\", \"plot_bgcolor\": \"#E5ECF6\", \"polar\": {\"angularaxis\": {\"gridcolor\": \"white\", \"linecolor\": \"white\", \"ticks\": \"\"}, \"bgcolor\": \"#E5ECF6\", \"radialaxis\": {\"gridcolor\": \"white\", \"linecolor\": \"white\", \"ticks\": \"\"}}, \"scene\": {\"xaxis\": {\"backgroundcolor\": \"#E5ECF6\", \"gridcolor\": \"white\", \"gridwidth\": 2, \"linecolor\": \"white\", \"showbackground\": true, \"ticks\": \"\", \"zerolinecolor\": \"white\"}, \"yaxis\": {\"backgroundcolor\": \"#E5ECF6\", \"gridcolor\": \"white\", \"gridwidth\": 2, \"linecolor\": \"white\", \"showbackground\": true, \"ticks\": \"\", \"zerolinecolor\": \"white\"}, \"zaxis\": {\"backgroundcolor\": \"#E5ECF6\", \"gridcolor\": \"white\", \"gridwidth\": 2, \"linecolor\": \"white\", \"showbackground\": true, \"ticks\": \"\", \"zerolinecolor\": \"white\"}}, \"shapedefaults\": {\"line\": {\"color\": \"#2a3f5f\"}}, \"ternary\": {\"aaxis\": {\"gridcolor\": \"white\", \"linecolor\": \"white\", \"ticks\": \"\"}, \"baxis\": {\"gridcolor\": \"white\", \"linecolor\": \"white\", \"ticks\": \"\"}, \"bgcolor\": \"#E5ECF6\", \"caxis\": {\"gridcolor\": \"white\", \"linecolor\": \"white\", \"ticks\": \"\"}}, \"title\": {\"x\": 0.05}, \"xaxis\": {\"automargin\": true, \"gridcolor\": \"white\", \"linecolor\": \"white\", \"ticks\": \"\", \"title\": {\"standoff\": 15}, \"zerolinecolor\": \"white\", \"zerolinewidth\": 2}, \"yaxis\": {\"automargin\": true, \"gridcolor\": \"white\", \"linecolor\": \"white\", \"ticks\": \"\", \"title\": {\"standoff\": 15}, \"zerolinecolor\": \"white\", \"zerolinewidth\": 2}}}, \"xaxis\": {\"anchor\": \"y\", \"domain\": [0.0, 1.0], \"title\": {\"text\": \"N_Total Time\"}}, \"xaxis2\": {\"anchor\": \"y2\", \"domain\": [0.0, 1.0], \"matches\": \"x\", \"showgrid\": true, \"showticklabels\": false}, \"yaxis\": {\"anchor\": \"x\", \"domain\": [0.0, 0.7326], \"title\": {\"text\": \"count\"}}, \"yaxis2\": {\"anchor\": \"x2\", \"domain\": [0.7426, 1.0], \"matches\": \"y2\", \"showgrid\": false, \"showline\": false, \"showticklabels\": false, \"ticks\": \"\"}},                        {\"responsive\": true}                    ).then(function(){\n",
       "                            \n",
       "var gd = document.getElementById('85fa0cca-eed1-4c29-b409-10f328cc939b');\n",
       "var x = new MutationObserver(function (mutations, observer) {{\n",
       "        var display = window.getComputedStyle(gd).display;\n",
       "        if (!display || display === 'none') {{\n",
       "            console.log([gd, 'removed!']);\n",
       "            Plotly.purge(gd);\n",
       "            observer.disconnect();\n",
       "        }}\n",
       "}});\n",
       "\n",
       "// Listen for the removal of the full notebook cells\n",
       "var notebookContainer = gd.closest('#notebook-container');\n",
       "if (notebookContainer) {{\n",
       "    x.observe(notebookContainer, {childList: true});\n",
       "}}\n",
       "\n",
       "// Listen for the clearing of the current output cell\n",
       "var outputEl = gd.closest('.output');\n",
       "if (outputEl) {{\n",
       "    x.observe(outputEl, {childList: true});\n",
       "}}\n",
       "\n",
       "                        })                };                });            </script>        </div>"
      ]
     },
     "metadata": {},
     "output_type": "display_data"
    }
   ],
   "source": [
    "fig = px.histogram(sub, x=\"N_Total Time\", color=\"Sites\",marginal=\"box\")\n",
    "fig.show()"
   ]
  },
  {
   "cell_type": "markdown",
   "metadata": {},
   "source": [
    "#### Timeout main part"
   ]
  },
  {
   "cell_type": "code",
   "execution_count": 44,
   "metadata": {},
   "outputs": [
    {
     "data": {
      "text/html": [
       "<div>\n",
       "<style scoped>\n",
       "    .dataframe tbody tr th:only-of-type {\n",
       "        vertical-align: middle;\n",
       "    }\n",
       "\n",
       "    .dataframe tbody tr th {\n",
       "        vertical-align: top;\n",
       "    }\n",
       "\n",
       "    .dataframe thead th {\n",
       "        text-align: right;\n",
       "    }\n",
       "</style>\n",
       "<table border=\"1\" class=\"dataframe\">\n",
       "  <thead>\n",
       "    <tr style=\"text-align: right;\">\n",
       "      <th></th>\n",
       "      <th>No</th>\n",
       "      <th>Sites</th>\n",
       "      <th>Deliver Name</th>\n",
       "      <th>Rating</th>\n",
       "      <th>Feedback Tag</th>\n",
       "      <th>Pick Up Order Time</th>\n",
       "      <th>Arrival Time</th>\n",
       "      <th>Waiting Time</th>\n",
       "      <th>Deliver Time</th>\n",
       "      <th>N_Total Time</th>\n",
       "      <th>N_Overtime</th>\n",
       "      <th>N_Overtime_group</th>\n",
       "      <th>N_The length of the most time-spending</th>\n",
       "      <th>N_The most spending time part</th>\n",
       "      <th>Customer Feedback Tag</th>\n",
       "      <th>Reviews Category</th>\n",
       "    </tr>\n",
       "  </thead>\n",
       "  <tbody>\n",
       "    <tr>\n",
       "      <th>1</th>\n",
       "      <td>2</td>\n",
       "      <td>Site E</td>\n",
       "      <td>张*安</td>\n",
       "      <td>1</td>\n",
       "      <td>Others</td>\n",
       "      <td>0.07</td>\n",
       "      <td>6.87</td>\n",
       "      <td>1.93</td>\n",
       "      <td>6.30</td>\n",
       "      <td>15.17</td>\n",
       "      <td>-14.83</td>\n",
       "      <td>(-20.0, -10.0]</td>\n",
       "      <td>6.87</td>\n",
       "      <td>Arrival Time</td>\n",
       "      <td>Others</td>\n",
       "      <td>Others</td>\n",
       "    </tr>\n",
       "    <tr>\n",
       "      <th>2</th>\n",
       "      <td>3</td>\n",
       "      <td>Site E</td>\n",
       "      <td>林*健</td>\n",
       "      <td>1</td>\n",
       "      <td>Delivery timeout|Bad attitude</td>\n",
       "      <td>1.45</td>\n",
       "      <td>11.35</td>\n",
       "      <td>0.05</td>\n",
       "      <td>51.88</td>\n",
       "      <td>64.73</td>\n",
       "      <td>34.73</td>\n",
       "      <td>(30.0, 40.0]</td>\n",
       "      <td>51.88</td>\n",
       "      <td>Deliver Time</td>\n",
       "      <td>Delivery timeout</td>\n",
       "      <td>Delivery timeout</td>\n",
       "    </tr>\n",
       "    <tr>\n",
       "      <th>2</th>\n",
       "      <td>3</td>\n",
       "      <td>Site E</td>\n",
       "      <td>林*健</td>\n",
       "      <td>1</td>\n",
       "      <td>Delivery timeout|Bad attitude</td>\n",
       "      <td>1.45</td>\n",
       "      <td>11.35</td>\n",
       "      <td>0.05</td>\n",
       "      <td>51.88</td>\n",
       "      <td>64.73</td>\n",
       "      <td>34.73</td>\n",
       "      <td>(30.0, 40.0]</td>\n",
       "      <td>51.88</td>\n",
       "      <td>Deliver Time</td>\n",
       "      <td>Bad attitude</td>\n",
       "      <td>Professional attitude</td>\n",
       "    </tr>\n",
       "  </tbody>\n",
       "</table>\n",
       "</div>"
      ],
      "text/plain": [
       "   No   Sites Deliver Name  Rating                   Feedback Tag  \\\n",
       "1   2  Site E          张*安       1                         Others   \n",
       "2   3  Site E          林*健       1  Delivery timeout|Bad attitude   \n",
       "2   3  Site E          林*健       1  Delivery timeout|Bad attitude   \n",
       "\n",
       "   Pick Up Order Time  Arrival Time  Waiting Time  Deliver Time  N_Total Time  \\\n",
       "1                0.07          6.87          1.93          6.30         15.17   \n",
       "2                1.45         11.35          0.05         51.88         64.73   \n",
       "2                1.45         11.35          0.05         51.88         64.73   \n",
       "\n",
       "   N_Overtime N_Overtime_group  N_The length of the most time-spending  \\\n",
       "1      -14.83   (-20.0, -10.0]                                    6.87   \n",
       "2       34.73     (30.0, 40.0]                                   51.88   \n",
       "2       34.73     (30.0, 40.0]                                   51.88   \n",
       "\n",
       "  N_The most spending time part Customer Feedback Tag       Reviews Category  \n",
       "1                  Arrival Time                Others                 Others  \n",
       "2                  Deliver Time      Delivery timeout       Delivery timeout  \n",
       "2                  Deliver Time          Bad attitude  Professional attitude  "
      ]
     },
     "execution_count": 44,
     "metadata": {},
     "output_type": "execute_result"
    }
   ],
   "source": [
    "data_explode.head(3)"
   ]
  },
  {
   "cell_type": "code",
   "execution_count": 47,
   "metadata": {},
   "outputs": [],
   "source": [
    "# Distribution of negative reviews on each site\n",
    "sub2=pd.crosstab(index=data_explode['Sites'],columns=data_explode['N_The most spending time part'],\n",
    "                 values=data_explode['Rating'],\n",
    "                 aggfunc='sum').round(0).fillna(0).astype('int')"
   ]
  },
  {
   "cell_type": "code",
   "execution_count": 48,
   "metadata": {},
   "outputs": [
    {
     "data": {
      "text/html": [
       "<div>\n",
       "<style scoped>\n",
       "    .dataframe tbody tr th:only-of-type {\n",
       "        vertical-align: middle;\n",
       "    }\n",
       "\n",
       "    .dataframe tbody tr th {\n",
       "        vertical-align: top;\n",
       "    }\n",
       "\n",
       "    .dataframe thead th {\n",
       "        text-align: right;\n",
       "    }\n",
       "</style>\n",
       "<table border=\"1\" class=\"dataframe\">\n",
       "  <thead>\n",
       "    <tr style=\"text-align: right;\">\n",
       "      <th>N_The most spending time part</th>\n",
       "      <th>Arrival Time</th>\n",
       "      <th>Deliver Time</th>\n",
       "      <th>Pick Up Order Time</th>\n",
       "      <th>Waiting Time</th>\n",
       "    </tr>\n",
       "    <tr>\n",
       "      <th>Sites</th>\n",
       "      <th></th>\n",
       "      <th></th>\n",
       "      <th></th>\n",
       "      <th></th>\n",
       "    </tr>\n",
       "  </thead>\n",
       "  <tbody>\n",
       "    <tr>\n",
       "      <th>Site A</th>\n",
       "      <td>17.837838</td>\n",
       "      <td>77.297297</td>\n",
       "      <td>1.081081</td>\n",
       "      <td>3.783784</td>\n",
       "    </tr>\n",
       "    <tr>\n",
       "      <th>Site B</th>\n",
       "      <td>8.333333</td>\n",
       "      <td>84.090909</td>\n",
       "      <td>0.000000</td>\n",
       "      <td>7.575758</td>\n",
       "    </tr>\n",
       "    <tr>\n",
       "      <th>Site C</th>\n",
       "      <td>17.543860</td>\n",
       "      <td>78.070175</td>\n",
       "      <td>1.315789</td>\n",
       "      <td>3.070175</td>\n",
       "    </tr>\n",
       "    <tr>\n",
       "      <th>Site D</th>\n",
       "      <td>24.193548</td>\n",
       "      <td>70.967742</td>\n",
       "      <td>1.612903</td>\n",
       "      <td>3.225806</td>\n",
       "    </tr>\n",
       "    <tr>\n",
       "      <th>Site E</th>\n",
       "      <td>18.181818</td>\n",
       "      <td>75.757576</td>\n",
       "      <td>6.060606</td>\n",
       "      <td>0.000000</td>\n",
       "    </tr>\n",
       "    <tr>\n",
       "      <th>Site F</th>\n",
       "      <td>8.333333</td>\n",
       "      <td>89.583333</td>\n",
       "      <td>0.000000</td>\n",
       "      <td>2.083333</td>\n",
       "    </tr>\n",
       "  </tbody>\n",
       "</table>\n",
       "</div>"
      ],
      "text/plain": [
       "N_The most spending time part  Arrival Time  Deliver Time  Pick Up Order Time  \\\n",
       "Sites                                                                           \n",
       "Site A                            17.837838     77.297297            1.081081   \n",
       "Site B                             8.333333     84.090909            0.000000   \n",
       "Site C                            17.543860     78.070175            1.315789   \n",
       "Site D                            24.193548     70.967742            1.612903   \n",
       "Site E                            18.181818     75.757576            6.060606   \n",
       "Site F                             8.333333     89.583333            0.000000   \n",
       "\n",
       "N_The most spending time part  Waiting Time  \n",
       "Sites                                        \n",
       "Site A                             3.783784  \n",
       "Site B                             7.575758  \n",
       "Site C                             3.070175  \n",
       "Site D                             3.225806  \n",
       "Site E                             0.000000  \n",
       "Site F                             2.083333  "
      ]
     },
     "execution_count": 48,
     "metadata": {},
     "output_type": "execute_result"
    }
   ],
   "source": [
    "#### Proportion of timeout distribution\n",
    "sub22=sub2.apply(lambda x: x/sub2.sum(axis=1))*100\n",
    "sub22.style.background_gradient(cmap='Greens')\n",
    "sub22"
   ]
  },
  {
   "cell_type": "code",
   "execution_count": 49,
   "metadata": {},
   "outputs": [
    {
     "data": {
      "application/vnd.plotly.v1+json": {
       "config": {
        "linkText": "Export to plot.ly",
        "plotlyServerURL": "https://plot.ly",
        "showLink": true
       },
       "data": [
        {
         "marker": {
          "color": "rgba(255, 153, 51, 0.6)",
          "line": {
           "color": "rgba(255, 153, 51, 1.0)",
           "width": 1
          }
         },
         "name": "Arrival Time",
         "orientation": "v",
         "text": "",
         "type": "bar",
         "x": [
          "Site A",
          "Site B",
          "Site C",
          "Site D",
          "Site E",
          "Site F"
         ],
         "y": [
          17.83783783783784,
          8.333333333333332,
          17.543859649122805,
          24.193548387096776,
          18.181818181818183,
          8.333333333333332
         ]
        },
        {
         "marker": {
          "color": "rgba(55, 128, 191, 0.6)",
          "line": {
           "color": "rgba(55, 128, 191, 1.0)",
           "width": 1
          }
         },
         "name": "Deliver Time",
         "orientation": "v",
         "text": "",
         "type": "bar",
         "x": [
          "Site A",
          "Site B",
          "Site C",
          "Site D",
          "Site E",
          "Site F"
         ],
         "y": [
          77.29729729729729,
          84.0909090909091,
          78.0701754385965,
          70.96774193548387,
          75.75757575757575,
          89.58333333333334
         ]
        },
        {
         "marker": {
          "color": "rgba(50, 171, 96, 0.6)",
          "line": {
           "color": "rgba(50, 171, 96, 1.0)",
           "width": 1
          }
         },
         "name": "Pick Up Order Time",
         "orientation": "v",
         "text": "",
         "type": "bar",
         "x": [
          "Site A",
          "Site B",
          "Site C",
          "Site D",
          "Site E",
          "Site F"
         ],
         "y": [
          1.0810810810810811,
          0,
          1.3157894736842104,
          1.6129032258064515,
          6.0606060606060606,
          0
         ]
        },
        {
         "marker": {
          "color": "rgba(128, 0, 128, 0.6)",
          "line": {
           "color": "rgba(128, 0, 128, 1.0)",
           "width": 1
          }
         },
         "name": "Waiting Time",
         "orientation": "v",
         "text": "",
         "type": "bar",
         "x": [
          "Site A",
          "Site B",
          "Site C",
          "Site D",
          "Site E",
          "Site F"
         ],
         "y": [
          3.783783783783784,
          7.575757575757576,
          3.070175438596491,
          3.225806451612903,
          0,
          2.083333333333333
         ]
        }
       ],
       "layout": {
        "barmode": "stack",
        "legend": {
         "bgcolor": "#F5F6F9",
         "font": {
          "color": "#4D5663"
         },
         "traceorder": "normal"
        },
        "paper_bgcolor": "#F5F6F9",
        "plot_bgcolor": "#F5F6F9",
        "template": {
         "data": {
          "bar": [
           {
            "error_x": {
             "color": "#2a3f5f"
            },
            "error_y": {
             "color": "#2a3f5f"
            },
            "marker": {
             "line": {
              "color": "#E5ECF6",
              "width": 0.5
             }
            },
            "type": "bar"
           }
          ],
          "barpolar": [
           {
            "marker": {
             "line": {
              "color": "#E5ECF6",
              "width": 0.5
             }
            },
            "type": "barpolar"
           }
          ],
          "carpet": [
           {
            "aaxis": {
             "endlinecolor": "#2a3f5f",
             "gridcolor": "white",
             "linecolor": "white",
             "minorgridcolor": "white",
             "startlinecolor": "#2a3f5f"
            },
            "baxis": {
             "endlinecolor": "#2a3f5f",
             "gridcolor": "white",
             "linecolor": "white",
             "minorgridcolor": "white",
             "startlinecolor": "#2a3f5f"
            },
            "type": "carpet"
           }
          ],
          "choropleth": [
           {
            "colorbar": {
             "outlinewidth": 0,
             "ticks": ""
            },
            "type": "choropleth"
           }
          ],
          "contour": [
           {
            "colorbar": {
             "outlinewidth": 0,
             "ticks": ""
            },
            "colorscale": [
             [
              0,
              "#0d0887"
             ],
             [
              0.1111111111111111,
              "#46039f"
             ],
             [
              0.2222222222222222,
              "#7201a8"
             ],
             [
              0.3333333333333333,
              "#9c179e"
             ],
             [
              0.4444444444444444,
              "#bd3786"
             ],
             [
              0.5555555555555556,
              "#d8576b"
             ],
             [
              0.6666666666666666,
              "#ed7953"
             ],
             [
              0.7777777777777778,
              "#fb9f3a"
             ],
             [
              0.8888888888888888,
              "#fdca26"
             ],
             [
              1,
              "#f0f921"
             ]
            ],
            "type": "contour"
           }
          ],
          "contourcarpet": [
           {
            "colorbar": {
             "outlinewidth": 0,
             "ticks": ""
            },
            "type": "contourcarpet"
           }
          ],
          "heatmap": [
           {
            "colorbar": {
             "outlinewidth": 0,
             "ticks": ""
            },
            "colorscale": [
             [
              0,
              "#0d0887"
             ],
             [
              0.1111111111111111,
              "#46039f"
             ],
             [
              0.2222222222222222,
              "#7201a8"
             ],
             [
              0.3333333333333333,
              "#9c179e"
             ],
             [
              0.4444444444444444,
              "#bd3786"
             ],
             [
              0.5555555555555556,
              "#d8576b"
             ],
             [
              0.6666666666666666,
              "#ed7953"
             ],
             [
              0.7777777777777778,
              "#fb9f3a"
             ],
             [
              0.8888888888888888,
              "#fdca26"
             ],
             [
              1,
              "#f0f921"
             ]
            ],
            "type": "heatmap"
           }
          ],
          "heatmapgl": [
           {
            "colorbar": {
             "outlinewidth": 0,
             "ticks": ""
            },
            "colorscale": [
             [
              0,
              "#0d0887"
             ],
             [
              0.1111111111111111,
              "#46039f"
             ],
             [
              0.2222222222222222,
              "#7201a8"
             ],
             [
              0.3333333333333333,
              "#9c179e"
             ],
             [
              0.4444444444444444,
              "#bd3786"
             ],
             [
              0.5555555555555556,
              "#d8576b"
             ],
             [
              0.6666666666666666,
              "#ed7953"
             ],
             [
              0.7777777777777778,
              "#fb9f3a"
             ],
             [
              0.8888888888888888,
              "#fdca26"
             ],
             [
              1,
              "#f0f921"
             ]
            ],
            "type": "heatmapgl"
           }
          ],
          "histogram": [
           {
            "marker": {
             "colorbar": {
              "outlinewidth": 0,
              "ticks": ""
             }
            },
            "type": "histogram"
           }
          ],
          "histogram2d": [
           {
            "colorbar": {
             "outlinewidth": 0,
             "ticks": ""
            },
            "colorscale": [
             [
              0,
              "#0d0887"
             ],
             [
              0.1111111111111111,
              "#46039f"
             ],
             [
              0.2222222222222222,
              "#7201a8"
             ],
             [
              0.3333333333333333,
              "#9c179e"
             ],
             [
              0.4444444444444444,
              "#bd3786"
             ],
             [
              0.5555555555555556,
              "#d8576b"
             ],
             [
              0.6666666666666666,
              "#ed7953"
             ],
             [
              0.7777777777777778,
              "#fb9f3a"
             ],
             [
              0.8888888888888888,
              "#fdca26"
             ],
             [
              1,
              "#f0f921"
             ]
            ],
            "type": "histogram2d"
           }
          ],
          "histogram2dcontour": [
           {
            "colorbar": {
             "outlinewidth": 0,
             "ticks": ""
            },
            "colorscale": [
             [
              0,
              "#0d0887"
             ],
             [
              0.1111111111111111,
              "#46039f"
             ],
             [
              0.2222222222222222,
              "#7201a8"
             ],
             [
              0.3333333333333333,
              "#9c179e"
             ],
             [
              0.4444444444444444,
              "#bd3786"
             ],
             [
              0.5555555555555556,
              "#d8576b"
             ],
             [
              0.6666666666666666,
              "#ed7953"
             ],
             [
              0.7777777777777778,
              "#fb9f3a"
             ],
             [
              0.8888888888888888,
              "#fdca26"
             ],
             [
              1,
              "#f0f921"
             ]
            ],
            "type": "histogram2dcontour"
           }
          ],
          "mesh3d": [
           {
            "colorbar": {
             "outlinewidth": 0,
             "ticks": ""
            },
            "type": "mesh3d"
           }
          ],
          "parcoords": [
           {
            "line": {
             "colorbar": {
              "outlinewidth": 0,
              "ticks": ""
             }
            },
            "type": "parcoords"
           }
          ],
          "pie": [
           {
            "automargin": true,
            "type": "pie"
           }
          ],
          "scatter": [
           {
            "marker": {
             "colorbar": {
              "outlinewidth": 0,
              "ticks": ""
             }
            },
            "type": "scatter"
           }
          ],
          "scatter3d": [
           {
            "line": {
             "colorbar": {
              "outlinewidth": 0,
              "ticks": ""
             }
            },
            "marker": {
             "colorbar": {
              "outlinewidth": 0,
              "ticks": ""
             }
            },
            "type": "scatter3d"
           }
          ],
          "scattercarpet": [
           {
            "marker": {
             "colorbar": {
              "outlinewidth": 0,
              "ticks": ""
             }
            },
            "type": "scattercarpet"
           }
          ],
          "scattergeo": [
           {
            "marker": {
             "colorbar": {
              "outlinewidth": 0,
              "ticks": ""
             }
            },
            "type": "scattergeo"
           }
          ],
          "scattergl": [
           {
            "marker": {
             "colorbar": {
              "outlinewidth": 0,
              "ticks": ""
             }
            },
            "type": "scattergl"
           }
          ],
          "scattermapbox": [
           {
            "marker": {
             "colorbar": {
              "outlinewidth": 0,
              "ticks": ""
             }
            },
            "type": "scattermapbox"
           }
          ],
          "scatterpolar": [
           {
            "marker": {
             "colorbar": {
              "outlinewidth": 0,
              "ticks": ""
             }
            },
            "type": "scatterpolar"
           }
          ],
          "scatterpolargl": [
           {
            "marker": {
             "colorbar": {
              "outlinewidth": 0,
              "ticks": ""
             }
            },
            "type": "scatterpolargl"
           }
          ],
          "scatterternary": [
           {
            "marker": {
             "colorbar": {
              "outlinewidth": 0,
              "ticks": ""
             }
            },
            "type": "scatterternary"
           }
          ],
          "surface": [
           {
            "colorbar": {
             "outlinewidth": 0,
             "ticks": ""
            },
            "colorscale": [
             [
              0,
              "#0d0887"
             ],
             [
              0.1111111111111111,
              "#46039f"
             ],
             [
              0.2222222222222222,
              "#7201a8"
             ],
             [
              0.3333333333333333,
              "#9c179e"
             ],
             [
              0.4444444444444444,
              "#bd3786"
             ],
             [
              0.5555555555555556,
              "#d8576b"
             ],
             [
              0.6666666666666666,
              "#ed7953"
             ],
             [
              0.7777777777777778,
              "#fb9f3a"
             ],
             [
              0.8888888888888888,
              "#fdca26"
             ],
             [
              1,
              "#f0f921"
             ]
            ],
            "type": "surface"
           }
          ],
          "table": [
           {
            "cells": {
             "fill": {
              "color": "#EBF0F8"
             },
             "line": {
              "color": "white"
             }
            },
            "header": {
             "fill": {
              "color": "#C8D4E3"
             },
             "line": {
              "color": "white"
             }
            },
            "type": "table"
           }
          ]
         },
         "layout": {
          "annotationdefaults": {
           "arrowcolor": "#2a3f5f",
           "arrowhead": 0,
           "arrowwidth": 1
          },
          "autotypenumbers": "strict",
          "coloraxis": {
           "colorbar": {
            "outlinewidth": 0,
            "ticks": ""
           }
          },
          "colorscale": {
           "diverging": [
            [
             0,
             "#8e0152"
            ],
            [
             0.1,
             "#c51b7d"
            ],
            [
             0.2,
             "#de77ae"
            ],
            [
             0.3,
             "#f1b6da"
            ],
            [
             0.4,
             "#fde0ef"
            ],
            [
             0.5,
             "#f7f7f7"
            ],
            [
             0.6,
             "#e6f5d0"
            ],
            [
             0.7,
             "#b8e186"
            ],
            [
             0.8,
             "#7fbc41"
            ],
            [
             0.9,
             "#4d9221"
            ],
            [
             1,
             "#276419"
            ]
           ],
           "sequential": [
            [
             0,
             "#0d0887"
            ],
            [
             0.1111111111111111,
             "#46039f"
            ],
            [
             0.2222222222222222,
             "#7201a8"
            ],
            [
             0.3333333333333333,
             "#9c179e"
            ],
            [
             0.4444444444444444,
             "#bd3786"
            ],
            [
             0.5555555555555556,
             "#d8576b"
            ],
            [
             0.6666666666666666,
             "#ed7953"
            ],
            [
             0.7777777777777778,
             "#fb9f3a"
            ],
            [
             0.8888888888888888,
             "#fdca26"
            ],
            [
             1,
             "#f0f921"
            ]
           ],
           "sequentialminus": [
            [
             0,
             "#0d0887"
            ],
            [
             0.1111111111111111,
             "#46039f"
            ],
            [
             0.2222222222222222,
             "#7201a8"
            ],
            [
             0.3333333333333333,
             "#9c179e"
            ],
            [
             0.4444444444444444,
             "#bd3786"
            ],
            [
             0.5555555555555556,
             "#d8576b"
            ],
            [
             0.6666666666666666,
             "#ed7953"
            ],
            [
             0.7777777777777778,
             "#fb9f3a"
            ],
            [
             0.8888888888888888,
             "#fdca26"
            ],
            [
             1,
             "#f0f921"
            ]
           ]
          },
          "colorway": [
           "#636efa",
           "#EF553B",
           "#00cc96",
           "#ab63fa",
           "#FFA15A",
           "#19d3f3",
           "#FF6692",
           "#B6E880",
           "#FF97FF",
           "#FECB52"
          ],
          "font": {
           "color": "#2a3f5f"
          },
          "geo": {
           "bgcolor": "white",
           "lakecolor": "white",
           "landcolor": "#E5ECF6",
           "showlakes": true,
           "showland": true,
           "subunitcolor": "white"
          },
          "hoverlabel": {
           "align": "left"
          },
          "hovermode": "closest",
          "mapbox": {
           "style": "light"
          },
          "paper_bgcolor": "white",
          "plot_bgcolor": "#E5ECF6",
          "polar": {
           "angularaxis": {
            "gridcolor": "white",
            "linecolor": "white",
            "ticks": ""
           },
           "bgcolor": "#E5ECF6",
           "radialaxis": {
            "gridcolor": "white",
            "linecolor": "white",
            "ticks": ""
           }
          },
          "scene": {
           "xaxis": {
            "backgroundcolor": "#E5ECF6",
            "gridcolor": "white",
            "gridwidth": 2,
            "linecolor": "white",
            "showbackground": true,
            "ticks": "",
            "zerolinecolor": "white"
           },
           "yaxis": {
            "backgroundcolor": "#E5ECF6",
            "gridcolor": "white",
            "gridwidth": 2,
            "linecolor": "white",
            "showbackground": true,
            "ticks": "",
            "zerolinecolor": "white"
           },
           "zaxis": {
            "backgroundcolor": "#E5ECF6",
            "gridcolor": "white",
            "gridwidth": 2,
            "linecolor": "white",
            "showbackground": true,
            "ticks": "",
            "zerolinecolor": "white"
           }
          },
          "shapedefaults": {
           "line": {
            "color": "#2a3f5f"
           }
          },
          "ternary": {
           "aaxis": {
            "gridcolor": "white",
            "linecolor": "white",
            "ticks": ""
           },
           "baxis": {
            "gridcolor": "white",
            "linecolor": "white",
            "ticks": ""
           },
           "bgcolor": "#E5ECF6",
           "caxis": {
            "gridcolor": "white",
            "linecolor": "white",
            "ticks": ""
           }
          },
          "title": {
           "x": 0.05
          },
          "xaxis": {
           "automargin": true,
           "gridcolor": "white",
           "linecolor": "white",
           "ticks": "",
           "title": {
            "standoff": 15
           },
           "zerolinecolor": "white",
           "zerolinewidth": 2
          },
          "yaxis": {
           "automargin": true,
           "gridcolor": "white",
           "linecolor": "white",
           "ticks": "",
           "title": {
            "standoff": 15
           },
           "zerolinecolor": "white",
           "zerolinewidth": 2
          }
         }
        },
        "title": {
         "font": {
          "color": "#4D5663"
         },
         "text": "aa"
        },
        "xaxis": {
         "gridcolor": "#E1E5ED",
         "showgrid": true,
         "tickfont": {
          "color": "#4D5663"
         },
         "title": {
          "font": {
           "color": "#4D5663"
          },
          "text": ""
         },
         "zerolinecolor": "#E1E5ED"
        },
        "yaxis": {
         "gridcolor": "#E1E5ED",
         "showgrid": true,
         "tickfont": {
          "color": "#4D5663"
         },
         "title": {
          "font": {
           "color": "#4D5663"
          },
          "text": ""
         },
         "zerolinecolor": "#E1E5ED"
        }
       }
      },
      "text/html": [
       "<div>                            <div id=\"27580dae-b948-447b-8ef5-6a763c3003af\" class=\"plotly-graph-div\" style=\"height:525px; width:100%;\"></div>            <script type=\"text/javascript\">                require([\"plotly\"], function(Plotly) {                    window.PLOTLYENV=window.PLOTLYENV || {};\n",
       "                    window.PLOTLYENV.BASE_URL='https://plot.ly';                                    if (document.getElementById(\"27580dae-b948-447b-8ef5-6a763c3003af\")) {                    Plotly.newPlot(                        \"27580dae-b948-447b-8ef5-6a763c3003af\",                        [{\"marker\": {\"color\": \"rgba(255, 153, 51, 0.6)\", \"line\": {\"color\": \"rgba(255, 153, 51, 1.0)\", \"width\": 1}}, \"name\": \"Arrival Time\", \"orientation\": \"v\", \"text\": \"\", \"type\": \"bar\", \"x\": [\"Site A\", \"Site B\", \"Site C\", \"Site D\", \"Site E\", \"Site F\"], \"y\": [17.83783783783784, 8.333333333333332, 17.543859649122805, 24.193548387096776, 18.181818181818183, 8.333333333333332]}, {\"marker\": {\"color\": \"rgba(55, 128, 191, 0.6)\", \"line\": {\"color\": \"rgba(55, 128, 191, 1.0)\", \"width\": 1}}, \"name\": \"Deliver Time\", \"orientation\": \"v\", \"text\": \"\", \"type\": \"bar\", \"x\": [\"Site A\", \"Site B\", \"Site C\", \"Site D\", \"Site E\", \"Site F\"], \"y\": [77.29729729729729, 84.0909090909091, 78.0701754385965, 70.96774193548387, 75.75757575757575, 89.58333333333334]}, {\"marker\": {\"color\": \"rgba(50, 171, 96, 0.6)\", \"line\": {\"color\": \"rgba(50, 171, 96, 1.0)\", \"width\": 1}}, \"name\": \"Pick Up Order Time\", \"orientation\": \"v\", \"text\": \"\", \"type\": \"bar\", \"x\": [\"Site A\", \"Site B\", \"Site C\", \"Site D\", \"Site E\", \"Site F\"], \"y\": [1.0810810810810811, 0.0, 1.3157894736842104, 1.6129032258064515, 6.0606060606060606, 0.0]}, {\"marker\": {\"color\": \"rgba(128, 0, 128, 0.6)\", \"line\": {\"color\": \"rgba(128, 0, 128, 1.0)\", \"width\": 1}}, \"name\": \"Waiting Time\", \"orientation\": \"v\", \"text\": \"\", \"type\": \"bar\", \"x\": [\"Site A\", \"Site B\", \"Site C\", \"Site D\", \"Site E\", \"Site F\"], \"y\": [3.783783783783784, 7.575757575757576, 3.070175438596491, 3.225806451612903, 0.0, 2.083333333333333]}],                        {\"barmode\": \"stack\", \"legend\": {\"bgcolor\": \"#F5F6F9\", \"font\": {\"color\": \"#4D5663\"}, \"traceorder\": \"normal\"}, \"paper_bgcolor\": \"#F5F6F9\", \"plot_bgcolor\": \"#F5F6F9\", \"template\": {\"data\": {\"bar\": [{\"error_x\": {\"color\": \"#2a3f5f\"}, \"error_y\": {\"color\": \"#2a3f5f\"}, \"marker\": {\"line\": {\"color\": \"#E5ECF6\", \"width\": 0.5}}, \"type\": \"bar\"}], \"barpolar\": [{\"marker\": {\"line\": {\"color\": \"#E5ECF6\", \"width\": 0.5}}, \"type\": \"barpolar\"}], \"carpet\": [{\"aaxis\": {\"endlinecolor\": \"#2a3f5f\", \"gridcolor\": \"white\", \"linecolor\": \"white\", \"minorgridcolor\": \"white\", \"startlinecolor\": \"#2a3f5f\"}, \"baxis\": {\"endlinecolor\": \"#2a3f5f\", \"gridcolor\": \"white\", \"linecolor\": \"white\", \"minorgridcolor\": \"white\", \"startlinecolor\": \"#2a3f5f\"}, \"type\": \"carpet\"}], \"choropleth\": [{\"colorbar\": {\"outlinewidth\": 0, \"ticks\": \"\"}, \"type\": \"choropleth\"}], \"contour\": [{\"colorbar\": {\"outlinewidth\": 0, \"ticks\": \"\"}, \"colorscale\": [[0.0, \"#0d0887\"], [0.1111111111111111, \"#46039f\"], [0.2222222222222222, \"#7201a8\"], [0.3333333333333333, \"#9c179e\"], [0.4444444444444444, \"#bd3786\"], [0.5555555555555556, \"#d8576b\"], [0.6666666666666666, \"#ed7953\"], [0.7777777777777778, \"#fb9f3a\"], [0.8888888888888888, \"#fdca26\"], [1.0, \"#f0f921\"]], \"type\": \"contour\"}], \"contourcarpet\": [{\"colorbar\": {\"outlinewidth\": 0, \"ticks\": \"\"}, \"type\": \"contourcarpet\"}], \"heatmap\": [{\"colorbar\": {\"outlinewidth\": 0, \"ticks\": \"\"}, \"colorscale\": [[0.0, \"#0d0887\"], [0.1111111111111111, \"#46039f\"], [0.2222222222222222, \"#7201a8\"], [0.3333333333333333, \"#9c179e\"], [0.4444444444444444, \"#bd3786\"], [0.5555555555555556, \"#d8576b\"], [0.6666666666666666, \"#ed7953\"], [0.7777777777777778, \"#fb9f3a\"], [0.8888888888888888, \"#fdca26\"], [1.0, \"#f0f921\"]], \"type\": \"heatmap\"}], \"heatmapgl\": [{\"colorbar\": {\"outlinewidth\": 0, \"ticks\": \"\"}, \"colorscale\": [[0.0, \"#0d0887\"], [0.1111111111111111, \"#46039f\"], [0.2222222222222222, \"#7201a8\"], [0.3333333333333333, \"#9c179e\"], [0.4444444444444444, \"#bd3786\"], [0.5555555555555556, \"#d8576b\"], [0.6666666666666666, \"#ed7953\"], [0.7777777777777778, \"#fb9f3a\"], [0.8888888888888888, \"#fdca26\"], [1.0, \"#f0f921\"]], \"type\": \"heatmapgl\"}], \"histogram\": [{\"marker\": {\"colorbar\": {\"outlinewidth\": 0, \"ticks\": \"\"}}, \"type\": \"histogram\"}], \"histogram2d\": [{\"colorbar\": {\"outlinewidth\": 0, \"ticks\": \"\"}, \"colorscale\": [[0.0, \"#0d0887\"], [0.1111111111111111, \"#46039f\"], [0.2222222222222222, \"#7201a8\"], [0.3333333333333333, \"#9c179e\"], [0.4444444444444444, \"#bd3786\"], [0.5555555555555556, \"#d8576b\"], [0.6666666666666666, \"#ed7953\"], [0.7777777777777778, \"#fb9f3a\"], [0.8888888888888888, \"#fdca26\"], [1.0, \"#f0f921\"]], \"type\": \"histogram2d\"}], \"histogram2dcontour\": [{\"colorbar\": {\"outlinewidth\": 0, \"ticks\": \"\"}, \"colorscale\": [[0.0, \"#0d0887\"], [0.1111111111111111, \"#46039f\"], [0.2222222222222222, \"#7201a8\"], [0.3333333333333333, \"#9c179e\"], [0.4444444444444444, \"#bd3786\"], [0.5555555555555556, \"#d8576b\"], [0.6666666666666666, \"#ed7953\"], [0.7777777777777778, \"#fb9f3a\"], [0.8888888888888888, \"#fdca26\"], [1.0, \"#f0f921\"]], \"type\": \"histogram2dcontour\"}], \"mesh3d\": [{\"colorbar\": {\"outlinewidth\": 0, \"ticks\": \"\"}, \"type\": \"mesh3d\"}], \"parcoords\": [{\"line\": {\"colorbar\": {\"outlinewidth\": 0, \"ticks\": \"\"}}, \"type\": \"parcoords\"}], \"pie\": [{\"automargin\": true, \"type\": \"pie\"}], \"scatter\": [{\"marker\": {\"colorbar\": {\"outlinewidth\": 0, \"ticks\": \"\"}}, \"type\": \"scatter\"}], \"scatter3d\": [{\"line\": {\"colorbar\": {\"outlinewidth\": 0, \"ticks\": \"\"}}, \"marker\": {\"colorbar\": {\"outlinewidth\": 0, \"ticks\": \"\"}}, \"type\": \"scatter3d\"}], \"scattercarpet\": [{\"marker\": {\"colorbar\": {\"outlinewidth\": 0, \"ticks\": \"\"}}, \"type\": \"scattercarpet\"}], \"scattergeo\": [{\"marker\": {\"colorbar\": {\"outlinewidth\": 0, \"ticks\": \"\"}}, \"type\": \"scattergeo\"}], \"scattergl\": [{\"marker\": {\"colorbar\": {\"outlinewidth\": 0, \"ticks\": \"\"}}, \"type\": \"scattergl\"}], \"scattermapbox\": [{\"marker\": {\"colorbar\": {\"outlinewidth\": 0, \"ticks\": \"\"}}, \"type\": \"scattermapbox\"}], \"scatterpolar\": [{\"marker\": {\"colorbar\": {\"outlinewidth\": 0, \"ticks\": \"\"}}, \"type\": \"scatterpolar\"}], \"scatterpolargl\": [{\"marker\": {\"colorbar\": {\"outlinewidth\": 0, \"ticks\": \"\"}}, \"type\": \"scatterpolargl\"}], \"scatterternary\": [{\"marker\": {\"colorbar\": {\"outlinewidth\": 0, \"ticks\": \"\"}}, \"type\": \"scatterternary\"}], \"surface\": [{\"colorbar\": {\"outlinewidth\": 0, \"ticks\": \"\"}, \"colorscale\": [[0.0, \"#0d0887\"], [0.1111111111111111, \"#46039f\"], [0.2222222222222222, \"#7201a8\"], [0.3333333333333333, \"#9c179e\"], [0.4444444444444444, \"#bd3786\"], [0.5555555555555556, \"#d8576b\"], [0.6666666666666666, \"#ed7953\"], [0.7777777777777778, \"#fb9f3a\"], [0.8888888888888888, \"#fdca26\"], [1.0, \"#f0f921\"]], \"type\": \"surface\"}], \"table\": [{\"cells\": {\"fill\": {\"color\": \"#EBF0F8\"}, \"line\": {\"color\": \"white\"}}, \"header\": {\"fill\": {\"color\": \"#C8D4E3\"}, \"line\": {\"color\": \"white\"}}, \"type\": \"table\"}]}, \"layout\": {\"annotationdefaults\": {\"arrowcolor\": \"#2a3f5f\", \"arrowhead\": 0, \"arrowwidth\": 1}, \"autotypenumbers\": \"strict\", \"coloraxis\": {\"colorbar\": {\"outlinewidth\": 0, \"ticks\": \"\"}}, \"colorscale\": {\"diverging\": [[0, \"#8e0152\"], [0.1, \"#c51b7d\"], [0.2, \"#de77ae\"], [0.3, \"#f1b6da\"], [0.4, \"#fde0ef\"], [0.5, \"#f7f7f7\"], [0.6, \"#e6f5d0\"], [0.7, \"#b8e186\"], [0.8, \"#7fbc41\"], [0.9, \"#4d9221\"], [1, \"#276419\"]], \"sequential\": [[0.0, \"#0d0887\"], [0.1111111111111111, \"#46039f\"], [0.2222222222222222, \"#7201a8\"], [0.3333333333333333, \"#9c179e\"], [0.4444444444444444, \"#bd3786\"], [0.5555555555555556, \"#d8576b\"], [0.6666666666666666, \"#ed7953\"], [0.7777777777777778, \"#fb9f3a\"], [0.8888888888888888, \"#fdca26\"], [1.0, \"#f0f921\"]], \"sequentialminus\": [[0.0, \"#0d0887\"], [0.1111111111111111, \"#46039f\"], [0.2222222222222222, \"#7201a8\"], [0.3333333333333333, \"#9c179e\"], [0.4444444444444444, \"#bd3786\"], [0.5555555555555556, \"#d8576b\"], [0.6666666666666666, \"#ed7953\"], [0.7777777777777778, \"#fb9f3a\"], [0.8888888888888888, \"#fdca26\"], [1.0, \"#f0f921\"]]}, \"colorway\": [\"#636efa\", \"#EF553B\", \"#00cc96\", \"#ab63fa\", \"#FFA15A\", \"#19d3f3\", \"#FF6692\", \"#B6E880\", \"#FF97FF\", \"#FECB52\"], \"font\": {\"color\": \"#2a3f5f\"}, \"geo\": {\"bgcolor\": \"white\", \"lakecolor\": \"white\", \"landcolor\": \"#E5ECF6\", \"showlakes\": true, \"showland\": true, \"subunitcolor\": \"white\"}, \"hoverlabel\": {\"align\": \"left\"}, \"hovermode\": \"closest\", \"mapbox\": {\"style\": \"light\"}, \"paper_bgcolor\": \"white\", \"plot_bgcolor\": \"#E5ECF6\", \"polar\": {\"angularaxis\": {\"gridcolor\": \"white\", \"linecolor\": \"white\", \"ticks\": \"\"}, \"bgcolor\": \"#E5ECF6\", \"radialaxis\": {\"gridcolor\": \"white\", \"linecolor\": \"white\", \"ticks\": \"\"}}, \"scene\": {\"xaxis\": {\"backgroundcolor\": \"#E5ECF6\", \"gridcolor\": \"white\", \"gridwidth\": 2, \"linecolor\": \"white\", \"showbackground\": true, \"ticks\": \"\", \"zerolinecolor\": \"white\"}, \"yaxis\": {\"backgroundcolor\": \"#E5ECF6\", \"gridcolor\": \"white\", \"gridwidth\": 2, \"linecolor\": \"white\", \"showbackground\": true, \"ticks\": \"\", \"zerolinecolor\": \"white\"}, \"zaxis\": {\"backgroundcolor\": \"#E5ECF6\", \"gridcolor\": \"white\", \"gridwidth\": 2, \"linecolor\": \"white\", \"showbackground\": true, \"ticks\": \"\", \"zerolinecolor\": \"white\"}}, \"shapedefaults\": {\"line\": {\"color\": \"#2a3f5f\"}}, \"ternary\": {\"aaxis\": {\"gridcolor\": \"white\", \"linecolor\": \"white\", \"ticks\": \"\"}, \"baxis\": {\"gridcolor\": \"white\", \"linecolor\": \"white\", \"ticks\": \"\"}, \"bgcolor\": \"#E5ECF6\", \"caxis\": {\"gridcolor\": \"white\", \"linecolor\": \"white\", \"ticks\": \"\"}}, \"title\": {\"x\": 0.05}, \"xaxis\": {\"automargin\": true, \"gridcolor\": \"white\", \"linecolor\": \"white\", \"ticks\": \"\", \"title\": {\"standoff\": 15}, \"zerolinecolor\": \"white\", \"zerolinewidth\": 2}, \"yaxis\": {\"automargin\": true, \"gridcolor\": \"white\", \"linecolor\": \"white\", \"ticks\": \"\", \"title\": {\"standoff\": 15}, \"zerolinecolor\": \"white\", \"zerolinewidth\": 2}}}, \"title\": {\"font\": {\"color\": \"#4D5663\"}, \"text\": \"aa\"}, \"xaxis\": {\"gridcolor\": \"#E1E5ED\", \"showgrid\": true, \"tickfont\": {\"color\": \"#4D5663\"}, \"title\": {\"font\": {\"color\": \"#4D5663\"}, \"text\": \"\"}, \"zerolinecolor\": \"#E1E5ED\"}, \"yaxis\": {\"gridcolor\": \"#E1E5ED\", \"showgrid\": true, \"tickfont\": {\"color\": \"#4D5663\"}, \"title\": {\"font\": {\"color\": \"#4D5663\"}, \"text\": \"\"}, \"zerolinecolor\": \"#E1E5ED\"}},                        {\"showLink\": true, \"linkText\": \"Export to plot.ly\", \"plotlyServerURL\": \"https://plot.ly\", \"responsive\": true}                    ).then(function(){\n",
       "                            \n",
       "var gd = document.getElementById('27580dae-b948-447b-8ef5-6a763c3003af');\n",
       "var x = new MutationObserver(function (mutations, observer) {{\n",
       "        var display = window.getComputedStyle(gd).display;\n",
       "        if (!display || display === 'none') {{\n",
       "            console.log([gd, 'removed!']);\n",
       "            Plotly.purge(gd);\n",
       "            observer.disconnect();\n",
       "        }}\n",
       "}});\n",
       "\n",
       "// Listen for the removal of the full notebook cells\n",
       "var notebookContainer = gd.closest('#notebook-container');\n",
       "if (notebookContainer) {{\n",
       "    x.observe(notebookContainer, {childList: true});\n",
       "}}\n",
       "\n",
       "// Listen for the clearing of the current output cell\n",
       "var outputEl = gd.closest('.output');\n",
       "if (outputEl) {{\n",
       "    x.observe(outputEl, {childList: true});\n",
       "}}\n",
       "\n",
       "                        })                };                });            </script>        </div>"
      ]
     },
     "metadata": {},
     "output_type": "display_data"
    }
   ],
   "source": [
    "sub22.iplot(kind='bar',barmode='stack',title=\"aa\")"
   ]
  },
  {
   "cell_type": "markdown",
   "metadata": {},
   "source": [
    "## Deliver people  Analysis "
   ]
  },
  {
   "cell_type": "code",
   "execution_count": 50,
   "metadata": {},
   "outputs": [
    {
     "data": {
      "text/html": [
       "<div>\n",
       "<style scoped>\n",
       "    .dataframe tbody tr th:only-of-type {\n",
       "        vertical-align: middle;\n",
       "    }\n",
       "\n",
       "    .dataframe tbody tr th {\n",
       "        vertical-align: top;\n",
       "    }\n",
       "\n",
       "    .dataframe thead th {\n",
       "        text-align: right;\n",
       "    }\n",
       "</style>\n",
       "<table border=\"1\" class=\"dataframe\">\n",
       "  <thead>\n",
       "    <tr style=\"text-align: right;\">\n",
       "      <th>Reviews Category</th>\n",
       "      <th>Delivery process</th>\n",
       "      <th>Delivery timeout</th>\n",
       "      <th>Illegal operation</th>\n",
       "      <th>Others</th>\n",
       "      <th>Professional attitude</th>\n",
       "    </tr>\n",
       "    <tr>\n",
       "      <th>Deliver Name</th>\n",
       "      <th></th>\n",
       "      <th></th>\n",
       "      <th></th>\n",
       "      <th></th>\n",
       "      <th></th>\n",
       "    </tr>\n",
       "  </thead>\n",
       "  <tbody>\n",
       "    <tr>\n",
       "      <th>丁*东</th>\n",
       "      <td>1</td>\n",
       "      <td>1</td>\n",
       "      <td>1</td>\n",
       "      <td>1</td>\n",
       "      <td>0</td>\n",
       "    </tr>\n",
       "    <tr>\n",
       "      <th>万*云</th>\n",
       "      <td>0</td>\n",
       "      <td>0</td>\n",
       "      <td>0</td>\n",
       "      <td>0</td>\n",
       "      <td>1</td>\n",
       "    </tr>\n",
       "    <tr>\n",
       "      <th>丘*燕</th>\n",
       "      <td>1</td>\n",
       "      <td>0</td>\n",
       "      <td>0</td>\n",
       "      <td>0</td>\n",
       "      <td>0</td>\n",
       "    </tr>\n",
       "    <tr>\n",
       "      <th>严*炜</th>\n",
       "      <td>1</td>\n",
       "      <td>0</td>\n",
       "      <td>0</td>\n",
       "      <td>0</td>\n",
       "      <td>1</td>\n",
       "    </tr>\n",
       "    <tr>\n",
       "      <th>严*生</th>\n",
       "      <td>0</td>\n",
       "      <td>1</td>\n",
       "      <td>0</td>\n",
       "      <td>0</td>\n",
       "      <td>0</td>\n",
       "    </tr>\n",
       "    <tr>\n",
       "      <th>...</th>\n",
       "      <td>...</td>\n",
       "      <td>...</td>\n",
       "      <td>...</td>\n",
       "      <td>...</td>\n",
       "      <td>...</td>\n",
       "    </tr>\n",
       "    <tr>\n",
       "      <th>黄*雄</th>\n",
       "      <td>0</td>\n",
       "      <td>0</td>\n",
       "      <td>0</td>\n",
       "      <td>0</td>\n",
       "      <td>1</td>\n",
       "    </tr>\n",
       "    <tr>\n",
       "      <th>黄*龙</th>\n",
       "      <td>0</td>\n",
       "      <td>0</td>\n",
       "      <td>0</td>\n",
       "      <td>0</td>\n",
       "      <td>1</td>\n",
       "    </tr>\n",
       "    <tr>\n",
       "      <th>黎*</th>\n",
       "      <td>1</td>\n",
       "      <td>0</td>\n",
       "      <td>0</td>\n",
       "      <td>0</td>\n",
       "      <td>0</td>\n",
       "    </tr>\n",
       "    <tr>\n",
       "      <th>黎*豪</th>\n",
       "      <td>0</td>\n",
       "      <td>1</td>\n",
       "      <td>0</td>\n",
       "      <td>0</td>\n",
       "      <td>0</td>\n",
       "    </tr>\n",
       "    <tr>\n",
       "      <th>龚*文</th>\n",
       "      <td>0</td>\n",
       "      <td>1</td>\n",
       "      <td>1</td>\n",
       "      <td>0</td>\n",
       "      <td>0</td>\n",
       "    </tr>\n",
       "  </tbody>\n",
       "</table>\n",
       "<p>367 rows × 5 columns</p>\n",
       "</div>"
      ],
      "text/plain": [
       "Reviews Category  Delivery process  Delivery timeout  Illegal operation  \\\n",
       "Deliver Name                                                              \n",
       "丁*东                              1                 1                  1   \n",
       "万*云                              0                 0                  0   \n",
       "丘*燕                              1                 0                  0   \n",
       "严*炜                              1                 0                  0   \n",
       "严*生                              0                 1                  0   \n",
       "...                            ...               ...                ...   \n",
       "黄*雄                              0                 0                  0   \n",
       "黄*龙                              0                 0                  0   \n",
       "黎*                               1                 0                  0   \n",
       "黎*豪                              0                 1                  0   \n",
       "龚*文                              0                 1                  1   \n",
       "\n",
       "Reviews Category  Others  Professional attitude  \n",
       "Deliver Name                                     \n",
       "丁*东                    1                      0  \n",
       "万*云                    0                      1  \n",
       "丘*燕                    0                      0  \n",
       "严*炜                    0                      1  \n",
       "严*生                    0                      0  \n",
       "...                  ...                    ...  \n",
       "黄*雄                    0                      1  \n",
       "黄*龙                    0                      1  \n",
       "黎*                     0                      0  \n",
       "黎*豪                    0                      0  \n",
       "龚*文                    0                      0  \n",
       "\n",
       "[367 rows x 5 columns]"
      ]
     },
     "execution_count": 50,
     "metadata": {},
     "output_type": "execute_result"
    }
   ],
   "source": [
    "sub3=pd.crosstab(index=data_explode['Deliver Name'],columns=data_explode['Reviews Category'],\n",
    "                 values=data_explode['Deliver Name'],\n",
    "                 aggfunc='nunique'\n",
    "                 #,margins=True\n",
    "                ).round(0).fillna(0).astype('int')\n",
    "sub3.reset_index()\n",
    "sub3"
   ]
  },
  {
   "cell_type": "markdown",
   "metadata": {},
   "source": [
    "# Action strategy"
   ]
  },
  {
   "cell_type": "markdown",
   "metadata": {},
   "source": [
    "1.Based on negative reviews categories of deliver people to have some training or punishment. \n",
    "2.Based on negative reviews categories of sites to have update about management."
   ]
  },
  {
   "cell_type": "code",
   "execution_count": null,
   "metadata": {},
   "outputs": [],
   "source": []
  }
 ],
 "metadata": {
  "kernelspec": {
   "display_name": "Python 3",
   "language": "python",
   "name": "python3"
  },
  "language_info": {
   "codemirror_mode": {
    "name": "ipython",
    "version": 3
   },
   "file_extension": ".py",
   "mimetype": "text/x-python",
   "name": "python",
   "nbconvert_exporter": "python",
   "pygments_lexer": "ipython3",
   "version": "3.6.5"
  },
  "toc": {
   "base_numbering": 1,
   "nav_menu": {},
   "number_sections": true,
   "sideBar": true,
   "skip_h1_title": false,
   "title_cell": "Table of Contents",
   "title_sidebar": "Contents",
   "toc_cell": false,
   "toc_position": {},
   "toc_section_display": true,
   "toc_window_display": true
  }
 },
 "nbformat": 4,
 "nbformat_minor": 2
}
